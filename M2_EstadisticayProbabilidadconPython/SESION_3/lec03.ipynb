{
 "cells": [
  {
   "cell_type": "code",
   "execution_count": 1,
   "id": "bcd8041a-63e4-408b-ab34-2b521e70b63a",
   "metadata": {},
   "outputs": [],
   "source": [
    "import pandas as pd, numpy as np\n",
    "import random"
   ]
  },
  {
   "cell_type": "markdown",
   "id": "16f54188-43ea-4e95-92e6-de5a614678eb",
   "metadata": {},
   "source": [
    "# Operaciones con Fechas"
   ]
  },
  {
   "cell_type": "markdown",
   "id": "56fcbf4b-8503-459b-9726-f3763d2153e2",
   "metadata": {},
   "source": [
    "### 1. Uso del Módulo `datetime`\n",
    "\n",
    "El módulo `datetime` en la biblioteca estándar de Python proporciona clases para manipular fechas y horas. \n",
    "\n",
    "#### Ejmplo: Crear y manipular Fechas. "
   ]
  },
  {
   "cell_type": "code",
   "execution_count": 2,
   "id": "84e9342e-ea09-49c2-85be-f61a178109cb",
   "metadata": {},
   "outputs": [],
   "source": [
    "from datetime import datetime, timedelta"
   ]
  },
  {
   "cell_type": "code",
   "execution_count": 3,
   "id": "a867bdb9-f71e-4986-b216-29cec04d3e9f",
   "metadata": {},
   "outputs": [
    {
     "name": "stdout",
     "output_type": "stream",
     "text": [
      "fecha y hr ctual 2024-07-04 19:41:36.159406\n"
     ]
    }
   ],
   "source": [
    "#Fecha y hora actual. \n",
    "now=datetime.now()\n",
    "print(\"fecha y hr ctual\",now)"
   ]
  },
  {
   "cell_type": "code",
   "execution_count": 4,
   "id": "42c969d7-f6c7-4628-9c9f-70dccdf2d9e6",
   "metadata": {},
   "outputs": [
    {
     "name": "stdout",
     "output_type": "stream",
     "text": [
      "fh específica 2021-12-25 00:00:00\n"
     ]
    }
   ],
   "source": [
    "#fecha específica \n",
    "spec_date=datetime(2021,12,25)\n",
    "print(\"fh específica\",spec_date)"
   ]
  },
  {
   "cell_type": "code",
   "execution_count": 6,
   "id": "00506714-8206-4ced-9157-4df231396ed7",
   "metadata": {},
   "outputs": [
    {
     "name": "stdout",
     "output_type": "stream",
     "text": [
      "fh_nueva: 2022-01-04 00:00:00\n"
     ]
    }
   ],
   "source": [
    "#sumar días a una fecha: \n",
    "fh_nueva=spec_date + timedelta(days=10)\n",
    "print(\"fh_nueva:\",fh_nueva)"
   ]
  },
  {
   "cell_type": "code",
   "execution_count": 7,
   "id": "355377e6-8ede-488c-af09-3ae4925bbe71",
   "metadata": {},
   "outputs": [
    {
     "name": "stdout",
     "output_type": "stream",
     "text": [
      "Diferencia fechas 922 days, 19:41:36.159406\n"
     ]
    }
   ],
   "source": [
    "#Diferencias de fechas\n",
    "dif_fhs=now-spec_date\n",
    "print(\"Diferencia fechas\",dif_fhs)"
   ]
  },
  {
   "cell_type": "markdown",
   "id": "f4b01fe8-8f30-415c-96ef-291e0bd702cc",
   "metadata": {},
   "source": [
    "### 2. Uso de fechas en `pandas`"
   ]
  },
  {
   "cell_type": "markdown",
   "id": "f80c11b7-acf9-42e7-8a38-c2e0e1c4d8d9",
   "metadata": {},
   "source": [
    "Pandas es útil para manejar datos de series de tiempo. Puedes analizar fechas de varios formatos y proporciona funcionalidades para manipular y agregar datos en series de tiempo de manera eficiente. "
   ]
  },
  {
   "cell_type": "code",
   "execution_count": 13,
   "id": "98bb2f58-9575-4c93-99c4-d89972fefc89",
   "metadata": {},
   "outputs": [],
   "source": [
    "#Creando un DataFrame con fechas\n",
    "df=pd.DataFrame({\n",
    "    'fecha':['2021-01-01','2021-01-02','2021-01-03','2021-01-10','2021-01-25','2021-01-30','2021-02-10','2021-02-15','2021-02-20'],\n",
    "    'valor':[10,20,30,10,10,10,5,5,5]\n",
    "    \n",
    "})"
   ]
  },
  {
   "cell_type": "code",
   "execution_count": 14,
   "id": "5855af3e-da1f-4714-878e-4108f37052d8",
   "metadata": {},
   "outputs": [
    {
     "data": {
      "text/html": [
       "<div>\n",
       "<style scoped>\n",
       "    .dataframe tbody tr th:only-of-type {\n",
       "        vertical-align: middle;\n",
       "    }\n",
       "\n",
       "    .dataframe tbody tr th {\n",
       "        vertical-align: top;\n",
       "    }\n",
       "\n",
       "    .dataframe thead th {\n",
       "        text-align: right;\n",
       "    }\n",
       "</style>\n",
       "<table border=\"1\" class=\"dataframe\">\n",
       "  <thead>\n",
       "    <tr style=\"text-align: right;\">\n",
       "      <th></th>\n",
       "      <th>fecha</th>\n",
       "      <th>valor</th>\n",
       "    </tr>\n",
       "  </thead>\n",
       "  <tbody>\n",
       "    <tr>\n",
       "      <th>0</th>\n",
       "      <td>2021-01-01</td>\n",
       "      <td>10</td>\n",
       "    </tr>\n",
       "    <tr>\n",
       "      <th>1</th>\n",
       "      <td>2021-01-02</td>\n",
       "      <td>20</td>\n",
       "    </tr>\n",
       "    <tr>\n",
       "      <th>2</th>\n",
       "      <td>2021-01-03</td>\n",
       "      <td>30</td>\n",
       "    </tr>\n",
       "    <tr>\n",
       "      <th>3</th>\n",
       "      <td>2021-01-10</td>\n",
       "      <td>10</td>\n",
       "    </tr>\n",
       "    <tr>\n",
       "      <th>4</th>\n",
       "      <td>2021-01-25</td>\n",
       "      <td>10</td>\n",
       "    </tr>\n",
       "    <tr>\n",
       "      <th>5</th>\n",
       "      <td>2021-01-30</td>\n",
       "      <td>10</td>\n",
       "    </tr>\n",
       "    <tr>\n",
       "      <th>6</th>\n",
       "      <td>2021-02-10</td>\n",
       "      <td>5</td>\n",
       "    </tr>\n",
       "    <tr>\n",
       "      <th>7</th>\n",
       "      <td>2021-02-15</td>\n",
       "      <td>5</td>\n",
       "    </tr>\n",
       "    <tr>\n",
       "      <th>8</th>\n",
       "      <td>2021-02-20</td>\n",
       "      <td>5</td>\n",
       "    </tr>\n",
       "  </tbody>\n",
       "</table>\n",
       "</div>"
      ],
      "text/plain": [
       "        fecha  valor\n",
       "0  2021-01-01     10\n",
       "1  2021-01-02     20\n",
       "2  2021-01-03     30\n",
       "3  2021-01-10     10\n",
       "4  2021-01-25     10\n",
       "5  2021-01-30     10\n",
       "6  2021-02-10      5\n",
       "7  2021-02-15      5\n",
       "8  2021-02-20      5"
      ]
     },
     "execution_count": 14,
     "metadata": {},
     "output_type": "execute_result"
    }
   ],
   "source": [
    "df"
   ]
  },
  {
   "cell_type": "code",
   "execution_count": 15,
   "id": "85a32b44-0878-48a3-9ecf-35ef1ecfad67",
   "metadata": {},
   "outputs": [
    {
     "name": "stdout",
     "output_type": "stream",
     "text": [
      "<class 'pandas.core.frame.DataFrame'>\n",
      "RangeIndex: 9 entries, 0 to 8\n",
      "Data columns (total 2 columns):\n",
      " #   Column  Non-Null Count  Dtype \n",
      "---  ------  --------------  ----- \n",
      " 0   fecha   9 non-null      object\n",
      " 1   valor   9 non-null      int64 \n",
      "dtypes: int64(1), object(1)\n",
      "memory usage: 276.0+ bytes\n"
     ]
    }
   ],
   "source": [
    "df.info()"
   ]
  },
  {
   "cell_type": "code",
   "execution_count": 16,
   "id": "00c71e36-fee9-4e86-847b-68048a025e61",
   "metadata": {},
   "outputs": [],
   "source": [
    "#Convirtiendo la columna 'fecha' en datetime\n",
    "df['fecha']=pd.to_datetime(df['fecha'])"
   ]
  },
  {
   "cell_type": "code",
   "execution_count": 17,
   "id": "1f8e6063-a999-40d0-abaa-577c97143770",
   "metadata": {},
   "outputs": [
    {
     "data": {
      "text/html": [
       "<div>\n",
       "<style scoped>\n",
       "    .dataframe tbody tr th:only-of-type {\n",
       "        vertical-align: middle;\n",
       "    }\n",
       "\n",
       "    .dataframe tbody tr th {\n",
       "        vertical-align: top;\n",
       "    }\n",
       "\n",
       "    .dataframe thead th {\n",
       "        text-align: right;\n",
       "    }\n",
       "</style>\n",
       "<table border=\"1\" class=\"dataframe\">\n",
       "  <thead>\n",
       "    <tr style=\"text-align: right;\">\n",
       "      <th></th>\n",
       "      <th>fecha</th>\n",
       "      <th>valor</th>\n",
       "    </tr>\n",
       "  </thead>\n",
       "  <tbody>\n",
       "    <tr>\n",
       "      <th>0</th>\n",
       "      <td>2021-01-01</td>\n",
       "      <td>10</td>\n",
       "    </tr>\n",
       "    <tr>\n",
       "      <th>1</th>\n",
       "      <td>2021-01-02</td>\n",
       "      <td>20</td>\n",
       "    </tr>\n",
       "    <tr>\n",
       "      <th>2</th>\n",
       "      <td>2021-01-03</td>\n",
       "      <td>30</td>\n",
       "    </tr>\n",
       "    <tr>\n",
       "      <th>3</th>\n",
       "      <td>2021-01-10</td>\n",
       "      <td>10</td>\n",
       "    </tr>\n",
       "    <tr>\n",
       "      <th>4</th>\n",
       "      <td>2021-01-25</td>\n",
       "      <td>10</td>\n",
       "    </tr>\n",
       "    <tr>\n",
       "      <th>5</th>\n",
       "      <td>2021-01-30</td>\n",
       "      <td>10</td>\n",
       "    </tr>\n",
       "    <tr>\n",
       "      <th>6</th>\n",
       "      <td>2021-02-10</td>\n",
       "      <td>5</td>\n",
       "    </tr>\n",
       "    <tr>\n",
       "      <th>7</th>\n",
       "      <td>2021-02-15</td>\n",
       "      <td>5</td>\n",
       "    </tr>\n",
       "    <tr>\n",
       "      <th>8</th>\n",
       "      <td>2021-02-20</td>\n",
       "      <td>5</td>\n",
       "    </tr>\n",
       "  </tbody>\n",
       "</table>\n",
       "</div>"
      ],
      "text/plain": [
       "       fecha  valor\n",
       "0 2021-01-01     10\n",
       "1 2021-01-02     20\n",
       "2 2021-01-03     30\n",
       "3 2021-01-10     10\n",
       "4 2021-01-25     10\n",
       "5 2021-01-30     10\n",
       "6 2021-02-10      5\n",
       "7 2021-02-15      5\n",
       "8 2021-02-20      5"
      ]
     },
     "execution_count": 17,
     "metadata": {},
     "output_type": "execute_result"
    }
   ],
   "source": [
    "df"
   ]
  },
  {
   "cell_type": "code",
   "execution_count": 18,
   "id": "032196d4-8fe1-4e65-95bd-0bfd36f69547",
   "metadata": {},
   "outputs": [
    {
     "name": "stdout",
     "output_type": "stream",
     "text": [
      "<class 'pandas.core.frame.DataFrame'>\n",
      "RangeIndex: 9 entries, 0 to 8\n",
      "Data columns (total 2 columns):\n",
      " #   Column  Non-Null Count  Dtype         \n",
      "---  ------  --------------  -----         \n",
      " 0   fecha   9 non-null      datetime64[ns]\n",
      " 1   valor   9 non-null      int64         \n",
      "dtypes: datetime64[ns](1), int64(1)\n",
      "memory usage: 276.0 bytes\n"
     ]
    }
   ],
   "source": [
    "df.info()"
   ]
  },
  {
   "cell_type": "code",
   "execution_count": 19,
   "id": "0469c73d-7f27-4c78-8978-538c07b5c662",
   "metadata": {},
   "outputs": [],
   "source": [
    "#Ponerlo como índice (útil para operaciones de Series de Tiempo)\n",
    "df.set_index('fecha',inplace=True)"
   ]
  },
  {
   "cell_type": "code",
   "execution_count": 20,
   "id": "44ae8871-0b49-4326-85b8-bd0e86e58ff9",
   "metadata": {},
   "outputs": [
    {
     "name": "stdout",
     "output_type": "stream",
     "text": [
      "<class 'pandas.core.frame.DataFrame'>\n",
      "DatetimeIndex: 9 entries, 2021-01-01 to 2021-02-20\n",
      "Data columns (total 1 columns):\n",
      " #   Column  Non-Null Count  Dtype\n",
      "---  ------  --------------  -----\n",
      " 0   valor   9 non-null      int64\n",
      "dtypes: int64(1)\n",
      "memory usage: 144.0 bytes\n"
     ]
    }
   ],
   "source": [
    "df.info()"
   ]
  },
  {
   "cell_type": "code",
   "execution_count": 24,
   "id": "6bb972da-ed1b-4256-bff5-5ebd677c78d9",
   "metadata": {},
   "outputs": [
    {
     "data": {
      "text/html": [
       "<div>\n",
       "<style scoped>\n",
       "    .dataframe tbody tr th:only-of-type {\n",
       "        vertical-align: middle;\n",
       "    }\n",
       "\n",
       "    .dataframe tbody tr th {\n",
       "        vertical-align: top;\n",
       "    }\n",
       "\n",
       "    .dataframe thead th {\n",
       "        text-align: right;\n",
       "    }\n",
       "</style>\n",
       "<table border=\"1\" class=\"dataframe\">\n",
       "  <thead>\n",
       "    <tr style=\"text-align: right;\">\n",
       "      <th></th>\n",
       "      <th>valor</th>\n",
       "    </tr>\n",
       "    <tr>\n",
       "      <th>fecha</th>\n",
       "      <th></th>\n",
       "    </tr>\n",
       "  </thead>\n",
       "  <tbody>\n",
       "    <tr>\n",
       "      <th>2021-01-01</th>\n",
       "      <td>10</td>\n",
       "    </tr>\n",
       "    <tr>\n",
       "      <th>2021-01-02</th>\n",
       "      <td>20</td>\n",
       "    </tr>\n",
       "  </tbody>\n",
       "</table>\n",
       "</div>"
      ],
      "text/plain": [
       "            valor\n",
       "fecha            \n",
       "2021-01-01     10\n",
       "2021-01-02     20"
      ]
     },
     "execution_count": 24,
     "metadata": {},
     "output_type": "execute_result"
    }
   ],
   "source": [
    "df.head(2)"
   ]
  },
  {
   "cell_type": "code",
   "execution_count": 22,
   "id": "f7032550-a2f8-4f1a-92fb-fdac738629bd",
   "metadata": {},
   "outputs": [
    {
     "name": "stdout",
     "output_type": "stream",
     "text": [
      "            valor\n",
      "fecha            \n",
      "2021-01-31     90\n",
      "2021-02-28     15\n"
     ]
    }
   ],
   "source": [
    "#Re-muestreo (por ejemplo, agregando datos mensuales) 'M' significa mes. Agrupa por mes y suma. \n",
    "datos_mensuales=df.resample('M').sum()\n",
    "print(datos_mensuales)"
   ]
  },
  {
   "cell_type": "code",
   "execution_count": null,
   "id": "485527ff-011b-46b6-a2ec-6a3f64cd368d",
   "metadata": {},
   "outputs": [],
   "source": [
    "#Seleccionar fechas de diferentes formas"
   ]
  },
  {
   "cell_type": "code",
   "execution_count": 27,
   "id": "473ee388-f8b7-4e09-af22-867af9e6a349",
   "metadata": {},
   "outputs": [
    {
     "data": {
      "text/plain": [
       "valor    10\n",
       "Name: 2021-01-01 00:00:00, dtype: int64"
      ]
     },
     "execution_count": 27,
     "metadata": {},
     "output_type": "execute_result"
    }
   ],
   "source": [
    "df.loc[\"2021-01-01\"]"
   ]
  },
  {
   "cell_type": "code",
   "execution_count": 32,
   "id": "3d3b7fef-224c-4724-9f75-e1417f811f32",
   "metadata": {},
   "outputs": [
    {
     "data": {
      "text/plain": [
       "valor    10\n",
       "Name: 2021-01-01 00:00:00, dtype: int64"
      ]
     },
     "execution_count": 32,
     "metadata": {},
     "output_type": "execute_result"
    }
   ],
   "source": [
    "df.loc[\"01-01-2021\"]"
   ]
  },
  {
   "cell_type": "code",
   "execution_count": 28,
   "id": "12212b1b-2a34-4708-b7ed-da62fe85b01a",
   "metadata": {},
   "outputs": [
    {
     "data": {
      "text/plain": [
       "valor    10\n",
       "Name: 2021-01-01 00:00:00, dtype: int64"
      ]
     },
     "execution_count": 28,
     "metadata": {},
     "output_type": "execute_result"
    }
   ],
   "source": [
    "df.loc[\"20210101\"]"
   ]
  },
  {
   "cell_type": "code",
   "execution_count": 29,
   "id": "b7dfb0e5-7bde-48bc-a3a1-6c06bbd2a076",
   "metadata": {},
   "outputs": [
    {
     "data": {
      "text/plain": [
       "valor    10\n",
       "Name: 2021-01-01 00:00:00, dtype: int64"
      ]
     },
     "execution_count": 29,
     "metadata": {},
     "output_type": "execute_result"
    }
   ],
   "source": [
    "df.loc[\"2021/01/01\"]"
   ]
  },
  {
   "cell_type": "code",
   "execution_count": 30,
   "id": "84c8e73f-8796-4e30-be41-e475a46ee647",
   "metadata": {},
   "outputs": [
    {
     "data": {
      "text/plain": [
       "valor    10\n",
       "Name: 2021-01-01 00:00:00, dtype: int64"
      ]
     },
     "execution_count": 30,
     "metadata": {},
     "output_type": "execute_result"
    }
   ],
   "source": [
    "df.loc[datetime(2021,1,1)]"
   ]
  },
  {
   "cell_type": "code",
   "execution_count": 31,
   "id": "29b27df5-624d-47d3-9396-1244d490c02b",
   "metadata": {},
   "outputs": [
    {
     "data": {
      "text/html": [
       "<div>\n",
       "<style scoped>\n",
       "    .dataframe tbody tr th:only-of-type {\n",
       "        vertical-align: middle;\n",
       "    }\n",
       "\n",
       "    .dataframe tbody tr th {\n",
       "        vertical-align: top;\n",
       "    }\n",
       "\n",
       "    .dataframe thead th {\n",
       "        text-align: right;\n",
       "    }\n",
       "</style>\n",
       "<table border=\"1\" class=\"dataframe\">\n",
       "  <thead>\n",
       "    <tr style=\"text-align: right;\">\n",
       "      <th></th>\n",
       "      <th>valor</th>\n",
       "    </tr>\n",
       "    <tr>\n",
       "      <th>fecha</th>\n",
       "      <th></th>\n",
       "    </tr>\n",
       "  </thead>\n",
       "  <tbody>\n",
       "    <tr>\n",
       "      <th>2021-01-01</th>\n",
       "      <td>10</td>\n",
       "    </tr>\n",
       "  </tbody>\n",
       "</table>\n",
       "</div>"
      ],
      "text/plain": [
       "            valor\n",
       "fecha            \n",
       "2021-01-01     10"
      ]
     },
     "execution_count": 31,
     "metadata": {},
     "output_type": "execute_result"
    }
   ],
   "source": [
    "df.loc[datetime(2021,1,1):\"2021-01-01\"]"
   ]
  },
  {
   "cell_type": "code",
   "execution_count": 35,
   "id": "446d6dc7-0b86-4f21-a043-8a74a765cc40",
   "metadata": {},
   "outputs": [
    {
     "name": "stdout",
     "output_type": "stream",
     "text": [
      "Fecha Original: 07/04/2024\n",
      "Fecha con Formato: 2024-07-04\n"
     ]
    }
   ],
   "source": [
    "#Ejercicio Rápido\n",
    "#input como string (cadena)\n",
    "input_date_str=\"07/04/2024\" #MM/DD/YYY 4 de Julio \n",
    "#une el objetivo como cadena en un objeto datetime\n",
    "date_obj=datetime.strptime(input_date_str,\"%m/%d/%Y\")\n",
    "#le damos el formato de datetime al objeto como lo deseamos. \n",
    "output_date_str=date_obj.strftime(\"%Y-%m-%d\")\n",
    "\n",
    "print(\"Fecha Original:\",input_date_str)\n",
    "print(\"Fecha con Formato:\",output_date_str)"
   ]
  },
  {
   "cell_type": "code",
   "execution_count": 41,
   "id": "1c597593-283b-4971-811e-da87a3858656",
   "metadata": {},
   "outputs": [
    {
     "data": {
      "text/plain": [
       "datetime.datetime(2024, 4, 7, 0, 0)"
      ]
     },
     "execution_count": 41,
     "metadata": {},
     "output_type": "execute_result"
    }
   ],
   "source": [
    "date_obj"
   ]
  },
  {
   "cell_type": "code",
   "execution_count": 46,
   "id": "8eb664c1-e30c-41ce-8c86-c1c414db868d",
   "metadata": {},
   "outputs": [],
   "source": [
    "dt=datetime(2024,4,7,0,0)"
   ]
  },
  {
   "cell_type": "code",
   "execution_count": 43,
   "id": "451840a2-299b-4ed2-94cc-4164d3b6f292",
   "metadata": {},
   "outputs": [
    {
     "data": {
      "text/plain": [
       "datetime.datetime"
      ]
     },
     "execution_count": 43,
     "metadata": {},
     "output_type": "execute_result"
    }
   ],
   "source": [
    "type(date_obj)"
   ]
  },
  {
   "cell_type": "code",
   "execution_count": 47,
   "id": "609ae778-4123-4850-867a-be783cf97964",
   "metadata": {},
   "outputs": [
    {
     "data": {
      "text/plain": [
       "numpy.datetime64('2024-04-07T00:00:00.000000000')"
      ]
     },
     "execution_count": 47,
     "metadata": {},
     "output_type": "execute_result"
    }
   ],
   "source": [
    "pd.to_datetime(dt).to_datetime64()"
   ]
  },
  {
   "cell_type": "code",
   "execution_count": null,
   "id": "7f156c90-04ec-43f3-b65a-e18846b79650",
   "metadata": {},
   "outputs": [],
   "source": []
  },
  {
   "cell_type": "code",
   "execution_count": 36,
   "id": "16053e60-b323-471f-b523-614ef5aed5bb",
   "metadata": {},
   "outputs": [
    {
     "name": "stdout",
     "output_type": "stream",
     "text": [
      "Fecha Original: 07/04/2024\n",
      "Fecha con Formato: 07-04-2024\n"
     ]
    }
   ],
   "source": [
    "#Ejercicio Rápido\n",
    "#input como string (cadena)\n",
    "input_date_str=\"07/04/2024\" #DD/MM/YYY 7 de Abril \n",
    "#une el objetivo como cadena en un objeto datetime\n",
    "date_obj=datetime.strptime(input_date_str,\"%d/%m/%Y\") #parse time from string\n",
    "#le damos el formato de datetime al objeto como lo deseamos. \n",
    "output_date_str=date_obj.strftime(\"%d-%m-%Y\") #string Format time\n",
    "\n",
    "print(\"Fecha Original:\",input_date_str)\n",
    "print(\"Fecha con Formato:\",output_date_str) "
   ]
  },
  {
   "cell_type": "code",
   "execution_count": 39,
   "id": "64dad488-e2df-453d-87bc-31e394b9d965",
   "metadata": {},
   "outputs": [
    {
     "data": {
      "text/plain": [
       "datetime.datetime(2024, 4, 7, 0, 0)"
      ]
     },
     "execution_count": 39,
     "metadata": {},
     "output_type": "execute_result"
    }
   ],
   "source": [
    "date_obj"
   ]
  },
  {
   "cell_type": "code",
   "execution_count": 40,
   "id": "fcd04d7f-a57c-447d-ba0c-8ebcb1c72ed4",
   "metadata": {},
   "outputs": [
    {
     "data": {
      "text/plain": [
       "datetime.datetime(2024, 4, 27, 0, 0)"
      ]
     },
     "execution_count": 40,
     "metadata": {},
     "output_type": "execute_result"
    }
   ],
   "source": [
    "date_obj+ timedelta(days=20) #demostrar que si le suma 20 días al 7 de Abril llego al 27 de Abirl "
   ]
  },
  {
   "cell_type": "code",
   "execution_count": null,
   "id": "a0eb23a6-5a8a-4d4c-8287-8038eab0190b",
   "metadata": {},
   "outputs": [],
   "source": [
    "#función que se llema .to_datetime64()"
   ]
  },
  {
   "cell_type": "code",
   "execution_count": null,
   "id": "0cc07d70-b657-48ad-bbde-34f905935b3b",
   "metadata": {},
   "outputs": [],
   "source": []
  },
  {
   "cell_type": "markdown",
   "id": "cc115069-5b23-4db0-8e0d-228da729b99b",
   "metadata": {},
   "source": [
    "# 3. Rango de Fechas y Frecuencias. \n",
    "Pandas también permite generar rangos de fechas y convertir frecuencias (periodicidad de los datos)"
   ]
  },
  {
   "cell_type": "markdown",
   "id": "26379ec2-0696-4ab3-b0ad-4656be248c37",
   "metadata": {},
   "source": [
    "#### Ejemplo: Generar Rangos de Fechas"
   ]
  },
  {
   "cell_type": "code",
   "execution_count": 48,
   "id": "a83be2ac-eb37-4b2c-9482-97ef34975d7a",
   "metadata": {},
   "outputs": [
    {
     "name": "stdout",
     "output_type": "stream",
     "text": [
      "DatetimeIndex(['2021-01-01', '2021-01-02', '2021-01-03', '2021-01-04',\n",
      "               '2021-01-05', '2021-01-06', '2021-01-07', '2021-01-08',\n",
      "               '2021-01-09', '2021-01-10',\n",
      "               ...\n",
      "               '2021-12-30', '2021-12-31', '2022-01-01', '2022-01-02',\n",
      "               '2022-01-03', '2022-01-04', '2022-01-05', '2022-01-06',\n",
      "               '2022-01-07', '2022-01-08'],\n",
      "              dtype='datetime64[ns]', length=373, freq='D')\n"
     ]
    }
   ],
   "source": [
    "#Generando un rango de fechas\n",
    "#crear un índice de fechas\n",
    "rango_fechas=pd.date_range(start='2021/01/01',end='2022/01/08',freq='D')\n",
    "print(rango_fechas)"
   ]
  },
  {
   "cell_type": "code",
   "execution_count": 49,
   "id": "dda2d3a0-5dc9-4f0e-ae6e-ebd46838f0e7",
   "metadata": {},
   "outputs": [
    {
     "name": "stdout",
     "output_type": "stream",
     "text": [
      "PeriodIndex(['2021-01', '2021-01', '2021-01', '2021-01', '2021-01', '2021-01',\n",
      "             '2021-01', '2021-01', '2021-01', '2021-01',\n",
      "             ...\n",
      "             '2021-12', '2021-12', '2022-01', '2022-01', '2022-01', '2022-01',\n",
      "             '2022-01', '2022-01', '2022-01', '2022-01'],\n",
      "            dtype='period[M]', length=373)\n"
     ]
    }
   ],
   "source": [
    "#Convertir a mensual\n",
    "rango_mensual=rango_fechas.to_period('M')\n",
    "print(rango_mensual)\n",
    "#es como extraer el mes y año"
   ]
  },
  {
   "cell_type": "code",
   "execution_count": 50,
   "id": "028c46d0-226e-4e5f-9c09-e79a5d8741ff",
   "metadata": {},
   "outputs": [
    {
     "data": {
      "text/plain": [
       "0     2021-01-01\n",
       "1     2021-01-02\n",
       "2     2021-01-03\n",
       "3     2021-01-04\n",
       "4     2021-01-05\n",
       "         ...    \n",
       "368   2022-01-04\n",
       "369   2022-01-05\n",
       "370   2022-01-06\n",
       "371   2022-01-07\n",
       "372   2022-01-08\n",
       "Length: 373, dtype: datetime64[ns]"
      ]
     },
     "execution_count": 50,
     "metadata": {},
     "output_type": "execute_result"
    }
   ],
   "source": [
    "pd.Series(rango_fechas)"
   ]
  },
  {
   "cell_type": "code",
   "execution_count": 51,
   "id": "11e0ba85-5b2c-44ff-b2db-a2d22b242a38",
   "metadata": {},
   "outputs": [
    {
     "data": {
      "text/plain": [
       "0      2021-01\n",
       "1      2021-01\n",
       "2      2021-01\n",
       "3      2021-01\n",
       "4      2021-01\n",
       "        ...   \n",
       "368    2022-01\n",
       "369    2022-01\n",
       "370    2022-01\n",
       "371    2022-01\n",
       "372    2022-01\n",
       "Length: 373, dtype: period[M]"
      ]
     },
     "execution_count": 51,
     "metadata": {},
     "output_type": "execute_result"
    }
   ],
   "source": [
    "pd.Series(rango_mensual)"
   ]
  },
  {
   "cell_type": "markdown",
   "id": "e79cec81-1257-4595-a124-54057ca4e964",
   "metadata": {},
   "source": [
    "Se puede definir también un rango de fecha de la forma `pd.date_range(start='fh_inicio',periods=k,freq='X')`"
   ]
  },
  {
   "cell_type": "code",
   "execution_count": 53,
   "id": "7b272d1f-b746-44b8-b912-fe24dc92198c",
   "metadata": {},
   "outputs": [
    {
     "data": {
      "text/html": [
       "<div>\n",
       "<style scoped>\n",
       "    .dataframe tbody tr th:only-of-type {\n",
       "        vertical-align: middle;\n",
       "    }\n",
       "\n",
       "    .dataframe tbody tr th {\n",
       "        vertical-align: top;\n",
       "    }\n",
       "\n",
       "    .dataframe thead th {\n",
       "        text-align: right;\n",
       "    }\n",
       "</style>\n",
       "<table border=\"1\" class=\"dataframe\">\n",
       "  <thead>\n",
       "    <tr style=\"text-align: right;\">\n",
       "      <th></th>\n",
       "      <th>fecha</th>\n",
       "      <th>date_plus_3days</th>\n",
       "    </tr>\n",
       "  </thead>\n",
       "  <tbody>\n",
       "    <tr>\n",
       "      <th>0</th>\n",
       "      <td>2021-01-01</td>\n",
       "      <td>2021-01-04</td>\n",
       "    </tr>\n",
       "    <tr>\n",
       "      <th>1</th>\n",
       "      <td>2021-01-02</td>\n",
       "      <td>2021-01-05</td>\n",
       "    </tr>\n",
       "    <tr>\n",
       "      <th>2</th>\n",
       "      <td>2021-01-03</td>\n",
       "      <td>2021-01-06</td>\n",
       "    </tr>\n",
       "    <tr>\n",
       "      <th>3</th>\n",
       "      <td>2021-01-04</td>\n",
       "      <td>2021-01-07</td>\n",
       "    </tr>\n",
       "    <tr>\n",
       "      <th>4</th>\n",
       "      <td>2021-01-05</td>\n",
       "      <td>2021-01-08</td>\n",
       "    </tr>\n",
       "  </tbody>\n",
       "</table>\n",
       "</div>"
      ],
      "text/plain": [
       "       fecha date_plus_3days\n",
       "0 2021-01-01      2021-01-04\n",
       "1 2021-01-02      2021-01-05\n",
       "2 2021-01-03      2021-01-06\n",
       "3 2021-01-04      2021-01-07\n",
       "4 2021-01-05      2021-01-08"
      ]
     },
     "execution_count": 53,
     "metadata": {},
     "output_type": "execute_result"
    }
   ],
   "source": [
    "#Se recomienda usar también pd.TimeDelta de pandas. \n",
    "\n",
    "#Timedelta de 3 días. \n",
    "td=pd.Timedelta(days=3)\n",
    "\n",
    "df=pd.DataFrame({'fecha': pd.date_range(start='2021-01-01',periods=5,freq='D')})\n",
    "df['date_plus_3days']=df['fecha']+td\n",
    "df"
   ]
  },
  {
   "cell_type": "code",
   "execution_count": 56,
   "id": "947ee316-2d48-4971-b66f-0db8d6a5ed0c",
   "metadata": {},
   "outputs": [
    {
     "data": {
      "text/plain": [
       "4"
      ]
     },
     "execution_count": 56,
     "metadata": {},
     "output_type": "execute_result"
    }
   ],
   "source": [
    "df[\"fecha\"][0].weekday() #viernes"
   ]
  },
  {
   "cell_type": "markdown",
   "id": "b9dd3422-79a8-44d6-9e27-36ac1ebf4aa6",
   "metadata": {},
   "source": [
    "#### 'Shifting' de fecha (a menudo útil en series de tiempo"
   ]
  },
  {
   "cell_type": "code",
   "execution_count": 59,
   "id": "be3348f7-4752-4c3d-9097-58b4f7024c1c",
   "metadata": {},
   "outputs": [
    {
     "data": {
      "text/html": [
       "<div>\n",
       "<style scoped>\n",
       "    .dataframe tbody tr th:only-of-type {\n",
       "        vertical-align: middle;\n",
       "    }\n",
       "\n",
       "    .dataframe tbody tr th {\n",
       "        vertical-align: top;\n",
       "    }\n",
       "\n",
       "    .dataframe thead th {\n",
       "        text-align: right;\n",
       "    }\n",
       "</style>\n",
       "<table border=\"1\" class=\"dataframe\">\n",
       "  <thead>\n",
       "    <tr style=\"text-align: right;\">\n",
       "      <th></th>\n",
       "      <th>fecha</th>\n",
       "      <th>valor</th>\n",
       "    </tr>\n",
       "  </thead>\n",
       "  <tbody>\n",
       "    <tr>\n",
       "      <th>0</th>\n",
       "      <td>2021-01-01</td>\n",
       "      <td>10</td>\n",
       "    </tr>\n",
       "    <tr>\n",
       "      <th>1</th>\n",
       "      <td>2021-01-02</td>\n",
       "      <td>20</td>\n",
       "    </tr>\n",
       "    <tr>\n",
       "      <th>2</th>\n",
       "      <td>2021-01-03</td>\n",
       "      <td>15</td>\n",
       "    </tr>\n",
       "    <tr>\n",
       "      <th>3</th>\n",
       "      <td>2021-01-04</td>\n",
       "      <td>30</td>\n",
       "    </tr>\n",
       "    <tr>\n",
       "      <th>4</th>\n",
       "      <td>2021-01-05</td>\n",
       "      <td>25</td>\n",
       "    </tr>\n",
       "  </tbody>\n",
       "</table>\n",
       "</div>"
      ],
      "text/plain": [
       "       fecha  valor\n",
       "0 2021-01-01     10\n",
       "1 2021-01-02     20\n",
       "2 2021-01-03     15\n",
       "3 2021-01-04     30\n",
       "4 2021-01-05     25"
      ]
     },
     "execution_count": 59,
     "metadata": {},
     "output_type": "execute_result"
    }
   ],
   "source": [
    "data={\n",
    "    'fecha':pd.date_range(start='2021-01-01',periods=5,freq='D'),\n",
    "    'valor':[10,20,15,30,25]\n",
    "}\n",
    "\n",
    "df=pd.DataFrame(data)\n",
    "df"
   ]
  },
  {
   "cell_type": "markdown",
   "id": "393d591b-0ab5-478c-8598-fd1d8cb9e114",
   "metadata": {},
   "source": [
    "### Operción Desplazamiento\n",
    "Desplazaremos la columna 'valor' hacia abajo (hacia adelante en el tiempo) un perído. "
   ]
  },
  {
   "cell_type": "code",
   "execution_count": 60,
   "id": "2e579143-d5d0-4591-b6b3-24837f128591",
   "metadata": {},
   "outputs": [
    {
     "data": {
      "text/html": [
       "<div>\n",
       "<style scoped>\n",
       "    .dataframe tbody tr th:only-of-type {\n",
       "        vertical-align: middle;\n",
       "    }\n",
       "\n",
       "    .dataframe tbody tr th {\n",
       "        vertical-align: top;\n",
       "    }\n",
       "\n",
       "    .dataframe thead th {\n",
       "        text-align: right;\n",
       "    }\n",
       "</style>\n",
       "<table border=\"1\" class=\"dataframe\">\n",
       "  <thead>\n",
       "    <tr style=\"text-align: right;\">\n",
       "      <th></th>\n",
       "      <th>fecha</th>\n",
       "      <th>valor</th>\n",
       "      <th>valor_+1d</th>\n",
       "      <th>valor_+2d</th>\n",
       "      <th>valor_-1d</th>\n",
       "      <th>valor_-2d</th>\n",
       "    </tr>\n",
       "  </thead>\n",
       "  <tbody>\n",
       "    <tr>\n",
       "      <th>0</th>\n",
       "      <td>2021-01-01</td>\n",
       "      <td>10</td>\n",
       "      <td>NaN</td>\n",
       "      <td>NaN</td>\n",
       "      <td>20.0</td>\n",
       "      <td>15.0</td>\n",
       "    </tr>\n",
       "    <tr>\n",
       "      <th>1</th>\n",
       "      <td>2021-01-02</td>\n",
       "      <td>20</td>\n",
       "      <td>10.0</td>\n",
       "      <td>NaN</td>\n",
       "      <td>15.0</td>\n",
       "      <td>30.0</td>\n",
       "    </tr>\n",
       "    <tr>\n",
       "      <th>2</th>\n",
       "      <td>2021-01-03</td>\n",
       "      <td>15</td>\n",
       "      <td>20.0</td>\n",
       "      <td>10.0</td>\n",
       "      <td>30.0</td>\n",
       "      <td>25.0</td>\n",
       "    </tr>\n",
       "    <tr>\n",
       "      <th>3</th>\n",
       "      <td>2021-01-04</td>\n",
       "      <td>30</td>\n",
       "      <td>15.0</td>\n",
       "      <td>20.0</td>\n",
       "      <td>25.0</td>\n",
       "      <td>NaN</td>\n",
       "    </tr>\n",
       "    <tr>\n",
       "      <th>4</th>\n",
       "      <td>2021-01-05</td>\n",
       "      <td>25</td>\n",
       "      <td>30.0</td>\n",
       "      <td>15.0</td>\n",
       "      <td>NaN</td>\n",
       "      <td>NaN</td>\n",
       "    </tr>\n",
       "  </tbody>\n",
       "</table>\n",
       "</div>"
      ],
      "text/plain": [
       "       fecha  valor  valor_+1d  valor_+2d  valor_-1d  valor_-2d\n",
       "0 2021-01-01     10        NaN        NaN       20.0       15.0\n",
       "1 2021-01-02     20       10.0        NaN       15.0       30.0\n",
       "2 2021-01-03     15       20.0       10.0       30.0       25.0\n",
       "3 2021-01-04     30       15.0       20.0       25.0        NaN\n",
       "4 2021-01-05     25       30.0       15.0        NaN        NaN"
      ]
     },
     "execution_count": 60,
     "metadata": {},
     "output_type": "execute_result"
    }
   ],
   "source": [
    "#Deslplazar la columna ' valor' hacia abajo un día (un registro) \n",
    "df['valor_+1d']=df['valor'].shift(1) \n",
    "df['valor_+2d']=df['valor'].shift(2)\n",
    "df['valor_-1d']=df['valor'].shift(-1)\n",
    "df['valor_-2d']=df['valor'].shift(-2)\n",
    "\n",
    "\n",
    "df"
   ]
  },
  {
   "cell_type": "code",
   "execution_count": 61,
   "id": "637f374b-23f7-4567-a22c-c65058b4fa6c",
   "metadata": {},
   "outputs": [
    {
     "data": {
      "text/plain": [
       "0         NaN\n",
       "1    1.000000\n",
       "2   -0.250000\n",
       "3    1.000000\n",
       "4   -0.166667\n",
       "dtype: float64"
      ]
     },
     "execution_count": 61,
     "metadata": {},
     "output_type": "execute_result"
    }
   ],
   "source": [
    "#una aplicación de esto en series de tiempo, podría ser calcular rendimiento diarios. \n",
    "#NaN No es número. #Nat No es Time. \n",
    "# (Valor Final - Valor Inicial) / Valor Inicial =    (Valor Final/Valor Inicial)-1\n",
    "df['valor']/df['valor_+1d']-1  "
   ]
  },
  {
   "cell_type": "code",
   "execution_count": 62,
   "id": "2c2bac4e-b08a-445d-a54b-1deb304509f9",
   "metadata": {},
   "outputs": [
    {
     "data": {
      "text/plain": [
       "0         NaN\n",
       "1    1.000000\n",
       "2   -0.250000\n",
       "3    1.000000\n",
       "4   -0.166667\n",
       "Name: valor, dtype: float64"
      ]
     },
     "execution_count": 62,
     "metadata": {},
     "output_type": "execute_result"
    }
   ],
   "source": [
    "df['valor'].pct_change()"
   ]
  },
  {
   "cell_type": "code",
   "execution_count": 63,
   "id": "15efe1f1-1c02-45e0-98f4-7bb6e7eea2e7",
   "metadata": {},
   "outputs": [
    {
     "data": {
      "text/html": [
       "<div>\n",
       "<style scoped>\n",
       "    .dataframe tbody tr th:only-of-type {\n",
       "        vertical-align: middle;\n",
       "    }\n",
       "\n",
       "    .dataframe tbody tr th {\n",
       "        vertical-align: top;\n",
       "    }\n",
       "\n",
       "    .dataframe thead th {\n",
       "        text-align: right;\n",
       "    }\n",
       "</style>\n",
       "<table border=\"1\" class=\"dataframe\">\n",
       "  <thead>\n",
       "    <tr style=\"text-align: right;\">\n",
       "      <th></th>\n",
       "      <th>fecha</th>\n",
       "      <th>valor</th>\n",
       "      <th>valor_+1d</th>\n",
       "      <th>valor_+2d</th>\n",
       "      <th>valor_-1d</th>\n",
       "      <th>valor_-2d</th>\n",
       "      <th>año</th>\n",
       "      <th>mes</th>\n",
       "      <th>dia</th>\n",
       "      <th>dia_semana</th>\n",
       "    </tr>\n",
       "  </thead>\n",
       "  <tbody>\n",
       "    <tr>\n",
       "      <th>0</th>\n",
       "      <td>2021-01-01</td>\n",
       "      <td>10</td>\n",
       "      <td>NaN</td>\n",
       "      <td>NaN</td>\n",
       "      <td>20.0</td>\n",
       "      <td>15.0</td>\n",
       "      <td>2021</td>\n",
       "      <td>1</td>\n",
       "      <td>1</td>\n",
       "      <td>Friday</td>\n",
       "    </tr>\n",
       "    <tr>\n",
       "      <th>1</th>\n",
       "      <td>2021-01-02</td>\n",
       "      <td>20</td>\n",
       "      <td>10.0</td>\n",
       "      <td>NaN</td>\n",
       "      <td>15.0</td>\n",
       "      <td>30.0</td>\n",
       "      <td>2021</td>\n",
       "      <td>1</td>\n",
       "      <td>2</td>\n",
       "      <td>Saturday</td>\n",
       "    </tr>\n",
       "    <tr>\n",
       "      <th>2</th>\n",
       "      <td>2021-01-03</td>\n",
       "      <td>15</td>\n",
       "      <td>20.0</td>\n",
       "      <td>10.0</td>\n",
       "      <td>30.0</td>\n",
       "      <td>25.0</td>\n",
       "      <td>2021</td>\n",
       "      <td>1</td>\n",
       "      <td>3</td>\n",
       "      <td>Sunday</td>\n",
       "    </tr>\n",
       "    <tr>\n",
       "      <th>3</th>\n",
       "      <td>2021-01-04</td>\n",
       "      <td>30</td>\n",
       "      <td>15.0</td>\n",
       "      <td>20.0</td>\n",
       "      <td>25.0</td>\n",
       "      <td>NaN</td>\n",
       "      <td>2021</td>\n",
       "      <td>1</td>\n",
       "      <td>4</td>\n",
       "      <td>Monday</td>\n",
       "    </tr>\n",
       "    <tr>\n",
       "      <th>4</th>\n",
       "      <td>2021-01-05</td>\n",
       "      <td>25</td>\n",
       "      <td>30.0</td>\n",
       "      <td>15.0</td>\n",
       "      <td>NaN</td>\n",
       "      <td>NaN</td>\n",
       "      <td>2021</td>\n",
       "      <td>1</td>\n",
       "      <td>5</td>\n",
       "      <td>Tuesday</td>\n",
       "    </tr>\n",
       "  </tbody>\n",
       "</table>\n",
       "</div>"
      ],
      "text/plain": [
       "       fecha  valor  valor_+1d  valor_+2d  valor_-1d  valor_-2d   año  mes  \\\n",
       "0 2021-01-01     10        NaN        NaN       20.0       15.0  2021    1   \n",
       "1 2021-01-02     20       10.0        NaN       15.0       30.0  2021    1   \n",
       "2 2021-01-03     15       20.0       10.0       30.0       25.0  2021    1   \n",
       "3 2021-01-04     30       15.0       20.0       25.0        NaN  2021    1   \n",
       "4 2021-01-05     25       30.0       15.0        NaN        NaN  2021    1   \n",
       "\n",
       "   dia dia_semana  \n",
       "0    1     Friday  \n",
       "1    2   Saturday  \n",
       "2    3     Sunday  \n",
       "3    4     Monday  \n",
       "4    5    Tuesday  "
      ]
     },
     "execution_count": 63,
     "metadata": {},
     "output_type": "execute_result"
    }
   ],
   "source": [
    "df['año']=df['fecha'].dt.year\n",
    "df['mes']=df['fecha'].dt.month\n",
    "df['dia']=df['fecha'].dt.day\n",
    "df['dia_semana']=df['fecha'].dt.day_name()\n",
    "df"
   ]
  },
  {
   "cell_type": "code",
   "execution_count": 74,
   "id": "a86b496f-b41f-4d00-a6e8-783d5682d9fc",
   "metadata": {},
   "outputs": [
    {
     "data": {
      "text/html": [
       "<div>\n",
       "<style scoped>\n",
       "    .dataframe tbody tr th:only-of-type {\n",
       "        vertical-align: middle;\n",
       "    }\n",
       "\n",
       "    .dataframe tbody tr th {\n",
       "        vertical-align: top;\n",
       "    }\n",
       "\n",
       "    .dataframe thead th {\n",
       "        text-align: right;\n",
       "    }\n",
       "</style>\n",
       "<table border=\"1\" class=\"dataframe\">\n",
       "  <thead>\n",
       "    <tr style=\"text-align: right;\">\n",
       "      <th></th>\n",
       "      <th>fecha</th>\n",
       "      <th>valor</th>\n",
       "    </tr>\n",
       "  </thead>\n",
       "  <tbody>\n",
       "    <tr>\n",
       "      <th>0</th>\n",
       "      <td>2021-01-01</td>\n",
       "      <td>10</td>\n",
       "    </tr>\n",
       "    <tr>\n",
       "      <th>1</th>\n",
       "      <td>2021-01-02</td>\n",
       "      <td>20</td>\n",
       "    </tr>\n",
       "    <tr>\n",
       "      <th>2</th>\n",
       "      <td>2021-01-03</td>\n",
       "      <td>15</td>\n",
       "    </tr>\n",
       "    <tr>\n",
       "      <th>3</th>\n",
       "      <td>2021-01-04</td>\n",
       "      <td>30</td>\n",
       "    </tr>\n",
       "    <tr>\n",
       "      <th>4</th>\n",
       "      <td>2021-01-05</td>\n",
       "      <td>25</td>\n",
       "    </tr>\n",
       "  </tbody>\n",
       "</table>\n",
       "</div>"
      ],
      "text/plain": [
       "       fecha  valor\n",
       "0 2021-01-01     10\n",
       "1 2021-01-02     20\n",
       "2 2021-01-03     15\n",
       "3 2021-01-04     30\n",
       "4 2021-01-05     25"
      ]
     },
     "execution_count": 74,
     "metadata": {},
     "output_type": "execute_result"
    }
   ],
   "source": [
    "## ejemplo de remuestreo con agregación semanal\n",
    "data={\n",
    "    'fecha':pd.date_range(start='2021-01-01', periods=15,freq='D'),\n",
    "    'valor':[10,20,15,30,25,40,35,30,20,10,50,45,35,25,40]\n",
    "}\n",
    "#Crear el DatFrame\n",
    "df=pd.DataFrame(data)\n",
    "df.head()"
   ]
  },
  {
   "cell_type": "code",
   "execution_count": 75,
   "id": "6e40ddc5-2ac1-496a-bba2-46c98e89475f",
   "metadata": {},
   "outputs": [],
   "source": [
    "#primero set_index: \n",
    "df.set_index('fecha',inplace=True)"
   ]
  },
  {
   "cell_type": "code",
   "execution_count": 76,
   "id": "4d716b82-33f0-49f0-bd7f-a2d4acda4935",
   "metadata": {},
   "outputs": [
    {
     "data": {
      "text/html": [
       "<div>\n",
       "<style scoped>\n",
       "    .dataframe tbody tr th:only-of-type {\n",
       "        vertical-align: middle;\n",
       "    }\n",
       "\n",
       "    .dataframe tbody tr th {\n",
       "        vertical-align: top;\n",
       "    }\n",
       "\n",
       "    .dataframe thead th {\n",
       "        text-align: right;\n",
       "    }\n",
       "</style>\n",
       "<table border=\"1\" class=\"dataframe\">\n",
       "  <thead>\n",
       "    <tr style=\"text-align: right;\">\n",
       "      <th></th>\n",
       "      <th>valor</th>\n",
       "    </tr>\n",
       "    <tr>\n",
       "      <th>fecha</th>\n",
       "      <th></th>\n",
       "    </tr>\n",
       "  </thead>\n",
       "  <tbody>\n",
       "    <tr>\n",
       "      <th>2021-01-01</th>\n",
       "      <td>10</td>\n",
       "    </tr>\n",
       "    <tr>\n",
       "      <th>2021-01-02</th>\n",
       "      <td>20</td>\n",
       "    </tr>\n",
       "  </tbody>\n",
       "</table>\n",
       "</div>"
      ],
      "text/plain": [
       "            valor\n",
       "fecha            \n",
       "2021-01-01     10\n",
       "2021-01-02     20"
      ]
     },
     "execution_count": 76,
     "metadata": {},
     "output_type": "execute_result"
    }
   ],
   "source": [
    "df.head(2)"
   ]
  },
  {
   "cell_type": "code",
   "execution_count": 78,
   "id": "10d2d751-9cf4-4277-a4a6-e5daf518daa5",
   "metadata": {},
   "outputs": [
    {
     "data": {
      "text/plain": [
       "<Axes: xlabel='fecha'>"
      ]
     },
     "execution_count": 78,
     "metadata": {},
     "output_type": "execute_result"
    },
    {
     "data": {
      "image/png": "[encoded data removed]",
      "text/plain": [
       "<Figure size 640x480 with 1 Axes>"
      ]
     },
     "metadata": {},
     "output_type": "display_data"
    }
   ],
   "source": [
    "df.plot()"
   ]
  },
  {
   "cell_type": "code",
   "execution_count": 68,
   "id": "8646743c-4c16-4d41-9a2a-c56ff5c67955",
   "metadata": {},
   "outputs": [
    {
     "data": {
      "text/html": [
       "<div>\n",
       "<style scoped>\n",
       "    .dataframe tbody tr th:only-of-type {\n",
       "        vertical-align: middle;\n",
       "    }\n",
       "\n",
       "    .dataframe tbody tr th {\n",
       "        vertical-align: top;\n",
       "    }\n",
       "\n",
       "    .dataframe thead th {\n",
       "        text-align: right;\n",
       "    }\n",
       "</style>\n",
       "<table border=\"1\" class=\"dataframe\">\n",
       "  <thead>\n",
       "    <tr style=\"text-align: right;\">\n",
       "      <th></th>\n",
       "      <th>valor</th>\n",
       "    </tr>\n",
       "    <tr>\n",
       "      <th>fecha</th>\n",
       "      <th></th>\n",
       "    </tr>\n",
       "  </thead>\n",
       "  <tbody>\n",
       "    <tr>\n",
       "      <th>2021-01-03</th>\n",
       "      <td>45</td>\n",
       "    </tr>\n",
       "    <tr>\n",
       "      <th>2021-01-10</th>\n",
       "      <td>190</td>\n",
       "    </tr>\n",
       "    <tr>\n",
       "      <th>2021-01-17</th>\n",
       "      <td>195</td>\n",
       "    </tr>\n",
       "  </tbody>\n",
       "</table>\n",
       "</div>"
      ],
      "text/plain": [
       "            valor\n",
       "fecha            \n",
       "2021-01-03     45\n",
       "2021-01-10    190\n",
       "2021-01-17    195"
      ]
     },
     "execution_count": 68,
     "metadata": {},
     "output_type": "execute_result"
    }
   ],
   "source": [
    "suma_semanal=df.resample('W').sum()\n",
    "suma_semanal"
   ]
  },
  {
   "cell_type": "code",
   "execution_count": null,
   "id": "e371b7a4-7eea-41b5-b374-f357df9818e8",
   "metadata": {},
   "outputs": [],
   "source": [
    "#quitar la parte de las horas y se pueden quedar con las fechas"
   ]
  },
  {
   "cell_type": "code",
   "execution_count": 70,
   "id": "93acb475-0993-4fe3-955b-c3cfea6e306f",
   "metadata": {},
   "outputs": [
    {
     "data": {
      "text/html": [
       "<div>\n",
       "<style scoped>\n",
       "    .dataframe tbody tr th:only-of-type {\n",
       "        vertical-align: middle;\n",
       "    }\n",
       "\n",
       "    .dataframe tbody tr th {\n",
       "        vertical-align: top;\n",
       "    }\n",
       "\n",
       "    .dataframe thead th {\n",
       "        text-align: right;\n",
       "    }\n",
       "</style>\n",
       "<table border=\"1\" class=\"dataframe\">\n",
       "  <thead>\n",
       "    <tr style=\"text-align: right;\">\n",
       "      <th></th>\n",
       "      <th>datetime_column</th>\n",
       "    </tr>\n",
       "  </thead>\n",
       "  <tbody>\n",
       "    <tr>\n",
       "      <th>0</th>\n",
       "      <td>2021-01-01 15:30:00</td>\n",
       "    </tr>\n",
       "    <tr>\n",
       "      <th>1</th>\n",
       "      <td>2021-01-02 12:45:00</td>\n",
       "    </tr>\n",
       "    <tr>\n",
       "      <th>2</th>\n",
       "      <td>2021-01-03 09:15:00</td>\n",
       "    </tr>\n",
       "  </tbody>\n",
       "</table>\n",
       "</div>"
      ],
      "text/plain": [
       "      datetime_column\n",
       "0 2021-01-01 15:30:00\n",
       "1 2021-01-02 12:45:00\n",
       "2 2021-01-03 09:15:00"
      ]
     },
     "execution_count": 70,
     "metadata": {},
     "output_type": "execute_result"
    }
   ],
   "source": [
    "df=pd.DataFrame({\n",
    "'datetime_column':pd.to_datetime(['2021-01-01 15:30','2021-01-02 12:45','2021-01-03 09:15'])\n",
    "    \n",
    "})\n",
    "df"
   ]
  },
  {
   "cell_type": "code",
   "execution_count": 72,
   "id": "6bf7812b-2619-4491-96ad-6a50583377cd",
   "metadata": {},
   "outputs": [
    {
     "data": {
      "text/html": [
       "<div>\n",
       "<style scoped>\n",
       "    .dataframe tbody tr th:only-of-type {\n",
       "        vertical-align: middle;\n",
       "    }\n",
       "\n",
       "    .dataframe tbody tr th {\n",
       "        vertical-align: top;\n",
       "    }\n",
       "\n",
       "    .dataframe thead th {\n",
       "        text-align: right;\n",
       "    }\n",
       "</style>\n",
       "<table border=\"1\" class=\"dataframe\">\n",
       "  <thead>\n",
       "    <tr style=\"text-align: right;\">\n",
       "      <th></th>\n",
       "      <th>datetime_column</th>\n",
       "      <th>date_column</th>\n",
       "    </tr>\n",
       "  </thead>\n",
       "  <tbody>\n",
       "    <tr>\n",
       "      <th>0</th>\n",
       "      <td>2021-01-01 15:30:00</td>\n",
       "      <td>2021-01-01</td>\n",
       "    </tr>\n",
       "    <tr>\n",
       "      <th>1</th>\n",
       "      <td>2021-01-02 12:45:00</td>\n",
       "      <td>2021-01-02</td>\n",
       "    </tr>\n",
       "    <tr>\n",
       "      <th>2</th>\n",
       "      <td>2021-01-03 09:15:00</td>\n",
       "      <td>2021-01-03</td>\n",
       "    </tr>\n",
       "  </tbody>\n",
       "</table>\n",
       "</div>"
      ],
      "text/plain": [
       "      datetime_column date_column\n",
       "0 2021-01-01 15:30:00  2021-01-01\n",
       "1 2021-01-02 12:45:00  2021-01-02\n",
       "2 2021-01-03 09:15:00  2021-01-03"
      ]
     },
     "execution_count": 72,
     "metadata": {},
     "output_type": "execute_result"
    }
   ],
   "source": [
    "#Convirtiendo datetime a solo date\n",
    "df['date_column']=df['datetime_column'].dt.date\n",
    "df"
   ]
  },
  {
   "cell_type": "code",
   "execution_count": 73,
   "id": "1af91777-8971-4be7-8e0b-1aafc2f935b7",
   "metadata": {},
   "outputs": [
    {
     "data": {
      "text/plain": [
       "DatetimeIndex(['2024-01-01 00:00:00', '2024-01-01 01:00:00',\n",
       "               '2024-01-01 02:00:00', '2024-01-01 03:00:00',\n",
       "               '2024-01-01 04:00:00', '2024-01-01 05:00:00',\n",
       "               '2024-01-01 06:00:00', '2024-01-01 07:00:00',\n",
       "               '2024-01-01 08:00:00', '2024-01-01 09:00:00',\n",
       "               '2024-01-01 10:00:00', '2024-01-01 11:00:00',\n",
       "               '2024-01-01 12:00:00', '2024-01-01 13:00:00',\n",
       "               '2024-01-01 14:00:00', '2024-01-01 15:00:00',\n",
       "               '2024-01-01 16:00:00', '2024-01-01 17:00:00',\n",
       "               '2024-01-01 18:00:00', '2024-01-01 19:00:00',\n",
       "               '2024-01-01 20:00:00', '2024-01-01 21:00:00',\n",
       "               '2024-01-01 22:00:00', '2024-01-01 23:00:00',\n",
       "               '2024-01-02 00:00:00'],\n",
       "              dtype='datetime64[ns]', freq='H')"
      ]
     },
     "execution_count": 73,
     "metadata": {},
     "output_type": "execute_result"
    }
   ],
   "source": [
    "#pueden hacer date_range para miutos y horas. \n",
    "pd.date_range(start='2024-01-01 00:00',end='2024-01-02 00:00', freq='H')"
   ]
  }
 ],
 "metadata": {
  "kernelspec": {
   "display_name": "Python 3 (ipykernel)",
   "language": "python",
   "name": "python3"
  },
  "language_info": {
   "codemirror_mode": {
    "name": "ipython",
    "version": 3
   },
   "file_extension": ".py",
   "mimetype": "text/x-python",
   "name": "python",
   "nbconvert_exporter": "python",
   "pygments_lexer": "ipython3",
   "version": "3.11.5"
  }
 },
 "nbformat": 4,
 "nbformat_minor": 5
}
