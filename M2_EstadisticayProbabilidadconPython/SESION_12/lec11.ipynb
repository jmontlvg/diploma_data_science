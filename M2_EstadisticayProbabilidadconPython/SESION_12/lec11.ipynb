{
 "cells": [
  {
   "cell_type": "markdown",
   "metadata": {},
   "source": [
    "#### Recordar: En el caso discreto:\n",
    "\n",
    "1. La pmf nos da la probabilidad de que una v.a. tome un valor particular:\n",
    "\n",
    "$$\n",
    "P(X = k)\n",
    "$$\n",
    "\n",
    "2. la FDA nos da la probabilidad de que una v.a. tome un valor *menor o igual* a un valor particular:\n",
    "\n",
    "$$\n",
    "F(k)= P(X \\leq k)\n",
    "$$"
   ]
  },
  {
   "cell_type": "code",
   "execution_count": 2,
   "metadata": {},
   "outputs": [],
   "source": [
    "import numpy as np, pandas as pd\n",
    "import scipy.stats as ss\n",
    "import matplotlib.pyplot as plt\n",
    "from math import comb"
   ]
  },
  {
   "cell_type": "markdown",
   "metadata": {},
   "source": [
    "En python, podemos usar **`cdf()`** para evaluar la FDA en un valor específico."
   ]
  },
  {
   "cell_type": "code",
   "execution_count": 3,
   "metadata": {},
   "outputs": [],
   "source": [
    "#supongamos que despues de un examen sorpresa de matematicas sólo el 70% de la clase aprobo\n",
    "#'cual serí al aproba de un alumno apruebe el examen¿\n",
    "probabilidad_aprobar=0.7\n",
    "\n",
    "#creamos una distribución bernoulli con la pr0oba dada\n",
    "distribucion_examen=ss.bernoulli(probabilidad_aprobar)\n",
    "#Calcula la proba de aprobar (X=1) y no aprobar (x=0)\n",
    "prob_aprobar=distribucion_examen.pmf(1)\n",
    "prob_no_aprobar=distribucion_examen.pmf(0)\n"
   ]
  },
  {
   "cell_type": "code",
   "execution_count": 4,
   "metadata": {},
   "outputs": [
    {
     "data": {
      "text/plain": [
       "0.7"
      ]
     },
     "execution_count": 4,
     "metadata": {},
     "output_type": "execute_result"
    }
   ],
   "source": [
    "prob_aprobar"
   ]
  },
  {
   "cell_type": "code",
   "execution_count": 5,
   "metadata": {},
   "outputs": [
    {
     "data": {
      "text/plain": [
       "0.29999999999999993"
      ]
     },
     "execution_count": 5,
     "metadata": {},
     "output_type": "execute_result"
    }
   ],
   "source": [
    "prob_no_aprobar"
   ]
  },
  {
   "cell_type": "markdown",
   "metadata": {},
   "source": [
    "###  Binomial\n",
    "\n",
    "$X$ = Número de 'exitos' en $n$ ensayos (experimentos) Bernoulli \n",
    "\n",
    "Imaginemos un experimento que sólo pueda tener dos posibles resultados: éxito (1) o fracaso (0). Por ejemplo, el lanzamiento de una moneda. Sabemos que esto se puede modelar como una variable con distribucion bernoulli.\n",
    "\n",
    "Ahora, supongamos que realizamos una serie de experimentos de Bernoulli independientes entre sí. Por ejemplo, lanzar una moneda **10 veces y contar cuántas veces obtienes 'Sol'**. La distribución **binomial** modela este tipo de situación.\n",
    "\n",
    "La distribución binomial se caracteriza por dos parámetros:\n",
    "\n",
    "- n: El número total de experimentos (en el ejemplo, sería el número de veces que se lanza una moneda).\n",
    "\n",
    "- p: La probabilidad de éxito en un solo experimento de Bernoulli (en el ejemplo, sería la probabilidad de obtener 'sol' en un solo lanzamiento).\n",
    "\n",
    "*La distribución binomial nos dice la probabilidad de obtener un número específico de éxitos en esos n experimentos.*\n",
    "\n",
    "Su **funcion de probabilidad (PMF)** es:\n",
    "\n",
    "![](https://wikimedia.org/api/rest_v1/media/math/render/svg/b9132f4a426519b98e200db662bb35533dea4fd0)"
   ]
  },
  {
   "cell_type": "markdown",
   "metadata": {},
   "source": [
    "para x = 0,1,2,..., $n$"
   ]
  },
  {
   "cell_type": "markdown",
   "metadata": {},
   "source": [
    "$\\binom{n}{x}$ representa el número de conjuntos de tamaño x que se pueden formar con $n$ elementos.\n",
    "\n",
    "$$\n",
    "C(n, x) = \\binom{n}{x} = \\frac{n!}{x!(n-x)!}\n",
    "$$\n",
    "\n",
    "donde:\n",
    "- $n$ es el número total de elementos.\n",
    "- $x$ es el número de elementos que se eligen.\n",
    "- $n!$ representa el factorial de $n$, que es el producto de todos los números enteros positivos hasta $n$.\n",
    "- $x!$ es el factorial de $x$.\n",
    "- $(n-x)!$ es el factorial de $n-x$.\n",
    "\n",
    "Esta fórmula calcula el número de formas diferentes en que se pueden elegir $x$ elementos de un conjunto de $n$ elementos, sin tener en cuenta el orden en que se eligen. Por ejemplo, si tienes un grupo de 5 personas y quieres saber de cuántas maneras diferentes puedes elegir un comité de 3 personas, calculamos $C(5, 3)= 10$"
   ]
  },
  {
   "cell_type": "markdown",
   "metadata": {},
   "source": [
    "### Ejercicio"
   ]
  },
  {
   "cell_type": "markdown",
   "metadata": {},
   "source": [
    "Supongamos que tenemos un examen de 20 preguntas, las cuales se responden con\n",
    "“verdadero” o “falso”. Si decidimos responder todo el examen con la opcion \"verdadero\",\n",
    "\n",
    "¿Cuál es la probabilidad que tengamos más de 14 aciertos con esta técnica?.\n",
    "\n"
   ]
  },
  {
   "cell_type": "markdown",
   "metadata": {},
   "source": [
    "### Poisson\n",
    "\n",
    "$X$ = Número de eventos dentro de un intervalo de tiempo o espacio específicos.\n",
    "\n",
    "* Se asume que los eventos ocurren a una tasa constante y que son independientes.\n",
    "\n",
    "* Es apropiada para modelar eventos raros en una población sobre un intervalo de tiempo 'pequeño'.\n",
    "\n",
    "\n",
    "Por ejemplo, podríamos estar interesados en saber cuántos clientes llegan a una tienda en una hora determinada, cuántas veces suena un teléfono en una oficina durante un día o cuántos accidentes de tráfico ocurren en una intersección en un mes.\n",
    "\n",
    "La distribución de Poisson se caracteriza por un parámetro lambda (λ), que representa el promedio de eventos que esperamos observar en el intervalo dado.\n",
    "\n",
    "Algunas características clave de la distribución de Poisson incluyen:\n",
    "\n",
    "- Es una distribución discreta, lo que significa que solo toma valores enteros no negativos (0, 1, 2, 3, ...).\n",
    "\n",
    "- La probabilidad de observar un número específico de eventos (k) en un intervalo se calcula utilizando la fórmula de Poisson.\n",
    "\n",
    "\n",
    "\n",
    "**Funcion de probabilidad es (PMF)**:\n",
    "\n",
    "$$\n",
    "P(X = k) = \\frac{e^{-\\lambda}\\lambda^k}{k!}\n",
    "$$\n",
    "\n",
    "para k = 0,1,2,3,...."
   ]
  }
 ],
 "metadata": {
  "kernelspec": {
   "display_name": "Python 3 (ipykernel)",
   "language": "python",
   "name": "python3"
  },
  "language_info": {
   "codemirror_mode": {
    "name": "ipython",
    "version": 3
   },
   "file_extension": ".py",
   "mimetype": "text/x-python",
   "name": "python",
   "nbconvert_exporter": "python",
   "pygments_lexer": "ipython3",
   "version": "3.11.5"
  }
 },
 "nbformat": 4,
 "nbformat_minor": 4
}
