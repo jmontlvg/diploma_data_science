{
 "cells": [
  {
   "cell_type": "code",
   "execution_count": 1,
   "metadata": {},
   "outputs": [],
   "source": [
    "from IPython.display import display, Image"
   ]
  },
  {
   "cell_type": "code",
   "execution_count": 2,
   "metadata": {},
   "outputs": [],
   "source": [
    "import pandas as pd, numpy as np\n",
    "import random\n",
    "import numpy.linalg as la\n",
    "import matplotlib.pyplot as plt"
   ]
  },
  {
   "cell_type": "markdown",
   "metadata": {},
   "source": [
    "## Matrices:"
   ]
  },
  {
   "cell_type": "markdown",
   "metadata": {},
   "source": [
    "Una matriz es un conjunto de números o expresiones, dispuestos en forma rectangular, formando $m$ filas y $n$ columnas:\n",
    "\n",
    "$$\n",
    "A = \\left( {\\begin{array}{*{20}{c}}{{a_{11}}}&{{a_{12}}}&{{a_{13}}}& \\cdots &{{a_{1n}}}\\\\{{a_{21}}}&{{a_{22}}}&{{a_{23}}}& \\cdots &{{a_{2n}}}\\\\{{a_{31}}}&{{a_{32}}}&{{a_{33}}}& \\cdots &{{a_{3n}}}\\\\ \\vdots & \\vdots & \\vdots & \\vdots & \\vdots \\\\{{a_{m1}}}&{{a_{m2}}}&{{a_{m3}}}& \\cdots &{{a_{mn}}}\\end{array}} \\right)\n",
    "$$\n",
    "<br>\n",
    "    Las matrices se designan con letras mayúsculas por convención: \n",
    "$$A \\in {\\mathbb{R}^{mxn}}$$\n",
    "    <br>\n",
    "    Y se expresan dentro de paréntesis o con corchetes: \n",
    "$$\n",
    "\\left( {\\begin{array}{*{20}{c}} {\\;} & {\\;} \\\\ {\\;} & {\\;} \\end{array}} \\right) \\;\\;\\; o \\;\\;\\; \\begin{bmatrix} {\\;} & {\\;} \\\\ {\\;} & {\\;} \\end{bmatrix}\n",
    "$$\n",
    "    <br>\n",
    "    El orden o el tamaño de la matriz se expresa con el número de filas ($m$) por el número de columnas ($n$), en un doble subíndice $^{mxn}$. \n",
    "    \n",
    "   El elemento $i,j$ de la matrix se denota por $a_{ij}$, y corresponde al elemento del renglón $i$ y la columna $j$\n",
    "    "
   ]
  },
  {
   "cell_type": "markdown",
   "metadata": {},
   "source": [
    "### Matrices cuadradas, triangulares, diagonales e identidad\n",
    "\n",
    "1. Una **matriz cuadrada** es una matriz que tiene el mismo número de filas y columnas; por ejemplo, una matriz de $3 \\times 3$:\n",
    "\n",
    "$$\n",
    "A = \n",
    "\\begin{bmatrix}\n",
    "  1 & 2 & 3 \\\\\n",
    "  4 & 5 & -5 \\\\\n",
    "  7 & 8 & 9\n",
    "\\end{bmatrix}\n",
    "$$"
   ]
  },
  {
   "cell_type": "code",
   "execution_count": 3,
   "metadata": {},
   "outputs": [
    {
     "name": "stdout",
     "output_type": "stream",
     "text": [
      "Matriz cuadrada A: \n",
      " [[ 1  2  3]\n",
      " [ 4  5 -5]\n",
      " [ 7  8  9]]\n"
     ]
    }
   ],
   "source": [
    "# Crear una matriz cuadrada de orden 3x3. La definimos por renglones: \n",
    "A=np.array([[1,2,3],\n",
    "          [4,5,-5],\n",
    "          [7,8,9]])\n",
    "\n",
    "print(\"Matriz cuadrada A: \\n\",A)"
   ]
  },
  {
   "cell_type": "markdown",
   "metadata": {},
   "source": [
    "2. Una **matriz triangular superior** es una matriz cuadrada donde todos los elementos *debajo* de la diagonal principal son cero:\n",
    "\n",
    "$$\n",
    "\\begin{bmatrix}\n",
    "  1 & 2 & 3 \\\\\n",
    "  0 & 5 & -5 \\\\\n",
    "  0 & 0 & 9\n",
    "\\end{bmatrix}\n",
    "$$"
   ]
  },
  {
   "cell_type": "code",
   "execution_count": 4,
   "metadata": {},
   "outputs": [
    {
     "data": {
      "text/plain": [
       "array([[ 1,  2,  3],\n",
       "       [ 0,  5, -5],\n",
       "       [ 0,  0,  9]])"
      ]
     },
     "execution_count": 4,
     "metadata": {},
     "output_type": "execute_result"
    }
   ],
   "source": [
    "mtz_triangular_superior=np.triu(A)\n",
    "mtz_triangular_superior"
   ]
  },
  {
   "cell_type": "markdown",
   "metadata": {},
   "source": [
    "3. Una **matriz triangular inferior** es una matriz cuadrada donde todos los elementos *arriba* de la diagonal principal son cero:\n",
    "\n",
    "$$\n",
    "\\begin{bmatrix}\n",
    "  1 & 0 & 0 \\\\\n",
    "  4 & 5 & 0 \\\\\n",
    "  7 & 8 & 9\n",
    "\\end{bmatrix}\n",
    "$$"
   ]
  },
  {
   "cell_type": "code",
   "execution_count": 5,
   "metadata": {},
   "outputs": [
    {
     "data": {
      "text/plain": [
       "array([[1, 0, 0],\n",
       "       [4, 5, 0],\n",
       "       [7, 8, 9]])"
      ]
     },
     "execution_count": 5,
     "metadata": {},
     "output_type": "execute_result"
    }
   ],
   "source": [
    "mtz_triangular_inferior=np.tril(A) #triangular lower\n",
    "\n",
    "mtz_triangular_inferior"
   ]
  },
  {
   "cell_type": "markdown",
   "metadata": {},
   "source": [
    "4. Una matriz **matriz diagonal** es una matriz cuadrada tanto triangular superior como inferior:\n",
    "$$\n",
    "\\begin{bmatrix}\n",
    "  1 & 0 & 0 \\\\\n",
    "  0 & 5 & 0 \\\\\n",
    "  0 & 0 & 9\n",
    "\\end{bmatrix}\n",
    "$$"
   ]
  },
  {
   "cell_type": "code",
   "execution_count": 6,
   "metadata": {},
   "outputs": [
    {
     "data": {
      "text/plain": [
       "array([[1, 0, 0],\n",
       "       [0, 5, 0],\n",
       "       [0, 0, 9]])"
      ]
     },
     "execution_count": 6,
     "metadata": {},
     "output_type": "execute_result"
    }
   ],
   "source": [
    "#Crear matriz diagonal: \n",
    "D=np.diag(A)\n",
    "np.diag(D)"
   ]
  },
  {
   "cell_type": "code",
   "execution_count": 10,
   "metadata": {},
   "outputs": [
    {
     "name": "stdout",
     "output_type": "stream",
     "text": [
      "[1 5 9]\n"
     ]
    }
   ],
   "source": [
    "print(D)"
   ]
  },
  {
   "cell_type": "code",
   "execution_count": 12,
   "metadata": {},
   "outputs": [
    {
     "data": {
      "text/plain": [
       "array([1, 5, 9])"
      ]
     },
     "execution_count": 12,
     "metadata": {},
     "output_type": "execute_result"
    }
   ],
   "source": [
    "vector1=np.array([1,5,9])\n",
    "vector1"
   ]
  },
  {
   "cell_type": "code",
   "execution_count": 14,
   "metadata": {},
   "outputs": [
    {
     "data": {
      "text/plain": [
       "array([[1, 0, 0],\n",
       "       [0, 5, 0],\n",
       "       [0, 0, 9]])"
      ]
     },
     "execution_count": 14,
     "metadata": {},
     "output_type": "execute_result"
    }
   ],
   "source": [
    "D2=np.diag(vector1)\n",
    "D2"
   ]
  },
  {
   "cell_type": "code",
   "execution_count": 15,
   "metadata": {},
   "outputs": [
    {
     "name": "stdout",
     "output_type": "stream",
     "text": [
      "[[1 0 0]\n",
      " [0 5 0]\n",
      " [0 0 9]]\n"
     ]
    }
   ],
   "source": [
    "print(D2)"
   ]
  },
  {
   "cell_type": "markdown",
   "metadata": {},
   "source": [
    "5. La **matriz identidad** de tamaño $n$, indicada como $I_n$, es una matriz diagonal de tamaño $n \\times n$ con $1$ en la diagonal principal. \n",
    "\n",
    "    Por ejemplo $I_3$:\n",
    "\n",
    "\\begin{bmatrix}\n",
    "  1 & 0 & 0 \\\\\n",
    "  0 & 1 & 0 \\\\\n",
    "  0 & 0 & 1\n",
    "\\end{bmatrix}"
   ]
  },
  {
   "cell_type": "code",
   "execution_count": 7,
   "metadata": {},
   "outputs": [
    {
     "data": {
      "text/plain": [
       "array([[1., 0., 0.],\n",
       "       [0., 1., 0.],\n",
       "       [0., 0., 1.]])"
      ]
     },
     "execution_count": 7,
     "metadata": {},
     "output_type": "execute_result"
    }
   ],
   "source": [
    "mtz_identidad=np.eye(3)\n",
    "mtz_identidad"
   ]
  },
  {
   "cell_type": "markdown",
   "metadata": {},
   "source": [
    "### Dimensión de una matriz"
   ]
  },
  {
   "cell_type": "markdown",
   "metadata": {},
   "source": [
    "La dimensión de una matriz $A$ se expresa como $m×n$ ($A \\in \\mathbb{R}^{m \\times n}$), donde $m$ es el número de filas y $n$ es el número de columnas.\n",
    "<br><br>\n",
    "Ejemplo de una matriz $A$ de dimensión $2 \\times 3$ ($A \\in \\mathbb{R}^{2 \\times 3}$):\n",
    "\n",
    "$$\n",
    "M = \\begin{bmatrix} 2 & 3 & 1 \\\\ 0 & 5 & -2 \\end{bmatrix}\n",
    "$$\n",
    "\n",
    "Podemos crearlas en NumPy como hemos visto:"
   ]
  },
  {
   "cell_type": "code",
   "execution_count": 8,
   "metadata": {},
   "outputs": [
    {
     "name": "stdout",
     "output_type": "stream",
     "text": [
      "Matriz A: \n",
      " [[ 2  3  1]\n",
      " [ 0  5 -2]]\n"
     ]
    }
   ],
   "source": [
    "#Creamos una matriz A de orden 2x3\n",
    "A=np.array([\n",
    "    [2,3,1],\n",
    "    [0,5,-2]\n",
    "])\n",
    "\n",
    "print(\"Matriz A: \\n\", A)"
   ]
  },
  {
   "cell_type": "code",
   "execution_count": 9,
   "metadata": {},
   "outputs": [
    {
     "data": {
      "text/plain": [
       "(2, 3)"
      ]
     },
     "execution_count": 9,
     "metadata": {},
     "output_type": "execute_result"
    }
   ],
   "source": [
    "#Dimensión de la matriz. \n",
    "dim_A=A.shape\n",
    "dim_A"
   ]
  },
  {
   "cell_type": "markdown",
   "metadata": {},
   "source": [
    "<br><br>\n",
    "* Una matriz $A$ de dimensión u orden $2 \\times 2$ ($A \\in \\mathbb{R}^{2 \\times 2}$):\n",
    "$$\n",
    "A = \\begin{bmatrix} 1 & 2 \\\\ 3 & 4 \\end{bmatrix}\n",
    "$$"
   ]
  },
  {
   "cell_type": "code",
   "execution_count": 16,
   "metadata": {},
   "outputs": [
    {
     "name": "stdout",
     "output_type": "stream",
     "text": [
      "Matriz A: \n",
      " [[1 2]\n",
      " [3 4]]\n"
     ]
    }
   ],
   "source": [
    "#Crear una matriz A de orden 2x2 \n",
    "A=np.array([\n",
    "    [1,2],\n",
    "    [3,4]\n",
    "])\n",
    "print(\"Matriz A: \\n\", A)"
   ]
  },
  {
   "cell_type": "code",
   "execution_count": 17,
   "metadata": {},
   "outputs": [
    {
     "data": {
      "text/plain": [
       "(2, 2)"
      ]
     },
     "execution_count": 17,
     "metadata": {},
     "output_type": "execute_result"
    }
   ],
   "source": [
    "A.shape"
   ]
  },
  {
   "cell_type": "code",
   "execution_count": 18,
   "metadata": {},
   "outputs": [
    {
     "data": {
      "text/plain": [
       "1"
      ]
     },
     "execution_count": 18,
     "metadata": {},
     "output_type": "execute_result"
    }
   ],
   "source": [
    "A[0,0]"
   ]
  },
  {
   "cell_type": "code",
   "execution_count": 19,
   "metadata": {},
   "outputs": [
    {
     "data": {
      "text/plain": [
       "2"
      ]
     },
     "execution_count": 19,
     "metadata": {},
     "output_type": "execute_result"
    }
   ],
   "source": [
    "A[0,1]"
   ]
  },
  {
   "cell_type": "code",
   "execution_count": 22,
   "metadata": {},
   "outputs": [
    {
     "data": {
      "text/plain": [
       "3"
      ]
     },
     "execution_count": 22,
     "metadata": {},
     "output_type": "execute_result"
    }
   ],
   "source": [
    "A[1,0]"
   ]
  },
  {
   "cell_type": "code",
   "execution_count": 23,
   "metadata": {},
   "outputs": [
    {
     "data": {
      "text/plain": [
       "4"
      ]
     },
     "execution_count": 23,
     "metadata": {},
     "output_type": "execute_result"
    }
   ],
   "source": [
    "A[1,1]"
   ]
  },
  {
   "cell_type": "markdown",
   "metadata": {},
   "source": [
    "<br><br>\n",
    "* Matriz $A$ de orden $4 \\times 2$ ($A \\in \\mathbb{R}^{4 \\times 2}$):\n",
    "$$\n",
    "A = \\begin{bmatrix} 1 & 2 \\\\ 3 & 4 \\\\ 5 & 7 \\\\ 8 & 9 \\end{bmatrix}\n",
    "$$"
   ]
  },
  {
   "cell_type": "code",
   "execution_count": 24,
   "metadata": {},
   "outputs": [
    {
     "name": "stdout",
     "output_type": "stream",
     "text": [
      "Matriz A: \n",
      " [[1 2]\n",
      " [3 4]\n",
      " [5 7]\n",
      " [8 9]]\n"
     ]
    }
   ],
   "source": [
    "#Crear una matriz A de orden 4x2 \n",
    "A=np.array([\n",
    "    [1,2],\n",
    "    [3,4],\n",
    "    [5,7],\n",
    "    [8,9]\n",
    "])\n",
    "print(\"Matriz A: \\n\", A)"
   ]
  },
  {
   "cell_type": "code",
   "execution_count": 25,
   "metadata": {},
   "outputs": [
    {
     "data": {
      "text/plain": [
       "(4, 2)"
      ]
     },
     "execution_count": 25,
     "metadata": {},
     "output_type": "execute_result"
    }
   ],
   "source": [
    "A.shape"
   ]
  },
  {
   "cell_type": "markdown",
   "metadata": {},
   "source": [
    "<br><br>\n",
    "* Matriz $A$ de orden $2 \\times 4$ ($A \\in \\mathbb{R}^{2 \\times 4}$):\n",
    "$$\n",
    "A = \\begin{bmatrix} 4 & 3 & 2 & 4 \\\\ 1 & 4 & 1 & 2 \\end{bmatrix}\n",
    "$$"
   ]
  },
  {
   "cell_type": "code",
   "execution_count": 26,
   "metadata": {},
   "outputs": [
    {
     "name": "stdout",
     "output_type": "stream",
     "text": [
      "Matriz A: \n",
      " [[4 3 2 4]\n",
      " [1 4 1 2]]\n"
     ]
    }
   ],
   "source": [
    "#Crear una matriz A de orden 2x4 \n",
    "A=np.array([\n",
    "    [4,3,2,4],\n",
    "    [1,4,1,2]\n",
    "])\n",
    "print(\"Matriz A: \\n\", A)"
   ]
  },
  {
   "cell_type": "code",
   "execution_count": 27,
   "metadata": {},
   "outputs": [
    {
     "data": {
      "text/plain": [
       "(2, 4)"
      ]
     },
     "execution_count": 27,
     "metadata": {},
     "output_type": "execute_result"
    }
   ],
   "source": [
    "A.shape"
   ]
  },
  {
   "cell_type": "code",
   "execution_count": 28,
   "metadata": {},
   "outputs": [
    {
     "data": {
      "text/plain": [
       "2"
      ]
     },
     "execution_count": 28,
     "metadata": {},
     "output_type": "execute_result"
    }
   ],
   "source": [
    "len(A)"
   ]
  },
  {
   "cell_type": "code",
   "execution_count": 29,
   "metadata": {},
   "outputs": [
    {
     "ename": "ValueError",
     "evalue": "setting an array element with a sequence. The requested array has an inhomogeneous shape after 1 dimensions. The detected shape was (2,) + inhomogeneous part.",
     "output_type": "error",
     "traceback": [
      "\u001b[0;31m---------------------------------------------------------------------------\u001b[0m",
      "\u001b[0;31mValueError\u001b[0m                                Traceback (most recent call last)",
      "Cell \u001b[0;32mIn[29], line 1\u001b[0m\n\u001b[0;32m----> 1\u001b[0m A\u001b[38;5;241m=\u001b[39mnp\u001b[38;5;241m.\u001b[39marray([\n\u001b[1;32m      2\u001b[0m     [\u001b[38;5;241m4\u001b[39m,\u001b[38;5;241m3\u001b[39m,\u001b[38;5;241m2\u001b[39m,\u001b[38;5;241m4\u001b[39m],\n\u001b[1;32m      3\u001b[0m     [\u001b[38;5;241m1\u001b[39m,\u001b[38;5;241m4\u001b[39m,\u001b[38;5;241m1\u001b[39m]\n\u001b[1;32m      4\u001b[0m ])\n\u001b[1;32m      5\u001b[0m \u001b[38;5;28mprint\u001b[39m(\u001b[38;5;124m\"\u001b[39m\u001b[38;5;124mMatriz A: \u001b[39m\u001b[38;5;130;01m\\n\u001b[39;00m\u001b[38;5;124m\"\u001b[39m, A)\n",
      "\u001b[0;31mValueError\u001b[0m: setting an array element with a sequence. The requested array has an inhomogeneous shape after 1 dimensions. The detected shape was (2,) + inhomogeneous part."
     ]
    }
   ],
   "source": [
    "A=np.array([\n",
    "    [4,3,2,4],\n",
    "    [1,4,1]\n",
    "])\n",
    "print(\"Matriz A: \\n\", A)"
   ]
  },
  {
   "cell_type": "markdown",
   "metadata": {},
   "source": [
    "## Operaciones básicas con matrices: suma, resta, multiplicación por un escalar\n"
   ]
  },
  {
   "cell_type": "markdown",
   "metadata": {},
   "source": [
    "## 1. Suma de matrices:\n",
    "\n",
    "Se pueden sumar dos matrices $A$ y $B$ si tienen el mismo tamaño $m \\times n$, y el resultado también será una matriz $S^{m \\times n}$.\n",
    "\n",
    "La suma se realiza *elemento a elemento*: $S_{i,j} = A_{i,j} + B_{i,j}$\n",
    "\n",
    "$$S =\n",
    "\\begin{bmatrix}\n",
    "  A_{11} + B_{11} & A_{12} + B_{12} & A_{13} + B_{13} & \\cdots & A_{1n} + B_{1n} \\\\\n",
    "  A_{21} + B_{21} & A_{22} + B_{22} & A_{23} + B_{23} & \\cdots & A_{2n} + B_{2n}  \\\\\n",
    "  A_{31} + B_{31} & A_{32} + B_{32} & A_{33} + B_{33} & \\cdots & A_{3n} + B_{3n}  \\\\\n",
    "  \\vdots & \\vdots & \\vdots & \\ddots & \\vdots \\\\\n",
    "  A_{m1} + B_{m1} & A_{m2} + B_{m2} & A_{m3} + B_{m3} & \\cdots & A_{mn} + B_{mn}  \\\\\n",
    "\\end{bmatrix}$$\n",
    "\n",
    "<br>\n",
    "Por ejemplo, creemos una matriz $S$ de $2 \\times 2$ ($S \\in R^{2 \\times 2}$), y calculemos $A + B$:\n",
    "\n",
    "$$\n",
    "A + B = \\left( {\\begin{array}{*{20}{c}} 1 & 2 \\\\ 3 & 4 \\end{array}} \\right) + \\left( {\\begin{array}{*{20}{c}} 5 & 9 \\\\ 7 & 8 \\end{array}} \\right) = \\begin{bmatrix} 1+5 & 2+9 \\\\ 3+7 & 4+8 \\end{bmatrix} = \\begin{bmatrix} 6 & 11 \\\\ 10 & 12 \\end{bmatrix}\n",
    "$$"
   ]
  },
  {
   "cell_type": "code",
   "execution_count": 30,
   "metadata": {},
   "outputs": [],
   "source": [
    "# Generación de matrices A y B \n",
    "A = np.array([[1,2],[3,4]])\n",
    "B= np.array([[5,9],[7,8]])"
   ]
  },
  {
   "cell_type": "code",
   "execution_count": 32,
   "metadata": {},
   "outputs": [
    {
     "data": {
      "text/plain": [
       "array([[1, 2],\n",
       "       [3, 4]])"
      ]
     },
     "execution_count": 32,
     "metadata": {},
     "output_type": "execute_result"
    }
   ],
   "source": [
    "A"
   ]
  },
  {
   "cell_type": "code",
   "execution_count": 33,
   "metadata": {},
   "outputs": [
    {
     "data": {
      "text/plain": [
       "array([[5, 9],\n",
       "       [7, 8]])"
      ]
     },
     "execution_count": 33,
     "metadata": {},
     "output_type": "execute_result"
    }
   ],
   "source": [
    "B"
   ]
  },
  {
   "cell_type": "code",
   "execution_count": 31,
   "metadata": {},
   "outputs": [
    {
     "data": {
      "text/plain": [
       "array([[ 6, 11],\n",
       "       [10, 12]])"
      ]
     },
     "execution_count": 31,
     "metadata": {},
     "output_type": "execute_result"
    }
   ],
   "source": [
    "#Suma de matrices\n",
    "S= A+B\n",
    "S"
   ]
  },
  {
   "cell_type": "markdown",
   "metadata": {},
   "source": [
    "<br><br>\n",
    "## 2. Resta de matrices:\n",
    "\n",
    "$$\n",
    "A - B = \\left( {\\begin{array}{*{20}{c}} 1 & 2 \\\\ 3 & 4 \\end{array}} \\right) - \\left( {\\begin{array}{*{20}{c}} 2 & 3 \\\\ 0 & 5 \\end{array}} \\right) \n",
    "$$\n",
    "\n",
    "\n",
    "\n",
    "$$\n",
    "C = A - B = \\begin{bmatrix} 1-2 & 2-3 \\\\ 3-0 & 4-5 \\end{bmatrix} = \\begin{bmatrix} -1 & -1 \\\\ 3 & -1 \\end{bmatrix}\n",
    "$$\n",
    "<br>\n",
    "\n",
    "\n",
    "\n",
    "Se pueden restar dos matrices $A$ y $B$ si tienen el mismo tamaño $m \\times n$, y el resultado también será una matriz $S^{m \\times n}$.\n",
    "\n",
    "La diferencia (resta), se realiza *elemento a elemento*: $S_{i,j} = A_{i,j} - B_{i,j} = A + \\left( { – B} \\right)$\n",
    "\n",
    "Por ejemplo, creemos una matriz $S$ de $2 \\times 3$ ($S \\in R^{2 \\times 3}$), y calculemos $A - B$:\n",
    "\n",
    "$$\n",
    "A - B = \\left( {\\begin{array}{*{20}{c}} 1 & 2 \\\\ 3 & 4 \\end{array}} \\right) - \\left( {\\begin{array}{*{20}{c}} 5 & 9 \\\\ 7 & 8 \\end{array}} \\right) = \\begin{bmatrix} 1-5 & 2-9 \\\\ 3-7 & 4-8 \\end{bmatrix} = \\begin{bmatrix} -4 & -7 \\\\ -4 & -4 \\end{bmatrix}\n",
    "$$"
   ]
  },
  {
   "cell_type": "code",
   "execution_count": 34,
   "metadata": {},
   "outputs": [
    {
     "data": {
      "text/plain": [
       "array([[1, 2],\n",
       "       [3, 4]])"
      ]
     },
     "execution_count": 34,
     "metadata": {},
     "output_type": "execute_result"
    }
   ],
   "source": [
    "A"
   ]
  },
  {
   "cell_type": "code",
   "execution_count": 35,
   "metadata": {},
   "outputs": [
    {
     "data": {
      "text/plain": [
       "array([[5, 9],\n",
       "       [7, 8]])"
      ]
     },
     "execution_count": 35,
     "metadata": {},
     "output_type": "execute_result"
    }
   ],
   "source": [
    "B"
   ]
  },
  {
   "cell_type": "code",
   "execution_count": 36,
   "metadata": {},
   "outputs": [
    {
     "data": {
      "text/plain": [
       "array([[-4, -7],\n",
       "       [-4, -4]])"
      ]
     },
     "execution_count": 36,
     "metadata": {},
     "output_type": "execute_result"
    }
   ],
   "source": [
    "R= A-B\n",
    "R"
   ]
  },
  {
   "cell_type": "markdown",
   "metadata": {},
   "source": [
    "<br><br>\n",
    "## 3. Multiplicación por un escalar:\n",
    "\n",
    "Una matriz $A$ se puede multiplicar por un escalar $k$, dando como resultado $k A$ o una matriz $B$ (con el mismo tamaño que $A$). \n",
    "\n",
    "Si $A \\in {\\mathbb{R}^{m \\times n}},\\;k \\in \\mathbb{R}$, entonces:\n",
    "\n",
    "$$\n",
    "kA = B\\; \\in {\\mathbb{R}^{m \\times n}}\\;\\;|\\;\\;\\;{b_{ij}} = k{a_{ij}}\\;\\;\\;\\forall i,j\\;\n",
    "$$\n",
    "\n",
    "Con todos los elementos multiplicados por $k$:\n",
    "\n",
    "$$k A =\n",
    "\\begin{bmatrix}\n",
    "  k \\times A_{11} & k \\times A_{12} & k \\times A_{13} & \\cdots & k \\times A_{1n} \\\\\n",
    "  k \\times A_{21} & k \\times A_{22} & k \\times A_{23} & \\cdots & k \\times A_{2n} \\\\\n",
    "  k \\times A_{31} & k \\times A_{32} & k \\times A_{33} & \\cdots & k \\times A_{3n} \\\\\n",
    "  \\vdots & \\vdots & \\vdots & \\ddots & \\vdots \\\\\n",
    "  k \\times A_{m1} & k \\times A_{m2} & k \\times A_{m3} & \\cdots & k \\times A_{mn} \\\\\n",
    "\\end{bmatrix} = B$$\n",
    "\n",
    "Por ejemplo, creemos una matriz  𝑆\n",
    "  de  2×3\n",
    "  y calculemos  𝐴−𝐵\n",
    " :\n",
    "\n",
    "\n",
    "$$\n",
    "k A = 2 \\times A = 2 \\times \\begin{bmatrix} 1 & 2 \\\\ 3 & 4 \\end{bmatrix} = \\begin{bmatrix} 2\\times1 & 2\\times2 \\\\ 2\\times3 & 2\\times4 \\end{bmatrix} = \\begin{bmatrix} 2 & 4 \\\\ 6 & 8 \\end{bmatrix}\n",
    "$$\n",
    "<br>"
   ]
  },
  {
   "cell_type": "code",
   "execution_count": 37,
   "metadata": {},
   "outputs": [
    {
     "data": {
      "text/plain": [
       "array([[1, 2],\n",
       "       [3, 4]])"
      ]
     },
     "execution_count": 37,
     "metadata": {},
     "output_type": "execute_result"
    }
   ],
   "source": [
    "A"
   ]
  },
  {
   "cell_type": "code",
   "execution_count": 38,
   "metadata": {},
   "outputs": [
    {
     "data": {
      "text/plain": [
       "2"
      ]
     },
     "execution_count": 38,
     "metadata": {},
     "output_type": "execute_result"
    }
   ],
   "source": [
    "# Multiplicar por un escalar\n",
    "scalar=2\n",
    "scalar"
   ]
  },
  {
   "cell_type": "code",
   "execution_count": 39,
   "metadata": {},
   "outputs": [
    {
     "data": {
      "text/plain": [
       "array([[2, 4],\n",
       "       [6, 8]])"
      ]
     },
     "execution_count": 39,
     "metadata": {},
     "output_type": "execute_result"
    }
   ],
   "source": [
    "A_scalar=scalar*A\n",
    "A_scalar"
   ]
  },
  {
   "cell_type": "markdown",
   "metadata": {},
   "source": [
    "### VI. Multiplicación Matricial"
   ]
  },
  {
   "cell_type": "markdown",
   "metadata": {},
   "source": [
    "Una matriz $A \\in R^{m \\times n}$ se puede multiplicar por una matriz $M \\in R^{n \\times p}$; es decir, la cantidad de columnas de la primera matriz $A$ es igual a la cantidad de filas de la segunda matriz $M$.\n",
    "\n",
    "El resultado $C$ es una matriz $m \\times p$ donde cada elemento se calcula como una suma de productos:\n",
    "\n",
    "$$C_{i,j} = \\sum_{k=1}^n{A_{i,k} \\times M_{k,j}}$$\n",
    "\n",
    "La multiplicación matricial se realiza multiplicando cada elemento de una fila de la primera matriz por cada elemento de una columna de la segunda matriz y sumando los resultados. <br><br>Ejemplo de multiplicación de matrices $A$ y $M$:\n",
    "<br>\n",
    "$$\n",
    " C = A M = \\begin{bmatrix} 1 & 2 \\\\ 3 & 4 \\end{bmatrix} \\begin{bmatrix} 2 & 3 & 1 \\\\ 0 & 5 & -2 \\end{bmatrix} = \\begin{bmatrix} 1\\ast2+2\\ast0 & 1\\ast3+2\\ast5 & 1\\ast1+2\\ast(-2) \\\\ 3\\ast2+4\\ast0 & 3\\ast3+4\\ast5 & 3\\ast1+4\\ast(-2) \\end{bmatrix} = \\begin{bmatrix} 2 & 13 & -3 \\\\ 6 & 29 & -5 \\end{bmatrix}\n",
    "$$\n",
    "<br>\n",
    "\n",
    "* En otras palabras: El elemento $i,j$ de la matrix $C$ se obtiene mediante el producto punto del renglón $i$ y la columna $j$\n",
    "<br><br>\n",
    "* La multiplicación de una **matriz por un vector** es totalmente análoga, ya que podemos ver a un vector de dimensión $n$ como una matriz de $n$ x $1$"
   ]
  },
  {
   "cell_type": "markdown",
   "metadata": {},
   "source": [
    "### Multiplicación de una matriz por un vector"
   ]
  },
  {
   "cell_type": "markdown",
   "metadata": {},
   "source": [
    "$$\n",
    "A = \\begin{bmatrix} 1 & 2 & 3 \\\\ 4 & 5 & 6 \\\\ 7 & 8 & 9 \\end{bmatrix} \\quad \\text{y} \\quad \\mathbf{v} = \\begin{bmatrix} 2 \\\\ 1 \\\\ 3 \\end{bmatrix}\n",
    "$$\n",
    "\n",
    "$$\n",
    "A\\mathbf{v} = \\begin{bmatrix} 1 & 2 & 3 \\\\ 4 & 5 & 6 \\\\ 7 & 8 & 9 \\end{bmatrix} \\begin{bmatrix} 2 \\\\ 1 \\\\ 3 \\end{bmatrix} = \\begin{bmatrix} 1(2) + 2(1) + 3(3) \\\\ 4(2) + 5(1) + 6(3) \\\\ 7(2) + 8(1) + 9(3) \\end{bmatrix} = \\begin{bmatrix} 13 \\\\ 31 \\\\ 49 \\end{bmatrix}\n",
    "$$\n"
   ]
  },
  {
   "cell_type": "markdown",
   "metadata": {},
   "source": [
    "Consideramos una matriz $B$ de dimensiones $ 2 \\times 3 $ y un vector $ \\mathbf{w} $ de 3 dimensiones. Ejemplo:\n",
    "\n",
    "$$\n",
    "B = \\begin{bmatrix} 1 & 0 & 2 \\\\ -1 & 3 & 1 \\end{bmatrix}, \\quad \\mathbf{w} = \\begin{bmatrix} 3 \\\\ 4 \\\\ 5 \\end{bmatrix}\n",
    "$$\n",
    "\n",
    "La multiplicación se realiza así:\n",
    "\n",
    "$$\n",
    "B\\mathbf{w} = \\begin{bmatrix} 1 & 0 & 2 \\\\ -1 & 3 & 1 \\end{bmatrix} \\begin{bmatrix} 3 \\\\ 4 \\\\ 5 \\end{bmatrix} = \\begin{bmatrix} 1(3) + 0(4) + 2(5) \\\\ -1(3) + 3(4) + 1(5) \\end{bmatrix} = \\begin{bmatrix} 13 \\\\ 14 \\end{bmatrix}\n",
    "$$\n",
    "\n",
    "* Este resultado muestra cómo una matriz de $ 2 \\times 3 $ puede transformar un vector tridimensional en uno bidimensional. \n",
    "\n",
    "* En términos geométricos, esto puede interpretarse como una proyección o transformación del espacio tridimensional a un espacio bidimensional.\n"
   ]
  },
  {
   "cell_type": "markdown",
   "metadata": {},
   "source": [
    "### Espacio vectorial - noción"
   ]
  },
  {
   "cell_type": "markdown",
   "metadata": {},
   "source": [
    "1. **Espacio Vectorial**: Un espacio vectorial es un conjunto de vectores junto con dos operaciones: la suma de vectores y la multiplicación por un escalar. Para ser un espacio vectorial, debe cumplir con diez axiomas, como la conmutatividad y la asociatividad de la suma, la distributividad de la multiplicación escalar sobre la suma vectorial, entre otros. Un ejemplo clásico es el conjunto de todos los vectores bidimensionales reales, denotado como $ \\mathbb{R}^2 $, donde los vectores tienen la forma $(x, y)$, con $x$ y $y$ siendo números reales.\n",
    "<br>\n",
    "2. **Transformación Lineal**: Una transformación lineal es una función entre dos espacios vectoriales que preserva las operaciones de suma de vectores y multiplicación por escalar. Para una transformación lineal $T$, y cualquier par de vectores $\\mathbf{v}$ y $\\mathbf{w}$ en el espacio vectorial, y cualquier escalar $c$, se cumplen las siguientes propiedades:\n",
    "    - Aditividad: $T(\\mathbf{v} + \\mathbf{w}) = T(\\mathbf{v}) + T(\\mathbf{w})$\n",
    "    - Homogeneidad: $T(c\\mathbf{v}) = cT(\\mathbf{v})$\n",
    "<br>\n",
    "<br>\n",
    "\n",
    "3. **Matriz como Representación de una Transformación Lineal**: Una matriz puede representar una transformación lineal entre dos espacios vectoriales. Una matriz $A$ de tamaño $m \\times n$ actúa como una función que transforma un vector $\\mathbf{v}$ en $\\mathbb{R}^n$ a un vector en $\\mathbb{R}^m$. La multiplicación de matrices cumple con las propiedades de aditividad y homogeneidad, lo que significa que una matriz puede representar cualquier transformación lineal. Por ejemplo, una matriz $2 \\times 2$ puede representar una transformación lineal del plano $\\mathbb{R}^2$ en sí mismo, como una rotación o una dilatación.\n"
   ]
  },
  {
   "cell_type": "markdown",
   "metadata": {},
   "source": [
    "Vamos a ver un ejemplo concreto de una transformación lineal y su representación matricial.\n",
    "\n",
    "Consideremos la transformación lineal: $ \\mathbb{R}^2: -> \\mathbb{R}^2  $ dada por:\n",
    "\n",
    "$$\n",
    "T(x,y) = (y, -x)\n",
    "$$\n",
    "\n",
    "Para cualquier vector en el plano, esta transformación rota el vector 90º en sentido de las manecillas del reloj.\n",
    "<br>\n",
    "La matriz que representa esta transformación es:\n",
    "\n",
    "$$ A = \\begin{bmatrix} 0 & 1 \\\\ -1 & 0 \\end{bmatrix} $$\n",
    "\n",
    "Ejemplo: Tomemos el vector $ \\mathbf{v} = \\begin{bmatrix} 2 \\\\ 3 \\end{bmatrix} $, y multipliquemos $ A $ por $ \\mathbf{v} $:\n",
    "\n",
    "$$ A\\mathbf{v} = \\begin{bmatrix} 0 & 1 \\\\ -1 & 0 \\end{bmatrix} \\begin{bmatrix} 2 \\\\ 3 \\end{bmatrix} = \\begin{bmatrix} 3 \\\\ -2 \\end{bmatrix} $$\n",
    "\n",
    "Esto muestra que al aplicar la matriz $ A $ al vector $ \\mathbf{v} $, obtenemos el vector $ \\begin{bmatrix} 3 \\\\ -2 \\end{bmatrix} $, el cual es el resultado de rotar $ \\mathbf{v} $ 90 grados en sentido horario.\n"
   ]
  },
  {
   "attachments": {
    "matrix%20rotacion%20derecha-2.png": {
     "image/png": "[encoded data removed]"
    }
   },
   "cell_type": "markdown",
   "metadata": {},
   "source": [
    "![matrix%20rotacion%20derecha-2.png](attachment:matrix%20rotacion%20derecha-2.png)"
   ]
  },
  {
   "cell_type": "markdown",
   "metadata": {},
   "source": [
    "La matriz que rota un vector 90 grados en **sentido 'antihorario'** (counter clock-wise) en el plano $ \\mathbb{R}^2 $:\n",
    "\n",
    "$$ R = \\begin{bmatrix} 0 & -1 \\\\ 1 & 0 \\end{bmatrix} $$"
   ]
  },
  {
   "cell_type": "markdown",
   "metadata": {},
   "source": [
    "* En general, cuando multiplicamos un vector por una matriz, el vector original se **rota** en cierto ángulo y se **escala** (se alarga o achica)\n",
    "\n",
    "<br>\n",
    "\n",
    "Tomemos por ejemplo la matriz $ C = \\begin{bmatrix} 1 & -1 \\\\ 2 & 1 \\end{bmatrix}$, y el vector $ \\mathbf{v} = \\begin{bmatrix} 3 \\\\ 2 \\end{bmatrix}$, y calculemos el producto"
   ]
  },
  {
   "attachments": {
    "efecto%20matrix%20mult.png": {
     "image/png": "[encoded data removed]"
    }
   },
   "cell_type": "markdown",
   "metadata": {},
   "source": [
    "![efecto%20matrix%20mult.png](attachment:efecto%20matrix%20mult.png)"
   ]
  },
  {
   "cell_type": "markdown",
   "metadata": {},
   "source": [
    "* Pueden probar con diferentes consiguraciones de una matriz y vector para ver el efecto resultante:"
   ]
  },
  {
   "cell_type": "code",
   "execution_count": 40,
   "metadata": {},
   "outputs": [
    {
     "data": {
      "text/plain": [
       "array([[ 1, -1],\n",
       "       [ 2,  1]])"
      ]
     },
     "execution_count": 40,
     "metadata": {},
     "output_type": "execute_result"
    }
   ],
   "source": [
    "#Definamos matriz y vector\n",
    "C=np.array([[1,-1],[2,1]])\n",
    "C"
   ]
  },
  {
   "cell_type": "code",
   "execution_count": 41,
   "metadata": {},
   "outputs": [
    {
     "data": {
      "text/plain": [
       "array([3, 2])"
      ]
     },
     "execution_count": 41,
     "metadata": {},
     "output_type": "execute_result"
    }
   ],
   "source": [
    "v3=np.array([3,2])\n",
    "v3"
   ]
  },
  {
   "cell_type": "code",
   "execution_count": 42,
   "metadata": {},
   "outputs": [
    {
     "data": {
      "text/plain": [
       "(2,)"
      ]
     },
     "execution_count": 42,
     "metadata": {},
     "output_type": "execute_result"
    }
   ],
   "source": [
    "v3.shape"
   ]
  },
  {
   "cell_type": "code",
   "execution_count": 43,
   "metadata": {},
   "outputs": [
    {
     "data": {
      "text/plain": [
       "array([1, 8])"
      ]
     },
     "execution_count": 43,
     "metadata": {},
     "output_type": "execute_result"
    }
   ],
   "source": [
    "#Vamos a realizar la multiplicación matriz, vector\n",
    "resulting_v3=np.dot(C,v3)\n",
    "resulting_v3"
   ]
  },
  {
   "cell_type": "code",
   "execution_count": 44,
   "metadata": {},
   "outputs": [
    {
     "ename": "ValueError",
     "evalue": "shapes (2,2) and (3,) not aligned: 2 (dim 1) != 3 (dim 0)",
     "output_type": "error",
     "traceback": [
      "\u001b[0;31m---------------------------------------------------------------------------\u001b[0m",
      "\u001b[0;31mValueError\u001b[0m                                Traceback (most recent call last)",
      "Cell \u001b[0;32mIn[44], line 3\u001b[0m\n\u001b[1;32m      1\u001b[0m \u001b[38;5;66;03m#dimensión no compatible\u001b[39;00m\n\u001b[1;32m      2\u001b[0m v4\u001b[38;5;241m=\u001b[39mnp\u001b[38;5;241m.\u001b[39marray([\u001b[38;5;241m1\u001b[39m,\u001b[38;5;241m2\u001b[39m,\u001b[38;5;241m3\u001b[39m])\n\u001b[0;32m----> 3\u001b[0m resulting_v4\u001b[38;5;241m=\u001b[39mnp\u001b[38;5;241m.\u001b[39mdot(C,v4)\n",
      "File \u001b[0;32m<__array_function__ internals>:200\u001b[0m, in \u001b[0;36mdot\u001b[0;34m(*args, **kwargs)\u001b[0m\n",
      "\u001b[0;31mValueError\u001b[0m: shapes (2,2) and (3,) not aligned: 2 (dim 1) != 3 (dim 0)"
     ]
    }
   ],
   "source": [
    "#dimensión no compatible\n",
    "v4=np.array([1,2,3])\n",
    "resulting_v4=np.dot(C,v4)\n",
    "#error"
   ]
  },
  {
   "cell_type": "code",
   "execution_count": 50,
   "metadata": {},
   "outputs": [
    {
     "data": {
      "text/plain": [
       "<matplotlib.legend.Legend at 0x144e694d0>"
      ]
     },
     "execution_count": 50,
     "metadata": {},
     "output_type": "execute_result"
    },
    {
     "data": {
      "image/png": "[encoded data removed]",
      "text/plain": [
       "<Figure size 800x600 with 1 Axes>"
      ]
     },
     "metadata": {},
     "output_type": "display_data"
    }
   ],
   "source": [
    "#Crear la gráfica\n",
    "plt.figure(figsize=(8,6))\n",
    "plt.quiver(0,0,v3[0],v3[1],angles='xy',scale_units='xy',scale=1,color='blue',label=r'$\\mathbf{v}=(3,2)$')\n",
    "plt.quiver(0,0,resulting_v3[0],resulting_v3[1],angles='xy',scale_units='xy',scale=1,color='red',label=r'$\\mathbf{Cv}=(1,8)$')\n",
    "\n",
    "#Límites\n",
    "plt.xlim(-10,10)\n",
    "plt.ylim(-10,10)\n",
    "plt.gca().set_aspect('equal',adjustable='box')\n",
    "\n",
    "#Agregar cuadrícula, etiquetas,títulos y leyendas. \n",
    "plt.grid(True)\n",
    "plt.axhline(y=0,color='k')\n",
    "plt.axvline(x=0,color='k')\n",
    "plt.xlabel('eje X')\n",
    "plt.ylabel('eje Y')\n",
    "plt.title('Efecto de multiplizar la matrix C por el vector (3,2)')\n",
    "plt.legend()"
   ]
  }
 ],
 "metadata": {
  "kernelspec": {
   "display_name": "Python 3 (ipykernel)",
   "language": "python",
   "name": "python3"
  },
  "language_info": {
   "codemirror_mode": {
    "name": "ipython",
    "version": 3
   },
   "file_extension": ".py",
   "mimetype": "text/x-python",
   "name": "python",
   "nbconvert_exporter": "python",
   "pygments_lexer": "ipython3",
   "version": "3.11.5"
  }
 },
 "nbformat": 4,
 "nbformat_minor": 4
}
