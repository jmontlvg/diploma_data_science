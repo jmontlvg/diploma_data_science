{
 "cells": [
  {
   "cell_type": "markdown",
   "metadata": {},
   "source": [
    "### Ejercicios ciclos (ejemplos)"
   ]
  },
  {
   "cell_type": "code",
   "execution_count": 7,
   "metadata": {},
   "outputs": [],
   "source": [
    "import pandas as pd, numpy as np"
   ]
  },
  {
   "cell_type": "code",
   "execution_count": 4,
   "metadata": {},
   "outputs": [],
   "source": [
    "#1. Dada una lista de enteros, obtener el máximo de estos. \n",
    "\n",
    "lista = [-11,-3,7,2,5,11,-31]\n",
    "\n",
    "def maximo(lista):\n",
    "    maxn = lista[0]\n",
    "    for e in lista:\n",
    "        if maxn < e:\n",
    "            maxn = e\n",
    "    return maxn"
   ]
  },
  {
   "cell_type": "code",
   "execution_count": 5,
   "metadata": {},
   "outputs": [
    {
     "data": {
      "text/plain": [
       "11"
      ]
     },
     "execution_count": 5,
     "metadata": {},
     "output_type": "execute_result"
    }
   ],
   "source": [
    "maximo(lista)"
   ]
  },
  {
   "cell_type": "code",
   "execution_count": 6,
   "metadata": {},
   "outputs": [
    {
     "data": {
      "text/plain": [
       "-20"
      ]
     },
     "execution_count": 6,
     "metadata": {},
     "output_type": "execute_result"
    }
   ],
   "source": [
    "#2.Dada una lista, imprimir la suma de los valores de la lista.\n",
    "def suma_elementos(lista):\n",
    "    suma= 0\n",
    "    for e in lista:\n",
    "        suma = suma + e\n",
    "    return (suma)\n",
    "\n",
    "suma_elementos(lista)"
   ]
  },
  {
   "cell_type": "code",
   "execution_count": 8,
   "metadata": {},
   "outputs": [
    {
     "data": {
      "text/plain": [
       "-20"
      ]
     },
     "execution_count": 8,
     "metadata": {},
     "output_type": "execute_result"
    }
   ],
   "source": [
    "#otra solución: usando una Serie:\n",
    "pd.Series(lista).sum()"
   ]
  },
  {
   "cell_type": "code",
   "execution_count": 10,
   "metadata": {},
   "outputs": [
    {
     "name": "stdin",
     "output_type": "stream",
     "text": [
      "ingresa un número entero positivo:  100\n"
     ]
    },
    {
     "name": "stdout",
     "output_type": "stream",
     "text": [
      "\n",
      "\n",
      "la suma entre 1 y 100 es: 5050\n"
     ]
    }
   ],
   "source": [
    "#3. Pedir al usuario un numero entero positivo y calcular la suma de los números entre el 1 y el número dado por el usuario:\n",
    "\n",
    "suma = 0\n",
    "n =int(input(\"ingresa un número entero positivo: \"))\n",
    "for i in range(1, n+1):\n",
    "    suma+=i  #suma = suma + i\n",
    "print('\\n')\n",
    "print(\"la suma entre 1 y\" , n, \"es:\", suma)"
   ]
  },
  {
   "cell_type": "markdown",
   "metadata": {},
   "source": [
    "Algunas veces queremos agrupar dos listas entrada por entrada. Para solucionar este problema en Python podemos usar la función `zip`. Ejemplo:"
   ]
  },
  {
   "cell_type": "code",
   "execution_count": 11,
   "metadata": {},
   "outputs": [
    {
     "name": "stdout",
     "output_type": "stream",
     "text": [
      "{'Apple': 'AAPL', 'Amazon': 'AMZN', 'Meta': 'FB', 'Alphabet': 'GOOG'}\n"
     ]
    }
   ],
   "source": [
    "#4. LLenar un diccionario con un for:\n",
    "tick = ['AAPL', 'AMZN', 'FB', 'GOOG']\n",
    "companies = ['Apple', 'Amazon', 'Meta', 'Alphabet', 'Microsoft']\n",
    "comp_ticker ={} #diccionario para guardar valores\n",
    "for ticker, company in zip(tick,companies):\n",
    "    comp_ticker[company] = ticker\n",
    "print(comp_ticker)"
   ]
  },
  {
   "cell_type": "code",
   "execution_count": null,
   "metadata": {},
   "outputs": [],
   "source": []
  },
  {
   "cell_type": "code",
   "execution_count": null,
   "metadata": {},
   "outputs": [],
   "source": [
    "#fin clase jue 20 junio 2024"
   ]
  }
 ],
 "metadata": {
  "kernelspec": {
   "display_name": "Python 3 (ipykernel)",
   "language": "python",
   "name": "python3"
  },
  "language_info": {
   "codemirror_mode": {
    "name": "ipython",
    "version": 3
   },
   "file_extension": ".py",
   "mimetype": "text/x-python",
   "name": "python",
   "nbconvert_exporter": "python",
   "pygments_lexer": "ipython3",
   "version": "3.11.9"
  }
 },
 "nbformat": 4,
 "nbformat_minor": 4
}
