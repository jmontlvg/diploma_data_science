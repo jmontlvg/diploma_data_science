{
 "cells": [
  {
   "cell_type": "code",
   "execution_count": null,
   "metadata": {},
   "outputs": [],
   "source": [
    "#Clase 24 junio:"
   ]
  },
  {
   "cell_type": "code",
   "execution_count": 1,
   "metadata": {},
   "outputs": [],
   "source": [
    "import pandas as pd, numpy as np"
   ]
  },
  {
   "cell_type": "markdown",
   "metadata": {},
   "source": [
    "### Funciones `lambda`\n",
    "Una función `lambda` es una función anónima que nos permite definir y tratar funciones como si fuesen elementos.\n",
    "\n",
    "Podemos pensar una función lambda como una función compuesta \n",
    "$$ \n",
    "    \\lambda (f(p_1, p_2, \\dots, p_n))\n",
    "$$\n",
    "\n",
    "Las funciones `lambda` pueden ser tratadas como cualquier otro elemento. i.e. no es necesario declararlas para poder usarlas"
   ]
  },
  {
   "cell_type": "code",
   "execution_count": 2,
   "metadata": {},
   "outputs": [
    {
     "data": {
      "text/plain": [
       "9"
      ]
     },
     "execution_count": 2,
     "metadata": {},
     "output_type": "execute_result"
    }
   ],
   "source": [
    "# Tomemos un ejemplo sencillo\n",
    "(lambda x,y: x**y)(3,2)\n",
    "# los parámetros x,y se declaran después de la palabra reservada 'lambda'\n",
    "#Después de los puntos indicamos qué operación realizará la función.\n",
    "# Por último, le pasamod los valores de x y de y\n",
    "\n"
   ]
  },
  {
   "cell_type": "code",
   "execution_count": 3,
   "metadata": {},
   "outputs": [],
   "source": [
    "def potencia(x,y):\n",
    "    return (x**y)"
   ]
  },
  {
   "cell_type": "code",
   "execution_count": 4,
   "metadata": {},
   "outputs": [
    {
     "data": {
      "text/plain": [
       "8"
      ]
     },
     "execution_count": 4,
     "metadata": {},
     "output_type": "execute_result"
    }
   ],
   "source": [
    "potencia(2,3)"
   ]
  },
  {
   "cell_type": "code",
   "execution_count": 5,
   "metadata": {},
   "outputs": [
    {
     "data": {
      "text/plain": [
       "3.4641016151377544"
      ]
     },
     "execution_count": 5,
     "metadata": {},
     "output_type": "execute_result"
    }
   ],
   "source": [
    "# Las funciones lambda nos permiten pasar funciones como parámetros SIN haberlos definido previamente\n",
    "# Composición de funciones fog(x) = f(g(x))\n",
    "\n",
    "#definimos la función f con dos argumentos: g (función) y x\n",
    "\n",
    "def f(g,x):\n",
    "    return 2*g(x)\n",
    "\n",
    "f(lambda y:y**(1/2), 3)\n",
    "#En la función f, mandamos una fn lambda como g; i.e.: x**(1/2) y el valor x=3\n",
    "# entoinces si x=3, g(x) = sqrt(3)*2"
   ]
  },
  {
   "cell_type": "code",
   "execution_count": null,
   "metadata": {},
   "outputs": [],
   "source": []
  },
  {
   "cell_type": "markdown",
   "metadata": {},
   "source": [
    "## filter( )\n",
    "* Se utiliza para crear un iterador de elementos de un iterable para los cuales una función devuelve `True`.\n",
    "\n",
    "* Sintaxis: **`filter( f(), secuencia)`**    --> devuelve los elementos de la secuencia que son **TRUE** bajo las condiciones impuestas por la función `f()`.\n",
    "\n",
    "* Ideal para extraer elementos de una lista (o cualquier iterable) que cumplan ciertas condiciones."
   ]
  },
  {
   "cell_type": "code",
   "execution_count": 6,
   "metadata": {},
   "outputs": [
    {
     "data": {
      "text/html": [
       "<div>\n",
       "<style scoped>\n",
       "    .dataframe tbody tr th:only-of-type {\n",
       "        vertical-align: middle;\n",
       "    }\n",
       "\n",
       "    .dataframe tbody tr th {\n",
       "        vertical-align: top;\n",
       "    }\n",
       "\n",
       "    .dataframe thead th {\n",
       "        text-align: right;\n",
       "    }\n",
       "</style>\n",
       "<table border=\"1\" class=\"dataframe\">\n",
       "  <thead>\n",
       "    <tr style=\"text-align: right;\">\n",
       "      <th></th>\n",
       "      <th>nombre</th>\n",
       "      <th>es_directivo</th>\n",
       "      <th>genero</th>\n",
       "      <th>fh_ant</th>\n",
       "      <th>pct bono</th>\n",
       "      <th>area</th>\n",
       "      <th>salario</th>\n",
       "    </tr>\n",
       "  </thead>\n",
       "  <tbody>\n",
       "    <tr>\n",
       "      <th>0</th>\n",
       "      <td>Ana</td>\n",
       "      <td>False</td>\n",
       "      <td>NaN</td>\n",
       "      <td>1997-04-24</td>\n",
       "      <td>7.719971</td>\n",
       "      <td>sistemas</td>\n",
       "      <td>2133821</td>\n",
       "    </tr>\n",
       "    <tr>\n",
       "      <th>1</th>\n",
       "      <td>Mónica</td>\n",
       "      <td>False</td>\n",
       "      <td>F</td>\n",
       "      <td>2012-06-15</td>\n",
       "      <td>14.231140</td>\n",
       "      <td>corporate investments</td>\n",
       "      <td>339196</td>\n",
       "    </tr>\n",
       "    <tr>\n",
       "      <th>2</th>\n",
       "      <td>Ana</td>\n",
       "      <td>False</td>\n",
       "      <td>F</td>\n",
       "      <td>1985-12-10</td>\n",
       "      <td>10.035779</td>\n",
       "      <td>compras</td>\n",
       "      <td>1886316</td>\n",
       "    </tr>\n",
       "  </tbody>\n",
       "</table>\n",
       "</div>"
      ],
      "text/plain": [
       "   nombre  es_directivo genero     fh_ant   pct bono                   area  \\\n",
       "0     Ana         False    NaN 1997-04-24   7.719971               sistemas   \n",
       "1  Mónica         False      F 2012-06-15  14.231140  corporate investments   \n",
       "2     Ana         False      F 1985-12-10  10.035779                compras   \n",
       "\n",
       "   salario  \n",
       "0  2133821  \n",
       "1   339196  \n",
       "2  1886316  "
      ]
     },
     "execution_count": 6,
     "metadata": {},
     "output_type": "execute_result"
    }
   ],
   "source": [
    "emp = pd.read_csv('empleados_3.csv', parse_dates=['fh_ant'])\n",
    "emp.head(3)"
   ]
  },
  {
   "cell_type": "code",
   "execution_count": 7,
   "metadata": {},
   "outputs": [
    {
     "data": {
      "text/plain": [
       "nombre                  object\n",
       "es_directivo              bool\n",
       "genero                  object\n",
       "fh_ant          datetime64[ns]\n",
       "pct bono               float64\n",
       "area                    object\n",
       "salario                  int64\n",
       "dtype: object"
      ]
     },
     "execution_count": 7,
     "metadata": {},
     "output_type": "execute_result"
    }
   ],
   "source": [
    "emp.dtypes"
   ]
  },
  {
   "cell_type": "code",
   "execution_count": 16,
   "metadata": {},
   "outputs": [
    {
     "data": {
      "text/plain": [
       "(622, 7)"
      ]
     },
     "execution_count": 16,
     "metadata": {},
     "output_type": "execute_result"
    }
   ],
   "source": [
    "emp.shape"
   ]
  },
  {
   "cell_type": "code",
   "execution_count": 8,
   "metadata": {},
   "outputs": [],
   "source": [
    "def is_masc(g):\n",
    "    if g=='M':\n",
    "        return True\n",
    "    else:\n",
    "        return False"
   ]
  },
  {
   "cell_type": "code",
   "execution_count": 11,
   "metadata": {},
   "outputs": [
    {
     "data": {
      "text/plain": [
       "0      M\n",
       "1      M\n",
       "2      M\n",
       "3      M\n",
       "4      M\n",
       "      ..\n",
       "271    M\n",
       "272    M\n",
       "273    M\n",
       "274    M\n",
       "275    M\n",
       "Length: 276, dtype: object"
      ]
     },
     "execution_count": 11,
     "metadata": {},
     "output_type": "execute_result"
    }
   ],
   "source": [
    "pd.Series(list(filter(is_masc, emp.genero))) #regresa los elementos de la col 'genero' que son True bajo lo que indica la fn is_masc."
   ]
  },
  {
   "cell_type": "code",
   "execution_count": 17,
   "metadata": {},
   "outputs": [
    {
     "name": "stdout",
     "output_type": "stream",
     "text": [
      "[2, 4, 6, 8, 10]\n"
     ]
    }
   ],
   "source": [
    "# Ejemplo: de una lista, extraer los números pares: n es par si existe una k tal que n=2k\n",
    "lista = [1,2,3,4,5,6,7,8,9,10]\n",
    "pares = list(filter( lambda x:x%2==0 , lista))\n",
    "print(pares)\n",
    "# filter(func, secuencia): filtrar los elementos de secuencia que son True bajo lo que dicta func."
   ]
  },
  {
   "cell_type": "code",
   "execution_count": 18,
   "metadata": {},
   "outputs": [
    {
     "data": {
      "text/plain": [
       "[1, 3, 5, 7, 9]"
      ]
     },
     "execution_count": 18,
     "metadata": {},
     "output_type": "execute_result"
    }
   ],
   "source": [
    "#Extraer los impares\n",
    "impares = list(filter(lambda x:x%2!=0 , lista))\n",
    "impares"
   ]
  },
  {
   "cell_type": "code",
   "execution_count": 19,
   "metadata": {},
   "outputs": [
    {
     "data": {
      "text/plain": [
       "[1, 3, 5, 7, 9]"
      ]
     },
     "execution_count": 19,
     "metadata": {},
     "output_type": "execute_result"
    }
   ],
   "source": [
    "#Equivalente a lo anterior\n",
    "impares = list(filter(lambda x:~x%2==0 , lista))\n",
    "impares"
   ]
  },
  {
   "cell_type": "code",
   "execution_count": 20,
   "metadata": {},
   "outputs": [
    {
     "data": {
      "text/plain": [
       "['a', 'e', 'i']"
      ]
     },
     "execution_count": 20,
     "metadata": {},
     "output_type": "execute_result"
    }
   ],
   "source": [
    "# definir una función que verifique qué elementos de una lista son vocales\n",
    "def voc(x):\n",
    "    vocales = ['a','e','i','o','u']\n",
    "    if x in vocales:\n",
    "        return True\n",
    "    else:\n",
    "        return False\n",
    "\n",
    "lista = ['m','f','a','b','z','e','i','t']\n",
    "\n",
    "list(filter(voc, lista))\n"
   ]
  },
  {
   "cell_type": "code",
   "execution_count": 21,
   "metadata": {},
   "outputs": [
    {
     "data": {
      "text/plain": [
       "['a', 'e', 'i']"
      ]
     },
     "execution_count": 21,
     "metadata": {},
     "output_type": "execute_result"
    }
   ],
   "source": [
    "vocales = ['a','e','i','o','u']\n",
    "\n",
    "list(filter(lambda x:x in vocales, lista))\n",
    "\n"
   ]
  },
  {
   "cell_type": "code",
   "execution_count": 23,
   "metadata": {},
   "outputs": [
    {
     "data": {
      "text/plain": [
       "[2, 5, 11, 9]"
      ]
     },
     "execution_count": 23,
     "metadata": {},
     "output_type": "execute_result"
    }
   ],
   "source": [
    "# Encontrar la intersección de dos listas utilizando una función lambda\n",
    "lista_1 = [1,2,3,5,7,9,11,12,20]\n",
    "lista_2 = [2,5,11,9,30]\n",
    "\n",
    "list(filter(lambda x:x in lista_1, lista_2)) #filtra los elementos de lista_2 que cumplen con la condición: x:x pertenece a lista_1\n"
   ]
  },
  {
   "cell_type": "code",
   "execution_count": 24,
   "metadata": {},
   "outputs": [
    {
     "data": {
      "text/plain": [
       "[1, 3, 7, 12, 20]"
      ]
     },
     "execution_count": 24,
     "metadata": {},
     "output_type": "execute_result"
    }
   ],
   "source": [
    "# Encontrar lista_1 \\ lista_2. A\\B = A intersección complemento(B)   \n",
    "lista_1 = [1,2,3,5,7,9,11,12,20]\n",
    "lista_2 = [2,5,11,9]\n",
    "\n",
    "list(filter(lambda x:x not in lista_2, lista_1)) #B= lista_2, A = lista_1"
   ]
  },
  {
   "cell_type": "code",
   "execution_count": 25,
   "metadata": {},
   "outputs": [
    {
     "data": {
      "text/plain": [
       "['e', 'x', 't']"
      ]
     },
     "execution_count": 25,
     "metadata": {},
     "output_type": "execute_result"
    }
   ],
   "source": [
    "palabra_1 = 'ordinario'\n",
    "palabra_2 = 'extraordinario'\n",
    "\n",
    "list(filter(lambda x:x not in palabra_1, palabra_2))"
   ]
  },
  {
   "cell_type": "code",
   "execution_count": 28,
   "metadata": {},
   "outputs": [],
   "source": [
    "# revisar: list(filter(lambda x:~(x in palabra_1), palabra_2))"
   ]
  },
  {
   "cell_type": "markdown",
   "metadata": {},
   "source": [
    "## `map( )`"
   ]
  },
  {
   "cell_type": "markdown",
   "metadata": {},
   "source": [
    "La función **`map()`** aplica una función f a un iterable X de n elementos entrada por entrada:\n",
    "```python\n",
    "map(f, X) = [f(x1), f(x2), ..., f(xn)]\n",
    "```\n",
    "donde X = (x1, x2, ..., xn)\n",
    "\n",
    "Es decir: `map()`aplica una función a **cada** elemento de un iterable y nos regresa un objeto de tipo map, el \n",
    "\n",
    "cual es un **iterador**. Para ver sus valores los sacamos convirtiéndolos a una lista.\n",
    "\n",
    "* Se usa normalmente para transformar elementos de una colección; e.g.: aplicar una fórmula a cada elemento\n",
    "\n",
    "* Beneficio de usar map(): eficiencia en memoria y cómputo\n"
   ]
  },
  {
   "cell_type": "markdown",
   "metadata": {},
   "source": [
    "#### Ejemplos `map( )`"
   ]
  },
  {
   "cell_type": "code",
   "execution_count": 33,
   "metadata": {},
   "outputs": [
    {
     "data": {
      "text/plain": [
       "[1, 2, 3, 4, 5, 6, 7, 8, 9, 10]"
      ]
     },
     "execution_count": 33,
     "metadata": {},
     "output_type": "execute_result"
    }
   ],
   "source": [
    "list(range(1,11))"
   ]
  },
  {
   "cell_type": "code",
   "execution_count": 29,
   "metadata": {},
   "outputs": [
    {
     "data": {
      "text/plain": [
       "[1, 4, 9, 16, 25, 36, 49, 64, 81, 100]"
      ]
     },
     "execution_count": 29,
     "metadata": {},
     "output_type": "execute_result"
    }
   ],
   "source": [
    "#Ejemplo: elevar al cuadrado cada elemento de un conjunto de valores\n",
    "cuadrados = list(map(lambda x:x**2, range(1,11)))\n",
    "cuadrados"
   ]
  },
  {
   "cell_type": "code",
   "execution_count": 30,
   "metadata": {},
   "outputs": [
    {
     "ename": "AttributeError",
     "evalue": "'range' object has no attribute 'apply'",
     "output_type": "error",
     "traceback": [
      "\u001b[0;31m---------------------------------------------------------------------------\u001b[0m",
      "\u001b[0;31mAttributeError\u001b[0m                            Traceback (most recent call last)",
      "Cell \u001b[0;32mIn[30], line 2\u001b[0m\n\u001b[1;32m      1\u001b[0m rango \u001b[38;5;241m=\u001b[39m \u001b[38;5;28mrange\u001b[39m(\u001b[38;5;241m1\u001b[39m,\u001b[38;5;241m11\u001b[39m)\n\u001b[0;32m----> 2\u001b[0m rango\u001b[38;5;241m.\u001b[39mapply(\u001b[38;5;28;01mlambda\u001b[39;00m x:x\u001b[38;5;241m*\u001b[39m\u001b[38;5;241m*\u001b[39m\u001b[38;5;241m2\u001b[39m)\n",
      "\u001b[0;31mAttributeError\u001b[0m: 'range' object has no attribute 'apply'"
     ]
    }
   ],
   "source": [
    "rango = range(1,11)\n",
    "rango.apply(lambda x:x**2) # nos da error porque range no tiene método apply()"
   ]
  },
  {
   "cell_type": "code",
   "execution_count": 31,
   "metadata": {},
   "outputs": [
    {
     "data": {
      "text/plain": [
       "0      1\n",
       "1      4\n",
       "2      9\n",
       "3     16\n",
       "4     25\n",
       "5     36\n",
       "6     49\n",
       "7     64\n",
       "8     81\n",
       "9    100\n",
       "dtype: int64"
      ]
     },
     "execution_count": 31,
     "metadata": {},
     "output_type": "execute_result"
    }
   ],
   "source": [
    "#Funciona si conviertes el rango a una serie\n",
    "pd.Series(rango).apply(lambda x:x**2)"
   ]
  },
  {
   "cell_type": "code",
   "execution_count": 32,
   "metadata": {},
   "outputs": [
    {
     "data": {
      "text/plain": [
       "[11, 13, 15, 17, 19, 21, 23, 25, 27, 29]"
      ]
     },
     "execution_count": 32,
     "metadata": {},
     "output_type": "execute_result"
    }
   ],
   "source": [
    "#Sup queremos aplicar una función donde los argumentos provienen de diferentes rangos\n",
    "# i.e. sup x pertenece a range(a1, b1) y pertenece a range(a2,b2)\n",
    "res = list(map( lambda x,y: x+y, range(1,11), range(10,100)))\n",
    "res"
   ]
  },
  {
   "cell_type": "code",
   "execution_count": 34,
   "metadata": {},
   "outputs": [
    {
     "data": {
      "text/plain": [
       "[5, 7, 9]"
      ]
     },
     "execution_count": 34,
     "metadata": {},
     "output_type": "execute_result"
    }
   ],
   "source": [
    "#Sumar elementos de dos listas:\n",
    "lista_1 = [1,2,3]\n",
    "lista_2 = [4,5,6]\n",
    "list(map(lambda x,y: x+y, lista_1, lista_2))"
   ]
  },
  {
   "cell_type": "code",
   "execution_count": 35,
   "metadata": {},
   "outputs": [
    {
     "data": {
      "text/plain": [
       "[1, 2, 3, 4, 5, 6]"
      ]
     },
     "execution_count": 35,
     "metadata": {},
     "output_type": "execute_result"
    }
   ],
   "source": [
    "#unión de las 2 listas\n",
    "lista_1 + lista_2"
   ]
  },
  {
   "cell_type": "code",
   "execution_count": 38,
   "metadata": {},
   "outputs": [
    {
     "data": {
      "text/plain": [
       "[12, 15, 18]"
      ]
     },
     "execution_count": 38,
     "metadata": {},
     "output_type": "execute_result"
    }
   ],
   "source": [
    "lista_1 = [1,2,3]\n",
    "lista_2 = [4,5,6]\n",
    "lista_3 = [7,8,9]\n",
    "list(map(lambda x,y,z:x+y+z, lista_1, lista_2, lista_3))"
   ]
  },
  {
   "cell_type": "code",
   "execution_count": 39,
   "metadata": {},
   "outputs": [
    {
     "name": "stdout",
     "output_type": "stream",
     "text": [
      "[['l', 'u'], ['m', 'a'], ['m', 'i', 'e'], ['j', 'u', 'e'], ['v', 'i', 'e']]\n"
     ]
    }
   ],
   "source": [
    "lista = ['lu','ma','mie','jue','vie']\n",
    "res = map(list, lista)\n",
    "print(list(res))"
   ]
  },
  {
   "cell_type": "code",
   "execution_count": null,
   "metadata": {},
   "outputs": [],
   "source": []
  },
  {
   "cell_type": "code",
   "execution_count": 40,
   "metadata": {},
   "outputs": [
    {
     "data": {
      "text/plain": [
       "[37.78, 26.67, 25.56, 15.56, 32.22, 0.0]"
      ]
     },
     "execution_count": 40,
     "metadata": {},
     "output_type": "execute_result"
    }
   ],
   "source": [
    "#EL ejemplo de Fahrenheit a Celsius usando map():\n",
    "\n",
    "temp_f = [100,80,78,60,90,32]\n",
    "list(map(lambda x: round((x -32)*5/9,2), temp_f))"
   ]
  },
  {
   "cell_type": "code",
   "execution_count": 41,
   "metadata": {},
   "outputs": [
    {
     "data": {
      "text/plain": [
       "[1, 2, 3]"
      ]
     },
     "execution_count": 41,
     "metadata": {},
     "output_type": "execute_result"
    }
   ],
   "source": [
    "strgs = [\"1\",\"2\",\"3\"]\n",
    "enteros = list(map(int, strgs))\n",
    "enteros"
   ]
  },
  {
   "cell_type": "code",
   "execution_count": 42,
   "metadata": {},
   "outputs": [
    {
     "data": {
      "text/plain": [
       "[5, 4, 5]"
      ]
     },
     "execution_count": 42,
     "metadata": {},
     "output_type": "execute_result"
    }
   ],
   "source": [
    "#encontrar la longitud de cada palabra en una lista de palabras:\n",
    "palabras = [\"arbol\",\"mesa\",\"letra\"]\n",
    "list(map(len, palabras))"
   ]
  },
  {
   "cell_type": "code",
   "execution_count": 43,
   "metadata": {},
   "outputs": [
    {
     "data": {
      "text/plain": [
       "[5, 4, 5]"
      ]
     },
     "execution_count": 43,
     "metadata": {},
     "output_type": "execute_result"
    }
   ],
   "source": [
    "list(map(lambda x: len(x), palabras))"
   ]
  },
  {
   "cell_type": "code",
   "execution_count": 44,
   "metadata": {},
   "outputs": [
    {
     "data": {
      "text/plain": [
       "[False, False, True, True, True, True, True, True]"
      ]
     },
     "execution_count": 44,
     "metadata": {},
     "output_type": "execute_result"
    }
   ],
   "source": [
    "#Crea una lista Booleana dependiendo de si un número de una lista es mayor a 2\n",
    "numeros = [1,2,3,4,5,6,7,8]\n",
    "list(map(lambda x:x>2, numeros))"
   ]
  },
  {
   "cell_type": "markdown",
   "metadata": {},
   "source": [
    "## `reduce( )`"
   ]
  },
  {
   "cell_type": "markdown",
   "metadata": {},
   "source": [
    "* Aplica una 'rolling computation' o cálculo acumulativo a pares secuenciales de valores en una lista (o iterable) y los reduce a un solo número\n",
    "* Sintáxis:\n",
    "```python\n",
    "reduce(function, iterable[, initializer])\n",
    "```\n",
    "* Aplica la función de forma acumulativa a los elementos del iterable, de izquiera a derecha."
   ]
  },
  {
   "cell_type": "code",
   "execution_count": 45,
   "metadata": {},
   "outputs": [],
   "source": [
    "from functools import reduce"
   ]
  },
  {
   "cell_type": "markdown",
   "metadata": {},
   "source": [
    "#### Ejemplos `reduce( )`"
   ]
  },
  {
   "cell_type": "code",
   "execution_count": 46,
   "metadata": {},
   "outputs": [
    {
     "data": {
      "text/plain": [
       "15"
      ]
     },
     "execution_count": 46,
     "metadata": {},
     "output_type": "execute_result"
    }
   ],
   "source": [
    "# Define una función que suma dos cantidades:\n",
    "def sumar(x,y):\n",
    "    return x+y\n",
    "\n",
    "lista = [1,2,3,4,5]\n",
    "\n",
    "#usar reduce() para sumar los numeros:\n",
    "res = reduce(sumar, lista)\n",
    "res\n"
   ]
  },
  {
   "cell_type": "code",
   "execution_count": 48,
   "metadata": {},
   "outputs": [
    {
     "data": {
      "text/plain": [
       "102"
      ]
     },
     "execution_count": 48,
     "metadata": {},
     "output_type": "execute_result"
    }
   ],
   "source": [
    "#Encontrando el máximo de una lista:\n",
    "def max_func(a,b):\n",
    "    return a if a > b else b\n",
    "\n",
    "lista = [47,11,42,102,13]\n",
    "maximo = reduce(max_func, lista)\n",
    "maximo"
   ]
  },
  {
   "cell_type": "markdown",
   "metadata": {},
   "source": [
    "#### Ejemplo anterior paso a paso"
   ]
  },
  {
   "cell_type": "markdown",
   "metadata": {},
   "source": [
    "1. Se llama a `max_func(47, 11)`, regresa 47.\n",
    "2. Se llama a `max_func(47, 42)`, regresa 47.\n",
    "3. Se llama a `max_func(47, 102`, regresa 102.\n",
    "4. Se llama a `max_func(102, 13)`,regresa 102."
   ]
  },
  {
   "cell_type": "code",
   "execution_count": 49,
   "metadata": {},
   "outputs": [
    {
     "data": {
      "text/plain": [
       "'Hola a todos Bienvenidos'"
      ]
     },
     "execution_count": 49,
     "metadata": {},
     "output_type": "execute_result"
    }
   ],
   "source": [
    "#Ejemplo: concatenando strings:\n",
    "\n",
    "strings = ['Hola', ' ', 'a', ' ', 'todos', ' ', 'Bienvenidos']\n",
    "\n",
    "# Función para concatenar sólo dos strings\n",
    "\n",
    "def concat(a, b):\n",
    "    return a+b\n",
    "\n",
    "reduce(concat, strings)\n"
   ]
  },
  {
   "cell_type": "markdown",
   "metadata": {},
   "source": [
    "### Otros ejemplos:"
   ]
  },
  {
   "cell_type": "code",
   "execution_count": 50,
   "metadata": {},
   "outputs": [
    {
     "data": {
      "text/plain": [
       "[6, 7]"
      ]
     },
     "execution_count": 50,
     "metadata": {},
     "output_type": "execute_result"
    }
   ],
   "source": [
    "#quiero filtrar los valores mayores a 5 de una secuencia:\n",
    "list(filter(lambda x: (x > 5), (3,4,5,6,7)))"
   ]
  },
  {
   "cell_type": "code",
   "execution_count": 51,
   "metadata": {},
   "outputs": [
    {
     "data": {
      "text/plain": [
       "720"
      ]
     },
     "execution_count": 51,
     "metadata": {},
     "output_type": "execute_result"
    }
   ],
   "source": [
    "#calcular el factorial de un número n (n=6). recordar n! = 1*2*3*...*n\n",
    "reduce(lambda x,y:x*y, [1,2,3,4,5,6])"
   ]
  },
  {
   "cell_type": "markdown",
   "metadata": {},
   "source": [
    "## índice y slicing de un DataFrame"
   ]
  },
  {
   "cell_type": "code",
   "execution_count": 52,
   "metadata": {},
   "outputs": [
    {
     "data": {
      "text/html": [
       "<div>\n",
       "<style scoped>\n",
       "    .dataframe tbody tr th:only-of-type {\n",
       "        vertical-align: middle;\n",
       "    }\n",
       "\n",
       "    .dataframe tbody tr th {\n",
       "        vertical-align: top;\n",
       "    }\n",
       "\n",
       "    .dataframe thead th {\n",
       "        text-align: right;\n",
       "    }\n",
       "</style>\n",
       "<table border=\"1\" class=\"dataframe\">\n",
       "  <thead>\n",
       "    <tr style=\"text-align: right;\">\n",
       "      <th></th>\n",
       "      <th>es_directivo</th>\n",
       "      <th>genero</th>\n",
       "      <th>fh_ant</th>\n",
       "      <th>pct bono</th>\n",
       "      <th>area</th>\n",
       "      <th>salario</th>\n",
       "    </tr>\n",
       "    <tr>\n",
       "      <th>nombre</th>\n",
       "      <th></th>\n",
       "      <th></th>\n",
       "      <th></th>\n",
       "      <th></th>\n",
       "      <th></th>\n",
       "      <th></th>\n",
       "    </tr>\n",
       "  </thead>\n",
       "  <tbody>\n",
       "    <tr>\n",
       "      <th>Ana</th>\n",
       "      <td>False</td>\n",
       "      <td>NaN</td>\n",
       "      <td>1997-04-24</td>\n",
       "      <td>7.719971</td>\n",
       "      <td>sistemas</td>\n",
       "      <td>2133821</td>\n",
       "    </tr>\n",
       "    <tr>\n",
       "      <th>Mónica</th>\n",
       "      <td>False</td>\n",
       "      <td>F</td>\n",
       "      <td>2012-06-15</td>\n",
       "      <td>14.231140</td>\n",
       "      <td>corporate investments</td>\n",
       "      <td>339196</td>\n",
       "    </tr>\n",
       "    <tr>\n",
       "      <th>Ana</th>\n",
       "      <td>False</td>\n",
       "      <td>F</td>\n",
       "      <td>1985-12-10</td>\n",
       "      <td>10.035779</td>\n",
       "      <td>compras</td>\n",
       "      <td>1886316</td>\n",
       "    </tr>\n",
       "    <tr>\n",
       "      <th>Bernardo</th>\n",
       "      <td>False</td>\n",
       "      <td>M</td>\n",
       "      <td>2017-11-26</td>\n",
       "      <td>8.657518</td>\n",
       "      <td>riesgos</td>\n",
       "      <td>3232929</td>\n",
       "    </tr>\n",
       "    <tr>\n",
       "      <th>Laura</th>\n",
       "      <td>True</td>\n",
       "      <td>F</td>\n",
       "      <td>2001-03-16</td>\n",
       "      <td>12.073975</td>\n",
       "      <td>valoración y desarrollo</td>\n",
       "      <td>2378736</td>\n",
       "    </tr>\n",
       "  </tbody>\n",
       "</table>\n",
       "</div>"
      ],
      "text/plain": [
       "          es_directivo genero      fh_ant   pct bono                     area  \\\n",
       "nombre                                                                          \n",
       "Ana              False    NaN  1997-04-24   7.719971                 sistemas   \n",
       "Mónica           False      F  2012-06-15  14.231140    corporate investments   \n",
       "Ana              False      F  1985-12-10  10.035779                  compras   \n",
       "Bernardo         False      M  2017-11-26   8.657518                  riesgos   \n",
       "Laura             True      F  2001-03-16  12.073975  valoración y desarrollo   \n",
       "\n",
       "          salario  \n",
       "nombre             \n",
       "Ana       2133821  \n",
       "Mónica     339196  \n",
       "Ana       1886316  \n",
       "Bernardo  3232929  \n",
       "Laura     2378736  "
      ]
     },
     "execution_count": 52,
     "metadata": {},
     "output_type": "execute_result"
    }
   ],
   "source": [
    "df = pd.read_csv('empleados_3.csv', index_col = 'nombre')\n",
    "df.head()"
   ]
  },
  {
   "cell_type": "code",
   "execution_count": 53,
   "metadata": {},
   "outputs": [
    {
     "data": {
      "text/html": [
       "<div>\n",
       "<style scoped>\n",
       "    .dataframe tbody tr th:only-of-type {\n",
       "        vertical-align: middle;\n",
       "    }\n",
       "\n",
       "    .dataframe tbody tr th {\n",
       "        vertical-align: top;\n",
       "    }\n",
       "\n",
       "    .dataframe thead th {\n",
       "        text-align: right;\n",
       "    }\n",
       "</style>\n",
       "<table border=\"1\" class=\"dataframe\">\n",
       "  <thead>\n",
       "    <tr style=\"text-align: right;\">\n",
       "      <th></th>\n",
       "      <th>nombre</th>\n",
       "      <th>es_directivo</th>\n",
       "      <th>genero</th>\n",
       "      <th>fh_ant</th>\n",
       "      <th>pct bono</th>\n",
       "      <th>area</th>\n",
       "      <th>salario</th>\n",
       "    </tr>\n",
       "  </thead>\n",
       "  <tbody>\n",
       "    <tr>\n",
       "      <th>0</th>\n",
       "      <td>Ana</td>\n",
       "      <td>False</td>\n",
       "      <td>NaN</td>\n",
       "      <td>1997-04-24</td>\n",
       "      <td>7.719971</td>\n",
       "      <td>sistemas</td>\n",
       "      <td>2133821</td>\n",
       "    </tr>\n",
       "    <tr>\n",
       "      <th>1</th>\n",
       "      <td>Mónica</td>\n",
       "      <td>False</td>\n",
       "      <td>F</td>\n",
       "      <td>2012-06-15</td>\n",
       "      <td>14.231140</td>\n",
       "      <td>corporate investments</td>\n",
       "      <td>339196</td>\n",
       "    </tr>\n",
       "    <tr>\n",
       "      <th>2</th>\n",
       "      <td>Ana</td>\n",
       "      <td>False</td>\n",
       "      <td>F</td>\n",
       "      <td>1985-12-10</td>\n",
       "      <td>10.035779</td>\n",
       "      <td>compras</td>\n",
       "      <td>1886316</td>\n",
       "    </tr>\n",
       "    <tr>\n",
       "      <th>3</th>\n",
       "      <td>Bernardo</td>\n",
       "      <td>False</td>\n",
       "      <td>M</td>\n",
       "      <td>2017-11-26</td>\n",
       "      <td>8.657518</td>\n",
       "      <td>riesgos</td>\n",
       "      <td>3232929</td>\n",
       "    </tr>\n",
       "    <tr>\n",
       "      <th>4</th>\n",
       "      <td>Laura</td>\n",
       "      <td>True</td>\n",
       "      <td>F</td>\n",
       "      <td>2001-03-16</td>\n",
       "      <td>12.073975</td>\n",
       "      <td>valoración y desarrollo</td>\n",
       "      <td>2378736</td>\n",
       "    </tr>\n",
       "  </tbody>\n",
       "</table>\n",
       "</div>"
      ],
      "text/plain": [
       "     nombre  es_directivo genero      fh_ant   pct bono  \\\n",
       "0       Ana         False    NaN  1997-04-24   7.719971   \n",
       "1    Mónica         False      F  2012-06-15  14.231140   \n",
       "2       Ana         False      F  1985-12-10  10.035779   \n",
       "3  Bernardo         False      M  2017-11-26   8.657518   \n",
       "4     Laura          True      F  2001-03-16  12.073975   \n",
       "\n",
       "                      area  salario  \n",
       "0                 sistemas  2133821  \n",
       "1    corporate investments   339196  \n",
       "2                  compras  1886316  \n",
       "3                  riesgos  3232929  \n",
       "4  valoración y desarrollo  2378736  "
      ]
     },
     "execution_count": 53,
     "metadata": {},
     "output_type": "execute_result"
    }
   ],
   "source": [
    "df = pd.read_csv('empleados_3.csv')\n",
    "df.head()"
   ]
  },
  {
   "cell_type": "markdown",
   "metadata": {},
   "source": [
    "## set_index()"
   ]
  },
  {
   "cell_type": "code",
   "execution_count": 54,
   "metadata": {},
   "outputs": [
    {
     "data": {
      "text/html": [
       "<div>\n",
       "<style scoped>\n",
       "    .dataframe tbody tr th:only-of-type {\n",
       "        vertical-align: middle;\n",
       "    }\n",
       "\n",
       "    .dataframe tbody tr th {\n",
       "        vertical-align: top;\n",
       "    }\n",
       "\n",
       "    .dataframe thead th {\n",
       "        text-align: right;\n",
       "    }\n",
       "</style>\n",
       "<table border=\"1\" class=\"dataframe\">\n",
       "  <thead>\n",
       "    <tr style=\"text-align: right;\">\n",
       "      <th></th>\n",
       "      <th>es_directivo</th>\n",
       "      <th>genero</th>\n",
       "      <th>fh_ant</th>\n",
       "      <th>pct bono</th>\n",
       "      <th>area</th>\n",
       "      <th>salario</th>\n",
       "    </tr>\n",
       "    <tr>\n",
       "      <th>nombre</th>\n",
       "      <th></th>\n",
       "      <th></th>\n",
       "      <th></th>\n",
       "      <th></th>\n",
       "      <th></th>\n",
       "      <th></th>\n",
       "    </tr>\n",
       "  </thead>\n",
       "  <tbody>\n",
       "    <tr>\n",
       "      <th>Ana</th>\n",
       "      <td>False</td>\n",
       "      <td>NaN</td>\n",
       "      <td>1997-04-24</td>\n",
       "      <td>7.719971</td>\n",
       "      <td>sistemas</td>\n",
       "      <td>2133821</td>\n",
       "    </tr>\n",
       "    <tr>\n",
       "      <th>Mónica</th>\n",
       "      <td>False</td>\n",
       "      <td>F</td>\n",
       "      <td>2012-06-15</td>\n",
       "      <td>14.231140</td>\n",
       "      <td>corporate investments</td>\n",
       "      <td>339196</td>\n",
       "    </tr>\n",
       "    <tr>\n",
       "      <th>Ana</th>\n",
       "      <td>False</td>\n",
       "      <td>F</td>\n",
       "      <td>1985-12-10</td>\n",
       "      <td>10.035779</td>\n",
       "      <td>compras</td>\n",
       "      <td>1886316</td>\n",
       "    </tr>\n",
       "  </tbody>\n",
       "</table>\n",
       "</div>"
      ],
      "text/plain": [
       "        es_directivo genero      fh_ant   pct bono                   area  \\\n",
       "nombre                                                                      \n",
       "Ana            False    NaN  1997-04-24   7.719971               sistemas   \n",
       "Mónica         False      F  2012-06-15  14.231140  corporate investments   \n",
       "Ana            False      F  1985-12-10  10.035779                compras   \n",
       "\n",
       "        salario  \n",
       "nombre           \n",
       "Ana     2133821  \n",
       "Mónica   339196  \n",
       "Ana     1886316  "
      ]
     },
     "execution_count": 54,
     "metadata": {},
     "output_type": "execute_result"
    }
   ],
   "source": [
    "# keys parameter es la columna que quieres como índice:\n",
    "df.set_index(keys = 'nombre', inplace=True)\n",
    "df.head(3)"
   ]
  },
  {
   "cell_type": "markdown",
   "metadata": {},
   "source": [
    "### `reset_index()`"
   ]
  },
  {
   "cell_type": "code",
   "execution_count": 55,
   "metadata": {},
   "outputs": [
    {
     "data": {
      "text/html": [
       "<div>\n",
       "<style scoped>\n",
       "    .dataframe tbody tr th:only-of-type {\n",
       "        vertical-align: middle;\n",
       "    }\n",
       "\n",
       "    .dataframe tbody tr th {\n",
       "        vertical-align: top;\n",
       "    }\n",
       "\n",
       "    .dataframe thead th {\n",
       "        text-align: right;\n",
       "    }\n",
       "</style>\n",
       "<table border=\"1\" class=\"dataframe\">\n",
       "  <thead>\n",
       "    <tr style=\"text-align: right;\">\n",
       "      <th></th>\n",
       "      <th>nombre</th>\n",
       "      <th>es_directivo</th>\n",
       "      <th>genero</th>\n",
       "      <th>fh_ant</th>\n",
       "      <th>pct bono</th>\n",
       "      <th>area</th>\n",
       "      <th>salario</th>\n",
       "    </tr>\n",
       "  </thead>\n",
       "  <tbody>\n",
       "    <tr>\n",
       "      <th>0</th>\n",
       "      <td>Ana</td>\n",
       "      <td>False</td>\n",
       "      <td>NaN</td>\n",
       "      <td>1997-04-24</td>\n",
       "      <td>7.719971</td>\n",
       "      <td>sistemas</td>\n",
       "      <td>2133821</td>\n",
       "    </tr>\n",
       "    <tr>\n",
       "      <th>1</th>\n",
       "      <td>Mónica</td>\n",
       "      <td>False</td>\n",
       "      <td>F</td>\n",
       "      <td>2012-06-15</td>\n",
       "      <td>14.231140</td>\n",
       "      <td>corporate investments</td>\n",
       "      <td>339196</td>\n",
       "    </tr>\n",
       "    <tr>\n",
       "      <th>2</th>\n",
       "      <td>Ana</td>\n",
       "      <td>False</td>\n",
       "      <td>F</td>\n",
       "      <td>1985-12-10</td>\n",
       "      <td>10.035779</td>\n",
       "      <td>compras</td>\n",
       "      <td>1886316</td>\n",
       "    </tr>\n",
       "  </tbody>\n",
       "</table>\n",
       "</div>"
      ],
      "text/plain": [
       "   nombre  es_directivo genero      fh_ant   pct bono                   area  \\\n",
       "0     Ana         False    NaN  1997-04-24   7.719971               sistemas   \n",
       "1  Mónica         False      F  2012-06-15  14.231140  corporate investments   \n",
       "2     Ana         False      F  1985-12-10  10.035779                compras   \n",
       "\n",
       "   salario  \n",
       "0  2133821  \n",
       "1   339196  \n",
       "2  1886316  "
      ]
     },
     "execution_count": 55,
     "metadata": {},
     "output_type": "execute_result"
    }
   ],
   "source": [
    "df.reset_index(inplace=True)\n",
    "df.head(3)"
   ]
  },
  {
   "cell_type": "code",
   "execution_count": 56,
   "metadata": {},
   "outputs": [
    {
     "data": {
      "text/html": [
       "<div>\n",
       "<style scoped>\n",
       "    .dataframe tbody tr th:only-of-type {\n",
       "        vertical-align: middle;\n",
       "    }\n",
       "\n",
       "    .dataframe tbody tr th {\n",
       "        vertical-align: top;\n",
       "    }\n",
       "\n",
       "    .dataframe thead th {\n",
       "        text-align: right;\n",
       "    }\n",
       "</style>\n",
       "<table border=\"1\" class=\"dataframe\">\n",
       "  <thead>\n",
       "    <tr style=\"text-align: right;\">\n",
       "      <th></th>\n",
       "      <th>nombre</th>\n",
       "      <th>es_directivo</th>\n",
       "      <th>genero</th>\n",
       "      <th>fh_ant</th>\n",
       "      <th>pct bono</th>\n",
       "      <th>area</th>\n",
       "      <th>salario</th>\n",
       "    </tr>\n",
       "    <tr>\n",
       "      <th>nombre</th>\n",
       "      <th></th>\n",
       "      <th></th>\n",
       "      <th></th>\n",
       "      <th></th>\n",
       "      <th></th>\n",
       "      <th></th>\n",
       "      <th></th>\n",
       "    </tr>\n",
       "  </thead>\n",
       "  <tbody>\n",
       "    <tr>\n",
       "      <th>Ana</th>\n",
       "      <td>Ana</td>\n",
       "      <td>False</td>\n",
       "      <td>NaN</td>\n",
       "      <td>1997-04-24</td>\n",
       "      <td>7.719971</td>\n",
       "      <td>sistemas</td>\n",
       "      <td>2133821</td>\n",
       "    </tr>\n",
       "    <tr>\n",
       "      <th>Mónica</th>\n",
       "      <td>Mónica</td>\n",
       "      <td>False</td>\n",
       "      <td>F</td>\n",
       "      <td>2012-06-15</td>\n",
       "      <td>14.231140</td>\n",
       "      <td>corporate investments</td>\n",
       "      <td>339196</td>\n",
       "    </tr>\n",
       "    <tr>\n",
       "      <th>Ana</th>\n",
       "      <td>Ana</td>\n",
       "      <td>False</td>\n",
       "      <td>F</td>\n",
       "      <td>1985-12-10</td>\n",
       "      <td>10.035779</td>\n",
       "      <td>compras</td>\n",
       "      <td>1886316</td>\n",
       "    </tr>\n",
       "    <tr>\n",
       "      <th>Bernardo</th>\n",
       "      <td>Bernardo</td>\n",
       "      <td>False</td>\n",
       "      <td>M</td>\n",
       "      <td>2017-11-26</td>\n",
       "      <td>8.657518</td>\n",
       "      <td>riesgos</td>\n",
       "      <td>3232929</td>\n",
       "    </tr>\n",
       "    <tr>\n",
       "      <th>Laura</th>\n",
       "      <td>Laura</td>\n",
       "      <td>True</td>\n",
       "      <td>F</td>\n",
       "      <td>2001-03-16</td>\n",
       "      <td>12.073975</td>\n",
       "      <td>valoración y desarrollo</td>\n",
       "      <td>2378736</td>\n",
       "    </tr>\n",
       "    <tr>\n",
       "      <th>Daniel</th>\n",
       "      <td>Daniel</td>\n",
       "      <td>True</td>\n",
       "      <td>M</td>\n",
       "      <td>2013-12-20</td>\n",
       "      <td>19.613251</td>\n",
       "      <td>staff DG</td>\n",
       "      <td>4364527</td>\n",
       "    </tr>\n",
       "    <tr>\n",
       "      <th>René</th>\n",
       "      <td>René</td>\n",
       "      <td>True</td>\n",
       "      <td>M</td>\n",
       "      <td>2002-04-12</td>\n",
       "      <td>9.363798</td>\n",
       "      <td>sistemas</td>\n",
       "      <td>4770660</td>\n",
       "    </tr>\n",
       "    <tr>\n",
       "      <th>Ignacio</th>\n",
       "      <td>Ignacio</td>\n",
       "      <td>False</td>\n",
       "      <td>M</td>\n",
       "      <td>1987-09-11</td>\n",
       "      <td>17.230757</td>\n",
       "      <td>proyectos</td>\n",
       "      <td>1535389</td>\n",
       "    </tr>\n",
       "  </tbody>\n",
       "</table>\n",
       "</div>"
      ],
      "text/plain": [
       "            nombre  es_directivo genero      fh_ant   pct bono  \\\n",
       "nombre                                                           \n",
       "Ana            Ana         False    NaN  1997-04-24   7.719971   \n",
       "Mónica      Mónica         False      F  2012-06-15  14.231140   \n",
       "Ana            Ana         False      F  1985-12-10  10.035779   \n",
       "Bernardo  Bernardo         False      M  2017-11-26   8.657518   \n",
       "Laura        Laura          True      F  2001-03-16  12.073975   \n",
       "Daniel      Daniel          True      M  2013-12-20  19.613251   \n",
       "René          René          True      M  2002-04-12   9.363798   \n",
       "Ignacio    Ignacio         False      M  1987-09-11  17.230757   \n",
       "\n",
       "                             area  salario  \n",
       "nombre                                      \n",
       "Ana                      sistemas  2133821  \n",
       "Mónica      corporate investments   339196  \n",
       "Ana                       compras  1886316  \n",
       "Bernardo                  riesgos  3232929  \n",
       "Laura     valoración y desarrollo  2378736  \n",
       "Daniel                   staff DG  4364527  \n",
       "René                     sistemas  4770660  \n",
       "Ignacio                 proyectos  1535389  "
      ]
     },
     "execution_count": 56,
     "metadata": {},
     "output_type": "execute_result"
    }
   ],
   "source": [
    "df.set_index(keys = 'nombre', inplace=True, drop=False) #para conservar la columna además de tenerla como índice\n",
    "df.head(8)"
   ]
  },
  {
   "cell_type": "code",
   "execution_count": 57,
   "metadata": {},
   "outputs": [
    {
     "data": {
      "text/html": [
       "<div>\n",
       "<style scoped>\n",
       "    .dataframe tbody tr th:only-of-type {\n",
       "        vertical-align: middle;\n",
       "    }\n",
       "\n",
       "    .dataframe tbody tr th {\n",
       "        vertical-align: top;\n",
       "    }\n",
       "\n",
       "    .dataframe thead th {\n",
       "        text-align: right;\n",
       "    }\n",
       "</style>\n",
       "<table border=\"1\" class=\"dataframe\">\n",
       "  <thead>\n",
       "    <tr style=\"text-align: right;\">\n",
       "      <th></th>\n",
       "      <th>es_directivo</th>\n",
       "      <th>genero</th>\n",
       "      <th>fh_ant</th>\n",
       "      <th>pct bono</th>\n",
       "      <th>area</th>\n",
       "      <th>salario</th>\n",
       "    </tr>\n",
       "    <tr>\n",
       "      <th>nombre</th>\n",
       "      <th></th>\n",
       "      <th></th>\n",
       "      <th></th>\n",
       "      <th></th>\n",
       "      <th></th>\n",
       "      <th></th>\n",
       "    </tr>\n",
       "  </thead>\n",
       "  <tbody>\n",
       "    <tr>\n",
       "      <th>Ana</th>\n",
       "      <td>False</td>\n",
       "      <td>NaN</td>\n",
       "      <td>1997-04-24</td>\n",
       "      <td>7.719971</td>\n",
       "      <td>sistemas</td>\n",
       "      <td>2133821</td>\n",
       "    </tr>\n",
       "    <tr>\n",
       "      <th>Mónica</th>\n",
       "      <td>False</td>\n",
       "      <td>F</td>\n",
       "      <td>2012-06-15</td>\n",
       "      <td>14.231140</td>\n",
       "      <td>corporate investments</td>\n",
       "      <td>339196</td>\n",
       "    </tr>\n",
       "    <tr>\n",
       "      <th>Ana</th>\n",
       "      <td>False</td>\n",
       "      <td>F</td>\n",
       "      <td>1985-12-10</td>\n",
       "      <td>10.035779</td>\n",
       "      <td>compras</td>\n",
       "      <td>1886316</td>\n",
       "    </tr>\n",
       "    <tr>\n",
       "      <th>Bernardo</th>\n",
       "      <td>False</td>\n",
       "      <td>M</td>\n",
       "      <td>2017-11-26</td>\n",
       "      <td>8.657518</td>\n",
       "      <td>riesgos</td>\n",
       "      <td>3232929</td>\n",
       "    </tr>\n",
       "    <tr>\n",
       "      <th>Laura</th>\n",
       "      <td>True</td>\n",
       "      <td>F</td>\n",
       "      <td>2001-03-16</td>\n",
       "      <td>12.073975</td>\n",
       "      <td>valoración y desarrollo</td>\n",
       "      <td>2378736</td>\n",
       "    </tr>\n",
       "  </tbody>\n",
       "</table>\n",
       "</div>"
      ],
      "text/plain": [
       "          es_directivo genero      fh_ant   pct bono                     area  \\\n",
       "nombre                                                                          \n",
       "Ana              False    NaN  1997-04-24   7.719971                 sistemas   \n",
       "Mónica           False      F  2012-06-15  14.231140    corporate investments   \n",
       "Ana              False      F  1985-12-10  10.035779                  compras   \n",
       "Bernardo         False      M  2017-11-26   8.657518                  riesgos   \n",
       "Laura             True      F  2001-03-16  12.073975  valoración y desarrollo   \n",
       "\n",
       "          salario  \n",
       "nombre             \n",
       "Ana       2133821  \n",
       "Mónica     339196  \n",
       "Ana       1886316  \n",
       "Bernardo  3232929  \n",
       "Laura     2378736  "
      ]
     },
     "execution_count": 57,
     "metadata": {},
     "output_type": "execute_result"
    }
   ],
   "source": [
    "df.drop('nombre', axis=1, inplace=True)\n",
    "df.head()"
   ]
  },
  {
   "cell_type": "code",
   "execution_count": 58,
   "metadata": {},
   "outputs": [
    {
     "data": {
      "text/html": [
       "<div>\n",
       "<style scoped>\n",
       "    .dataframe tbody tr th:only-of-type {\n",
       "        vertical-align: middle;\n",
       "    }\n",
       "\n",
       "    .dataframe tbody tr th {\n",
       "        vertical-align: top;\n",
       "    }\n",
       "\n",
       "    .dataframe thead th {\n",
       "        text-align: right;\n",
       "    }\n",
       "</style>\n",
       "<table border=\"1\" class=\"dataframe\">\n",
       "  <thead>\n",
       "    <tr style=\"text-align: right;\">\n",
       "      <th></th>\n",
       "      <th>nombre</th>\n",
       "      <th>es_directivo</th>\n",
       "      <th>genero</th>\n",
       "      <th>fh_ant</th>\n",
       "      <th>pct bono</th>\n",
       "      <th>area</th>\n",
       "      <th>salario</th>\n",
       "    </tr>\n",
       "  </thead>\n",
       "  <tbody>\n",
       "    <tr>\n",
       "      <th>0</th>\n",
       "      <td>Ana</td>\n",
       "      <td>False</td>\n",
       "      <td>NaN</td>\n",
       "      <td>1997-04-24</td>\n",
       "      <td>7.719971</td>\n",
       "      <td>sistemas</td>\n",
       "      <td>2133821</td>\n",
       "    </tr>\n",
       "    <tr>\n",
       "      <th>1</th>\n",
       "      <td>Mónica</td>\n",
       "      <td>False</td>\n",
       "      <td>F</td>\n",
       "      <td>2012-06-15</td>\n",
       "      <td>14.231140</td>\n",
       "      <td>corporate investments</td>\n",
       "      <td>339196</td>\n",
       "    </tr>\n",
       "    <tr>\n",
       "      <th>2</th>\n",
       "      <td>Ana</td>\n",
       "      <td>False</td>\n",
       "      <td>F</td>\n",
       "      <td>1985-12-10</td>\n",
       "      <td>10.035779</td>\n",
       "      <td>compras</td>\n",
       "      <td>1886316</td>\n",
       "    </tr>\n",
       "    <tr>\n",
       "      <th>3</th>\n",
       "      <td>Bernardo</td>\n",
       "      <td>False</td>\n",
       "      <td>M</td>\n",
       "      <td>2017-11-26</td>\n",
       "      <td>8.657518</td>\n",
       "      <td>riesgos</td>\n",
       "      <td>3232929</td>\n",
       "    </tr>\n",
       "    <tr>\n",
       "      <th>4</th>\n",
       "      <td>Laura</td>\n",
       "      <td>True</td>\n",
       "      <td>F</td>\n",
       "      <td>2001-03-16</td>\n",
       "      <td>12.073975</td>\n",
       "      <td>valoración y desarrollo</td>\n",
       "      <td>2378736</td>\n",
       "    </tr>\n",
       "  </tbody>\n",
       "</table>\n",
       "</div>"
      ],
      "text/plain": [
       "     nombre  es_directivo genero      fh_ant   pct bono  \\\n",
       "0       Ana         False    NaN  1997-04-24   7.719971   \n",
       "1    Mónica         False      F  2012-06-15  14.231140   \n",
       "2       Ana         False      F  1985-12-10  10.035779   \n",
       "3  Bernardo         False      M  2017-11-26   8.657518   \n",
       "4     Laura          True      F  2001-03-16  12.073975   \n",
       "\n",
       "                      area  salario  \n",
       "0                 sistemas  2133821  \n",
       "1    corporate investments   339196  \n",
       "2                  compras  1886316  \n",
       "3                  riesgos  3232929  \n",
       "4  valoración y desarrollo  2378736  "
      ]
     },
     "execution_count": 58,
     "metadata": {},
     "output_type": "execute_result"
    }
   ],
   "source": [
    "df.reset_index(inplace=True)\n",
    "df.head()"
   ]
  },
  {
   "cell_type": "code",
   "execution_count": null,
   "metadata": {},
   "outputs": [],
   "source": [
    "# fin clase 24 junio"
   ]
  }
 ],
 "metadata": {
  "kernelspec": {
   "display_name": "Python 3 (ipykernel)",
   "language": "python",
   "name": "python3"
  },
  "language_info": {
   "codemirror_mode": {
    "name": "ipython",
    "version": 3
   },
   "file_extension": ".py",
   "mimetype": "text/x-python",
   "name": "python",
   "nbconvert_exporter": "python",
   "pygments_lexer": "ipython3",
   "version": "3.11.9"
  }
 },
 "nbformat": 4,
 "nbformat_minor": 4
}
