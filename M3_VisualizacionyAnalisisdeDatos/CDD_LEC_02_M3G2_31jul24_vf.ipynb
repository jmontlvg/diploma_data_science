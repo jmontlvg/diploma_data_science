{
 "cells": [
  {
   "cell_type": "markdown",
   "metadata": {},
   "source": [
    "- 31 jul 2024"
   ]
  },
  {
   "cell_type": "code",
   "execution_count": 1,
   "metadata": {},
   "outputs": [],
   "source": [
    "import numpy as np, pandas as pd\n",
    "import scipy.stats as ss\n",
    "from scipy.stats import t\n",
    "import matplotlib.pyplot as plt\n",
    "from math import comb"
   ]
  },
  {
   "cell_type": "markdown",
   "metadata": {},
   "source": [
    "En el caso cuando la media es 0 y la varianza 1, tenemos la distribución **Normal estándar**:\n",
    "\n",
    "$$\n",
    "f(x) = \\frac{1}{\\sqrt{2\\pi}} e^{-\\frac{(x )^2}{2}}\n",
    "$$"
   ]
  },
  {
   "cell_type": "markdown",
   "metadata": {},
   "source": [
    "<img src=\"normal_std.png\" alt=\"Alt text\" style=\"width: 600px;\"/>"
   ]
  },
  {
   "cell_type": "markdown",
   "metadata": {},
   "source": [
    "podemos usar `.ppf()` para saber el valor donde se acumula cierta probabilidad "
   ]
  },
  {
   "cell_type": "code",
   "execution_count": 2,
   "metadata": {},
   "outputs": [
    {
     "name": "stdout",
     "output_type": "stream",
     "text": [
      "-1.9599639845400545\n",
      "1.959963984540054\n",
      "0.0\n"
     ]
    }
   ],
   "source": [
    "normal_z = ss.norm(loc=0, scale=1)\n",
    "print(normal_z.ppf(0.025))\n",
    "print(normal_z.ppf(0.975))\n",
    "print(normal_z.ppf(0.5))"
   ]
  },
  {
   "cell_type": "code",
   "execution_count": 3,
   "metadata": {},
   "outputs": [
    {
     "data": {
      "text/plain": [
       "0.024999999999999977"
      ]
     },
     "execution_count": 3,
     "metadata": {},
     "output_type": "execute_result"
    }
   ],
   "source": [
    "normal_z.cdf(-1.9599639845400545)"
   ]
  },
  {
   "cell_type": "code",
   "execution_count": 4,
   "metadata": {},
   "outputs": [
    {
     "data": {
      "text/plain": [
       "0.975"
      ]
     },
     "execution_count": 4,
     "metadata": {},
     "output_type": "execute_result"
    }
   ],
   "source": [
    "normal_z.cdf(1.9599639845400545)"
   ]
  },
  {
   "cell_type": "code",
   "execution_count": 5,
   "metadata": {},
   "outputs": [
    {
     "data": {
      "text/plain": [
       "count    50000.000000\n",
       "mean         0.005483\n",
       "std          1.000961\n",
       "min         -4.326119\n",
       "25%         -0.670355\n",
       "50%          0.004668\n",
       "75%          0.682791\n",
       "max          4.159680\n",
       "dtype: float64"
      ]
     },
     "execution_count": 5,
     "metadata": {},
     "output_type": "execute_result"
    }
   ],
   "source": [
    "#generando muestras de una distribución normal estándar:\n",
    "datos_normales = normal_z.rvs(size=50000)\n",
    "dn = pd.Series(datos_normales)\n",
    "dn.describe()"
   ]
  },
  {
   "cell_type": "code",
   "execution_count": 6,
   "metadata": {},
   "outputs": [
    {
     "data": {
      "text/plain": [
       "1.9665878505645582"
      ]
     },
     "execution_count": 6,
     "metadata": {},
     "output_type": "execute_result"
    }
   ],
   "source": [
    "#USO DE función quantile() para saber el valor (x) en el que se acumula cierto valor de probabilidad\n",
    "dn.quantile(0.975)"
   ]
  },
  {
   "cell_type": "code",
   "execution_count": 7,
   "metadata": {},
   "outputs": [
    {
     "data": {
      "text/plain": [
       "0.6744897501960817"
      ]
     },
     "execution_count": 7,
     "metadata": {},
     "output_type": "execute_result"
    }
   ],
   "source": [
    "normal_z.ppf(0.75)"
   ]
  },
  {
   "cell_type": "markdown",
   "metadata": {},
   "source": [
    "###  Exponencial\n",
    "\n",
    "La distribución exponencial es una distribución que se utiliza para describir el tiempo que debemos esperar hasta que ocurra un evento. Es comúnmente utilizada en situaciones donde los eventos ocurren de manera aleatoria e independiente, pero a una tasa constante en el tiempo.\n",
    "\n",
    "Un ejemplo es el tiempo que tarda en llegar el próximo cliente a un mostrador de atención, o el tiempo que tarda en fallar un componente electrónico.\n",
    "\n",
    "La distribución exponencial se caracteriza por un parámetro lambda (λ), que es la tasa promedio de ocurrencia del evento por unidad de tiempo. Cuanto mayor sea λ, más frecuentemente ocurre el evento.\n",
    "\n",
    "Su **función de distribución (CDF)** es:\n",
    "\n",
    "![](https://wikimedia.org/api/rest_v1/media/math/render/svg/d055cf11e7e6b868d96d7108787a1492e1c3b890)\n",
    "\n",
    "\n",
    "Su **función de densidad (PDF)** es:\n",
    "\n",
    "![](https://wikimedia.org/api/rest_v1/media/math/render/svg/b348859fe222db6887e8b7d91380a64fe3850738)\n",
    "\n",
    "para x > 0\n"
   ]
  },
  {
   "cell_type": "markdown",
   "metadata": {},
   "source": [
    "#### Ejemplo 1: \n",
    "\n",
    "Si sabemos que llega un cliente a un mostrador cada 10 minutos (en promedio), y podemos modelar la llegada de clientes mediante\n",
    "una distribución exponencial, ¿cuál es la probabilidad de esperar menos de 5 minutos entre clientes?"
   ]
  },
  {
   "cell_type": "code",
   "execution_count": 8,
   "metadata": {
    "scrolled": true
   },
   "outputs": [
    {
     "name": "stdout",
     "output_type": "stream",
     "text": [
      "La probabilidad de esperar menos de 5 minutos entre clientes es: 0.3935\n"
     ]
    }
   ],
   "source": [
    "#definimos la tasa promedio de llegada de clientes (lambda)\n",
    "lambda_ = 1/10 # 1 cliente cada 10 minutos\n",
    "\n",
    "#crear una instancia de una distrib exponencial:\n",
    "dist_exponencial = ss.expon(scale = 1/lambda_) # 1/lambda\n",
    "\n",
    "#Calcular la proba de esperar menos de 5 minutos entre clientes.\n",
    "# P(T<5) = F(5) = cdf(5)\n",
    "prob_menor_5_min = dist_exponencial.cdf(5)\n",
    "\n",
    "\n",
    "print(f\"La probabilidad de esperar menos de 5 minutos entre clientes es: {prob_menor_5_min:.4f}\")"
   ]
  },
  {
   "cell_type": "markdown",
   "metadata": {},
   "source": [
    "#### Ejemplo 2: \n",
    "\n",
    "Ahora supongamos que queremos (y podemos) modelar el tiempo de espera entre llegadas sucesivas de autobuses en una parada mediante una distribución exponencial.  Supongamos que la tasa de llegadas es de  0.1 por minuto (1 cada 10 min). ¿Cual es la probabilidad de esperar menos de 5 minutos?\n"
   ]
  },
  {
   "cell_type": "code",
   "execution_count": 9,
   "metadata": {},
   "outputs": [
    {
     "name": "stdout",
     "output_type": "stream",
     "text": [
      "Probabilidad de esperar menos de 5 minutos entre llegada de autobuses:0.39\n"
     ]
    }
   ],
   "source": [
    "#definimos la tasa promedio de llegada de la distrib exponencial:\n",
    "tasa_llegada = 0.1\n",
    "\n",
    "#crear una instancia de una distrib exponencial:\n",
    "dist_exp= ss.expon(scale = 1/tasa_llegada)\n",
    "\n",
    "#Calcular la prob de esperar menos de 5 minutos:\n",
    "prob_menor_5_min = dist_exp.cdf(5)\n",
    "\n",
    "print(f\"Probabilidad de esperar menos de 5 minutos entre llegada de autobuses:{prob_menor_5_min:.2f}\")"
   ]
  },
  {
   "cell_type": "code",
   "execution_count": 10,
   "metadata": {},
   "outputs": [
    {
     "data": {
      "text/plain": [
       "10.0"
      ]
     },
     "execution_count": 10,
     "metadata": {},
     "output_type": "execute_result"
    }
   ],
   "source": [
    "dist_exp.mean()"
   ]
  },
  {
   "cell_type": "code",
   "execution_count": 11,
   "metadata": {
    "scrolled": true
   },
   "outputs": [
    {
     "data": {
      "image/png": "[encoded data removed]",
      "text/plain": [
       "<Figure size 640x480 with 1 Axes>"
      ]
     },
     "metadata": {},
     "output_type": "display_data"
    }
   ],
   "source": [
    "# Generando muestras de una Distribución exponencial:\n",
    "\n",
    "# Generamos una muestra de tamaño 5000 de tiempos de espera entre llegadas de autobuses\n",
    "muestra_tiempos_espera = dist_exp.rvs(size=5000)\n",
    "\n",
    "# Graficamos la densidad de probabilidad\n",
    "plt.hist(muestra_tiempos_espera, density=True, bins=30, alpha=0.7, color='skyblue', edgecolor='black')\n",
    "plt.title('Distribución Exponencial: Tiempo de espera entre llegada de autobuses')\n",
    "plt.show()"
   ]
  },
  {
   "cell_type": "code",
   "execution_count": null,
   "metadata": {},
   "outputs": [],
   "source": []
  },
  {
   "cell_type": "markdown",
   "metadata": {},
   "source": [
    "### Distribución exponencial para diferentes valores de lambda"
   ]
  },
  {
   "cell_type": "markdown",
   "metadata": {},
   "source": [
    "<img src=\"exponencial_g.png\" alt=\"Alt text\" style=\"width: 600px;\"/>"
   ]
  },
  {
   "cell_type": "markdown",
   "metadata": {},
   "source": [
    "## t de Student\n",
    "La distribución t de Student es una distribución de probabilidad que se utiliza en estadística para estimar parámetros poblacionales cuando el tamaño de la muestra es pequeño y la varianza es desconocida.\n",
    "\n",
    "La distribución t de Student tiene una forma similar a la distribución normal, pero con colas más amplias. Esto significa que en muestras pequeñas, es más probable observar valores extremos.\n",
    "\n",
    "![](https://economipedia.com/wp-content/uploads/Captura-de-pantalla-2019-10-12-a-les-16.13.15.png)\n",
    "\n",
    "Las características principales de la distribución t son:\n",
    "\n",
    "- Simetría alrededor de cero: La distribución t es simétrica alrededor de cero, lo que significa que la media, la mediana y la moda son todas iguales y están en el centro.\n",
    "\n",
    "- Dependencia del tamaño de la muestra: A medida que el tamaño de la muestra aumenta, la distribución t se acerca cada vez más a una distribución normal estándar.\n",
    "\n",
    "- Dependencia de los grados de libertad: La forma de la distribución t depende de los grados de libertad, que están relacionados con el tamaño de la muestra. Cuantos más grados de libertad, más se asemeja la distribución t a una normal.\n",
    "\n",
    "La distribución t de Student nos permite hacer inferencias sobre la media de la población (o de dos poblaciones) cuando el tamaño de la muestra es pequeño y la varianza desconocida.\n",
    "\n",
    "Su **función de densidad (PDF)** es:\n",
    "\n",
    "![](https://wikimedia.org/api/rest_v1/media/math/render/svg/b7166fd67d01274ccaa6c6002822fec5062c898c)\n"
   ]
  },
  {
   "cell_type": "markdown",
   "metadata": {},
   "source": [
    "donde $\\Gamma$ es la función [gamma](https://en.wikipedia.org/wiki/Gamma_function)"
   ]
  },
  {
   "cell_type": "markdown",
   "metadata": {},
   "source": [
    "-- Hasta aquí clase 31 julio"
   ]
  },
  {
   "cell_type": "markdown",
   "metadata": {},
   "source": [
    "## Concepto: Prueba de hipótesis\n",
    "\n",
    "Una prueba de hipótesis es un método estadístico que permite probar suposiciones (hipótesis) sobre un parámetro poblacional basado en datos de una muestra. La esencia de una prueba de hipótesis está en determinar si hay suficiente evidencia en los datos de muestra para apoyar una creencia de interés (hipótesis alternativa) sobre la población de la cual se extrajo la muestra, contra una creencia predeterminada (hipótesis nula).\n",
    "\n",
    "### Términos y conceptos Clave:\n",
    "- **Hipótesis Nula ($H_0$)**: típicamente una declaración de \"sin efecto\" o \"sin diferencia\".\n",
    "- **Hipótesis Alternativa ($H_1$ o $H_a$)**: La afirmación que deseas probar, indicando algún efecto o diferencia.\n",
    "- **Nivel de Significancia ($\\alpha$)**: La probabilidad de rechazar la hipótesis nula cuando es verdadera (error de Tipo I). Las elecciones comunes son 0.05, 0.01.\n",
    "- **Valor P**: La probabilidad, bajo la hipótesis nula, de obtener un resultado igual o más extremo que lo que se observó realmente.\n",
    "- **Decisión**: Rechazas la hipótesis nula si el valor p es menor o igual a $\\alpha$, indicando que los datos observados son inconsistentes con la hipótesis nula.\n",
    "\n",
    "### Ejemplo 1:\n",
    "Imaginemos que tenemos una moneda y queremos probar si es justa (es decir, tiene la misma probabilidad de caer en sol o águila). Configuramos nuestra prueba de hipótesis:\n",
    "\n",
    "- **Hipótesis Nula ($H_0$)**: La moneda es justa ($P(sol) = 0.5$).\n",
    "- **Hipótesis Alternativa ($H_a$)**: La moneda no es justa ($P(sol) \\neq 0.5$).\n",
    "\n",
    "Lanzamos la moneda 100 veces para probar nuestra hipótesis, y observamos 60 soles y 40 águilas.\n",
    "\n",
    "- **Estadístico de Prueba**: Calculamos el número de soles para ver si se desvía \"significativamente\" de lo que esperaríamos con una moneda justa.\n",
    "- **Nivel de Significancia ($\\alpha$)**: Elegimos $\\alpha = 0.05$, indicando que estamos dispuestos a aceptar un 5% de probabilidad de rechazar incorrectamente la hipótesis nula.\n",
    "\n",
    "Después de realizar la prueba estadística (en este caso una prueba binomial), se calcula un valor p.\n",
    "\n",
    "- **Resultado**: Si el valor p es menor que 0.05, rechazamos la hipótesis nula, sugiriendo que la moneda podría no ser justa. Si el valor p es mayor que 0.05, no hay suficiente evidencia para rechazar la hipótesis nula.\n"
   ]
  },
  {
   "cell_type": "code",
   "execution_count": null,
   "metadata": {},
   "outputs": [],
   "source": []
  },
  {
   "cell_type": "code",
   "execution_count": null,
   "metadata": {},
   "outputs": [],
   "source": [
    "# ANDERSON DARLING\n",
    "# KOLMOGOROV SMIRNOFF\n",
    "# JARQUE BERA"
   ]
  },
  {
   "cell_type": "markdown",
   "metadata": {},
   "source": [
    "### Ejemplo 2:\n",
    "Queremos investigar si dos grupos de estudiantes, (uno que estudia con música y otro en silencio), tienen diferentes puntajes promedio en una prueba de matemáticas. Queremos saber si estudiar con música afecta el rendimiento en la prueba, es decir, si la media de los puntajes de los dos grupos es **significativamente diferente**.\n",
    "\n",
    "### Planteamiento de la Hipótesis:\n",
    "\n",
    "- **Hipótesis Nula ($H_0$)**: La media de los puntajes de las pruebas para ambos grupos es igual. Esto se puede expresar como $\\mu_1 = \\mu_2$, donde $\\mu_1$ es la media de los puntajes del grupo que estudia con música y $\\mu_2$ la del grupo que estudia en silencio.\n",
    "  \n",
    "- **Hipótesis Alternativa ($H_a$)**: La media de los puntajes de las pruebas para los dos grupos no es igual, es decir, $\\mu_1 \\neq \\mu_2$.\n",
    "\n",
    "### Datos:\n",
    "\n",
    "Supongamos que realizamos la prueba a 30 estudiantes en cada grupo y obtenemos los siguientes resultados:\n",
    "\n",
    "- Grupo con música: distribución Normal,  con media = 75, Desviación estándar = 10.\n",
    "- Grupo sin música: distribución Normal,  con media = 80, Desviación estándar = 12.\n",
    "\n",
    "### Test Estadístico:\n",
    "\n",
    "Para comparar las medias de dos grupos independientes con distribuciones normales, utilizamos una **prueba t de Student para muestras independientes**. Esta prueba evalúa si las medias de dos grupos son **estadísticamente** diferentes, considerando la variabilidad dentro de cada grupo y el tamaño de las muestras.\n",
    "\n",
    "### Cálculo del Valor p:\n",
    "\n",
    "Se realiza la prueba introduciendo las medias, desviaciones estándar y tamaños de muestra de ambos grupos. Este test proporciona un **valor p**.\n",
    "\n",
    "### Interpretación:\n",
    "\n",
    "- Si el **valor p** es menor que el nivel de significancia elegido ($\\alpha$, por ejemplo, 0.05), rechazamos la hipótesis nula. Esto indicaría que hay suficiente evidencia para afirmar que estudiar con música tiene un efecto significativo en el rendimiento de las pruebas de matemáticas.\n",
    "  \n",
    "- Si el **valor p** es mayor que $\\alpha$, no rechazamos la hipótesis nula. Esto significaría que no hay suficiente evidencia para afirmar que la media de los puntajes de las pruebas difiere entre los dos grupos.\n"
   ]
  },
  {
   "cell_type": "code",
   "execution_count": 67,
   "metadata": {},
   "outputs": [
    {
     "name": "stdout",
     "output_type": "stream",
     "text": [
      "Estadístico t: -2.07\n",
      "Valor p: 0.0427\n",
      "Rechazamos la hipótesis nula: Hay una diferencia significativa entre los grupos.\n"
     ]
    }
   ],
   "source": [
    "#Simular los datos para ambos grupos\n",
    "np.random.seed(42)  # para asegurar reproducibilidad\n",
    "\n",
    "# Datos del grupo que estudia con música\n",
    "mu_musica = 75\n",
    "sigma_musica = 10\n",
    "n_musica = 30\n",
    "grupo_musica = np.random.normal(mu_musica, sigma_musica, n_musica)\n",
    "#Datos del grupo que estudia sin música:\n",
    "\n",
    "mu_sin_musica = 80\n",
    "sigma_sin_musica = 12\n",
    "n_sin_musica = 30\n",
    "grupo_sin_musica = np.random.normal(mu_sin_musica, sigma_sin_musica, n_sin_musica)\n",
    "\n",
    "#Realizar un prueba t para 2 muestras independientes:\n",
    "t_stat, p_val = ss.ttest_ind(grupo_musica, grupo_sin_musica)\n",
    "\n",
    "print(f\"Estadístico t: {t_stat:.2f}\")\n",
    "print(f\"Valor p: {p_val:.4f}\")\n",
    "\n",
    "# Interpretación del resultado\n",
    "alpha = 0.05\n",
    "if p_val < alpha:\n",
    "    print(\"Rechazamos la hipótesis nula: Hay una diferencia significativa entre los grupos.\")\n",
    "else:\n",
    "    print(\"No rechazamos la hipótesis nula: No hay una diferencia significativa entre los grupos.\")\n"
   ]
  },
  {
   "cell_type": "code",
   "execution_count": null,
   "metadata": {},
   "outputs": [],
   "source": []
  },
  {
   "cell_type": "code",
   "execution_count": null,
   "metadata": {},
   "outputs": [],
   "source": [
    "#otra forma de verlo es mediante el estadístico de prueba:\n"
   ]
  },
  {
   "cell_type": "code",
   "execution_count": null,
   "metadata": {},
   "outputs": [],
   "source": [
    "# Si el estadístico de prueba supera el 'valor crítico' determinado por la distribución (y por alpha), \n",
    "# entonces cae en la región de rechazo:"
   ]
  },
  {
   "cell_type": "markdown",
   "metadata": {},
   "source": [
    "<img src=\"student_df.png\" alt=\"Alt text\" style=\"width: 600px;\"/>"
   ]
  },
  {
   "cell_type": "code",
   "execution_count": null,
   "metadata": {},
   "outputs": [],
   "source": [
    "#En nuestro caso, el estadístico de prueba es:"
   ]
  },
  {
   "cell_type": "markdown",
   "metadata": {},
   "source": [
    "<img src=\"estad_t.png\" alt=\"Alt text\" style=\"width: 300px;\"/>"
   ]
  },
  {
   "cell_type": "code",
   "execution_count": 68,
   "metadata": {
    "scrolled": true
   },
   "outputs": [
    {
     "data": {
      "text/plain": [
       "array([79.96714153, 73.61735699, 81.47688538, 90.23029856, 72.65846625,\n",
       "       72.65863043, 90.79212816, 82.67434729, 70.30525614, 80.42560044,\n",
       "       70.36582307, 70.34270246, 77.41962272, 55.86719755, 57.75082167,\n",
       "       69.37712471, 64.8716888 , 78.14247333, 65.91975924, 60.87696299,\n",
       "       89.65648769, 72.742237  , 75.67528205, 60.75251814, 69.55617275,\n",
       "       76.1092259 , 63.49006423, 78.75698018, 68.9936131 , 72.0830625 ])"
      ]
     },
     "execution_count": 68,
     "metadata": {},
     "output_type": "execute_result"
    }
   ],
   "source": [
    "grupo_musica"
   ]
  },
  {
   "cell_type": "code",
   "execution_count": 69,
   "metadata": {},
   "outputs": [
    {
     "data": {
      "text/plain": [
       "73.11853104148963"
      ]
     },
     "execution_count": 69,
     "metadata": {},
     "output_type": "execute_result"
    }
   ],
   "source": [
    "grupo_musica.mean()"
   ]
  },
  {
   "cell_type": "code",
   "execution_count": 70,
   "metadata": {},
   "outputs": [
    {
     "data": {
      "text/plain": [
       "78.5460503565207"
      ]
     },
     "execution_count": 70,
     "metadata": {},
     "output_type": "execute_result"
    }
   ],
   "source": [
    "grupo_sin_musica.mean()"
   ]
  },
  {
   "cell_type": "code",
   "execution_count": 71,
   "metadata": {},
   "outputs": [
    {
     "data": {
      "text/plain": [
       "78.30111837201301"
      ]
     },
     "execution_count": 71,
     "metadata": {},
     "output_type": "execute_result"
    }
   ],
   "source": [
    "grupo_musica.var() #varianza muestral --> s^2"
   ]
  },
  {
   "cell_type": "code",
   "execution_count": 72,
   "metadata": {},
   "outputs": [
    {
     "data": {
      "text/plain": [
       "120.67962134972501"
      ]
     },
     "execution_count": 72,
     "metadata": {},
     "output_type": "execute_result"
    }
   ],
   "source": [
    "grupo_sin_musica.var()"
   ]
  },
  {
   "cell_type": "code",
   "execution_count": 73,
   "metadata": {},
   "outputs": [
    {
     "data": {
      "text/plain": [
       "-2.107446141574803"
      ]
     },
     "execution_count": 73,
     "metadata": {},
     "output_type": "execute_result"
    }
   ],
   "source": [
    "numerador = grupo_musica.mean() - grupo_sin_musica.mean()\n",
    "denominador = np.sqrt(grupo_musica.var()/30 + grupo_sin_musica.var()/30)\n",
    "res = numerador/denominador\n",
    "res"
   ]
  },
  {
   "cell_type": "code",
   "execution_count": 74,
   "metadata": {},
   "outputs": [
    {
     "data": {
      "text/plain": [
       "2.0017174841452356"
      ]
     },
     "execution_count": 74,
     "metadata": {},
     "output_type": "execute_result"
    }
   ],
   "source": [
    "t.ppf(0.975, 58)  #58 = n1+n2 -2 = 60-2 = 58"
   ]
  },
  {
   "cell_type": "code",
   "execution_count": 75,
   "metadata": {},
   "outputs": [
    {
     "data": {
      "text/plain": [
       "True"
      ]
     },
     "execution_count": 75,
     "metadata": {},
     "output_type": "execute_result"
    }
   ],
   "source": [
    "abs(res) > t.ppf(0.025, 2*n_musica-2)"
   ]
  },
  {
   "cell_type": "code",
   "execution_count": 59,
   "metadata": {},
   "outputs": [],
   "source": [
    "## ---> rechazar la hipótesis nula y concluimos que sí hay diferencia"
   ]
  },
  {
   "cell_type": "code",
   "execution_count": 77,
   "metadata": {},
   "outputs": [
    {
     "data": {
      "image/png": "[encoded data removed]",
      "text/plain": [
       "<Figure size 640x480 with 1 Axes>"
      ]
     },
     "metadata": {},
     "output_type": "display_data"
    }
   ],
   "source": [
    "_=plt.hist(grupo_musica, bins=15, color = 'b', alpha=0.6)\n",
    "_=plt.hist(grupo_sin_musica, bins=15, color = 'r', alpha=0.7)"
   ]
  },
  {
   "cell_type": "code",
   "execution_count": null,
   "metadata": {},
   "outputs": [],
   "source": []
  }
 ],
 "metadata": {
  "kernelspec": {
   "display_name": "Python 3 (ipykernel)",
   "language": "python",
   "name": "python3"
  },
  "language_info": {
   "codemirror_mode": {
    "name": "ipython",
    "version": 3
   },
   "file_extension": ".py",
   "mimetype": "text/x-python",
   "name": "python",
   "nbconvert_exporter": "python",
   "pygments_lexer": "ipython3",
   "version": "3.11.9"
  }
 },
 "nbformat": 4,
 "nbformat_minor": 4
}
