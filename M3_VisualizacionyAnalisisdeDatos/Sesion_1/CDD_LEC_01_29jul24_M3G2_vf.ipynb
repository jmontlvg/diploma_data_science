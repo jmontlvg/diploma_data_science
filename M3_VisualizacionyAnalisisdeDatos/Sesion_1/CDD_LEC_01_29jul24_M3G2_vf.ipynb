{
 "cells": [
  {
   "cell_type": "markdown",
   "metadata": {},
   "source": [
    "29 jul 24"
   ]
  },
  {
   "cell_type": "code",
   "execution_count": 2,
   "metadata": {},
   "outputs": [],
   "source": [
    "import numpy as np, pandas as pd\n",
    "import scipy.stats as ss\n",
    "import matplotlib.pyplot as plt\n",
    "from math import comb"
   ]
  },
  {
   "cell_type": "markdown",
   "metadata": {},
   "source": [
    "### Poisson (cont...)"
   ]
  },
  {
   "cell_type": "markdown",
   "metadata": {},
   "source": [
    "** Su Funcion de probabilidad es (PMF)**:\n",
    "\n",
    "$$\n",
    "P(X = k) = \\frac{e^{-\\lambda}\\lambda^k}{k!}\n",
    "$$\n",
    "\n",
    "para k = 0,1,2,3,...."
   ]
  },
  {
   "cell_type": "markdown",
   "metadata": {},
   "source": [
    "Ahora supongamos que el número de enfermos que solicitan atención de urgencia en un \n",
    "hospital durante un periodo de 24 horas tiene una media de 43.2 pacientes. \n",
    "\n",
    "Se sabe que el servicio se colapsará si el número de enfermos excede de 50 al día. \n",
    "¿Cuál es la probabilidad de que se colapse el servicio de urgencias del hospital?"
   ]
  },
  {
   "cell_type": "code",
   "execution_count": 3,
   "metadata": {},
   "outputs": [
    {
     "name": "stdout",
     "output_type": "stream",
     "text": [
      "La probabilidad de que el numero de enfermos exceda de 50 es de: 0.13433200998733597\n"
     ]
    }
   ],
   "source": [
    "# X = número de pacientes enfermos que solicitan atn de urgencia al día\n",
    "#Quiero saber P(X > 50) = 1 - P(X<=50) = 1 - F(50) = 1 - cdf(50)\n",
    "lambda_ = 43.2\n",
    "\n",
    "#defino mi distribución Poisson:\n",
    "dist_poisson = ss.poisson(lambda_)\n",
    "\n",
    "print(\"La probabilidad de que el numero de enfermos exceda de 50 es de:\", 1-dist_poisson.cdf(50))"
   ]
  },
  {
   "cell_type": "markdown",
   "metadata": {},
   "source": [
    "### Concepto: Valor Esperado o Esperanza o Media (caso v.a. discreta)"
   ]
  },
  {
   "cell_type": "markdown",
   "metadata": {},
   "source": [
    "El **valor esperado** de una variable aleatoria discreta representa el valor promedio a largo plazo de la variable después de muchas repeticiones del experimento. \n",
    "\n",
    "* Proporciona una medida de la tendencia central de la distribución y a menudo se denota por $E(X)$, donde $X$ es la variable aleatoria.\n",
    "\n",
    "### Fórmula:\n",
    "\n",
    "Para una variable aleatoria discreta $X$ que puede tomar valores $x_1, x_2, \\ldots, x_n$ con probabilidades $P(X = x_1), P(X = x_2), \\ldots, P(X = x_n)$, el valor esperado $E(X)$ se calcula como:\n",
    "\n",
    "$$\n",
    "E(X) = \\sum_{i=1}^{n} x_i P(X = x_i)\n",
    "$$\n",
    "\n",
    "\n"
   ]
  },
  {
   "cell_type": "code",
   "execution_count": null,
   "metadata": {},
   "outputs": [],
   "source": []
  },
  {
   "cell_type": "markdown",
   "metadata": {},
   "source": [
    "### Ejemplo:\n",
    "\n",
    "Consideremos el lanzamiento simple de un dado. La variable aleatoria $X$ representa el resultado del lanzamiento, que puede tomar valores del 1 al 6, cada uno con una probabilidad de $\\frac{1}{6}$. El valor esperado de $X$ es:\n",
    "\n",
    "$$\n",
    "E(X) = 1\\left(\\frac{1}{6}\\right) + 2\\left(\\frac{1}{6}\\right) + 3\\left(\\frac{1}{6}\\right) + 4\\left(\\frac{1}{6}\\right) + 5\\left(\\frac{1}{6}\\right) + 6\\left(\\frac{1}{6}\\right) = \\frac{21}{6} = 3.5\n",
    "$$\n",
    "\n",
    "Esto significa que, a lo largo de un gran número de lanzamientos de dado, se espera que el resultado promedio sea 3.5. Notemos que aunque 3.5 no es un resultado posible de un solo lanzamiento, representa el promedio de los resultados a lo largo del tiempo.\n"
   ]
  },
  {
   "cell_type": "code",
   "execution_count": 4,
   "metadata": {},
   "outputs": [
    {
     "data": {
      "text/plain": [
       "3.5"
      ]
     },
     "execution_count": 4,
     "metadata": {},
     "output_type": "execute_result"
    }
   ],
   "source": [
    "# Uniforme discreta U{1,2,...,6}\n",
    "a=1\n",
    "b=7\n",
    "\n",
    "\n",
    "#definiendo nuestra distribución Uniforme discreta:\n",
    "uniforme = ss.randint(a,b)\n",
    "uniforme.mean()\n",
    "\n"
   ]
  },
  {
   "cell_type": "code",
   "execution_count": 5,
   "metadata": {},
   "outputs": [
    {
     "data": {
      "text/plain": [
       "3.5"
      ]
     },
     "execution_count": 5,
     "metadata": {},
     "output_type": "execute_result"
    }
   ],
   "source": [
    "# (n+1)/2  -> el valor esperado de una uniforme discreta (n)\n",
    "7/2\n"
   ]
  },
  {
   "cell_type": "markdown",
   "metadata": {},
   "source": [
    "### Concepto: Varianza (caso v.a. discreta)"
   ]
  },
  {
   "cell_type": "markdown",
   "metadata": {},
   "source": [
    "La **varianza** de una variable aleatoria discreta es una medida de la dispersión de sus valores alrededor de la media (valor esperado). Cuantifica cuánto se desvían, en promedio, los valores de la media. La varianza se denota por $\\sigma^2$ o $\\text{Var}(X)$, donde $X$ es la variable aleatoria.\n",
    "\n",
    "### Fórmula:\n",
    "\n",
    "La varianza de una variable aleatoria discreta $X$ con una media de $\\mu = E(X)$ se calcula como:\n",
    "\n",
    "$$\n",
    "\\text{Var}(X) = \\sigma^2 = E\\left[(X - \\mu)^2\\right] = \\sum_{i=1}^{n} (x_i - \\mu)^2 P(X = x_i)\n",
    "$$\n",
    "\n",
    "Donde:\n",
    "- $x_i$ son los posibles valores que $X$ puede tomar.\n",
    "- $\\mu = E(X)$ es la media (valor esperado) de $X$.\n",
    "- $P(X = x_i)$ es la probabilidad de que $X$ tome el valor $x_i$.\n",
    "- La suma se realiza sobre todos los posibles valores de $X$.\n",
    "\n",
    "Esta fórmula significa que para encontrar la varianza, se calcula la diferencia al cuadrado entre cada valor posible de $X$ y la media, se pondera por la probabilidad de que $X$ tome ese valor, y se suman todas estas diferencias al cuadrado ponderadas.\n",
    "\n",
    "### Ejemplo:\n",
    "\n",
    "Lanzamiento de un dado, y $X$ representa el resultado. El valor esperado $\\mu$ es 3.5, Para calcular la varianza, usaríamos la probabilidad de cada resultado (1/6) y su desviación de la media, al cuadrado, resultando en:\n",
    "\n",
    "$$\n",
    "\\text{Var}(X) = \\frac{1}{6}[(1 - 3.5)^2 + (2 - 3.5)^2 + (3 - 3.5)^2 + (4 - 3.5)^2 + (5 - 3.5)^2 + (6 - 3.5)^2]\n",
    "$$\n"
   ]
  },
  {
   "cell_type": "markdown",
   "metadata": {},
   "source": [
    "##### Recordar, la varianza muestral era:\n",
    "\n",
    "$$\n",
    "s^2 = \\sum_{i=1}^{n} \\frac{1}{n}(x_i - \\bar{x})^2 \n",
    "$$"
   ]
  },
  {
   "cell_type": "code",
   "execution_count": null,
   "metadata": {},
   "outputs": [],
   "source": [
    "# -10, -10, -10, -10, -10, -10, -10, -10\n",
    "# 10, 10, 10, 10, 10, 10, 10, 10"
   ]
  },
  {
   "cell_type": "code",
   "execution_count": 6,
   "metadata": {},
   "outputs": [
    {
     "data": {
      "text/plain": [
       "2.9166666666666665"
      ]
     },
     "execution_count": 6,
     "metadata": {},
     "output_type": "execute_result"
    }
   ],
   "source": [
    "#varianza:\n",
    "uniforme.var()"
   ]
  },
  {
   "cell_type": "code",
   "execution_count": 7,
   "metadata": {},
   "outputs": [
    {
     "data": {
      "text/plain": [
       "2.9166666666666665"
      ]
     },
     "execution_count": 7,
     "metadata": {},
     "output_type": "execute_result"
    }
   ],
   "source": [
    "#la varianza de una uniforme discreta (n)\n",
    "#(n^2 -1)/12\n",
    "(6**2-1)/12"
   ]
  },
  {
   "cell_type": "markdown",
   "metadata": {
    "jp-MarkdownHeadingCollapsed": true
   },
   "source": [
    "### Binomial Negativa"
   ]
  },
  {
   "cell_type": "markdown",
   "metadata": {},
   "source": [
    "$X$ = número de **fracasos** que ocurren antes del éxito número $r$.\n",
    "\n",
    "La **Distribución Binomial Negativa** modela el número de ensayos requeridos para lograr un número especificado de éxitos en una secuencia de ensayos tipo Bernoulli.\n",
    "\n",
    "### Características:\n",
    "- Cada ensayo tiene sólo dos posibles resultados (éxito o fracaso).\n",
    "- La probabilidad de éxito, denotada por $p$, es constante en cada ensayo.\n",
    "- El experimento continúa hasta que se han observado $r$ éxitos.\n",
    "\n",
    "### FMP (Función de Masa de Probabilidad):\n",
    "La FMP de una distribución Binomial Negativa, que da la probabilidad de observar $x$ fracasos antes de lograr el éxito $r$-ésimo, se da por:\n",
    "\n",
    "$$\n",
    "P(X = k) = \\binom{k + r - 1}{k} (1-p)^k p^r\n",
    "$$\n",
    "\n",
    "para k = 0,1,2,3,...\n",
    "\n",
    "Donde:\n",
    "- $X$ es el número de fracasos que ocurren antes del éxito número $r$.\n",
    "- $r$ es el número especificado de éxitos.\n",
    "- $p$ es la probabilidad de éxito en cualquier ensayo dado.\n",
    "- $\\binom{k + r - 1}{k}$ es el coeficiente binomial, que representa el número de formas de elegir $k$ fracasos de $k + r - 1$ ensayos, donde no se considera el orden de los éxitos.\n"
   ]
  },
  {
   "cell_type": "markdown",
   "metadata": {},
   "source": [
    "### Ejemplo"
   ]
  },
  {
   "cell_type": "code",
   "execution_count": 13,
   "metadata": {},
   "outputs": [
    {
     "name": "stdout",
     "output_type": "stream",
     "text": [
      "Se necesitaron 0 fracasos (soles) para obtener 3 águilas.\n"
     ]
    }
   ],
   "source": [
    "# Definimos el número de éxitos que estamos buscando (r) y la probabilidad de éxito en cada ensayo (p)\n",
    "\n",
    "r=3  #número de éxitos deseado, ejemplo: número de águilas\n",
    "p = 0.5 #probabilidad de éxito en un solo lanzamiento\n",
    "\n",
    "#Definir nuestra distribución binominal negativa:\n",
    "dist_nbinom = ss.nbinom(r,p)\n",
    "\n",
    "numero_fracasos = dist_nbinom.rvs()\n",
    "\n",
    "\n",
    "print(f\"Se necesitaron {numero_fracasos} fracasos (soles) para obtener 3 águilas.\")"
   ]
  },
  {
   "cell_type": "code",
   "execution_count": 14,
   "metadata": {},
   "outputs": [
    {
     "data": {
      "text/plain": [
       "3.0"
      ]
     },
     "execution_count": 14,
     "metadata": {},
     "output_type": "execute_result"
    }
   ],
   "source": [
    "dist_nbinom.mean()  # r(1-p)/p"
   ]
  },
  {
   "cell_type": "code",
   "execution_count": 15,
   "metadata": {},
   "outputs": [
    {
     "data": {
      "text/plain": [
       "3.0"
      ]
     },
     "execution_count": 15,
     "metadata": {},
     "output_type": "execute_result"
    }
   ],
   "source": [
    "r*(1-p)/p"
   ]
  },
  {
   "cell_type": "markdown",
   "metadata": {},
   "source": [
    "## Distribuciones continuas"
   ]
  },
  {
   "cell_type": "markdown",
   "metadata": {},
   "source": [
    "Una distribución continua se refiere a la manera en que se distribuyen o se reparten los valores posibles de una variable aleatoria que puede tomar cualquier valor dentro de un rango o intervalo en el eje real (v.a. continua). Esto significa que puede haber un número infinito de valores entre cualquier par de valores específicos.\n",
    "\n",
    "Por ejemplo, si estamos hablando de la distancia de un punto en el espacio al centro de la Tierra, ésta puede tomar cualquier valor entre cero y el infinito (incluyendo decimales como 1056.16 KM).\n",
    "\n",
    "Estas distribuciones  son comunes en situaciones como medidas físicas, tiempo, ingresos, etc."
   ]
  },
  {
   "cell_type": "markdown",
   "metadata": {},
   "source": [
    "## Función de Densidad (pdf - probability density function)"
   ]
  },
  {
   "cell_type": "markdown",
   "metadata": {},
   "source": [
    "Una **Función de Densidad de Probabilidad (FDP o pdf)** o simplemente **Función de densidad** es un concepto utilizado en el contexto de variables aleatorias continuas. A diferencia de las variables aleatorias discretas que tienen una función de masa de probabilidad, las variables aleatorias continuas se describen utilizando una función de densidad de probabilidad. La FDP ayuda a entender la distribución de probabilidades a lo largo del rango de posibles valores de una variable continua.\n",
    "\n",
    "### Características una FDP:\n",
    "\n",
    "1. **Definida para Variables Continuas:** Las FDP son aplicables a variables aleatorias continuas, las cuales pueden tomar un número infinito de posibles valores dentro de un rango dado.\n",
    "\n",
    "2. **No Negativa:** Para cualquier valor $x$, la FDP $f(x)$ es no negativa, i.e: $f(x) \\geq 0$ para todos los $x$.\n",
    "\n",
    "3. **El Área Bajo la Curva es Igual a 1:** El área total bajo la curva de la FDP a lo largo de todo el rango de la variable es 1. Esto representa la probabilidad total de todos los resultados.\n",
    "\n",
    "4. **Probabilidad de un Rango:** La probabilidad de que una variable aleatoria continua caiga dentro de un rango específico se da por la integral de la FDP sobre ese rango. Para un rango $[a, b]$, esta probabilidad es $\\int_{a}^{b} f(x) dx$.\n",
    "\n",
    "### Ejemplo: Distribución Normal\n",
    "\n",
    "Un ejemplo  de una FDP es la de una distribución normal. La FDP de la distribución normal, que tiene una media $\\mu$ y varianza $\\sigma^{2}$, se da por:\n",
    "\n",
    "$$\n",
    "f(x) = \\frac{1}{\\sqrt{2\\pi\\sigma^{2}}} e^{-\\frac{(x - \\mu)^2}{2\\sigma^{2}}}\n",
    "$$\n",
    "\n",
    "* $x$ representa los valores de la variable, y $f(x)$ es el valor de la función en x. \n",
    "\n",
    "* El área bajo la curva entre dos puntos $a$ y $b$ da la probabilidad de que la variable caiga dentro de ese rango.\n"
   ]
  },
  {
   "cell_type": "markdown",
   "metadata": {},
   "source": [
    "<img src=\"area_curva.png\" alt=\"Alt text\" style=\"width: 600px;\"/>"
   ]
  },
  {
   "cell_type": "markdown",
   "metadata": {},
   "source": []
  },
  {
   "cell_type": "markdown",
   "metadata": {},
   "source": [
    "### Función de Distribución (caso contínuo)"
   ]
  },
  {
   "cell_type": "markdown",
   "metadata": {
    "jp-MarkdownHeadingCollapsed": true
   },
   "source": [
    "Para una variable aleatoria continua, la **Función de Distribución Acumulada (FDA)** se define como la función que proporciona la probabilidad de que la variable aleatoria $X$ tome un valor menor o igual a $x$. La FDA se denota como $F(x)$ y se define formalmente como:\n",
    "\n",
    "$$\n",
    "F(x) = P(X \\leq x) = \\int_{-\\infty}^{x} f(t) dt\n",
    "$$\n",
    "\n",
    "Donde:\n",
    "- $X$ es una v.a. continua.\n",
    "- $f(t)$ es la función de densidad de probabilidad (FDP) de $X$.\n",
    "- $x$ representa el valor hasta el cual se acumula la probabilidad.\n",
    "- La integral de la FDP $f(t)$ desde el infinito negativo hasta $x$ proporciona la probabilidad acumulada.\n",
    "\n",
    "### Características de la FDA:\n",
    "\n",
    "1. **No Decreciente:** La FDA es una función no decreciente, lo que significa que aumenta o se mantiene constante a medida que $x$ aumenta.\n",
    "\n",
    "2. **Rango Entre 0 y 1:** Para cualquier valor de $x$, la FDA $F(x)$ se encuentra entre 0 y 1. Es decir, $0 \\leq F(x) \\leq 1$.\n",
    "\n",
    "3. **Límites:** \n",
    "   - A medida que $x$ se aproxima al infinito negativo, $F(x)$ se aproxima a 0.\n",
    "   - A medida que $x$ se aproxima al infinito positivo, $F(x)$ se aproxima a 1.\n",
    "\n",
    "4. **Probabilidad de un Intervalo:** La probabilidad de que $X$ caiga dentro de un intervalo $[a, b]$ se puede encontrar usando la FDA: $P(a < X \\leq b) = F(b) - F(a)$.\n"
   ]
  },
  {
   "cell_type": "markdown",
   "metadata": {},
   "source": [
    "### Esperanza (caso contínuo)\n",
    "$$\n",
    "E(X) = \\int_{-\\infty}^{\\infty} x f(x) dx\n",
    "$$\n",
    "\n",
    "donde $f(x)$ es la función de densidad"
   ]
  },
  {
   "cell_type": "markdown",
   "metadata": {},
   "source": [
    "### Varianza (caso continuo)\n",
    "\n",
    "$$\n",
    "\\text{Var}(X) = \\sigma^2 = \\int_{-\\infty}^{\\infty} (x - \\mu)^2 f(x) dx\n",
    "$$"
   ]
  },
  {
   "cell_type": "code",
   "execution_count": null,
   "metadata": {},
   "outputs": [],
   "source": []
  },
  {
   "cell_type": "markdown",
   "metadata": {},
   "source": [
    "## Uniforme  U(a,b)\n",
    "La distribución uniforme **continua** es un modelo de probabilidad que se aplica cuando una variable aleatoria puede tomar cualquier valor en un intervalo específico con igual probabilidad.\n",
    "\n",
    "Imaginemos un segmento de recta que representa todos los posibles valores que puede tomar una variable aleatoria. En una distribución uniforme continua, la probabilidad de que la variable aleatoria caiga en cualquier subintervalo de igual longitud dentro del segmento de recta es la misma para todos los subintervalos.\n",
    "\n",
    "Por ejemplo, si consideramos un intervalo de 0 a 1, la distribución uniforme continua implicaría que la probabilidad de que la variable aleatoria caiga en cualquier subintervalo de longitud 0.1 (como [0.2, 0.3] o [0.6, 0.7]) es la misma.\n",
    "\n",
    "Es importante destacar que en una distribución uniforme continua, la probabilidad de obtener un valor exacto (por ejemplo, 0.5) es en realidad cero. Esto se debe a que hay infinitos valores posibles en un intervalo continuo y asignar una probabilidad exacta a cada uno de ellos sería imposible.\n",
    "\n",
    "La distribución uniforme continua se aplica cuando una variable aleatoria puede tomar cualquier valor en un intervalo específico y todos los valores en ese intervalo tienen la misma probabilidad de ocurrir. Es útil en situaciones donde no hay razón para suponer que algún valor en el intervalo es más probable que otro.\n",
    "\n",
    "Su **funcion de distribución (CDF)** es:\n",
    "\n",
    "![](https://wikimedia.org/api/rest_v1/media/math/render/svg/3a00c220346bd884437de9ece5baf5341b770c11)\n",
    "\n",
    "Su **funcion de densidad es (PDF)** es:\n",
    "\n",
    "![](https://wikimedia.org/api/rest_v1/media/math/render/svg/311412b356ba5e9caf1ef73869da2f9bf3cc9497)\n",
    "\n",
    "para x en el intervalo (a, b)"
   ]
  },
  {
   "cell_type": "code",
   "execution_count": 3,
   "metadata": {
    "scrolled": true
   },
   "outputs": [
    {
     "data": {
      "text/plain": [
       "array([4.56923137, 4.23477669, 4.82253329, 4.29848096, 3.12657411,\n",
       "       4.44939245, 3.95237658, 3.03411721, 4.40922558, 3.54306743,\n",
       "       4.34159985, 3.37861726, 4.48080262, 3.35415892, 4.56647648,\n",
       "       3.46311837, 3.73310962, 4.21121415, 3.55416237, 4.6561265 ,\n",
       "       3.72082081, 4.8149611 , 3.09338081, 3.87538829, 3.54201693,\n",
       "       4.67068772, 3.19013946, 4.56726136, 4.03368747, 3.96364699,\n",
       "       3.89130864, 3.69073369, 3.85226507, 3.11057313, 4.56594928,\n",
       "       4.87392469, 4.02098661, 3.04559958, 3.35729405, 3.29550343,\n",
       "       3.49021147, 4.54128875, 3.23121705, 3.76947663, 4.30982626,\n",
       "       3.47109082, 4.63823754, 4.19961098, 4.43423812, 3.83551943,\n",
       "       3.33424699, 3.33668836, 3.31123741, 3.9951857 , 4.57492958,\n",
       "       4.91589192, 3.35338391, 4.51982486, 4.7727237 , 4.87329311,\n",
       "       3.48665154, 4.85007515, 4.45524825, 3.34176422, 4.53014796,\n",
       "       3.5577582 , 3.06652882, 3.61633258, 4.61772868, 4.91354422,\n",
       "       4.17568139, 4.70501842, 3.72891472, 3.46777669, 4.80133333,\n",
       "       4.33944103, 3.71389484, 4.44317668, 3.95879702, 3.83539399,\n",
       "       4.74781786, 4.76112606, 4.21992674, 4.5179417 , 4.72599542,\n",
       "       4.05097535, 4.83599042, 3.72604017, 4.34286688, 4.29770147,\n",
       "       4.01167323, 3.63804489, 4.43246103, 4.37577074, 4.97003972,\n",
       "       4.47115625, 3.01196407, 3.28650635, 3.21229529, 3.61871312,\n",
       "       3.27018225, 4.28333807, 3.24842213, 4.73779739, 4.3295057 ,\n",
       "       4.78459124, 3.2232955 , 4.11677951, 3.06808763, 4.62403299,\n",
       "       4.82963503, 4.24669664, 4.17882259, 4.57560304, 3.61477522,\n",
       "       3.70510619, 3.51085123, 3.08077745, 4.29076048, 4.24559624,\n",
       "       4.87323621, 4.38466235, 4.51196948, 3.82323474, 4.86462472,\n",
       "       3.44930686, 4.39817317, 3.29169152, 3.91727396, 4.20903717,\n",
       "       3.19536346, 4.39147667, 4.74366991, 3.47130646, 4.28468071,\n",
       "       3.64764839, 3.74548328, 4.1646717 , 4.11918735, 3.20526029,\n",
       "       3.96691289, 4.32067749, 4.60091713, 3.72823251, 3.24072302,\n",
       "       4.52421374, 4.94404622, 4.4598458 , 3.26382139, 4.01349005,\n",
       "       3.82817257, 4.53731797, 4.06013135, 4.08519738, 3.82832947,\n",
       "       3.08696326, 4.10003248, 3.25876642, 4.2662335 , 4.81827311,\n",
       "       3.90411814, 4.19292026, 3.37980737, 3.35445553, 3.82629487,\n",
       "       3.92971727, 4.3054319 , 4.74143359, 4.03480138, 4.9387084 ,\n",
       "       4.34581212, 4.80847275, 3.3348401 , 4.90524778, 3.26934876,\n",
       "       4.15818061, 4.67681603, 3.09666159, 3.65981612, 4.197398  ,\n",
       "       3.09986227, 3.12282537, 3.3562631 , 4.3485063 , 3.62955344,\n",
       "       3.88670962, 4.3831268 , 4.82571264, 3.22476767, 4.09735646,\n",
       "       4.52665403, 3.03572052, 4.05463996, 3.37411831, 4.40426111,\n",
       "       3.12244568, 3.50644141, 4.27272409, 4.54317779, 3.17236285,\n",
       "       4.3069717 , 4.52598595, 4.40121857, 3.81854889, 4.39819963,\n",
       "       3.54794493, 3.18279022, 3.30586619, 4.38879223, 4.58720927,\n",
       "       4.1922353 , 3.26151594, 3.69527653, 4.60776751, 3.98942328,\n",
       "       4.93820529, 4.94414642, 4.10239414, 3.12328474, 3.47083715,\n",
       "       4.11619942, 4.1849608 , 4.86434443, 3.76269642, 3.65607187,\n",
       "       4.64580813, 3.36931931, 4.832728  , 4.04483097, 3.32016519,\n",
       "       3.54889317, 3.66777918, 4.97848092, 4.80625701, 3.36966674,\n",
       "       4.79880729, 4.89056419, 4.57585414, 3.51202099, 3.38523242,\n",
       "       3.22848941, 4.64609877, 4.06143081, 4.77347273, 3.47628695,\n",
       "       3.04266249, 4.17061674, 3.28745729, 3.37152614, 4.08239067,\n",
       "       4.54712815, 3.01017607, 3.05120305, 3.88001183, 3.11061995,\n",
       "       4.08749997, 3.35002171, 3.08537971, 3.93272333, 3.59688787,\n",
       "       4.44995753, 3.6046146 , 3.15366901, 4.60939895, 4.90033224,\n",
       "       4.8154991 , 3.68808604, 4.47197373, 4.59159615, 4.27640517,\n",
       "       3.95151844, 3.74324872, 3.62613676, 3.72635297, 3.48620048,\n",
       "       3.6058058 , 3.62113291, 4.55723289, 3.0441806 , 3.27712315,\n",
       "       4.36902433, 4.64221323, 3.86848528, 3.23294297, 3.08492021,\n",
       "       3.81326187, 4.03211467, 4.67738165, 3.32121496, 3.27240574,\n",
       "       3.58018189, 4.53551781, 3.6015863 , 3.39551389, 3.31096211,\n",
       "       4.68315733, 3.00914582, 4.35050206, 3.47862723, 4.98961664,\n",
       "       3.97086434, 3.84319961, 3.54816012, 4.75530511, 3.41496645,\n",
       "       4.90705159, 4.34696564, 3.88798787, 3.53233007, 4.56585727,\n",
       "       4.8858081 , 4.89603957, 3.64891682, 3.61263774, 3.05138913,\n",
       "       3.79194242, 4.98641451, 4.47656942, 4.9346094 , 4.60630518,\n",
       "       4.09628389, 4.31026921, 3.10024115, 3.18514655, 3.90655821,\n",
       "       3.14142245, 4.41468255, 3.51815841, 4.51581302, 4.10407332,\n",
       "       3.84998284, 4.79138074, 4.33521394, 3.35723776, 4.21002641,\n",
       "       4.455435  , 4.4385441 , 3.93635578, 3.08440184, 3.20200592,\n",
       "       3.0570209 , 3.34339757, 3.70482831, 4.92254706, 3.69418932,\n",
       "       4.8243341 , 3.02204166, 4.83740546, 4.30785959, 4.5322942 ,\n",
       "       4.16878195, 3.4718086 , 3.42179382, 3.11263636, 4.07096067,\n",
       "       4.73191145, 3.59878431, 3.11850538, 3.98092791, 3.37204891,\n",
       "       3.38499538, 4.22772655, 3.75421072, 3.17217986, 4.79287781,\n",
       "       4.12390011, 4.37426386, 4.86439183, 4.30879354, 4.12702247,\n",
       "       3.27030223, 4.98726304, 4.20316935, 4.13082655, 4.23796395,\n",
       "       4.20210738, 3.07942472, 3.04549881, 4.6602954 , 4.22326737,\n",
       "       4.46781627, 4.04497179, 3.27439155, 4.37348228, 3.53118101,\n",
       "       4.98335559, 4.79925221, 4.35434638, 4.7185932 , 4.2322997 ,\n",
       "       3.90852536, 3.69174677, 4.44608772, 3.52120368, 4.60689612,\n",
       "       4.02679646, 3.72698817, 3.81557009, 3.78265168, 4.33991759,\n",
       "       3.78098572, 3.48114641, 3.29970719, 3.31352544, 4.77770145,\n",
       "       4.3331257 , 3.88805445, 4.17855374, 4.72586878, 4.74771088,\n",
       "       4.01130807, 4.86556103, 4.13442294, 3.98839315, 4.33679981,\n",
       "       3.56127913, 3.96018604, 4.554644  , 4.21966167, 3.62826297,\n",
       "       3.92399322, 4.56917737, 4.38840793, 3.32375784, 3.37988278,\n",
       "       3.42286075, 3.88928939, 3.51691113, 4.66526513, 3.64604555,\n",
       "       3.51349159, 4.69868646, 4.95203804, 4.54498516, 4.03443144,\n",
       "       3.32683737, 4.35007046, 3.89280984, 4.54157043, 4.3187594 ,\n",
       "       4.52019137, 4.02610987, 3.6697011 , 4.09368159, 4.23033264,\n",
       "       4.42055141, 3.14724583, 3.08372695, 4.92247344, 3.31929318,\n",
       "       4.14696386, 4.26356154, 3.79901246, 3.79307462, 3.05028824,\n",
       "       3.0728039 , 4.01458471, 4.40032801, 4.39151472, 3.3864848 ,\n",
       "       4.5462516 , 3.71484484, 3.77513307, 4.85082714, 4.33317373,\n",
       "       3.86033142, 4.69182576, 4.07361615, 4.46359914, 4.87726291,\n",
       "       3.25181958, 3.70514298, 3.03942314, 4.11261869, 4.06010026,\n",
       "       4.28723796, 4.16100724, 3.75587439, 3.15203471, 4.17832882,\n",
       "       3.74027203, 3.28601656, 3.37123076, 3.8196665 , 3.21442872,\n",
       "       3.13677074, 3.61686001, 3.31383551, 4.34751787, 4.31977341,\n",
       "       4.05132533, 3.91644736, 3.87348002, 3.18794921, 4.14656615,\n",
       "       4.59942305, 4.38519121, 4.2849994 , 4.83879456, 4.72351217,\n",
       "       4.10540768, 4.66014344, 4.56147987, 3.73980676, 3.42012147,\n",
       "       4.37188762, 3.03252019, 3.0794251 , 4.35427382, 3.05259199,\n",
       "       3.77664392, 4.94915063, 4.3744934 , 3.8585646 , 3.71842158,\n",
       "       4.07187671, 3.09582656, 3.69170005, 4.23873664, 4.12294871,\n",
       "       3.58865705, 4.85151704, 3.65611375, 4.41955891, 4.57662918,\n",
       "       4.76610716, 3.19510061, 3.69364404, 3.58482685, 4.12662743,\n",
       "       4.16308413, 4.62250616, 3.18868074, 3.03604851, 4.74341315,\n",
       "       3.20662069, 3.02671383, 4.03832876, 3.93768818, 3.32485058,\n",
       "       3.97319786, 3.66069184, 3.66813377, 3.85113768, 3.08319324,\n",
       "       4.3534819 , 3.30637647, 3.42286761, 3.91297941, 3.97967726,\n",
       "       3.85226104, 3.95616737, 4.60847061, 4.46936303, 3.79456547,\n",
       "       4.82220701, 4.09470951, 3.7882249 , 4.91664168, 3.31889981,\n",
       "       3.73399874, 4.26387149, 3.56101482, 3.8838883 , 3.02238352,\n",
       "       3.65776943, 4.29424869, 4.90557105, 4.36509413, 4.23450846,\n",
       "       3.22614025, 3.56839373, 4.20442847, 4.3754982 , 4.99241471,\n",
       "       3.83710616, 4.43827302, 3.61941158, 4.9539466 , 3.55982022,\n",
       "       3.78914253, 3.45380735, 3.41438768, 3.28298632, 4.56649148,\n",
       "       3.8560703 , 3.11904973, 4.51904286, 3.30660682, 3.64676718,\n",
       "       4.34206939, 4.07185869, 3.07833669, 3.45943943, 4.69695827,\n",
       "       3.29603743, 4.08141371, 3.77472771, 4.41456886, 4.76697089,\n",
       "       4.54003743, 3.94186862, 3.11777014, 4.17960554, 3.79170427,\n",
       "       3.91089352, 4.32111597, 3.00944721, 4.4915608 , 3.25736248,\n",
       "       4.68194883, 4.7130192 , 4.77288562, 4.4243189 , 3.50173914,\n",
       "       3.70362866, 3.14596556, 3.49619202, 4.35313518, 3.27149519,\n",
       "       3.87864262, 3.97422102, 4.0252979 , 4.57168579, 4.59028466,\n",
       "       4.67740318, 3.08189047, 3.47018411, 4.48144997, 3.94718957,\n",
       "       3.96218629, 4.67478253, 4.22497801, 3.70422097, 3.44097343,\n",
       "       4.869687  , 4.91782084, 4.60689014, 4.79424047, 3.39913512,\n",
       "       4.0182826 , 4.9819619 , 4.8322204 , 3.1403828 , 4.81828915,\n",
       "       3.36770214, 4.35466458, 4.84826453, 3.43371208, 3.81951649,\n",
       "       4.54814218, 4.12216595, 4.06492944, 3.86800826, 3.17287498,\n",
       "       3.99456251, 4.49643628, 4.839027  , 3.81994693, 4.38685881,\n",
       "       4.2972496 , 4.70806291, 3.61763908, 4.16318549, 4.74607347,\n",
       "       3.78899096, 4.16649819, 3.67194523, 3.53361794, 3.26849356,\n",
       "       4.07519503, 3.37773537, 3.90661989, 4.62382298, 3.34883598,\n",
       "       4.24567801, 3.58790017, 4.78734229, 3.73494609, 3.24219952,\n",
       "       4.06890708, 4.04363344, 3.11730035, 4.7754383 , 4.90946163,\n",
       "       4.30689559, 4.59044724, 3.19220047, 3.52231459, 3.37223259,\n",
       "       3.86738544, 3.41861718, 3.26241376, 4.46123051, 3.99432071,\n",
       "       4.56828066, 3.9932054 , 3.51579474, 4.03718231, 4.2578288 ,\n",
       "       3.44693696, 4.09745713, 4.05519665, 3.70745327, 4.71323959,\n",
       "       4.79252746, 3.83820935, 3.6286685 , 3.59782299, 4.08753892,\n",
       "       4.95261688, 4.27222719, 3.61249415, 4.37281828, 3.92938542,\n",
       "       3.44640889, 4.56693592, 3.46477334, 3.4776389 , 3.05752287,\n",
       "       4.78723345, 3.26305732, 3.18183112, 3.12763526, 3.65183704,\n",
       "       4.42037984, 4.89968219, 3.12571843, 3.33954411, 4.8989985 ,\n",
       "       3.07107901, 3.20875653, 4.56065641, 4.23469226, 3.55736256,\n",
       "       4.869641  , 4.54292271, 4.11091839, 3.33005783, 4.66693271,\n",
       "       4.80527937, 3.89125068, 3.23021206, 4.17972367, 3.73919923,\n",
       "       4.87778892, 4.89427593, 3.04066492, 3.59872503, 3.00785386,\n",
       "       4.04395419, 3.59161417, 3.10047342, 3.49468884, 3.84132924,\n",
       "       3.22418704, 3.50818122, 3.15943423, 4.83818974, 4.73739265,\n",
       "       4.0194153 , 4.50666138, 3.64879434, 3.17239347, 4.52537751,\n",
       "       3.56582872, 4.64947315, 4.42682978, 3.57045105, 4.94759151,\n",
       "       4.86039691, 4.3877575 , 3.14378687, 4.63021882, 4.77548347,\n",
       "       3.50362589, 4.1365815 , 3.2169206 , 4.40197495, 4.22966403,\n",
       "       4.57344244, 4.39496835, 4.21335611, 4.44238755, 3.54141064,\n",
       "       3.88993325, 4.15037527, 4.0532534 , 4.56458772, 3.12960947,\n",
       "       3.74096075, 3.85274245, 4.60218244, 3.54747755, 3.41663353,\n",
       "       3.65002477, 3.97260224, 3.7014366 , 3.11923797, 4.81268441,\n",
       "       4.6412591 , 4.42363789, 3.21607568, 4.51894695, 3.91374468,\n",
       "       3.19239816, 4.17627625, 4.35934262, 4.92555411, 4.58930372,\n",
       "       4.74783308, 4.48485163, 3.48689891, 4.2541253 , 3.3437222 ,\n",
       "       3.09301626, 4.75931422, 4.6216772 , 4.37268665, 3.79080002,\n",
       "       4.98242139, 3.28147612, 4.3994904 , 3.64555499, 3.48226128,\n",
       "       4.15644978, 4.52631642, 3.92816966, 4.78892577, 4.85321282,\n",
       "       4.88677606, 4.45282957, 4.20542687, 4.86966931, 4.90867416,\n",
       "       4.51623081, 3.08537487, 3.98671381, 3.95205238, 4.31652169,\n",
       "       4.30068444, 3.05834558, 4.82427002, 4.67511413, 4.45330755,\n",
       "       3.4376023 , 3.01234441, 3.62670309, 4.62264594, 4.96538781,\n",
       "       4.08282506, 3.30160767, 3.22744184, 3.82812161, 3.04076516,\n",
       "       3.14579696, 3.69861049, 4.67812508, 4.5394516 , 3.22851443,\n",
       "       3.27996114, 3.81100229, 3.85746804, 4.70920288, 4.4041994 ,\n",
       "       3.26505188, 3.9625341 , 4.03168485, 3.25407915, 3.05825772,\n",
       "       3.79694404, 4.73763043, 3.88093287, 3.52034173, 4.61004443,\n",
       "       4.37715819, 3.7400173 , 4.69040426, 3.09102244, 3.06510429,\n",
       "       4.51277851, 3.53572924, 4.7031488 , 3.81690552, 3.40192429,\n",
       "       4.46839587, 4.30965979, 3.66952275, 4.65087483, 4.26260993,\n",
       "       3.98642733, 4.6767657 , 4.00133546, 4.47585634, 3.42516973,\n",
       "       4.93204973, 4.01551246, 4.76728113, 3.35488665, 4.22319003,\n",
       "       3.42886482, 3.7111459 , 4.91387402, 3.00986611, 3.37189557,\n",
       "       3.20636267, 4.54968544, 4.32107685, 4.71762076, 3.64443844,\n",
       "       4.85133708, 4.5950638 , 3.89896259, 3.53042365, 4.85051766,\n",
       "       4.68256205, 3.60031336, 3.8115541 , 4.84605852, 3.69731675,\n",
       "       4.78725724, 4.47529586, 4.165674  , 3.76607584, 3.59695318,\n",
       "       3.18673147, 3.55443626, 4.75246119, 3.94371959, 4.80899775,\n",
       "       4.27290551, 4.79290605, 3.90126733, 3.642974  , 3.75114355,\n",
       "       4.40502739, 3.79625684, 3.18542048, 3.64756543, 3.98294109,\n",
       "       3.12791942, 4.96053782, 3.98652628, 3.15343292, 3.75650186,\n",
       "       3.23388616, 3.49750635, 3.94452441, 4.43277477, 4.55448463,\n",
       "       3.7111758 , 3.45400933, 4.81527226, 4.39920417, 4.57473922,\n",
       "       4.84224917, 4.67521075, 3.16045525, 3.19452464, 3.75680485,\n",
       "       3.18000562, 4.30042801, 4.89954937, 4.56275123, 3.37122334,\n",
       "       3.69307582, 3.6170726 , 3.1717565 , 3.40727025, 4.19981997,\n",
       "       4.44051006, 3.29738324, 4.53984641, 4.47965337, 4.22715451,\n",
       "       4.01589632, 3.02081839, 4.62728908, 4.8058618 , 4.23112027,\n",
       "       3.58953758, 3.35655162, 4.54777051, 4.4563225 , 3.91035759,\n",
       "       3.18494634, 4.20127421, 4.67101876, 4.99943368, 4.49821365,\n",
       "       3.48593691, 4.59046856, 4.52611538, 3.36334472, 3.94068156,\n",
       "       3.21620393, 4.64142783, 4.83120168, 4.45478778, 3.49016974])"
      ]
     },
     "execution_count": 3,
     "metadata": {},
     "output_type": "execute_result"
    }
   ],
   "source": [
    "# Definimos los límites del intervalo\n",
    "a = 3  # Límite inferior\n",
    "b = 5  # Límite superior\n",
    "\n",
    "#cREAR una instancia de la dist Uniforme continua:\n",
    "distribucion_uniforme = ss.uniform(loc = a, scale = b-a)\n",
    "\n",
    "#Simular 1000 valores de la distrib uniforme continua U(3,5)\n",
    "unif = distribucion_uniforme.rvs(size=1000)\n",
    "unif"
   ]
  },
  {
   "cell_type": "markdown",
   "metadata": {},
   "source": [
    "-- hasta aquí clase 29 julio"
   ]
  },
  {
   "cell_type": "code",
   "execution_count": 4,
   "metadata": {},
   "outputs": [
    {
     "data": {
      "text/plain": [
       "3.007853859430398"
      ]
     },
     "execution_count": 4,
     "metadata": {},
     "output_type": "execute_result"
    }
   ],
   "source": [
    "unif.min()"
   ]
  },
  {
   "cell_type": "code",
   "execution_count": 5,
   "metadata": {},
   "outputs": [
    {
     "data": {
      "text/plain": [
       "4.999433678554499"
      ]
     },
     "execution_count": 5,
     "metadata": {},
     "output_type": "execute_result"
    }
   ],
   "source": [
    "unif.max()"
   ]
  },
  {
   "cell_type": "code",
   "execution_count": 6,
   "metadata": {},
   "outputs": [
    {
     "data": {
      "text/plain": [
       "3.3280497563859095"
      ]
     },
     "execution_count": 6,
     "metadata": {},
     "output_type": "execute_result"
    }
   ],
   "source": [
    "#Si sólo queremos generar un número (una realización de la v.a. U(3,5)):\n",
    "unif = distribucion_uniforme.rvs()\n",
    "unif"
   ]
  },
  {
   "cell_type": "markdown",
   "metadata": {},
   "source": [
    "Hemos comentado que las simulaciones pueden usarse para estimar variables de interés, incluso vimos cómo pueden utilizarse\n",
    "en un problema de optimización (Portafolio de inversión)"
   ]
  },
  {
   "cell_type": "code",
   "execution_count": null,
   "metadata": {},
   "outputs": [],
   "source": [
    "#toy example"
   ]
  },
  {
   "cell_type": "markdown",
   "metadata": {},
   "source": [
    "Aquí hay otro ejemplo de cómo utilizar la simulación de una distribución para estimar una cantidad: \n",
    "En este caso, queremos estimar el valor de **$\\pi$**, que sabemos que es aprox $3.141592$"
   ]
  },
  {
   "cell_type": "markdown",
   "metadata": {},
   "source": [
    "##### Idea:"
   ]
  },
  {
   "cell_type": "markdown",
   "metadata": {},
   "source": [
    "<img src=\"ccuadrado.png\"  style=\"width: 400px;\"/>"
   ]
  },
  {
   "cell_type": "markdown",
   "metadata": {},
   "source": [
    "1. Generar 'muchos' puntos en la región factible.\n",
    "2. Considerar lo siguiente:\n"
   ]
  },
  {
   "cell_type": "markdown",
   "metadata": {},
   "source": [
    "$$\n",
    " \\frac{\\pi r^2}{2 \\times 2} = \\frac{A(circulo)}{A(cuadrado)} \\approx \\frac{ \\text{número de puntos dentro del circulo}}{ \\text{ número puntos totales}}\n",
    "$$\n",
    "\n",
    "$$\n",
    " \\Rightarrow  \\pi \\approx 4 \\frac{ \\text{número de puntos dentro del circulo}}{ \\text{ N}}\n",
    "$$\n",
    "\n",
    "Donde N es la cantidad de puntos totales"
   ]
  },
  {
   "cell_type": "code",
   "execution_count": 11,
   "metadata": {},
   "outputs": [
    {
     "data": {
      "text/plain": [
       "3.141952"
      ]
     },
     "execution_count": 11,
     "metadata": {},
     "output_type": "execute_result"
    }
   ],
   "source": [
    "# Número de puntos a simular\n",
    "N = 1000000\n",
    "\n",
    "# Generando números de U(-1,1) tanto para el eje x como para el eje y\n",
    "x = np.random.uniform(-1,1,N)\n",
    "y = np.random.uniform(-1,1,N)\n",
    "\n",
    "#Calculando las distancias --> ecuación del círculo\n",
    "distances = np.sqrt(x**2 + y**2)  # x,y tales que x^2 + y^2 = r^2\n",
    "\n",
    "#Puntos dentro del círculo (es booleano)\n",
    "inside_circle = distances <=1\n",
    "\n",
    "#Estimar pi:\n",
    "pi_estimado = 4* np.sum(inside_circle)/N\n",
    "pi_estimado"
   ]
  },
  {
   "cell_type": "markdown",
   "metadata": {},
   "source": [
    "#### Otro ejemplo: Calculando la probabilidad de un evento con una distribución Uniforme"
   ]
  },
  {
   "cell_type": "markdown",
   "metadata": {},
   "source": [
    "Ahora supongamos que hay un autobus que llega dentro de un intervalo de 10 a 20 minutos despues\n",
    "de que uno llega a la parada, ¿Cuál es la probabilidad de esperar menos de 15 minutos si podemos\n",
    "modelar la variable como una distribución uniforme continua?"
   ]
  },
  {
   "cell_type": "code",
   "execution_count": 13,
   "metadata": {},
   "outputs": [
    {
     "name": "stdout",
     "output_type": "stream",
     "text": [
      "Probabilidad de esperar menos de 15 minutos:0.50\n"
     ]
    }
   ],
   "source": [
    "# Definimos el intervalo de llegada del autobus (en minutos)\n",
    "inicio = 10\n",
    "fin = 20\n",
    "\n",
    "#Definimos nuestra distribución uniforme continua\n",
    "dist_tiempo_espera = ss.uniform(loc = inicio, scale = fin -inicio)\n",
    "\n",
    "#Calcular la prob de esperar menos de 15 min --> P(T<15) = F(15) = cdf(15)\n",
    "prob_menos_15_min = dist_tiempo_espera.cdf(15)\n",
    "\n",
    "\n",
    "print(f\"Probabilidad de esperar menos de 15 minutos:{prob_menos_15_min:.2f}\")"
   ]
  },
  {
   "cell_type": "code",
   "execution_count": 20,
   "metadata": {},
   "outputs": [
    {
     "data": {
      "image/png": "[encoded data removed]",
      "text/plain": [
       "<Figure size 640x480 with 1 Axes>"
      ]
     },
     "metadata": {},
     "output_type": "display_data"
    }
   ],
   "source": [
    "#Podemos además generar una muestra de tiempos de espera con .rvs como lo hemos visto antes\n",
    "muestra_tiempo_espera = dist_tiempo_espera.rvs(size=10000) #generar 10k muestras de una U(10,20)\n",
    "_ = plt.hist(muestra_tiempo_espera, density=True, bins = 30, alpha = 0.7, color = 'skyblue', edgecolor = 'black')\n",
    "\n",
    "# la fn de densidad f(x) = 1/(b-a) = 1/(20-10) = 1/10 = 0.1"
   ]
  },
  {
   "cell_type": "markdown",
   "metadata": {},
   "source": [
    "### Normal"
   ]
  },
  {
   "cell_type": "markdown",
   "metadata": {},
   "source": [
    "Para entender la distribución normal imaginemos que estamos midiendo la altura de un grupo grande de personas y graficamos esas alturas. Si la distribución de alturas es Normal, veremos una forma de campana en el gráfico, como en la siguiente imagen:\n",
    "\n",
    "<img src=\"height_normal.png\" alt=\"Alt text\" style=\"width: 600px;\"/>\n",
    "\n",
    "En una distribución normal, la mayoría de las personas tienen una altura cercana a la media (el punto más alto de la campana). A medida que nos alejamos de la media, hay menos y menos personas con esas alturas extremas.\n",
    "\n",
    "Por ejemplo, si la media de altura es 170 cm, la mayoría de las personas tendrán alturas cercanas a 170 cm y habrá menos personas que midan 150 cm o 180 cm, y muy pocas que midan, por ejemplo, 140 cm o 190 cm.\n",
    "\n",
    "Esta forma de campana se debe a que en muchas situaciones, como la biología humana o las medidas naturales, hay una gran cantidad de factores pequeños que contribuyen al resultado final. Esto da lugar a una distribución simétrica alrededor de la media.\n",
    "\n",
    "La distribución normal es muy común en la naturaleza y se encuentra en muchos fenómenos, desde la altura de las personas hasta el rendimiento de los estudiantes en un examen. Por eso es una de las distribuciones más importantes y utilizadas en estadística y ciencia."
   ]
  },
  {
   "cell_type": "markdown",
   "metadata": {},
   "source": [
    "Recordar: La función de densidad de la distribución normal, que tiene media $\\mu$ y varianza $\\sigma^{2}$, está  dada por:\n",
    "\n",
    "$$\n",
    "f(x) = \\frac{1}{\\sqrt{2\\pi\\sigma^{2}}} e^{-\\frac{(x - \\mu)^2}{2\\sigma^{2}}}\n",
    "$$\n",
    "\n",
    "para x en $\\mathbb{R}$"
   ]
  },
  {
   "cell_type": "code",
   "execution_count": 21,
   "metadata": {},
   "outputs": [
    {
     "name": "stdout",
     "output_type": "stream",
     "text": [
      "La probabilidad de estar entre 160 cm y 170 cm es: 0.4772\n"
     ]
    }
   ],
   "source": [
    "# En python, podemos definirla de la sig manera:\n",
    "media = 170\n",
    "desv_std = 5\n",
    "\n",
    "dist_normal = ss.norm(loc = media, scale = desv_std)\n",
    "\n",
    "#Calcular la prob de que alguien mida entre 160 y 170 cm --> F(170)- F(160)\n",
    "proba_entre_160_170 = dist_normal.cdf(170) - dist_normal.cdf(160)\n",
    "\n",
    "print(f\"La probabilidad de estar entre 160 cm y 170 cm es: {proba_entre_160_170:.4f}\")"
   ]
  },
  {
   "cell_type": "code",
   "execution_count": null,
   "metadata": {},
   "outputs": [],
   "source": []
  },
  {
   "cell_type": "code",
   "execution_count": 27,
   "metadata": {},
   "outputs": [
    {
     "name": "stdout",
     "output_type": "stream",
     "text": [
      "Probabilidad de tardar menos de 50 minutos en completar el examen:0.16\n"
     ]
    }
   ],
   "source": [
    "# Ahora supongamos que podemos modelar, MEDIANTE UNA DISTRIBUCIÓN NORMAL, el tiempo que le toma a un estudiante completar un examen. \n",
    "#¿Cuál es la probabilidad que lo acabe en menos de 50 minutos?\n",
    "\n",
    "# Supongamos que el tiempo promedio es de 60 minutos, con una desviación estandar de 10 minutos.\n",
    "t_promedio = 60\n",
    "desv_std = 10\n",
    "\n",
    "#definimos dist normal:\n",
    "dist_t_examen = ss.norm(loc = t_promedio, scale=desv_std)\n",
    "\n",
    "#Calcular la prob de que un estudiante tarde menos de 50 minutos : P(T <= 50) = F(50) = cdf(50)\n",
    "prob_menor_50min = dist_t_examen.cdf(50)\n",
    "\n",
    "print(f\"Probabilidad de tardar menos de 50 minutos en completar el examen:{prob_menor_50min:.2f}\")"
   ]
  },
  {
   "cell_type": "code",
   "execution_count": 28,
   "metadata": {},
   "outputs": [
    {
     "data": {
      "image/png": "[encoded data removed]",
      "text/plain": [
       "<Figure size 640x480 with 1 Axes>"
      ]
     },
     "metadata": {},
     "output_type": "display_data"
    }
   ],
   "source": [
    "# Podemos generar una muestra de los tiempos\n",
    "muestra_tiempos = dist_t_examen.rvs(5000)\n",
    "\n",
    "# Graficamos la densidad de probabilidad\n",
    "plt.hist(muestra_tiempos, density=True, bins=30, alpha=0.7, color='skyblue', edgecolor='black')\n",
    "plt.title('Distribución Normal: Tiempo de finalización del examen')\n",
    "plt.show()"
   ]
  },
  {
   "cell_type": "code",
   "execution_count": null,
   "metadata": {},
   "outputs": [],
   "source": []
  },
  {
   "cell_type": "markdown",
   "metadata": {},
   "source": [
    "En el caso cuando la media es 0 y la varianza 1, tenemos la distribución **Normal estándar**:"
   ]
  },
  {
   "cell_type": "markdown",
   "metadata": {},
   "source": [
    "<img src=\"normal_std.png\" alt=\"Alt text\" style=\"width: 600px;\"/>"
   ]
  },
  {
   "cell_type": "markdown",
   "metadata": {},
   "source": [
    "-- fin clase"
   ]
  },
  {
   "cell_type": "code",
   "execution_count": null,
   "metadata": {},
   "outputs": [],
   "source": [
    "#X\n",
    "#Z = (X-media_x)/ desv_sdt(x) --> eso es lo que hace StandardScaler()\n",
    "# Box -Cox transformation to near normality."
   ]
  },
  {
   "cell_type": "code",
   "execution_count": null,
   "metadata": {},
   "outputs": [],
   "source": []
  }
 ],
 "metadata": {
  "kernelspec": {
   "display_name": "Python 3 (ipykernel)",
   "language": "python",
   "name": "python3"
  },
  "language_info": {
   "codemirror_mode": {
    "name": "ipython",
    "version": 3
   },
   "file_extension": ".py",
   "mimetype": "text/x-python",
   "name": "python",
   "nbconvert_exporter": "python",
   "pygments_lexer": "ipython3",
   "version": "3.11.9"
  }
 },
 "nbformat": 4,
 "nbformat_minor": 4
}
