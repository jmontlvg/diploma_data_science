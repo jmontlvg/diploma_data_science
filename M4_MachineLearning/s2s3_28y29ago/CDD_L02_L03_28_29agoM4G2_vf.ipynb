{
 "cells": [
  {
   "cell_type": "markdown",
   "metadata": {},
   "source": [
    "22 AGO 24"
   ]
  },
  {
   "cell_type": "code",
   "execution_count": 1,
   "metadata": {},
   "outputs": [],
   "source": [
    "import pandas as pd, numpy as np\n",
    "from statsmodels.api import OLS\n",
    "import matplotlib.pyplot as plt\n",
    "from numpy import linalg as la\n",
    "from sklearn.model_selection import train_test_split\n",
    "from sklearn import metrics"
   ]
  },
  {
   "cell_type": "markdown",
   "metadata": {},
   "source": [
    "### Problemas de Regresión como un Problema de Machine Learning"
   ]
  },
  {
   "cell_type": "code",
   "execution_count": 2,
   "metadata": {},
   "outputs": [],
   "source": [
    "## Recordar, modelo de regresión lineal:"
   ]
  },
  {
   "cell_type": "markdown",
   "metadata": {},
   "source": [
    "$$\n",
    "y = X\\beta + \\epsilon\n",
    "$$"
   ]
  },
  {
   "cell_type": "markdown",
   "metadata": {},
   "source": [
    "$$\n",
    "  \\begin{bmatrix}\n",
    "        y_1 \\\\\n",
    "        y_2 \\\\\n",
    "        \\vdots \\\\\n",
    "        y_n \\\\\n",
    "        \\end{bmatrix}\n",
    "        = \\begin{bmatrix}\n",
    "                1 & x_{1,1} & x_{1,2} & \\ldots & x_{1,p}\\\\\n",
    "                1 & x_{2,1} & x_{2,2} & \\ldots & x_{2,p}\\\\\n",
    "                \\vdots & \\vdots & \\vdots & \\ddots & \\vdots\\\\\n",
    "                1 & x_{n,1} & x_{n,2} & \\ldots & x_{n,p}\\\\\n",
    "          \\end{bmatrix}  \\begin{bmatrix} \n",
    "                \\beta_{0}\\\\ \n",
    "                \\beta_{1}\\\\\n",
    "                \\ldots \\\\\n",
    "                \\beta_{p}\\\\\n",
    "             \\end{bmatrix} + \\begin{bmatrix} \n",
    "                \\epsilon_{1}\\\\ \n",
    "                \\epsilon_{2}\\\\\n",
    "                \\ldots \\\\\n",
    "                \\epsilon_{n}\\\\\n",
    "             \\end{bmatrix}\n",
    "$$"
   ]
  },
  {
   "cell_type": "markdown",
   "metadata": {},
   "source": [
    "Donde el criterio (de **mínimos cuadrados**) es minimizar la SUMA DEL CUADRADO DE LOS ERRORES:\n",
    "\n",
    "$$\n",
    "SSE = \\epsilon^{\\prime}\\epsilon = (y - X\\beta)^{\\prime}(y - X\\beta) \n",
    "$$"
   ]
  },
  {
   "cell_type": "markdown",
   "metadata": {},
   "source": [
    "La solución al problema anterior es el estimador de Mínimos Cuadrados:\n",
    "\n",
    "$$\n",
    "\\hat\\beta = (X^{\\prime}X)^{-1}X^{\\prime}y\n",
    "$$\n",
    "\n",
    "y los valores predichos o estimados son:\n",
    "\n",
    "$$\n",
    "\\hat y =  X\\hat\\beta\n",
    "$$"
   ]
  },
  {
   "cell_type": "code",
   "execution_count": 3,
   "metadata": {},
   "outputs": [],
   "source": [
    "# Visto como un modelo de machine learning, tenemos que entrenarlo en un conjunto de datos y probar su desempeño en otro, y lo que\n",
    "# nos interesa es la PREDICCIÓN."
   ]
  },
  {
   "cell_type": "code",
   "execution_count": 4,
   "metadata": {
    "scrolled": true
   },
   "outputs": [
    {
     "data": {
      "text/html": [
       "<div>\n",
       "<style scoped>\n",
       "    .dataframe tbody tr th:only-of-type {\n",
       "        vertical-align: middle;\n",
       "    }\n",
       "\n",
       "    .dataframe tbody tr th {\n",
       "        vertical-align: top;\n",
       "    }\n",
       "\n",
       "    .dataframe thead th {\n",
       "        text-align: right;\n",
       "    }\n",
       "</style>\n",
       "<table border=\"1\" class=\"dataframe\">\n",
       "  <thead>\n",
       "    <tr style=\"text-align: right;\">\n",
       "      <th></th>\n",
       "      <th>id</th>\n",
       "      <th>CRIM</th>\n",
       "      <th>ZN</th>\n",
       "      <th>INDUS</th>\n",
       "      <th>CHAS</th>\n",
       "      <th>NOX</th>\n",
       "      <th>RM</th>\n",
       "      <th>AGE</th>\n",
       "      <th>DIS</th>\n",
       "      <th>RAD</th>\n",
       "      <th>TAX</th>\n",
       "      <th>PTRATIO</th>\n",
       "      <th>B</th>\n",
       "      <th>LSTAT</th>\n",
       "      <th>MEDV</th>\n",
       "    </tr>\n",
       "  </thead>\n",
       "  <tbody>\n",
       "    <tr>\n",
       "      <th>0</th>\n",
       "      <td>A1</td>\n",
       "      <td>0.00632</td>\n",
       "      <td>18.0</td>\n",
       "      <td>2.31</td>\n",
       "      <td>0</td>\n",
       "      <td>0.538</td>\n",
       "      <td>6.575</td>\n",
       "      <td>65.2</td>\n",
       "      <td>4.0900</td>\n",
       "      <td>1</td>\n",
       "      <td>296</td>\n",
       "      <td>15.3</td>\n",
       "      <td>396.90</td>\n",
       "      <td>4.98</td>\n",
       "      <td>24.0</td>\n",
       "    </tr>\n",
       "    <tr>\n",
       "      <th>1</th>\n",
       "      <td>A2</td>\n",
       "      <td>0.02731</td>\n",
       "      <td>0.0</td>\n",
       "      <td>7.07</td>\n",
       "      <td>0</td>\n",
       "      <td>0.469</td>\n",
       "      <td>6.421</td>\n",
       "      <td>78.9</td>\n",
       "      <td>4.9671</td>\n",
       "      <td>2</td>\n",
       "      <td>242</td>\n",
       "      <td>17.8</td>\n",
       "      <td>396.90</td>\n",
       "      <td>9.14</td>\n",
       "      <td>21.6</td>\n",
       "    </tr>\n",
       "    <tr>\n",
       "      <th>2</th>\n",
       "      <td>A3</td>\n",
       "      <td>0.02729</td>\n",
       "      <td>0.0</td>\n",
       "      <td>7.07</td>\n",
       "      <td>0</td>\n",
       "      <td>0.469</td>\n",
       "      <td>7.185</td>\n",
       "      <td>61.1</td>\n",
       "      <td>4.9671</td>\n",
       "      <td>2</td>\n",
       "      <td>242</td>\n",
       "      <td>17.8</td>\n",
       "      <td>392.83</td>\n",
       "      <td>4.03</td>\n",
       "      <td>34.7</td>\n",
       "    </tr>\n",
       "    <tr>\n",
       "      <th>3</th>\n",
       "      <td>A4</td>\n",
       "      <td>0.03237</td>\n",
       "      <td>0.0</td>\n",
       "      <td>2.18</td>\n",
       "      <td>0</td>\n",
       "      <td>0.458</td>\n",
       "      <td>6.998</td>\n",
       "      <td>45.8</td>\n",
       "      <td>6.0622</td>\n",
       "      <td>3</td>\n",
       "      <td>222</td>\n",
       "      <td>18.7</td>\n",
       "      <td>394.63</td>\n",
       "      <td>2.94</td>\n",
       "      <td>33.4</td>\n",
       "    </tr>\n",
       "    <tr>\n",
       "      <th>4</th>\n",
       "      <td>A5</td>\n",
       "      <td>0.06905</td>\n",
       "      <td>0.0</td>\n",
       "      <td>2.18</td>\n",
       "      <td>0</td>\n",
       "      <td>0.458</td>\n",
       "      <td>7.147</td>\n",
       "      <td>54.2</td>\n",
       "      <td>6.0622</td>\n",
       "      <td>3</td>\n",
       "      <td>222</td>\n",
       "      <td>18.7</td>\n",
       "      <td>396.90</td>\n",
       "      <td>5.33</td>\n",
       "      <td>36.2</td>\n",
       "    </tr>\n",
       "  </tbody>\n",
       "</table>\n",
       "</div>"
      ],
      "text/plain": [
       "   id     CRIM    ZN  INDUS  CHAS    NOX     RM   AGE     DIS  RAD  TAX  \\\n",
       "0  A1  0.00632  18.0   2.31     0  0.538  6.575  65.2  4.0900    1  296   \n",
       "1  A2  0.02731   0.0   7.07     0  0.469  6.421  78.9  4.9671    2  242   \n",
       "2  A3  0.02729   0.0   7.07     0  0.469  7.185  61.1  4.9671    2  242   \n",
       "3  A4  0.03237   0.0   2.18     0  0.458  6.998  45.8  6.0622    3  222   \n",
       "4  A5  0.06905   0.0   2.18     0  0.458  7.147  54.2  6.0622    3  222   \n",
       "\n",
       "   PTRATIO       B  LSTAT  MEDV  \n",
       "0     15.3  396.90   4.98  24.0  \n",
       "1     17.8  396.90   9.14  21.6  \n",
       "2     17.8  392.83   4.03  34.7  \n",
       "3     18.7  394.63   2.94  33.4  \n",
       "4     18.7  396.90   5.33  36.2  "
      ]
     },
     "execution_count": 4,
     "metadata": {},
     "output_type": "execute_result"
    }
   ],
   "source": [
    "boston = pd.read_csv('boston_house_prices.csv')\n",
    "boston.head()"
   ]
  },
  {
   "cell_type": "code",
   "execution_count": 5,
   "metadata": {},
   "outputs": [
    {
     "data": {
      "text/plain": [
       "(506, 15)"
      ]
     },
     "execution_count": 5,
     "metadata": {},
     "output_type": "execute_result"
    }
   ],
   "source": [
    "boston.shape"
   ]
  },
  {
   "cell_type": "markdown",
   "metadata": {},
   "source": [
    "### Significado variables\n",
    "1. CRIM: per capita crime rate by town\n",
    "2. ZN: proportion of residential land zoned for lots over 25,000 sq.ft.\n",
    "3. INDUS: proportion of non-retail business acres per town\n",
    "4. CHAS: Charles River dummy variable (= 1 if tract bounds river; 0 otherwise)\n",
    "5. NOX: nitric oxides concentration (parts per 10 million)\n",
    "6. RM: average number of rooms per dwelling\n",
    "7. AGE: proportion of owner-occupied units built prior to 1940\n",
    "8. DIS: weighted distances to ﬁve Boston employment centers\n",
    "9. RAD: index of accessibility to radial highways\n",
    "10. TAX: full-value property-tax rate per 10,000\n",
    "11. PTRATIO: pupil-teacher ratio by town \n",
    "12. B: 1000(Bk−0.63)2 where Bk is the proportion of blacks by town \n",
    "13. LSTAT: % lower status of the population\n",
    "14. MEDV: Median value of owner-occupied homes in '$1000s"
   ]
  },
  {
   "cell_type": "code",
   "execution_count": 6,
   "metadata": {},
   "outputs": [],
   "source": [
    "df = boston\n",
    "predictors = df.loc[:,'CRIM':'LSTAT']\n",
    "response = df['MEDV']"
   ]
  },
  {
   "cell_type": "code",
   "execution_count": 7,
   "metadata": {},
   "outputs": [
    {
     "data": {
      "text/html": [
       "<table class=\"simpletable\">\n",
       "<caption>OLS Regression Results</caption>\n",
       "<tr>\n",
       "  <th>Dep. Variable:</th>          <td>MEDV</td>       <th>  R-squared (uncentered):</th>      <td>   0.959</td> \n",
       "</tr>\n",
       "<tr>\n",
       "  <th>Model:</th>                   <td>OLS</td>       <th>  Adj. R-squared (uncentered):</th> <td>   0.957</td> \n",
       "</tr>\n",
       "<tr>\n",
       "  <th>Method:</th>             <td>Least Squares</td>  <th>  F-statistic:       </th>          <td>   654.2</td> \n",
       "</tr>\n",
       "<tr>\n",
       "  <th>Date:</th>             <td>Mon, 02 Sep 2024</td> <th>  Prob (F-statistic):</th>          <td>3.71e-244</td>\n",
       "</tr>\n",
       "<tr>\n",
       "  <th>Time:</th>                 <td>19:43:34</td>     <th>  Log-Likelihood:    </th>          <td> -1141.9</td> \n",
       "</tr>\n",
       "<tr>\n",
       "  <th>No. Observations:</th>      <td>   379</td>      <th>  AIC:               </th>          <td>   2310.</td> \n",
       "</tr>\n",
       "<tr>\n",
       "  <th>Df Residuals:</th>          <td>   366</td>      <th>  BIC:               </th>          <td>   2361.</td> \n",
       "</tr>\n",
       "<tr>\n",
       "  <th>Df Model:</th>              <td>    13</td>      <th>                     </th>              <td> </td>    \n",
       "</tr>\n",
       "<tr>\n",
       "  <th>Covariance Type:</th>      <td>nonrobust</td>    <th>                     </th>              <td> </td>    \n",
       "</tr>\n",
       "</table>\n",
       "<table class=\"simpletable\">\n",
       "<tr>\n",
       "     <td></td>        <th>coef</th>     <th>std err</th>      <th>t</th>      <th>P>|t|</th>  <th>[0.025</th>    <th>0.975]</th>  \n",
       "</tr>\n",
       "<tr>\n",
       "  <th>CRIM</th>    <td>   -0.1312</td> <td>    0.041</td> <td>   -3.236</td> <td> 0.001</td> <td>   -0.211</td> <td>   -0.051</td>\n",
       "</tr>\n",
       "<tr>\n",
       "  <th>ZN</th>      <td>    0.0448</td> <td>    0.018</td> <td>    2.543</td> <td> 0.011</td> <td>    0.010</td> <td>    0.079</td>\n",
       "</tr>\n",
       "<tr>\n",
       "  <th>INDUS</th>   <td>    0.0077</td> <td>    0.078</td> <td>    0.098</td> <td> 0.922</td> <td>   -0.146</td> <td>    0.161</td>\n",
       "</tr>\n",
       "<tr>\n",
       "  <th>CHAS</th>    <td>    2.5157</td> <td>    1.045</td> <td>    2.407</td> <td> 0.017</td> <td>    0.460</td> <td>    4.571</td>\n",
       "</tr>\n",
       "<tr>\n",
       "  <th>NOX</th>     <td>   -3.3773</td> <td>    4.116</td> <td>   -0.821</td> <td> 0.412</td> <td>  -11.470</td> <td>    4.716</td>\n",
       "</tr>\n",
       "<tr>\n",
       "  <th>RM</th>      <td>    5.8394</td> <td>    0.374</td> <td>   15.619</td> <td> 0.000</td> <td>    5.104</td> <td>    6.575</td>\n",
       "</tr>\n",
       "<tr>\n",
       "  <th>AGE</th>     <td>   -0.0104</td> <td>    0.016</td> <td>   -0.661</td> <td> 0.509</td> <td>   -0.041</td> <td>    0.020</td>\n",
       "</tr>\n",
       "<tr>\n",
       "  <th>DIS</th>     <td>   -0.9479</td> <td>    0.228</td> <td>   -4.150</td> <td> 0.000</td> <td>   -1.397</td> <td>   -0.499</td>\n",
       "</tr>\n",
       "<tr>\n",
       "  <th>RAD</th>     <td>    0.2115</td> <td>    0.080</td> <td>    2.654</td> <td> 0.008</td> <td>    0.055</td> <td>    0.368</td>\n",
       "</tr>\n",
       "<tr>\n",
       "  <th>TAX</th>     <td>   -0.0119</td> <td>    0.005</td> <td>   -2.526</td> <td> 0.012</td> <td>   -0.021</td> <td>   -0.003</td>\n",
       "</tr>\n",
       "<tr>\n",
       "  <th>PTRATIO</th> <td>   -0.3033</td> <td>    0.135</td> <td>   -2.243</td> <td> 0.026</td> <td>   -0.569</td> <td>   -0.037</td>\n",
       "</tr>\n",
       "<tr>\n",
       "  <th>B</th>       <td>    0.0146</td> <td>    0.003</td> <td>    4.538</td> <td> 0.000</td> <td>    0.008</td> <td>    0.021</td>\n",
       "</tr>\n",
       "<tr>\n",
       "  <th>LSTAT</th>   <td>   -0.4181</td> <td>    0.060</td> <td>   -6.988</td> <td> 0.000</td> <td>   -0.536</td> <td>   -0.300</td>\n",
       "</tr>\n",
       "</table>\n",
       "<table class=\"simpletable\">\n",
       "<tr>\n",
       "  <th>Omnibus:</th>       <td>187.113</td> <th>  Durbin-Watson:     </th> <td>   1.930</td>\n",
       "</tr>\n",
       "<tr>\n",
       "  <th>Prob(Omnibus):</th> <td> 0.000</td>  <th>  Jarque-Bera (JB):  </th> <td>1593.538</td>\n",
       "</tr>\n",
       "<tr>\n",
       "  <th>Skew:</th>          <td> 1.898</td>  <th>  Prob(JB):          </th> <td>    0.00</td>\n",
       "</tr>\n",
       "<tr>\n",
       "  <th>Kurtosis:</th>      <td>12.300</td>  <th>  Cond. No.          </th> <td>8.96e+03</td>\n",
       "</tr>\n",
       "</table><br/><br/>Notes:<br/>[1] R² is computed without centering (uncentered) since the model does not contain a constant.<br/>[2] Standard Errors assume that the covariance matrix of the errors is correctly specified.<br/>[3] The condition number is large, 8.96e+03. This might indicate that there are<br/>strong multicollinearity or other numerical problems."
      ],
      "text/latex": [
       "\\begin{center}\n",
       "\\begin{tabular}{lclc}\n",
       "\\toprule\n",
       "\\textbf{Dep. Variable:}    &       MEDV       & \\textbf{  R-squared (uncentered):}      &     0.959   \\\\\n",
       "\\textbf{Model:}            &       OLS        & \\textbf{  Adj. R-squared (uncentered):} &     0.957   \\\\\n",
       "\\textbf{Method:}           &  Least Squares   & \\textbf{  F-statistic:       }          &     654.2   \\\\\n",
       "\\textbf{Date:}             & Mon, 02 Sep 2024 & \\textbf{  Prob (F-statistic):}          & 3.71e-244   \\\\\n",
       "\\textbf{Time:}             &     19:43:34     & \\textbf{  Log-Likelihood:    }          &   -1141.9   \\\\\n",
       "\\textbf{No. Observations:} &         379      & \\textbf{  AIC:               }          &     2310.   \\\\\n",
       "\\textbf{Df Residuals:}     &         366      & \\textbf{  BIC:               }          &     2361.   \\\\\n",
       "\\textbf{Df Model:}         &          13      & \\textbf{                     }          &             \\\\\n",
       "\\textbf{Covariance Type:}  &    nonrobust     & \\textbf{                     }          &             \\\\\n",
       "\\bottomrule\n",
       "\\end{tabular}\n",
       "\\begin{tabular}{lcccccc}\n",
       "                 & \\textbf{coef} & \\textbf{std err} & \\textbf{t} & \\textbf{P$> |$t$|$} & \\textbf{[0.025} & \\textbf{0.975]}  \\\\\n",
       "\\midrule\n",
       "\\textbf{CRIM}    &      -0.1312  &        0.041     &    -3.236  &         0.001        &       -0.211    &       -0.051     \\\\\n",
       "\\textbf{ZN}      &       0.0448  &        0.018     &     2.543  &         0.011        &        0.010    &        0.079     \\\\\n",
       "\\textbf{INDUS}   &       0.0077  &        0.078     &     0.098  &         0.922        &       -0.146    &        0.161     \\\\\n",
       "\\textbf{CHAS}    &       2.5157  &        1.045     &     2.407  &         0.017        &        0.460    &        4.571     \\\\\n",
       "\\textbf{NOX}     &      -3.3773  &        4.116     &    -0.821  &         0.412        &      -11.470    &        4.716     \\\\\n",
       "\\textbf{RM}      &       5.8394  &        0.374     &    15.619  &         0.000        &        5.104    &        6.575     \\\\\n",
       "\\textbf{AGE}     &      -0.0104  &        0.016     &    -0.661  &         0.509        &       -0.041    &        0.020     \\\\\n",
       "\\textbf{DIS}     &      -0.9479  &        0.228     &    -4.150  &         0.000        &       -1.397    &       -0.499     \\\\\n",
       "\\textbf{RAD}     &       0.2115  &        0.080     &     2.654  &         0.008        &        0.055    &        0.368     \\\\\n",
       "\\textbf{TAX}     &      -0.0119  &        0.005     &    -2.526  &         0.012        &       -0.021    &       -0.003     \\\\\n",
       "\\textbf{PTRATIO} &      -0.3033  &        0.135     &    -2.243  &         0.026        &       -0.569    &       -0.037     \\\\\n",
       "\\textbf{B}       &       0.0146  &        0.003     &     4.538  &         0.000        &        0.008    &        0.021     \\\\\n",
       "\\textbf{LSTAT}   &      -0.4181  &        0.060     &    -6.988  &         0.000        &       -0.536    &       -0.300     \\\\\n",
       "\\bottomrule\n",
       "\\end{tabular}\n",
       "\\begin{tabular}{lclc}\n",
       "\\textbf{Omnibus:}       & 187.113 & \\textbf{  Durbin-Watson:     } &    1.930  \\\\\n",
       "\\textbf{Prob(Omnibus):} &   0.000 & \\textbf{  Jarque-Bera (JB):  } & 1593.538  \\\\\n",
       "\\textbf{Skew:}          &   1.898 & \\textbf{  Prob(JB):          } &     0.00  \\\\\n",
       "\\textbf{Kurtosis:}      &  12.300 & \\textbf{  Cond. No.          } & 8.96e+03  \\\\\n",
       "\\bottomrule\n",
       "\\end{tabular}\n",
       "%\\caption{OLS Regression Results}\n",
       "\\end{center}\n",
       "\n",
       "Notes: \\newline\n",
       " [1] R² is computed without centering (uncentered) since the model does not contain a constant. \\newline\n",
       " [2] Standard Errors assume that the covariance matrix of the errors is correctly specified. \\newline\n",
       " [3] The condition number is large, 8.96e+03. This might indicate that there are \\newline\n",
       " strong multicollinearity or other numerical problems."
      ],
      "text/plain": [
       "<class 'statsmodels.iolib.summary.Summary'>\n",
       "\"\"\"\n",
       "                                 OLS Regression Results                                \n",
       "=======================================================================================\n",
       "Dep. Variable:                   MEDV   R-squared (uncentered):                   0.959\n",
       "Model:                            OLS   Adj. R-squared (uncentered):              0.957\n",
       "Method:                 Least Squares   F-statistic:                              654.2\n",
       "Date:                Mon, 02 Sep 2024   Prob (F-statistic):                   3.71e-244\n",
       "Time:                        19:43:34   Log-Likelihood:                         -1141.9\n",
       "No. Observations:                 379   AIC:                                      2310.\n",
       "Df Residuals:                     366   BIC:                                      2361.\n",
       "Df Model:                          13                                                  \n",
       "Covariance Type:            nonrobust                                                  \n",
       "==============================================================================\n",
       "                 coef    std err          t      P>|t|      [0.025      0.975]\n",
       "------------------------------------------------------------------------------\n",
       "CRIM          -0.1312      0.041     -3.236      0.001      -0.211      -0.051\n",
       "ZN             0.0448      0.018      2.543      0.011       0.010       0.079\n",
       "INDUS          0.0077      0.078      0.098      0.922      -0.146       0.161\n",
       "CHAS           2.5157      1.045      2.407      0.017       0.460       4.571\n",
       "NOX           -3.3773      4.116     -0.821      0.412     -11.470       4.716\n",
       "RM             5.8394      0.374     15.619      0.000       5.104       6.575\n",
       "AGE           -0.0104      0.016     -0.661      0.509      -0.041       0.020\n",
       "DIS           -0.9479      0.228     -4.150      0.000      -1.397      -0.499\n",
       "RAD            0.2115      0.080      2.654      0.008       0.055       0.368\n",
       "TAX           -0.0119      0.005     -2.526      0.012      -0.021      -0.003\n",
       "PTRATIO       -0.3033      0.135     -2.243      0.026      -0.569      -0.037\n",
       "B              0.0146      0.003      4.538      0.000       0.008       0.021\n",
       "LSTAT         -0.4181      0.060     -6.988      0.000      -0.536      -0.300\n",
       "==============================================================================\n",
       "Omnibus:                      187.113   Durbin-Watson:                   1.930\n",
       "Prob(Omnibus):                  0.000   Jarque-Bera (JB):             1593.538\n",
       "Skew:                           1.898   Prob(JB):                         0.00\n",
       "Kurtosis:                      12.300   Cond. No.                     8.96e+03\n",
       "==============================================================================\n",
       "\n",
       "Notes:\n",
       "[1] R² is computed without centering (uncentered) since the model does not contain a constant.\n",
       "[2] Standard Errors assume that the covariance matrix of the errors is correctly specified.\n",
       "[3] The condition number is large, 8.96e+03. This might indicate that there are\n",
       "strong multicollinearity or other numerical problems.\n",
       "\"\"\""
      ]
     },
     "execution_count": 7,
     "metadata": {},
     "output_type": "execute_result"
    }
   ],
   "source": [
    "xtrain, xtest, ytrain, ytest = train_test_split(predictors, response, test_size= 0.25, random_state=314)\n",
    "\n",
    "model = OLS(ytrain, xtrain) #OLS asume que no hay intercepto\n",
    "ols = model.fit() #aquí se entrena o se 'ajusta' el modelo.\n",
    "ols.summary()"
   ]
  },
  {
   "cell_type": "markdown",
   "metadata": {},
   "source": [
    "### Lo que lo anterior nos dice es que podemos modelar el 'valor de una casa' como:\n"
   ]
  },
  {
   "cell_type": "markdown",
   "metadata": {},
   "source": [
    "$MEDV = -0.1312*CRIM + 0.0448*ZN + 0.0077*INDUS + 2.5157*CHAS +...-0.4181*LSTAT$"
   ]
  },
  {
   "cell_type": "code",
   "execution_count": 8,
   "metadata": {},
   "outputs": [
    {
     "data": {
      "text/plain": [
       "24.880958509702708"
      ]
     },
     "execution_count": 8,
     "metadata": {},
     "output_type": "execute_result"
    }
   ],
   "source": [
    "y_ols = ols.predict(xtest)\n",
    "z = (y_ols - ytest)**2\n",
    "z.sum()/len(z) #error cuadrático medio (de predicción sobre conjunto de test/prueba) - mean squared error (mse)"
   ]
  },
  {
   "cell_type": "code",
   "execution_count": 9,
   "metadata": {
    "scrolled": true
   },
   "outputs": [
    {
     "data": {
      "text/plain": [
       "125    22.168288\n",
       "262    41.725985\n",
       "40     34.681190\n",
       "35     22.747024\n",
       "375    26.901880\n",
       "         ...    \n",
       "203    41.375187\n",
       "418     2.847329\n",
       "466    12.730842\n",
       "268    37.597809\n",
       "43     24.361507\n",
       "Length: 127, dtype: float64"
      ]
     },
     "execution_count": 9,
     "metadata": {},
     "output_type": "execute_result"
    }
   ],
   "source": [
    "y_ols #estas son las predicciones"
   ]
  },
  {
   "cell_type": "code",
   "execution_count": 10,
   "metadata": {},
   "outputs": [
    {
     "data": {
      "text/plain": [
       "125    21.4\n",
       "262    48.8\n",
       "40     34.9\n",
       "35     18.9\n",
       "375    15.0\n",
       "       ... \n",
       "203    48.5\n",
       "418     8.8\n",
       "466    19.0\n",
       "268    43.5\n",
       "43     24.7\n",
       "Name: MEDV, Length: 127, dtype: float64"
      ]
     },
     "execution_count": 10,
     "metadata": {},
     "output_type": "execute_result"
    }
   ],
   "source": [
    "ytest #los valores reales"
   ]
  },
  {
   "cell_type": "markdown",
   "metadata": {
    "jp-MarkdownHeadingCollapsed": true
   },
   "source": [
    "### Ridge Regression [Hoerl and Kennard, 1970]"
   ]
  },
  {
   "cell_type": "markdown",
   "metadata": {},
   "source": [
    "### Motivación:\n",
    "1. Colinealidad --> aumenta varianza del estimador de mínimos cuadrados\n",
    "2. Esto puede afectar la predicción de nuestro modelo\n",
    "\n",
    "La colinealidad puede medirse mediante el indice de condición de una matrix:"
   ]
  },
  {
   "cell_type": "markdown",
   "metadata": {},
   "source": [
    "### El índice de condición de una matrix $X$ puede expresarse como $ \\kappa(X)=\\sqrt{\\frac{\\lambda_1}{\\lambda_2}}$, donde $\\lambda_1$ y $\\lambda_2$ son los eigenvalores más grande y más pequeño, respectivamente, de $X^TX$"
   ]
  },
  {
   "cell_type": "markdown",
   "metadata": {},
   "source": [
    "<img src=\"eigeneigen.png\" alt=\"Alt text\" style=\"width: 1000px;\"/>\n"
   ]
  },
  {
   "cell_type": "markdown",
   "metadata": {},
   "source": [
    " C2\n"
   ]
  },
  {
   "cell_type": "markdown",
   "metadata": {},
   "source": [
    "## Explicación Regresión Ridge"
   ]
  },
  {
   "cell_type": "markdown",
   "metadata": {
    "jp-MarkdownHeadingCollapsed": true
   },
   "source": [
    "La Regresión Ridge es una técnica de regresión lineal **regularizada** (CONTROLA EL TAMAÑO DE LOS COEFICIENTES) que ayuda a tratar con el problema de multicolinealidad (cuando las variables independientes están altamente correlacionadas) y a prevenir el sobreajuste. Esto lo logra al introducir un término de penalización al tamaño de los coeficientes en la función de costo.\n",
    "\n",
    "La función de costo en la regresión Ridge se modifica añadiendo un término de penalización basado en la suma de los cuadrados de los coeficientes:\n",
    "\n",
    "$$\n",
    "J(\\beta) = \\text{MSE}(\\beta) + \\lambda \\sum_{i=1}^{p} \\beta_i^2\n",
    "$$\n",
    "\n",
    "Donde:\n",
    "- $J(\\beta)$ es la función de costo total.\n",
    "- $\\text{MSE}(\\beta)$ representa el error cuadrático medio, igual al de regresión lineal ordinaria.\n",
    "- $\\beta_i$ son los coeficientes del modelo para cada variable independiente (excluyendo el término de intercepción $\\beta_0$).\n",
    "- $\\lambda$ es el parámetro de regularización que controla cuánto queremos penalizar los grandes coeficientes. Una $\\lambda$ mayor incrementa la penalización sobre los coeficientes, lo que puede llevar a modelos más simples.\n",
    "\n",
    "El propósito del término de regularización $\\lambda \\sum_{i=1}^{p} \\beta_i^2$ es reducir la magnitud de los coeficientes, lo cual puede ayudar a **disminuir el riesgo de sobreajuste**. Los coeficientes más pequeños indican un modelo más simple y menos sensible a las fluctuaciones en los datos de entrenamiento, lo que puede mejorar la capacidad del modelo para generalizar bien a nuevos datos.\n",
    "\n",
    "La elección de $\\lambda$ es crucial: un valor muy alto puede hacer que el modelo sea demasiado simple y no capture bien la complejidad de los datos (subajuste o underfitting), mientras que un valor muy bajo puede llevar a poco efecto de la regularización, manteniendo el problema de sobreajuste (overfitting). La selección de una $\\lambda$ óptima generalmente se realiza mediante técnicas como la validación cruzada.\n",
    "\n",
    "En el modelo que estamos ajustando para predecir precios de casas basado en características como crimen per cápita, tamaño, número de habitaciones, etc, sin regularización, nuestro modelo podría ajustarse demasiado a los datos de entrenamiento, capturando ruido **en lugar de la relación subyacente**. Con la Regresión Ridge, se reduce el impacto de las características menos importantes (mediante la reducción de sus coeficientes), enfocándose en capturar la relación general en lugar de las peculiaridades de los datos de entrenamiento.\n"
   ]
  },
  {
   "cell_type": "markdown",
   "metadata": {},
   "source": [
    "## La formulación más conocida de Regresión Ridge es la siguiente:"
   ]
  },
  {
   "cell_type": "markdown",
   "metadata": {},
   "source": [
    "El estimador de Regresión Ridge se obtiene minimizando la siguiente función objetivo:\n",
    "\n",
    "$$\n",
    "\\text{argmin}_{\\beta} \\left\\{ \\sum_{i=1}^n (y_i - \\mathbf{x}_i^T \\beta)^2 + \\lambda \\sum_{j=1}^p \\beta_j^2 \\right\\}\n",
    "$$\n",
    "\n",
    "donde $\\mathbf{x}_i$ es un vector de $p \\times 1$ de predictores para la $i$-ésima observación, $y_i$ es la variable respuesta para la $i$-ésima observación y $\\lambda$ es el parámetro de regularización.\n",
    "\n",
    "En notación matricial, la función objetivo se puede escribir como:\n",
    "\n",
    "$$\n",
    "\\text{min}_{\\beta} (\\mathbf{y} - \\mathbf{X} \\beta)^T (\\mathbf{y} - \\mathbf{X} \\beta) + \\lambda \\beta^T \\beta \\qquad\\qquad\\qquad ... (1)\n",
    "$$\n",
    "\n",
    "que es equivalente a:\n",
    "$$\n",
    "\\text{min}_{\\beta} (\\mathbf{y} - \\mathbf{X} \\beta)^T (\\mathbf{y} - \\mathbf{X} \\beta) + \\lambda ||\\beta||^2 \\qquad\\qquad\\qquad ... (2)\n",
    "$$\n",
    "\n",
    "donde $\\mathbf{X}$ es una matriz de $n \\times p$ de variables predictoras para todas las $n$ observaciones, $\\mathbf{y}$ es un vector de $n \\times 1$ con los valores de la variable respuesta para todas las $n$ observaciones, y $\\beta$ es un vector de $p \\times 1$ de coeficientes de regresión.\n",
    "\n",
    "Expandiendo la función objetivo, tenemos:\n",
    "\n",
    "$$\n",
    "(\\mathbf{y} - \\mathbf{X} \\beta)^T (\\mathbf{y} - \\mathbf{X} \\beta) + \\lambda \\beta^T \\beta = \\beta^T \\left(\\mathbf{X}^T \\mathbf{X} + \\lambda \\mathbf{I} \\right) \\beta - 2 \\beta^T \\mathbf{X}^T \\mathbf{y} + \\mathbf{y}^T \\mathbf{y}\n",
    "$$\n",
    "\n",
    "donde $\\mathbf{I}$ es la matriz identidad de $p \\times p$.\n",
    "\n",
    "Para minimizar la función objetivo, tomamos la derivada con respecto a $\\beta$ y la igualamos a cero:\n",
    "\n",
    "$$\n",
    "\\frac{\\partial}{\\partial \\beta} \\left[ \\beta^T \\left(\\mathbf{X}^T \\mathbf{X} + \\lambda \\mathbf{I} \\right) \\beta - 2 \\beta^T \\mathbf{X}^T \\mathbf{y} + \\mathbf{y}^T \\mathbf{y} \\right] = 2 \\left(\\mathbf{X}^T \\mathbf{X} + \\lambda \\mathbf{I} \\right) \\beta - 2 \\mathbf{X}^T \\mathbf{y} = 0   \\qquad\\qquad\\qquad ... (3)\n",
    "$$\n",
    "\n",
    "Resolviendo para $\\hat{\\beta}_{ridge}$, obtenemos:\n",
    "\n",
    "$$\n",
    "\\hat{\\beta}_{ridge} = \\left(\\mathbf{X}^T \\mathbf{X} + \\lambda \\mathbf{I} \\right)^{-1} \\mathbf{X}^T \\mathbf{y}\n",
    "$$\n"
   ]
  },
  {
   "cell_type": "markdown",
   "metadata": {},
   "source": [
    "La expresión (2) es equivalente al problema de optimización:\n",
    "\n",
    "$$\n",
    "\\begin{align}\n",
    "\\text{min}_{\\beta}(\\mathbf{y} - \\mathbf{X} \\beta)^T (\\mathbf{y} - \\mathbf{X} \\beta) \\newline\\newline\n",
    "s.t. \\|\\beta\\|^2 \\leq t\n",
    "\\end{align}\n",
    "$$"
   ]
  },
  {
   "cell_type": "markdown",
   "metadata": {},
   "source": [
    "Nota: en la expresión (3), al sacar la derivada en múltiples dimensiones lo que estamos haciendo es **calcular el VECTOR GRADIENTE**"
   ]
  },
  {
   "cell_type": "markdown",
   "metadata": {},
   "source": [
    "### Estimación del parámetro $\\lambda$:"
   ]
  },
  {
   "cell_type": "markdown",
   "metadata": {},
   "source": [
    "En la práctica, el valor de $\\lambda$ se obtiene mediante **validación cruzada (cross validation)**, cuya idea principal es dividir el *training* dataset de diferentes maneras para probar el modelo. \n",
    "\n",
    "El método k-fold cross-validation divide el *training* dataset en $k$ partes. Para cada una de las $k$ partes, entrenamos el modelo considerando $k-1$ partes y probamos el desempeño del modelo en la $k$-ésima parte:"
   ]
  },
  {
   "cell_type": "markdown",
   "metadata": {},
   "source": [
    "<img src=\"validacion_cruzada.png\" alt=\"Alt text\" style=\"width: 1200px;\"/>"
   ]
  },
  {
   "cell_type": "markdown",
   "metadata": {},
   "source": [
    "### Implementando Ridge con RidgeCV() y Ridge()"
   ]
  },
  {
   "cell_type": "code",
   "execution_count": 11,
   "metadata": {},
   "outputs": [],
   "source": [
    "from sklearn.linear_model import RidgeCV, Ridge\n",
    "from sklearn.model_selection import RepeatedKFold"
   ]
  },
  {
   "cell_type": "code",
   "execution_count": 12,
   "metadata": {},
   "outputs": [
    {
     "data": {
      "text/html": [
       "<style>#sk-container-id-1 {\n",
       "  /* Definition of color scheme common for light and dark mode */\n",
       "  --sklearn-color-text: black;\n",
       "  --sklearn-color-line: gray;\n",
       "  /* Definition of color scheme for unfitted estimators */\n",
       "  --sklearn-color-unfitted-level-0: #fff5e6;\n",
       "  --sklearn-color-unfitted-level-1: #f6e4d2;\n",
       "  --sklearn-color-unfitted-level-2: #ffe0b3;\n",
       "  --sklearn-color-unfitted-level-3: chocolate;\n",
       "  /* Definition of color scheme for fitted estimators */\n",
       "  --sklearn-color-fitted-level-0: #f0f8ff;\n",
       "  --sklearn-color-fitted-level-1: #d4ebff;\n",
       "  --sklearn-color-fitted-level-2: #b3dbfd;\n",
       "  --sklearn-color-fitted-level-3: cornflowerblue;\n",
       "\n",
       "  /* Specific color for light theme */\n",
       "  --sklearn-color-text-on-default-background: var(--sg-text-color, var(--theme-code-foreground, var(--jp-content-font-color1, black)));\n",
       "  --sklearn-color-background: var(--sg-background-color, var(--theme-background, var(--jp-layout-color0, white)));\n",
       "  --sklearn-color-border-box: var(--sg-text-color, var(--theme-code-foreground, var(--jp-content-font-color1, black)));\n",
       "  --sklearn-color-icon: #696969;\n",
       "\n",
       "  @media (prefers-color-scheme: dark) {\n",
       "    /* Redefinition of color scheme for dark theme */\n",
       "    --sklearn-color-text-on-default-background: var(--sg-text-color, var(--theme-code-foreground, var(--jp-content-font-color1, white)));\n",
       "    --sklearn-color-background: var(--sg-background-color, var(--theme-background, var(--jp-layout-color0, #111)));\n",
       "    --sklearn-color-border-box: var(--sg-text-color, var(--theme-code-foreground, var(--jp-content-font-color1, white)));\n",
       "    --sklearn-color-icon: #878787;\n",
       "  }\n",
       "}\n",
       "\n",
       "#sk-container-id-1 {\n",
       "  color: var(--sklearn-color-text);\n",
       "}\n",
       "\n",
       "#sk-container-id-1 pre {\n",
       "  padding: 0;\n",
       "}\n",
       "\n",
       "#sk-container-id-1 input.sk-hidden--visually {\n",
       "  border: 0;\n",
       "  clip: rect(1px 1px 1px 1px);\n",
       "  clip: rect(1px, 1px, 1px, 1px);\n",
       "  height: 1px;\n",
       "  margin: -1px;\n",
       "  overflow: hidden;\n",
       "  padding: 0;\n",
       "  position: absolute;\n",
       "  width: 1px;\n",
       "}\n",
       "\n",
       "#sk-container-id-1 div.sk-dashed-wrapped {\n",
       "  border: 1px dashed var(--sklearn-color-line);\n",
       "  margin: 0 0.4em 0.5em 0.4em;\n",
       "  box-sizing: border-box;\n",
       "  padding-bottom: 0.4em;\n",
       "  background-color: var(--sklearn-color-background);\n",
       "}\n",
       "\n",
       "#sk-container-id-1 div.sk-container {\n",
       "  /* jupyter's `normalize.less` sets `[hidden] { display: none; }`\n",
       "     but bootstrap.min.css set `[hidden] { display: none !important; }`\n",
       "     so we also need the `!important` here to be able to override the\n",
       "     default hidden behavior on the sphinx rendered scikit-learn.org.\n",
       "     See: https://github.com/scikit-learn/scikit-learn/issues/21755 */\n",
       "  display: inline-block !important;\n",
       "  position: relative;\n",
       "}\n",
       "\n",
       "#sk-container-id-1 div.sk-text-repr-fallback {\n",
       "  display: none;\n",
       "}\n",
       "\n",
       "div.sk-parallel-item,\n",
       "div.sk-serial,\n",
       "div.sk-item {\n",
       "  /* draw centered vertical line to link estimators */\n",
       "  background-image: linear-gradient(var(--sklearn-color-text-on-default-background), var(--sklearn-color-text-on-default-background));\n",
       "  background-size: 2px 100%;\n",
       "  background-repeat: no-repeat;\n",
       "  background-position: center center;\n",
       "}\n",
       "\n",
       "/* Parallel-specific style estimator block */\n",
       "\n",
       "#sk-container-id-1 div.sk-parallel-item::after {\n",
       "  content: \"\";\n",
       "  width: 100%;\n",
       "  border-bottom: 2px solid var(--sklearn-color-text-on-default-background);\n",
       "  flex-grow: 1;\n",
       "}\n",
       "\n",
       "#sk-container-id-1 div.sk-parallel {\n",
       "  display: flex;\n",
       "  align-items: stretch;\n",
       "  justify-content: center;\n",
       "  background-color: var(--sklearn-color-background);\n",
       "  position: relative;\n",
       "}\n",
       "\n",
       "#sk-container-id-1 div.sk-parallel-item {\n",
       "  display: flex;\n",
       "  flex-direction: column;\n",
       "}\n",
       "\n",
       "#sk-container-id-1 div.sk-parallel-item:first-child::after {\n",
       "  align-self: flex-end;\n",
       "  width: 50%;\n",
       "}\n",
       "\n",
       "#sk-container-id-1 div.sk-parallel-item:last-child::after {\n",
       "  align-self: flex-start;\n",
       "  width: 50%;\n",
       "}\n",
       "\n",
       "#sk-container-id-1 div.sk-parallel-item:only-child::after {\n",
       "  width: 0;\n",
       "}\n",
       "\n",
       "/* Serial-specific style estimator block */\n",
       "\n",
       "#sk-container-id-1 div.sk-serial {\n",
       "  display: flex;\n",
       "  flex-direction: column;\n",
       "  align-items: center;\n",
       "  background-color: var(--sklearn-color-background);\n",
       "  padding-right: 1em;\n",
       "  padding-left: 1em;\n",
       "}\n",
       "\n",
       "\n",
       "/* Toggleable style: style used for estimator/Pipeline/ColumnTransformer box that is\n",
       "clickable and can be expanded/collapsed.\n",
       "- Pipeline and ColumnTransformer use this feature and define the default style\n",
       "- Estimators will overwrite some part of the style using the `sk-estimator` class\n",
       "*/\n",
       "\n",
       "/* Pipeline and ColumnTransformer style (default) */\n",
       "\n",
       "#sk-container-id-1 div.sk-toggleable {\n",
       "  /* Default theme specific background. It is overwritten whether we have a\n",
       "  specific estimator or a Pipeline/ColumnTransformer */\n",
       "  background-color: var(--sklearn-color-background);\n",
       "}\n",
       "\n",
       "/* Toggleable label */\n",
       "#sk-container-id-1 label.sk-toggleable__label {\n",
       "  cursor: pointer;\n",
       "  display: block;\n",
       "  width: 100%;\n",
       "  margin-bottom: 0;\n",
       "  padding: 0.5em;\n",
       "  box-sizing: border-box;\n",
       "  text-align: center;\n",
       "}\n",
       "\n",
       "#sk-container-id-1 label.sk-toggleable__label-arrow:before {\n",
       "  /* Arrow on the left of the label */\n",
       "  content: \"▸\";\n",
       "  float: left;\n",
       "  margin-right: 0.25em;\n",
       "  color: var(--sklearn-color-icon);\n",
       "}\n",
       "\n",
       "#sk-container-id-1 label.sk-toggleable__label-arrow:hover:before {\n",
       "  color: var(--sklearn-color-text);\n",
       "}\n",
       "\n",
       "/* Toggleable content - dropdown */\n",
       "\n",
       "#sk-container-id-1 div.sk-toggleable__content {\n",
       "  max-height: 0;\n",
       "  max-width: 0;\n",
       "  overflow: hidden;\n",
       "  text-align: left;\n",
       "  /* unfitted */\n",
       "  background-color: var(--sklearn-color-unfitted-level-0);\n",
       "}\n",
       "\n",
       "#sk-container-id-1 div.sk-toggleable__content.fitted {\n",
       "  /* fitted */\n",
       "  background-color: var(--sklearn-color-fitted-level-0);\n",
       "}\n",
       "\n",
       "#sk-container-id-1 div.sk-toggleable__content pre {\n",
       "  margin: 0.2em;\n",
       "  border-radius: 0.25em;\n",
       "  color: var(--sklearn-color-text);\n",
       "  /* unfitted */\n",
       "  background-color: var(--sklearn-color-unfitted-level-0);\n",
       "}\n",
       "\n",
       "#sk-container-id-1 div.sk-toggleable__content.fitted pre {\n",
       "  /* unfitted */\n",
       "  background-color: var(--sklearn-color-fitted-level-0);\n",
       "}\n",
       "\n",
       "#sk-container-id-1 input.sk-toggleable__control:checked~div.sk-toggleable__content {\n",
       "  /* Expand drop-down */\n",
       "  max-height: 200px;\n",
       "  max-width: 100%;\n",
       "  overflow: auto;\n",
       "}\n",
       "\n",
       "#sk-container-id-1 input.sk-toggleable__control:checked~label.sk-toggleable__label-arrow:before {\n",
       "  content: \"▾\";\n",
       "}\n",
       "\n",
       "/* Pipeline/ColumnTransformer-specific style */\n",
       "\n",
       "#sk-container-id-1 div.sk-label input.sk-toggleable__control:checked~label.sk-toggleable__label {\n",
       "  color: var(--sklearn-color-text);\n",
       "  background-color: var(--sklearn-color-unfitted-level-2);\n",
       "}\n",
       "\n",
       "#sk-container-id-1 div.sk-label.fitted input.sk-toggleable__control:checked~label.sk-toggleable__label {\n",
       "  background-color: var(--sklearn-color-fitted-level-2);\n",
       "}\n",
       "\n",
       "/* Estimator-specific style */\n",
       "\n",
       "/* Colorize estimator box */\n",
       "#sk-container-id-1 div.sk-estimator input.sk-toggleable__control:checked~label.sk-toggleable__label {\n",
       "  /* unfitted */\n",
       "  background-color: var(--sklearn-color-unfitted-level-2);\n",
       "}\n",
       "\n",
       "#sk-container-id-1 div.sk-estimator.fitted input.sk-toggleable__control:checked~label.sk-toggleable__label {\n",
       "  /* fitted */\n",
       "  background-color: var(--sklearn-color-fitted-level-2);\n",
       "}\n",
       "\n",
       "#sk-container-id-1 div.sk-label label.sk-toggleable__label,\n",
       "#sk-container-id-1 div.sk-label label {\n",
       "  /* The background is the default theme color */\n",
       "  color: var(--sklearn-color-text-on-default-background);\n",
       "}\n",
       "\n",
       "/* On hover, darken the color of the background */\n",
       "#sk-container-id-1 div.sk-label:hover label.sk-toggleable__label {\n",
       "  color: var(--sklearn-color-text);\n",
       "  background-color: var(--sklearn-color-unfitted-level-2);\n",
       "}\n",
       "\n",
       "/* Label box, darken color on hover, fitted */\n",
       "#sk-container-id-1 div.sk-label.fitted:hover label.sk-toggleable__label.fitted {\n",
       "  color: var(--sklearn-color-text);\n",
       "  background-color: var(--sklearn-color-fitted-level-2);\n",
       "}\n",
       "\n",
       "/* Estimator label */\n",
       "\n",
       "#sk-container-id-1 div.sk-label label {\n",
       "  font-family: monospace;\n",
       "  font-weight: bold;\n",
       "  display: inline-block;\n",
       "  line-height: 1.2em;\n",
       "}\n",
       "\n",
       "#sk-container-id-1 div.sk-label-container {\n",
       "  text-align: center;\n",
       "}\n",
       "\n",
       "/* Estimator-specific */\n",
       "#sk-container-id-1 div.sk-estimator {\n",
       "  font-family: monospace;\n",
       "  border: 1px dotted var(--sklearn-color-border-box);\n",
       "  border-radius: 0.25em;\n",
       "  box-sizing: border-box;\n",
       "  margin-bottom: 0.5em;\n",
       "  /* unfitted */\n",
       "  background-color: var(--sklearn-color-unfitted-level-0);\n",
       "}\n",
       "\n",
       "#sk-container-id-1 div.sk-estimator.fitted {\n",
       "  /* fitted */\n",
       "  background-color: var(--sklearn-color-fitted-level-0);\n",
       "}\n",
       "\n",
       "/* on hover */\n",
       "#sk-container-id-1 div.sk-estimator:hover {\n",
       "  /* unfitted */\n",
       "  background-color: var(--sklearn-color-unfitted-level-2);\n",
       "}\n",
       "\n",
       "#sk-container-id-1 div.sk-estimator.fitted:hover {\n",
       "  /* fitted */\n",
       "  background-color: var(--sklearn-color-fitted-level-2);\n",
       "}\n",
       "\n",
       "/* Specification for estimator info (e.g. \"i\" and \"?\") */\n",
       "\n",
       "/* Common style for \"i\" and \"?\" */\n",
       "\n",
       ".sk-estimator-doc-link,\n",
       "a:link.sk-estimator-doc-link,\n",
       "a:visited.sk-estimator-doc-link {\n",
       "  float: right;\n",
       "  font-size: smaller;\n",
       "  line-height: 1em;\n",
       "  font-family: monospace;\n",
       "  background-color: var(--sklearn-color-background);\n",
       "  border-radius: 1em;\n",
       "  height: 1em;\n",
       "  width: 1em;\n",
       "  text-decoration: none !important;\n",
       "  margin-left: 1ex;\n",
       "  /* unfitted */\n",
       "  border: var(--sklearn-color-unfitted-level-1) 1pt solid;\n",
       "  color: var(--sklearn-color-unfitted-level-1);\n",
       "}\n",
       "\n",
       ".sk-estimator-doc-link.fitted,\n",
       "a:link.sk-estimator-doc-link.fitted,\n",
       "a:visited.sk-estimator-doc-link.fitted {\n",
       "  /* fitted */\n",
       "  border: var(--sklearn-color-fitted-level-1) 1pt solid;\n",
       "  color: var(--sklearn-color-fitted-level-1);\n",
       "}\n",
       "\n",
       "/* On hover */\n",
       "div.sk-estimator:hover .sk-estimator-doc-link:hover,\n",
       ".sk-estimator-doc-link:hover,\n",
       "div.sk-label-container:hover .sk-estimator-doc-link:hover,\n",
       ".sk-estimator-doc-link:hover {\n",
       "  /* unfitted */\n",
       "  background-color: var(--sklearn-color-unfitted-level-3);\n",
       "  color: var(--sklearn-color-background);\n",
       "  text-decoration: none;\n",
       "}\n",
       "\n",
       "div.sk-estimator.fitted:hover .sk-estimator-doc-link.fitted:hover,\n",
       ".sk-estimator-doc-link.fitted:hover,\n",
       "div.sk-label-container:hover .sk-estimator-doc-link.fitted:hover,\n",
       ".sk-estimator-doc-link.fitted:hover {\n",
       "  /* fitted */\n",
       "  background-color: var(--sklearn-color-fitted-level-3);\n",
       "  color: var(--sklearn-color-background);\n",
       "  text-decoration: none;\n",
       "}\n",
       "\n",
       "/* Span, style for the box shown on hovering the info icon */\n",
       ".sk-estimator-doc-link span {\n",
       "  display: none;\n",
       "  z-index: 9999;\n",
       "  position: relative;\n",
       "  font-weight: normal;\n",
       "  right: .2ex;\n",
       "  padding: .5ex;\n",
       "  margin: .5ex;\n",
       "  width: min-content;\n",
       "  min-width: 20ex;\n",
       "  max-width: 50ex;\n",
       "  color: var(--sklearn-color-text);\n",
       "  box-shadow: 2pt 2pt 4pt #999;\n",
       "  /* unfitted */\n",
       "  background: var(--sklearn-color-unfitted-level-0);\n",
       "  border: .5pt solid var(--sklearn-color-unfitted-level-3);\n",
       "}\n",
       "\n",
       ".sk-estimator-doc-link.fitted span {\n",
       "  /* fitted */\n",
       "  background: var(--sklearn-color-fitted-level-0);\n",
       "  border: var(--sklearn-color-fitted-level-3);\n",
       "}\n",
       "\n",
       ".sk-estimator-doc-link:hover span {\n",
       "  display: block;\n",
       "}\n",
       "\n",
       "/* \"?\"-specific style due to the `<a>` HTML tag */\n",
       "\n",
       "#sk-container-id-1 a.estimator_doc_link {\n",
       "  float: right;\n",
       "  font-size: 1rem;\n",
       "  line-height: 1em;\n",
       "  font-family: monospace;\n",
       "  background-color: var(--sklearn-color-background);\n",
       "  border-radius: 1rem;\n",
       "  height: 1rem;\n",
       "  width: 1rem;\n",
       "  text-decoration: none;\n",
       "  /* unfitted */\n",
       "  color: var(--sklearn-color-unfitted-level-1);\n",
       "  border: var(--sklearn-color-unfitted-level-1) 1pt solid;\n",
       "}\n",
       "\n",
       "#sk-container-id-1 a.estimator_doc_link.fitted {\n",
       "  /* fitted */\n",
       "  border: var(--sklearn-color-fitted-level-1) 1pt solid;\n",
       "  color: var(--sklearn-color-fitted-level-1);\n",
       "}\n",
       "\n",
       "/* On hover */\n",
       "#sk-container-id-1 a.estimator_doc_link:hover {\n",
       "  /* unfitted */\n",
       "  background-color: var(--sklearn-color-unfitted-level-3);\n",
       "  color: var(--sklearn-color-background);\n",
       "  text-decoration: none;\n",
       "}\n",
       "\n",
       "#sk-container-id-1 a.estimator_doc_link.fitted:hover {\n",
       "  /* fitted */\n",
       "  background-color: var(--sklearn-color-fitted-level-3);\n",
       "}\n",
       "</style><div id=\"sk-container-id-1\" class=\"sk-top-container\"><div class=\"sk-text-repr-fallback\"><pre>RidgeCV(alphas=array([0.01 , 0.015, 0.02 , 0.025, 0.03 , 0.035, 0.04 , 0.045, 0.05 ,\n",
       "       0.055, 0.06 , 0.065, 0.07 , 0.075, 0.08 , 0.085, 0.09 , 0.095,\n",
       "       0.1  , 0.105, 0.11 , 0.115, 0.12 , 0.125, 0.13 , 0.135, 0.14 ,\n",
       "       0.145, 0.15 , 0.155, 0.16 , 0.165, 0.17 , 0.175, 0.18 , 0.185,\n",
       "       0.19 , 0.195, 0.2  , 0.205, 0.21 , 0.215, 0.22 , 0.225, 0.23 ,\n",
       "       0.235, 0.24 , 0.245, 0.25 , 0.255, 0.26 , 0.265, 0.27 , 0.275,\n",
       "       0.28 , 0.285, 0.29 , 0.295, 0.3  , 0.305, 0...\n",
       "       2.755, 2.76 , 2.765, 2.77 , 2.775, 2.78 , 2.785, 2.79 , 2.795,\n",
       "       2.8  , 2.805, 2.81 , 2.815, 2.82 , 2.825, 2.83 , 2.835, 2.84 ,\n",
       "       2.845, 2.85 , 2.855, 2.86 , 2.865, 2.87 , 2.875, 2.88 , 2.885,\n",
       "       2.89 , 2.895, 2.9  , 2.905, 2.91 , 2.915, 2.92 , 2.925, 2.93 ,\n",
       "       2.935, 2.94 , 2.945, 2.95 , 2.955, 2.96 , 2.965, 2.97 , 2.975,\n",
       "       2.98 , 2.985, 2.99 , 2.995]),\n",
       "        cv=RepeatedKFold(n_repeats=3, n_splits=10, random_state=1),\n",
       "        scoring=&#x27;neg_mean_absolute_error&#x27;)</pre><b>In a Jupyter environment, please rerun this cell to show the HTML representation or trust the notebook. <br />On GitHub, the HTML representation is unable to render, please try loading this page with nbviewer.org.</b></div><div class=\"sk-container\" hidden><div class=\"sk-item\"><div class=\"sk-estimator fitted sk-toggleable\"><input class=\"sk-toggleable__control sk-hidden--visually\" id=\"sk-estimator-id-1\" type=\"checkbox\" checked><label for=\"sk-estimator-id-1\" class=\"sk-toggleable__label fitted sk-toggleable__label-arrow fitted\">&nbsp;&nbsp;RidgeCV<a class=\"sk-estimator-doc-link fitted\" rel=\"noreferrer\" target=\"_blank\" href=\"https://scikit-learn.org/1.4/modules/generated/sklearn.linear_model.RidgeCV.html\">?<span>Documentation for RidgeCV</span></a><span class=\"sk-estimator-doc-link fitted\">i<span>Fitted</span></span></label><div class=\"sk-toggleable__content fitted\"><pre>RidgeCV(alphas=array([0.01 , 0.015, 0.02 , 0.025, 0.03 , 0.035, 0.04 , 0.045, 0.05 ,\n",
       "       0.055, 0.06 , 0.065, 0.07 , 0.075, 0.08 , 0.085, 0.09 , 0.095,\n",
       "       0.1  , 0.105, 0.11 , 0.115, 0.12 , 0.125, 0.13 , 0.135, 0.14 ,\n",
       "       0.145, 0.15 , 0.155, 0.16 , 0.165, 0.17 , 0.175, 0.18 , 0.185,\n",
       "       0.19 , 0.195, 0.2  , 0.205, 0.21 , 0.215, 0.22 , 0.225, 0.23 ,\n",
       "       0.235, 0.24 , 0.245, 0.25 , 0.255, 0.26 , 0.265, 0.27 , 0.275,\n",
       "       0.28 , 0.285, 0.29 , 0.295, 0.3  , 0.305, 0...\n",
       "       2.755, 2.76 , 2.765, 2.77 , 2.775, 2.78 , 2.785, 2.79 , 2.795,\n",
       "       2.8  , 2.805, 2.81 , 2.815, 2.82 , 2.825, 2.83 , 2.835, 2.84 ,\n",
       "       2.845, 2.85 , 2.855, 2.86 , 2.865, 2.87 , 2.875, 2.88 , 2.885,\n",
       "       2.89 , 2.895, 2.9  , 2.905, 2.91 , 2.915, 2.92 , 2.925, 2.93 ,\n",
       "       2.935, 2.94 , 2.945, 2.95 , 2.955, 2.96 , 2.965, 2.97 , 2.975,\n",
       "       2.98 , 2.985, 2.99 , 2.995]),\n",
       "        cv=RepeatedKFold(n_repeats=3, n_splits=10, random_state=1),\n",
       "        scoring=&#x27;neg_mean_absolute_error&#x27;)</pre></div> </div></div></div></div>"
      ],
      "text/plain": [
       "RidgeCV(alphas=array([0.01 , 0.015, 0.02 , 0.025, 0.03 , 0.035, 0.04 , 0.045, 0.05 ,\n",
       "       0.055, 0.06 , 0.065, 0.07 , 0.075, 0.08 , 0.085, 0.09 , 0.095,\n",
       "       0.1  , 0.105, 0.11 , 0.115, 0.12 , 0.125, 0.13 , 0.135, 0.14 ,\n",
       "       0.145, 0.15 , 0.155, 0.16 , 0.165, 0.17 , 0.175, 0.18 , 0.185,\n",
       "       0.19 , 0.195, 0.2  , 0.205, 0.21 , 0.215, 0.22 , 0.225, 0.23 ,\n",
       "       0.235, 0.24 , 0.245, 0.25 , 0.255, 0.26 , 0.265, 0.27 , 0.275,\n",
       "       0.28 , 0.285, 0.29 , 0.295, 0.3  , 0.305, 0...\n",
       "       2.755, 2.76 , 2.765, 2.77 , 2.775, 2.78 , 2.785, 2.79 , 2.795,\n",
       "       2.8  , 2.805, 2.81 , 2.815, 2.82 , 2.825, 2.83 , 2.835, 2.84 ,\n",
       "       2.845, 2.85 , 2.855, 2.86 , 2.865, 2.87 , 2.875, 2.88 , 2.885,\n",
       "       2.89 , 2.895, 2.9  , 2.905, 2.91 , 2.915, 2.92 , 2.925, 2.93 ,\n",
       "       2.935, 2.94 , 2.945, 2.95 , 2.955, 2.96 , 2.965, 2.97 , 2.975,\n",
       "       2.98 , 2.985, 2.99 , 2.995]),\n",
       "        cv=RepeatedKFold(n_repeats=3, n_splits=10, random_state=1),\n",
       "        scoring='neg_mean_absolute_error')"
      ]
     },
     "execution_count": 12,
     "metadata": {},
     "output_type": "execute_result"
    }
   ],
   "source": [
    "cv = RepeatedKFold(n_splits=10, n_repeats=3, random_state=1) #Aquí estamos definiendo la forma de validación cruzada que queremos\n",
    "model = RidgeCV(alphas = np.arange(0.01, 3, 0.005), cv=cv, scoring= 'neg_mean_absolute_error') #definimos el modelo\n",
    "model.fit(xtrain, ytrain) #aquí es donde se lleva a cabo el entrenamiento del modelo."
   ]
  },
  {
   "cell_type": "code",
   "execution_count": 13,
   "metadata": {},
   "outputs": [
    {
     "name": "stdout",
     "output_type": "stream",
     "text": [
      "0.37499999999999994\n"
     ]
    }
   ],
   "source": [
    "print(model.alpha_) # la lambda (alpha) que minimiza el error"
   ]
  },
  {
   "cell_type": "code",
   "execution_count": 14,
   "metadata": {},
   "outputs": [
    {
     "data": {
      "text/plain": [
       "array([-1.38276688e-01,  4.21073672e-02,  1.14995884e-02,  2.28952993e+00,\n",
       "       -1.23471301e+01,  3.87374479e+00, -7.52187473e-03, -1.34117452e+00,\n",
       "        3.23991945e-01, -1.51038650e-02, -7.75008908e-01,  9.58497226e-03,\n",
       "       -5.22772814e-01])"
      ]
     },
     "execution_count": 14,
     "metadata": {},
     "output_type": "execute_result"
    }
   ],
   "source": [
    "model.coef_"
   ]
  },
  {
   "cell_type": "code",
   "execution_count": 15,
   "metadata": {},
   "outputs": [
    {
     "data": {
      "text/plain": [
       "array(['CRIM', 'ZN', 'INDUS', 'CHAS', 'NOX', 'RM', 'AGE', 'DIS', 'RAD',\n",
       "       'TAX', 'PTRATIO', 'B', 'LSTAT'], dtype=object)"
      ]
     },
     "execution_count": 15,
     "metadata": {},
     "output_type": "execute_result"
    }
   ],
   "source": [
    "model.feature_names_in_"
   ]
  },
  {
   "cell_type": "code",
   "execution_count": 16,
   "metadata": {},
   "outputs": [
    {
     "data": {
      "text/plain": [
       "CRIM       -0.138277\n",
       "ZN          0.042107\n",
       "INDUS       0.011500\n",
       "CHAS        2.289530\n",
       "NOX       -12.347130\n",
       "RM          3.873745\n",
       "AGE        -0.007522\n",
       "DIS        -1.341175\n",
       "RAD         0.323992\n",
       "TAX        -0.015104\n",
       "PTRATIO    -0.775009\n",
       "B           0.009585\n",
       "LSTAT      -0.522773\n",
       "dtype: float64"
      ]
     },
     "execution_count": 16,
     "metadata": {},
     "output_type": "execute_result"
    }
   ],
   "source": [
    "coef_series = pd.Series(model.coef_, model.feature_names_in_)\n",
    "coef_series"
   ]
  },
  {
   "cell_type": "code",
   "execution_count": 17,
   "metadata": {},
   "outputs": [
    {
     "data": {
      "text/plain": [
       "21.797763372453364"
      ]
     },
     "execution_count": 17,
     "metadata": {},
     "output_type": "execute_result"
    }
   ],
   "source": [
    "y_ridge = model.predict(xtest)\n",
    "z = (y_ridge - ytest)**2\n",
    "z.sum()/len(z)"
   ]
  },
  {
   "cell_type": "code",
   "execution_count": 18,
   "metadata": {},
   "outputs": [
    {
     "data": {
      "text/plain": [
       "-0.12419614147909963"
      ]
     },
     "execution_count": 18,
     "metadata": {},
     "output_type": "execute_result"
    }
   ],
   "source": [
    "21.79/24.88 -1  #mejoramos el error de predicción en 12.4%"
   ]
  },
  {
   "cell_type": "code",
   "execution_count": 19,
   "metadata": {},
   "outputs": [
    {
     "data": {
      "text/html": [
       "<style>#sk-container-id-2 {\n",
       "  /* Definition of color scheme common for light and dark mode */\n",
       "  --sklearn-color-text: black;\n",
       "  --sklearn-color-line: gray;\n",
       "  /* Definition of color scheme for unfitted estimators */\n",
       "  --sklearn-color-unfitted-level-0: #fff5e6;\n",
       "  --sklearn-color-unfitted-level-1: #f6e4d2;\n",
       "  --sklearn-color-unfitted-level-2: #ffe0b3;\n",
       "  --sklearn-color-unfitted-level-3: chocolate;\n",
       "  /* Definition of color scheme for fitted estimators */\n",
       "  --sklearn-color-fitted-level-0: #f0f8ff;\n",
       "  --sklearn-color-fitted-level-1: #d4ebff;\n",
       "  --sklearn-color-fitted-level-2: #b3dbfd;\n",
       "  --sklearn-color-fitted-level-3: cornflowerblue;\n",
       "\n",
       "  /* Specific color for light theme */\n",
       "  --sklearn-color-text-on-default-background: var(--sg-text-color, var(--theme-code-foreground, var(--jp-content-font-color1, black)));\n",
       "  --sklearn-color-background: var(--sg-background-color, var(--theme-background, var(--jp-layout-color0, white)));\n",
       "  --sklearn-color-border-box: var(--sg-text-color, var(--theme-code-foreground, var(--jp-content-font-color1, black)));\n",
       "  --sklearn-color-icon: #696969;\n",
       "\n",
       "  @media (prefers-color-scheme: dark) {\n",
       "    /* Redefinition of color scheme for dark theme */\n",
       "    --sklearn-color-text-on-default-background: var(--sg-text-color, var(--theme-code-foreground, var(--jp-content-font-color1, white)));\n",
       "    --sklearn-color-background: var(--sg-background-color, var(--theme-background, var(--jp-layout-color0, #111)));\n",
       "    --sklearn-color-border-box: var(--sg-text-color, var(--theme-code-foreground, var(--jp-content-font-color1, white)));\n",
       "    --sklearn-color-icon: #878787;\n",
       "  }\n",
       "}\n",
       "\n",
       "#sk-container-id-2 {\n",
       "  color: var(--sklearn-color-text);\n",
       "}\n",
       "\n",
       "#sk-container-id-2 pre {\n",
       "  padding: 0;\n",
       "}\n",
       "\n",
       "#sk-container-id-2 input.sk-hidden--visually {\n",
       "  border: 0;\n",
       "  clip: rect(1px 1px 1px 1px);\n",
       "  clip: rect(1px, 1px, 1px, 1px);\n",
       "  height: 1px;\n",
       "  margin: -1px;\n",
       "  overflow: hidden;\n",
       "  padding: 0;\n",
       "  position: absolute;\n",
       "  width: 1px;\n",
       "}\n",
       "\n",
       "#sk-container-id-2 div.sk-dashed-wrapped {\n",
       "  border: 1px dashed var(--sklearn-color-line);\n",
       "  margin: 0 0.4em 0.5em 0.4em;\n",
       "  box-sizing: border-box;\n",
       "  padding-bottom: 0.4em;\n",
       "  background-color: var(--sklearn-color-background);\n",
       "}\n",
       "\n",
       "#sk-container-id-2 div.sk-container {\n",
       "  /* jupyter's `normalize.less` sets `[hidden] { display: none; }`\n",
       "     but bootstrap.min.css set `[hidden] { display: none !important; }`\n",
       "     so we also need the `!important` here to be able to override the\n",
       "     default hidden behavior on the sphinx rendered scikit-learn.org.\n",
       "     See: https://github.com/scikit-learn/scikit-learn/issues/21755 */\n",
       "  display: inline-block !important;\n",
       "  position: relative;\n",
       "}\n",
       "\n",
       "#sk-container-id-2 div.sk-text-repr-fallback {\n",
       "  display: none;\n",
       "}\n",
       "\n",
       "div.sk-parallel-item,\n",
       "div.sk-serial,\n",
       "div.sk-item {\n",
       "  /* draw centered vertical line to link estimators */\n",
       "  background-image: linear-gradient(var(--sklearn-color-text-on-default-background), var(--sklearn-color-text-on-default-background));\n",
       "  background-size: 2px 100%;\n",
       "  background-repeat: no-repeat;\n",
       "  background-position: center center;\n",
       "}\n",
       "\n",
       "/* Parallel-specific style estimator block */\n",
       "\n",
       "#sk-container-id-2 div.sk-parallel-item::after {\n",
       "  content: \"\";\n",
       "  width: 100%;\n",
       "  border-bottom: 2px solid var(--sklearn-color-text-on-default-background);\n",
       "  flex-grow: 1;\n",
       "}\n",
       "\n",
       "#sk-container-id-2 div.sk-parallel {\n",
       "  display: flex;\n",
       "  align-items: stretch;\n",
       "  justify-content: center;\n",
       "  background-color: var(--sklearn-color-background);\n",
       "  position: relative;\n",
       "}\n",
       "\n",
       "#sk-container-id-2 div.sk-parallel-item {\n",
       "  display: flex;\n",
       "  flex-direction: column;\n",
       "}\n",
       "\n",
       "#sk-container-id-2 div.sk-parallel-item:first-child::after {\n",
       "  align-self: flex-end;\n",
       "  width: 50%;\n",
       "}\n",
       "\n",
       "#sk-container-id-2 div.sk-parallel-item:last-child::after {\n",
       "  align-self: flex-start;\n",
       "  width: 50%;\n",
       "}\n",
       "\n",
       "#sk-container-id-2 div.sk-parallel-item:only-child::after {\n",
       "  width: 0;\n",
       "}\n",
       "\n",
       "/* Serial-specific style estimator block */\n",
       "\n",
       "#sk-container-id-2 div.sk-serial {\n",
       "  display: flex;\n",
       "  flex-direction: column;\n",
       "  align-items: center;\n",
       "  background-color: var(--sklearn-color-background);\n",
       "  padding-right: 1em;\n",
       "  padding-left: 1em;\n",
       "}\n",
       "\n",
       "\n",
       "/* Toggleable style: style used for estimator/Pipeline/ColumnTransformer box that is\n",
       "clickable and can be expanded/collapsed.\n",
       "- Pipeline and ColumnTransformer use this feature and define the default style\n",
       "- Estimators will overwrite some part of the style using the `sk-estimator` class\n",
       "*/\n",
       "\n",
       "/* Pipeline and ColumnTransformer style (default) */\n",
       "\n",
       "#sk-container-id-2 div.sk-toggleable {\n",
       "  /* Default theme specific background. It is overwritten whether we have a\n",
       "  specific estimator or a Pipeline/ColumnTransformer */\n",
       "  background-color: var(--sklearn-color-background);\n",
       "}\n",
       "\n",
       "/* Toggleable label */\n",
       "#sk-container-id-2 label.sk-toggleable__label {\n",
       "  cursor: pointer;\n",
       "  display: block;\n",
       "  width: 100%;\n",
       "  margin-bottom: 0;\n",
       "  padding: 0.5em;\n",
       "  box-sizing: border-box;\n",
       "  text-align: center;\n",
       "}\n",
       "\n",
       "#sk-container-id-2 label.sk-toggleable__label-arrow:before {\n",
       "  /* Arrow on the left of the label */\n",
       "  content: \"▸\";\n",
       "  float: left;\n",
       "  margin-right: 0.25em;\n",
       "  color: var(--sklearn-color-icon);\n",
       "}\n",
       "\n",
       "#sk-container-id-2 label.sk-toggleable__label-arrow:hover:before {\n",
       "  color: var(--sklearn-color-text);\n",
       "}\n",
       "\n",
       "/* Toggleable content - dropdown */\n",
       "\n",
       "#sk-container-id-2 div.sk-toggleable__content {\n",
       "  max-height: 0;\n",
       "  max-width: 0;\n",
       "  overflow: hidden;\n",
       "  text-align: left;\n",
       "  /* unfitted */\n",
       "  background-color: var(--sklearn-color-unfitted-level-0);\n",
       "}\n",
       "\n",
       "#sk-container-id-2 div.sk-toggleable__content.fitted {\n",
       "  /* fitted */\n",
       "  background-color: var(--sklearn-color-fitted-level-0);\n",
       "}\n",
       "\n",
       "#sk-container-id-2 div.sk-toggleable__content pre {\n",
       "  margin: 0.2em;\n",
       "  border-radius: 0.25em;\n",
       "  color: var(--sklearn-color-text);\n",
       "  /* unfitted */\n",
       "  background-color: var(--sklearn-color-unfitted-level-0);\n",
       "}\n",
       "\n",
       "#sk-container-id-2 div.sk-toggleable__content.fitted pre {\n",
       "  /* unfitted */\n",
       "  background-color: var(--sklearn-color-fitted-level-0);\n",
       "}\n",
       "\n",
       "#sk-container-id-2 input.sk-toggleable__control:checked~div.sk-toggleable__content {\n",
       "  /* Expand drop-down */\n",
       "  max-height: 200px;\n",
       "  max-width: 100%;\n",
       "  overflow: auto;\n",
       "}\n",
       "\n",
       "#sk-container-id-2 input.sk-toggleable__control:checked~label.sk-toggleable__label-arrow:before {\n",
       "  content: \"▾\";\n",
       "}\n",
       "\n",
       "/* Pipeline/ColumnTransformer-specific style */\n",
       "\n",
       "#sk-container-id-2 div.sk-label input.sk-toggleable__control:checked~label.sk-toggleable__label {\n",
       "  color: var(--sklearn-color-text);\n",
       "  background-color: var(--sklearn-color-unfitted-level-2);\n",
       "}\n",
       "\n",
       "#sk-container-id-2 div.sk-label.fitted input.sk-toggleable__control:checked~label.sk-toggleable__label {\n",
       "  background-color: var(--sklearn-color-fitted-level-2);\n",
       "}\n",
       "\n",
       "/* Estimator-specific style */\n",
       "\n",
       "/* Colorize estimator box */\n",
       "#sk-container-id-2 div.sk-estimator input.sk-toggleable__control:checked~label.sk-toggleable__label {\n",
       "  /* unfitted */\n",
       "  background-color: var(--sklearn-color-unfitted-level-2);\n",
       "}\n",
       "\n",
       "#sk-container-id-2 div.sk-estimator.fitted input.sk-toggleable__control:checked~label.sk-toggleable__label {\n",
       "  /* fitted */\n",
       "  background-color: var(--sklearn-color-fitted-level-2);\n",
       "}\n",
       "\n",
       "#sk-container-id-2 div.sk-label label.sk-toggleable__label,\n",
       "#sk-container-id-2 div.sk-label label {\n",
       "  /* The background is the default theme color */\n",
       "  color: var(--sklearn-color-text-on-default-background);\n",
       "}\n",
       "\n",
       "/* On hover, darken the color of the background */\n",
       "#sk-container-id-2 div.sk-label:hover label.sk-toggleable__label {\n",
       "  color: var(--sklearn-color-text);\n",
       "  background-color: var(--sklearn-color-unfitted-level-2);\n",
       "}\n",
       "\n",
       "/* Label box, darken color on hover, fitted */\n",
       "#sk-container-id-2 div.sk-label.fitted:hover label.sk-toggleable__label.fitted {\n",
       "  color: var(--sklearn-color-text);\n",
       "  background-color: var(--sklearn-color-fitted-level-2);\n",
       "}\n",
       "\n",
       "/* Estimator label */\n",
       "\n",
       "#sk-container-id-2 div.sk-label label {\n",
       "  font-family: monospace;\n",
       "  font-weight: bold;\n",
       "  display: inline-block;\n",
       "  line-height: 1.2em;\n",
       "}\n",
       "\n",
       "#sk-container-id-2 div.sk-label-container {\n",
       "  text-align: center;\n",
       "}\n",
       "\n",
       "/* Estimator-specific */\n",
       "#sk-container-id-2 div.sk-estimator {\n",
       "  font-family: monospace;\n",
       "  border: 1px dotted var(--sklearn-color-border-box);\n",
       "  border-radius: 0.25em;\n",
       "  box-sizing: border-box;\n",
       "  margin-bottom: 0.5em;\n",
       "  /* unfitted */\n",
       "  background-color: var(--sklearn-color-unfitted-level-0);\n",
       "}\n",
       "\n",
       "#sk-container-id-2 div.sk-estimator.fitted {\n",
       "  /* fitted */\n",
       "  background-color: var(--sklearn-color-fitted-level-0);\n",
       "}\n",
       "\n",
       "/* on hover */\n",
       "#sk-container-id-2 div.sk-estimator:hover {\n",
       "  /* unfitted */\n",
       "  background-color: var(--sklearn-color-unfitted-level-2);\n",
       "}\n",
       "\n",
       "#sk-container-id-2 div.sk-estimator.fitted:hover {\n",
       "  /* fitted */\n",
       "  background-color: var(--sklearn-color-fitted-level-2);\n",
       "}\n",
       "\n",
       "/* Specification for estimator info (e.g. \"i\" and \"?\") */\n",
       "\n",
       "/* Common style for \"i\" and \"?\" */\n",
       "\n",
       ".sk-estimator-doc-link,\n",
       "a:link.sk-estimator-doc-link,\n",
       "a:visited.sk-estimator-doc-link {\n",
       "  float: right;\n",
       "  font-size: smaller;\n",
       "  line-height: 1em;\n",
       "  font-family: monospace;\n",
       "  background-color: var(--sklearn-color-background);\n",
       "  border-radius: 1em;\n",
       "  height: 1em;\n",
       "  width: 1em;\n",
       "  text-decoration: none !important;\n",
       "  margin-left: 1ex;\n",
       "  /* unfitted */\n",
       "  border: var(--sklearn-color-unfitted-level-1) 1pt solid;\n",
       "  color: var(--sklearn-color-unfitted-level-1);\n",
       "}\n",
       "\n",
       ".sk-estimator-doc-link.fitted,\n",
       "a:link.sk-estimator-doc-link.fitted,\n",
       "a:visited.sk-estimator-doc-link.fitted {\n",
       "  /* fitted */\n",
       "  border: var(--sklearn-color-fitted-level-1) 1pt solid;\n",
       "  color: var(--sklearn-color-fitted-level-1);\n",
       "}\n",
       "\n",
       "/* On hover */\n",
       "div.sk-estimator:hover .sk-estimator-doc-link:hover,\n",
       ".sk-estimator-doc-link:hover,\n",
       "div.sk-label-container:hover .sk-estimator-doc-link:hover,\n",
       ".sk-estimator-doc-link:hover {\n",
       "  /* unfitted */\n",
       "  background-color: var(--sklearn-color-unfitted-level-3);\n",
       "  color: var(--sklearn-color-background);\n",
       "  text-decoration: none;\n",
       "}\n",
       "\n",
       "div.sk-estimator.fitted:hover .sk-estimator-doc-link.fitted:hover,\n",
       ".sk-estimator-doc-link.fitted:hover,\n",
       "div.sk-label-container:hover .sk-estimator-doc-link.fitted:hover,\n",
       ".sk-estimator-doc-link.fitted:hover {\n",
       "  /* fitted */\n",
       "  background-color: var(--sklearn-color-fitted-level-3);\n",
       "  color: var(--sklearn-color-background);\n",
       "  text-decoration: none;\n",
       "}\n",
       "\n",
       "/* Span, style for the box shown on hovering the info icon */\n",
       ".sk-estimator-doc-link span {\n",
       "  display: none;\n",
       "  z-index: 9999;\n",
       "  position: relative;\n",
       "  font-weight: normal;\n",
       "  right: .2ex;\n",
       "  padding: .5ex;\n",
       "  margin: .5ex;\n",
       "  width: min-content;\n",
       "  min-width: 20ex;\n",
       "  max-width: 50ex;\n",
       "  color: var(--sklearn-color-text);\n",
       "  box-shadow: 2pt 2pt 4pt #999;\n",
       "  /* unfitted */\n",
       "  background: var(--sklearn-color-unfitted-level-0);\n",
       "  border: .5pt solid var(--sklearn-color-unfitted-level-3);\n",
       "}\n",
       "\n",
       ".sk-estimator-doc-link.fitted span {\n",
       "  /* fitted */\n",
       "  background: var(--sklearn-color-fitted-level-0);\n",
       "  border: var(--sklearn-color-fitted-level-3);\n",
       "}\n",
       "\n",
       ".sk-estimator-doc-link:hover span {\n",
       "  display: block;\n",
       "}\n",
       "\n",
       "/* \"?\"-specific style due to the `<a>` HTML tag */\n",
       "\n",
       "#sk-container-id-2 a.estimator_doc_link {\n",
       "  float: right;\n",
       "  font-size: 1rem;\n",
       "  line-height: 1em;\n",
       "  font-family: monospace;\n",
       "  background-color: var(--sklearn-color-background);\n",
       "  border-radius: 1rem;\n",
       "  height: 1rem;\n",
       "  width: 1rem;\n",
       "  text-decoration: none;\n",
       "  /* unfitted */\n",
       "  color: var(--sklearn-color-unfitted-level-1);\n",
       "  border: var(--sklearn-color-unfitted-level-1) 1pt solid;\n",
       "}\n",
       "\n",
       "#sk-container-id-2 a.estimator_doc_link.fitted {\n",
       "  /* fitted */\n",
       "  border: var(--sklearn-color-fitted-level-1) 1pt solid;\n",
       "  color: var(--sklearn-color-fitted-level-1);\n",
       "}\n",
       "\n",
       "/* On hover */\n",
       "#sk-container-id-2 a.estimator_doc_link:hover {\n",
       "  /* unfitted */\n",
       "  background-color: var(--sklearn-color-unfitted-level-3);\n",
       "  color: var(--sklearn-color-background);\n",
       "  text-decoration: none;\n",
       "}\n",
       "\n",
       "#sk-container-id-2 a.estimator_doc_link.fitted:hover {\n",
       "  /* fitted */\n",
       "  background-color: var(--sklearn-color-fitted-level-3);\n",
       "}\n",
       "</style><div id=\"sk-container-id-2\" class=\"sk-top-container\"><div class=\"sk-text-repr-fallback\"><pre>Ridge(alpha=0.375)</pre><b>In a Jupyter environment, please rerun this cell to show the HTML representation or trust the notebook. <br />On GitHub, the HTML representation is unable to render, please try loading this page with nbviewer.org.</b></div><div class=\"sk-container\" hidden><div class=\"sk-item\"><div class=\"sk-estimator fitted sk-toggleable\"><input class=\"sk-toggleable__control sk-hidden--visually\" id=\"sk-estimator-id-2\" type=\"checkbox\" checked><label for=\"sk-estimator-id-2\" class=\"sk-toggleable__label fitted sk-toggleable__label-arrow fitted\">&nbsp;&nbsp;Ridge<a class=\"sk-estimator-doc-link fitted\" rel=\"noreferrer\" target=\"_blank\" href=\"https://scikit-learn.org/1.4/modules/generated/sklearn.linear_model.Ridge.html\">?<span>Documentation for Ridge</span></a><span class=\"sk-estimator-doc-link fitted\">i<span>Fitted</span></span></label><div class=\"sk-toggleable__content fitted\"><pre>Ridge(alpha=0.375)</pre></div> </div></div></div></div>"
      ],
      "text/plain": [
       "Ridge(alpha=0.375)"
      ]
     },
     "execution_count": 19,
     "metadata": {},
     "output_type": "execute_result"
    }
   ],
   "source": [
    "#Si ya sabemos nuestra lambda 'óptima' (alpha), podríamos entrenar un modelo con ese valor\n",
    "rreg = Ridge(alpha = 0.375)\n",
    "rreg.fit(xtrain, ytrain)"
   ]
  },
  {
   "cell_type": "code",
   "execution_count": 20,
   "metadata": {},
   "outputs": [
    {
     "data": {
      "text/plain": [
       "21.797763372453364"
      ]
     },
     "execution_count": 20,
     "metadata": {},
     "output_type": "execute_result"
    }
   ],
   "source": [
    "y_ridge = rreg.predict(xtest)\n",
    "z = (y_ridge - ytest)**2\n",
    "z.sum()/len(z)"
   ]
  },
  {
   "cell_type": "code",
   "execution_count": 21,
   "metadata": {},
   "outputs": [],
   "source": [
    "## Respecto a la estimación del parámetro de regularización:"
   ]
  },
  {
   "cell_type": "markdown",
   "metadata": {},
   "source": [
    "<img src=\"regularization_lambda.png\" alt=\"Alt text\" style=\"width: 800px;\"/>\n"
   ]
  },
  {
   "cell_type": "code",
   "execution_count": 22,
   "metadata": {},
   "outputs": [
    {
     "data": {
      "image/png": "[encoded data removed]",
      "text/plain": [
       "<Figure size 640x480 with 1 Axes>"
      ]
     },
     "metadata": {},
     "output_type": "display_data"
    }
   ],
   "source": [
    "alphas = np.arange(0.01, 3, 0.005)\n",
    "\n",
    "coefs = []\n",
    "for a in alphas:\n",
    "    model = RidgeCV(alphas=[a], cv=cv)\n",
    "    model.fit(predictors, response)\n",
    "    coefs.append(model.coef_)\n",
    "\n",
    "\n",
    "# Gráfico\n",
    "\n",
    "ax = plt.gca()\n",
    "\n",
    "ax.plot(alphas, coefs)\n",
    "ax.set_xscale('linear')\n",
    "plt.xlabel('lambda')\n",
    "plt.ylabel('Ridge coefficients')\n",
    "plt.xlim(-1, 10)\n",
    "plt.ylim(-15, 5)\n",
    "plt.title('Ridge coefficients as a function of lambda')\n",
    "plt.axis('tight')\n",
    "plt.show()"
   ]
  },
  {
   "cell_type": "code",
   "execution_count": 23,
   "metadata": {},
   "outputs": [],
   "source": [
    "#Shrinkage techniques"
   ]
  },
  {
   "cell_type": "code",
   "execution_count": 24,
   "metadata": {},
   "outputs": [],
   "source": [
    "# The Elements of Statistical Learning  friedman, hastie, tibshirani"
   ]
  },
  {
   "cell_type": "markdown",
   "metadata": {},
   "source": [
    "### Concepto: Gradiente de una función escalar"
   ]
  },
  {
   "cell_type": "markdown",
   "metadata": {},
   "source": [
    "El vector gradiente de una función escalar $f(x_1, x_2, \\ldots, x_n)$ de varias variables es un vector que contiene todas las derivadas parciales de esa función. **Indica la dirección en la cual la función aumenta más rápidamente**. La magnitud del gradiente te da la **tasa de incremento máximo en esa dirección**.\n",
    "\n",
    "Formalmente, el vector gradiente se define como:\n",
    "\n",
    "$$\n",
    "\\nabla f = \\left[ \\frac{\\partial f}{\\partial x_1}, \\frac{\\partial f}{\\partial x_2}, \\ldots, \\frac{\\partial f}{\\partial x_n} \\right]^T\n",
    "$$\n",
    "\n",
    "Donde:\n",
    "- $\\nabla f$ es el vector gradiente de la función $f$.\n",
    "- $\\frac{\\partial f}{\\partial x_i}$ representa la derivada parcial de $f$ con respecto a la variable $x_i$.\n",
    "- $T$ indica transposición, asegurando que el gradiente se presente como un **vector columna**.\n",
    "\n",
    "El vector gradiente apunta en la dirección del mayor aumento de la función y su magnitud indica cuán rápido aumenta la función en esa dirección. En el caso de una función de una **sola variable, el gradiente se reduce a la derivada de la función**.\n"
   ]
  },
  {
   "cell_type": "markdown",
   "metadata": {},
   "source": [
    "<img src=\"quadraticprog.png\" alt=\"Alt text\" style=\"width: 800px;\"/>"
   ]
  },
  {
   "cell_type": "markdown",
   "metadata": {},
   "source": [
    "### En el punto mínimo el gradiente es cero:\n",
    "\n",
    "<img src=\"quadratic_min_grad.png\" alt=\"Alt text\" style=\"width: 400px;\"/>"
   ]
  },
  {
   "cell_type": "markdown",
   "metadata": {},
   "source": [
    "### Visto desde arriba:\n",
    "<img src=\"quadratic_projected.png\" alt=\"Alt text\" style=\"width: 800px;\"/>"
   ]
  },
  {
   "cell_type": "markdown",
   "metadata": {},
   "source": [
    "### Algoritmo Descenso de Gradiente (Gradient Descent)"
   ]
  },
  {
   "cell_type": "markdown",
   "metadata": {},
   "source": [
    "1. **Inicializar** los parámetros $\\beta$ y elegir una tasa de aprendizaje $\\eta$ (learning rate).\n",
    "2. **Repetir hasta convergencia:** Esto significa iterar hasta que el cambio en la función objetivo entre iteraciones sucesivas sea pequeño (menor que un umbral predefinido) o hasta alcanzar un número máximo de iteraciones.\n",
    "   - Calcular el gradiente de la función objetivo $J(\\beta)$ respecto a los parámetros, $\\nabla_{\\beta} J(\\beta)$.\n",
    "   - Actualizar los parámetros: $\\beta_{t+1} = \\beta_{t} - \\eta \\nabla_{\\beta} J(\\beta_{t})$.\n",
    "3. **Detener** el proceso cuando se cumpla el criterio de salida (por ejemplo, convergencia alcanzada o número máximo de iteraciones).\n"
   ]
  },
  {
   "cell_type": "markdown",
   "metadata": {},
   "source": [
    "### Ejemplo: implementación sencilla de Gradient Descent PARA MÍNIMO CUADRADOS ORDINARIOS:"
   ]
  },
  {
   "cell_type": "code",
   "execution_count": 25,
   "metadata": {},
   "outputs": [
    {
     "name": "stdout",
     "output_type": "stream",
     "text": [
      "Convergencia alcanzada en la iteración 226.\n",
      "Theta encontrados por descenso de gradiente:\n",
      "[[4.21199475]\n",
      " [2.97747952]]\n"
     ]
    }
   ],
   "source": [
    "# Generamos datos sintéticos\n",
    "np.random.seed(0)\n",
    "X = 2 * np.random.rand(100, 1)\n",
    "y = 4 + 3 * X + np.random.randn(100, 1)   # y = 4 + 3*x + error\n",
    "\n",
    "# Agregar término constante a X\n",
    "X_b = np.c_[np.ones((100, 1)), X]\n",
    "\n",
    "# Parámetros del algoritmo de descenso de gradiente\n",
    "learning_rate = 0.05\n",
    "n_iterations = 1000\n",
    "m = len(X_b)\n",
    "tolerance = 1e-6 # Tolerancia para el cambio en la función de costo\n",
    "\n",
    "theta = np.random.randn(2,1) # Inicialización aleatoria\n",
    "\n",
    "cost_history = [np.inf] # Iniciar historial de costo con infinito\n",
    "\n",
    "for iteration in range(n_iterations):\n",
    "    gradients = 2/m * X_b.T.dot(X_b.dot(theta) - y) #ESTE ES EL VECTOR GRADIENTE\n",
    "    theta = theta - learning_rate * gradients  #ACTUALIZADNO EL PARÁMETRO\n",
    "    cost = (1/m) * np.sum((X_b.dot(theta) - y)**2) # Calcular el nuevo costo\n",
    "    if abs(cost_history[-1] - cost) < tolerance: # validar la condición de salida o \"stop\"\n",
    "        print(f\"Convergencia alcanzada en la iteración {iteration}.\")\n",
    "        break\n",
    "    cost_history.append(cost)\n",
    "\n",
    "print(\"Theta encontrados por descenso de gradiente:\")\n",
    "print(theta)\n"
   ]
  },
  {
   "cell_type": "markdown",
   "metadata": {},
   "source": [
    "-- fin clase 28 Agosto"
   ]
  },
  {
   "cell_type": "markdown",
   "metadata": {},
   "source": [
    "-- inicio clase 29 Agosto"
   ]
  },
  {
   "cell_type": "markdown",
   "metadata": {},
   "source": [
    "## Regresión LASSO (least absolute shrinkage and selection operator)"
   ]
  },
  {
   "cell_type": "markdown",
   "metadata": {},
   "source": [
    "La regresión LASSO es otra técnica de regresión lineal regularizada, muy similar a la regresión Ridge, pero con una diferencia clave en el tipo de penalización que aplica a los coeficientes. La regresión LASSO no sólo ayuda a tratar con multicolinealidad y a prevenir el sobreajuste, sino que también puede realizar selección de variables al forzar algunos coeficientes a ser **exactamente cero**. Esto significa que LASSO puede excluir automáticamente variables menos importantes del modelo, lo que es útil para la simplificación del modelo y la interpretación de los resultados.\n",
    "\n",
    "La función de costo en la regresión LASSO se define como:\n",
    "\n",
    "$$\n",
    "J(\\beta) = \\text{MSE}(\\beta) + \\lambda \\sum_{i=1}^{p} |\\beta_i|\n",
    "$$\n",
    "\n",
    "Donde:\n",
    "- $J(\\beta)$ es la función de costo total.\n",
    "- $\\text{MSE}(\\beta)$ es el error cuadrático medio.\n",
    "- $\\beta_i$ son los coeficientes del modelo para cada variable independiente (excluyendo el término de intercepción $\\beta_0$).\n",
    "- $\\lambda$ es el parámetro de regularización. Al igual que en  Ridge, controla la intensidad de la penalización, pero aquí se aplica a la suma de los valores absolutos de los coeficientes.\n",
    "\n",
    "La principal diferencia entre LASSO y Ridge es en el tipo de penalización: LASSO utiliza la suma de los valores absolutos de los coeficientes ($\\ell_1$ penalización), mientras que Ridge utiliza la suma de los cuadrados ($\\ell_2$ penalización). Esta diferencia hace que LASSO pueda reducir algunos coeficientes exactamente a cero, lo cual es una forma de realizar selección de variables dentro del proceso de modelado.\n",
    "\n",
    "Ventajas de LASSO:\n",
    "- **Selección de Variables:** LASSO puede identificar y descartar variables no informativas automáticamente.\n",
    "- **Interpretabilidad:** Al reducir el número de variables, el modelo se hace más sencillo y fácil de interpretar.\n",
    "- **Prevención del Sobreajuste:** Al igual que Ridge, ayuda a prevenir el sobreajuste limitando la magnitud de los coeficientes.\n",
    "\n",
    "La selección del parámetro $\\lambda$ es crucial en LASSO, donde un balance adecuado puede significar la diferencia entre un modelo bien ajustado y uno que no capta la complejidad o que ignora información importante. La validación cruzada suele ser el método preferido para encontrar un valor óptimo de $\\lambda$.\n",
    "\n",
    "Considera un conjunto de datos con muchas variables que intentan predecir el rendimiento académico de estudiantes. Algunas de estas variables pueden no tener un impacto significativo en el rendimiento. La regresión LASSO puede ser particularmente útil en este escenario, ya que automáticamente seleccionará las variables más relevantes $^{[nota]}$ (por ejemplo, horas de estudio, asistencia) y descartará las menos importantes, lo que resulta en un modelo más simple y enfocado.\n",
    "\n",
    "La regresión LASSO es una herramienta adecuada en aquellos casos donde la simplicidad y la interpretabilidad del modelo son tan importantes como la precisión de las predicciones.\n",
    "\n",
    "$nota$: cuidado con esta aseveración. Si bien LASSO sí puede hacer selección de variables, el orden en el que entre una variable al modelo puede ser la diferencia entre seleccionarla o no, así que tomar esto con cuidado"
   ]
  },
  {
   "cell_type": "markdown",
   "metadata": {},
   "source": [
    "### Formulación del Problema LASSO"
   ]
  },
  {
   "cell_type": "markdown",
   "metadata": {},
   "source": [
    "$$\n",
    "\\text{min}_{\\beta} (\\mathbf{y} - \\mathbf{X} \\beta)^T (\\mathbf{y} - \\mathbf{X} \\beta) + \\lambda \\sum_{i=1}^{p} |\\beta_i| \\qquad\\qquad\\qquad ... (4)\n",
    "$$"
   ]
  },
  {
   "cell_type": "markdown",
   "metadata": {},
   "source": [
    "La expresión (4) es equivalente al problema de optimización:\n",
    "\n",
    "$$\n",
    "\\begin{align}\n",
    "\\text{min}_{\\beta}(\\mathbf{y} - \\mathbf{X} \\beta)^T (\\mathbf{y} - \\mathbf{X} \\beta) \\newline\\newline\n",
    "s.t. \\sum_{i=1}^{p} |\\beta_i| \\leq t\n",
    "\\end{align}\n",
    "$$"
   ]
  },
  {
   "cell_type": "code",
   "execution_count": 26,
   "metadata": {},
   "outputs": [],
   "source": [
    "#Comentar:\n",
    "# Si sólo tuviéramos un número 'pequeño' de variables predictoras, cuál es el mejor ajuste que podemos obtener en te´rminos de suma de\n",
    "#cuadrados del error. \n",
    "\n",
    "# Una t suficientemente pequeña hace que los coefs se 'encojan' hacia el cero e incluso que algunos sean exactamente cero.\n",
    "\n",
    "# A diferencia de OLS y Ridge, no existe una solución cerrada para LASSO (excepto cuando X es ortonormal)\n"
   ]
  },
  {
   "cell_type": "markdown",
   "metadata": {},
   "source": [
    "#### Curvas de nivel SSE y región factible  [Tibshirani, 1996]"
   ]
  },
  {
   "cell_type": "markdown",
   "metadata": {},
   "source": [
    "<img src=\"geom_lasso_ridge.png\" alt=\"Alt text\" style=\"width: 800px;\"/>"
   ]
  },
  {
   "cell_type": "markdown",
   "metadata": {},
   "source": [
    "El algoritmo que se utiliza para la optimización de LASSO se llama **descenso por coordenada (coordinate descent)**:\n",
    "\n",
    "1. Para $j=0,1,\\dots,p$\n",
    "2. Calcula $\\rho_j = \\sum_{i=1}^n x_{ij}(y_{i}-\\sum_{k \\neq j}^p \\beta_k x^{(i)}_k)$\n",
    "3. Calcula $z_j = \\sum_{i=1}^n (x_{ij})^2$\n",
    "4. Actualiza $\\beta_j = \\frac{1}{z_j}S(\\rho_j,\\lambda)$\n",
    "\n",
    "5. Repetir pasos 2-4 hasta convergencia"
   ]
  },
  {
   "cell_type": "markdown",
   "metadata": {},
   "source": [
    "donde $S(x,\\lambda)  = \\text{sign}(x) \\cdot \\max(|x| - \\lambda, 0)$ "
   ]
  },
  {
   "cell_type": "markdown",
   "metadata": {},
   "source": [
    "A $S()$ se le conoce como el operador \"Soft Thresholding\""
   ]
  },
  {
   "cell_type": "markdown",
   "metadata": {},
   "source": [
    "El soft thresholding es una operación importante en la solución de LASSO  y otros problemas de optimización, especialmente cuando se utilizan métodos de descenso de coordenadas. Es una forma de fomentar 'sparcity' en los parámetros del modelo, realizando una selección de variables al establecer algunos coeficientes en cero.\n",
    "\n",
    "### ¿Qué es el soft thresholding?\n",
    "\n",
    "El soft thresholding es una operación aplicada a cada coeficiente durante el paso de actualización en el algoritmo de optimización. Se define por la siguiente función:\n",
    "\n",
    "$$\n",
    "S_{\\lambda}(x) = \\text{sign}(x) \\cdot \\max(|x| - \\lambda, 0)\n",
    "$$\n",
    "\n",
    "donde:\n",
    "- $S_{\\lambda}(x)$ es el valor de $x$ después del soft thresholding,\n",
    "- $\\lambda$ es el parámetro de umbral (relacionado con el parámetro de regularización $\\alpha$ en LASSO),\n",
    "- $x$ es el valor original del coeficiente,\n",
    "- $\\text{sign}(x)$ devuelve el signo de $x$ (ya sea -1, 0 o 1).\n",
    "\n",
    "### ¿Cómo Funciona?\n",
    "\n",
    "1. **Reducción de Magnitud:** El soft thresholding reduce la magnitud de cada coeficiente por el umbral $\\lambda$, pero nunca por debajo de cero. Esta operación puede reducir a cero los coeficientes pequeños.\n",
    "\n",
    "2. **Preservación del Signo:** La operación preserva el signo del coeficiente original. Si $x$ es positivo, $S_{\\lambda}(x)$ también será positivo (o cero si $x$ es menor que $\\lambda$). De manera similar, si $x$ es negativo, el valor después del umbralizado será negativo o cero.\n",
    "\n",
    "3. **Fomenta 'sparcity':** Al establecer coeficientes pequeños en cero, el soft thresholding ayuda a identificar las variables más relevantes en un modelo. En conjuntos de datos de alta dimensión, donde el número de variables puede ser muy grande, esta propiedad es  valiosa.\n",
    "\n",
    "### Ejemplos:\n",
    "\n",
    "Si $x$ = 5 y $\\lambda$ = 3:\n",
    "$$\n",
    "S_{3}(5)= sign(5) \\cdot \\max(5 - 3, 0) = 1\\times 2 = 2 \n",
    "$$\n",
    "\n",
    "En nuestro ejemplo de regresión LASSO para predecir precios de casas basado en varias características, si tenemos un coeficiente $\\beta = 0.02$ con un umbral $\\lambda = 0.05$. El soft thresholding ajustaría este coeficiente a cero porque su magnitud es menor que el umbral, indicando que esta característica  podría no ser relevante para el modelo.\n",
    "\n",
    "En contraste, para un coeficiente $\\beta = 0.1$ con el mismo umbral, el soft thresholding reduciría su magnitud pero lo mantendría no nulo ($S_{0.05}(0.1) = 0.05$), preservando su influencia en el modelo."
   ]
  },
  {
   "cell_type": "markdown",
   "metadata": {},
   "source": [
    "<img src=\"soft_th.png\" alt=\"Alt text\" style=\"width: 400px;\"/>"
   ]
  },
  {
   "cell_type": "code",
   "execution_count": 27,
   "metadata": {},
   "outputs": [],
   "source": [
    "from sklearn.preprocessing import StandardScaler"
   ]
  },
  {
   "cell_type": "code",
   "execution_count": 28,
   "metadata": {},
   "outputs": [
    {
     "data": {
      "text/html": [
       "<div>\n",
       "<style scoped>\n",
       "    .dataframe tbody tr th:only-of-type {\n",
       "        vertical-align: middle;\n",
       "    }\n",
       "\n",
       "    .dataframe tbody tr th {\n",
       "        vertical-align: top;\n",
       "    }\n",
       "\n",
       "    .dataframe thead th {\n",
       "        text-align: right;\n",
       "    }\n",
       "</style>\n",
       "<table border=\"1\" class=\"dataframe\">\n",
       "  <thead>\n",
       "    <tr style=\"text-align: right;\">\n",
       "      <th></th>\n",
       "      <th>id</th>\n",
       "      <th>CRIM</th>\n",
       "      <th>ZN</th>\n",
       "      <th>INDUS</th>\n",
       "      <th>CHAS</th>\n",
       "      <th>NOX</th>\n",
       "      <th>RM</th>\n",
       "      <th>AGE</th>\n",
       "      <th>DIS</th>\n",
       "      <th>RAD</th>\n",
       "      <th>TAX</th>\n",
       "      <th>PTRATIO</th>\n",
       "      <th>B</th>\n",
       "      <th>LSTAT</th>\n",
       "      <th>MEDV</th>\n",
       "    </tr>\n",
       "  </thead>\n",
       "  <tbody>\n",
       "    <tr>\n",
       "      <th>0</th>\n",
       "      <td>A1</td>\n",
       "      <td>0.00632</td>\n",
       "      <td>18.0</td>\n",
       "      <td>2.31</td>\n",
       "      <td>0</td>\n",
       "      <td>0.538</td>\n",
       "      <td>6.575</td>\n",
       "      <td>65.2</td>\n",
       "      <td>4.0900</td>\n",
       "      <td>1</td>\n",
       "      <td>296</td>\n",
       "      <td>15.3</td>\n",
       "      <td>396.90</td>\n",
       "      <td>4.98</td>\n",
       "      <td>24.0</td>\n",
       "    </tr>\n",
       "    <tr>\n",
       "      <th>1</th>\n",
       "      <td>A2</td>\n",
       "      <td>0.02731</td>\n",
       "      <td>0.0</td>\n",
       "      <td>7.07</td>\n",
       "      <td>0</td>\n",
       "      <td>0.469</td>\n",
       "      <td>6.421</td>\n",
       "      <td>78.9</td>\n",
       "      <td>4.9671</td>\n",
       "      <td>2</td>\n",
       "      <td>242</td>\n",
       "      <td>17.8</td>\n",
       "      <td>396.90</td>\n",
       "      <td>9.14</td>\n",
       "      <td>21.6</td>\n",
       "    </tr>\n",
       "    <tr>\n",
       "      <th>2</th>\n",
       "      <td>A3</td>\n",
       "      <td>0.02729</td>\n",
       "      <td>0.0</td>\n",
       "      <td>7.07</td>\n",
       "      <td>0</td>\n",
       "      <td>0.469</td>\n",
       "      <td>7.185</td>\n",
       "      <td>61.1</td>\n",
       "      <td>4.9671</td>\n",
       "      <td>2</td>\n",
       "      <td>242</td>\n",
       "      <td>17.8</td>\n",
       "      <td>392.83</td>\n",
       "      <td>4.03</td>\n",
       "      <td>34.7</td>\n",
       "    </tr>\n",
       "    <tr>\n",
       "      <th>3</th>\n",
       "      <td>A4</td>\n",
       "      <td>0.03237</td>\n",
       "      <td>0.0</td>\n",
       "      <td>2.18</td>\n",
       "      <td>0</td>\n",
       "      <td>0.458</td>\n",
       "      <td>6.998</td>\n",
       "      <td>45.8</td>\n",
       "      <td>6.0622</td>\n",
       "      <td>3</td>\n",
       "      <td>222</td>\n",
       "      <td>18.7</td>\n",
       "      <td>394.63</td>\n",
       "      <td>2.94</td>\n",
       "      <td>33.4</td>\n",
       "    </tr>\n",
       "    <tr>\n",
       "      <th>4</th>\n",
       "      <td>A5</td>\n",
       "      <td>0.06905</td>\n",
       "      <td>0.0</td>\n",
       "      <td>2.18</td>\n",
       "      <td>0</td>\n",
       "      <td>0.458</td>\n",
       "      <td>7.147</td>\n",
       "      <td>54.2</td>\n",
       "      <td>6.0622</td>\n",
       "      <td>3</td>\n",
       "      <td>222</td>\n",
       "      <td>18.7</td>\n",
       "      <td>396.90</td>\n",
       "      <td>5.33</td>\n",
       "      <td>36.2</td>\n",
       "    </tr>\n",
       "  </tbody>\n",
       "</table>\n",
       "</div>"
      ],
      "text/plain": [
       "   id     CRIM    ZN  INDUS  CHAS    NOX     RM   AGE     DIS  RAD  TAX  \\\n",
       "0  A1  0.00632  18.0   2.31     0  0.538  6.575  65.2  4.0900    1  296   \n",
       "1  A2  0.02731   0.0   7.07     0  0.469  6.421  78.9  4.9671    2  242   \n",
       "2  A3  0.02729   0.0   7.07     0  0.469  7.185  61.1  4.9671    2  242   \n",
       "3  A4  0.03237   0.0   2.18     0  0.458  6.998  45.8  6.0622    3  222   \n",
       "4  A5  0.06905   0.0   2.18     0  0.458  7.147  54.2  6.0622    3  222   \n",
       "\n",
       "   PTRATIO       B  LSTAT  MEDV  \n",
       "0     15.3  396.90   4.98  24.0  \n",
       "1     17.8  396.90   9.14  21.6  \n",
       "2     17.8  392.83   4.03  34.7  \n",
       "3     18.7  394.63   2.94  33.4  \n",
       "4     18.7  396.90   5.33  36.2  "
      ]
     },
     "execution_count": 28,
     "metadata": {},
     "output_type": "execute_result"
    }
   ],
   "source": [
    "df = pd.read_csv('boston_house_prices.csv')\n",
    "df.head()"
   ]
  },
  {
   "cell_type": "markdown",
   "metadata": {},
   "source": [
    "### Implementando LASSO con LassoCV de Scikit-learn"
   ]
  },
  {
   "cell_type": "markdown",
   "metadata": {},
   "source": [
    "Dos parámetros importantes de LassoCV:\n",
    "\n",
    "1. cv: el número de 'folds' de validación cruzada que se utilizan para evaluar el rendimiento del modelo. Por defecto es None, lo que significa que se utiliza una estrategia k=5. Si se establece en un entero k, se utiliza la estrategia de validación cruzada K-fold, con k folds.\n",
    "\n",
    "2. alphas: una lista o arreglo de valores de $\\alpha$ (lambdas) para probar. Si se establece como None, se utilizará una secuencia predeterminada de valores."
   ]
  },
  {
   "cell_type": "code",
   "execution_count": 29,
   "metadata": {},
   "outputs": [
    {
     "name": "stdout",
     "output_type": "stream",
     "text": [
      "valor óptimo de lambda:  0.007\n",
      "CRIM:-1.044\n",
      "ZN: 0.649\n",
      "INDUS: 0.277\n",
      "CHAS: 0.738\n",
      "NOX:-1.887\n",
      "RM: 3.145\n",
      "AGE:-0.240\n",
      "DIS:-2.907\n",
      "RAD: 2.091\n",
      "TAX:-1.532\n",
      "PTRATIO:-2.073\n",
      "B: 1.143\n",
      "LSTAT:-3.696\n"
     ]
    }
   ],
   "source": [
    "from sklearn.linear_model import LassoCV\n",
    "\n",
    "# Cargar los datos y asignar predictoras (X) y respuesta (y):\n",
    "predictors = df.loc[:, 'CRIM':'LSTAT']\n",
    "response = df['MEDV']\n",
    "\n",
    "#PARTICIONANDO los datos en conjunto de entrenamiento y prueba (testing).\n",
    "X_train, X_test, y_train, y_test = train_test_split(predictors, response, test_size = 0.25, random_state=42)\n",
    "\n",
    "# Escalar los datos usando StandardScaler\n",
    "scaler = StandardScaler()  # Z= (X - promedio)/ desv_std\n",
    "X_train_scaled = scaler.fit_transform(X_train)\n",
    "X_test_scaled = scaler.transform(X_test)\n",
    "\n",
    "#Crear un modelo de regresión LASSO con validación cruzada para determinar el parámetro de regularización lambda (alphas)\n",
    "lasso_cv = LassoCV(cv=5, random_state=42)\n",
    "lasso_cv.fit(X_train_scaled, y_train)\n",
    "\n",
    "# imprimir el valor óptimo de lambda (parámetro de regularización):\n",
    "print(f\"valor óptimo de lambda: {lasso_cv.alpha_: .3f}\")\n",
    "\n",
    "#imprimir los coeficientes del modelo:\n",
    "coeficientes = dict(zip(predictors.columns, lasso_cv.coef_))\n",
    "for variable, coef in coeficientes.items():\n",
    "    print(f\"{variable}:{coef: .3f}\")"
   ]
  },
  {
   "cell_type": "code",
   "execution_count": 30,
   "metadata": {},
   "outputs": [],
   "source": [
    "# Notemos que ninguno de los coeficientes fue cero en este caso. ¿Por qué?\n",
    "# Porque tenemos predictoras que en vdad están asociadas con la variable respuesta\n",
    "# También, no tenemos muchas variables predictoras."
   ]
  },
  {
   "cell_type": "code",
   "execution_count": 31,
   "metadata": {},
   "outputs": [
    {
     "data": {
      "text/plain": [
       "22.11064649660294"
      ]
     },
     "execution_count": 31,
     "metadata": {},
     "output_type": "execute_result"
    }
   ],
   "source": [
    "# predict y mse\n",
    "y_lasso = lasso_cv.predict(X_test_scaled)\n",
    "z = (y_lasso - y_test)**2\n",
    "z.sum()/len(z)"
   ]
  },
  {
   "cell_type": "code",
   "execution_count": 32,
   "metadata": {},
   "outputs": [
    {
     "data": {
      "text/plain": [
       "-0.1113344051446945"
      ]
     },
     "execution_count": 32,
     "metadata": {},
     "output_type": "execute_result"
    }
   ],
   "source": [
    "22.11/24.88-1 # mEJORAMOS el error de predicción en 11.13% wrt a OLS\n",
    "#Recordar que el error de Ridge fue de 21.79 (12.4% menos que OLS)"
   ]
  },
  {
   "cell_type": "code",
   "execution_count": 33,
   "metadata": {},
   "outputs": [],
   "source": [
    "### Coordinate Descent para LASSO"
   ]
  },
  {
   "cell_type": "code",
   "execution_count": 34,
   "metadata": {},
   "outputs": [],
   "source": [
    "def soft_thresholding(x, gamma): #ver figura Soft threshold vs OLS arriba\n",
    "    if x > 0 and gamma < abs(x):\n",
    "        return x-gamma\n",
    "    elif x < 0 and gamma < abs(x):\n",
    "        return x+gamma\n",
    "    else:\n",
    "        return 0\n",
    "\n",
    "# Coordinate descent para lasso\n",
    "\n",
    "def coordinate_descent_lasso(X, y, alpha, max_iter=100, tol=0.001):\n",
    "    \"\"\"Coordinate descent para Lasso\"\"\"\n",
    "    n_samples, n_features = X.shape\n",
    "    w = np.zeros(n_features)\n",
    "    w_old = np.zeros(n_features)  # inicializamos w_old\n",
    "    for i in range(max_iter):\n",
    "        for j in range(n_features):\n",
    "            X_j = X[:, j]\n",
    "            y_pred = X @ w\n",
    "            r = y - y_pred + w[j] * X_j\n",
    "            w[j] = soft_thresholding(np.dot(X_j, r) / n_samples, alpha / n_samples)\n",
    "        if np.max(np.abs(w - w_old)) < tol:\n",
    "            break\n",
    "        w_old = w.copy()  # actualizamos w_old\n",
    "    return w"
   ]
  },
  {
   "cell_type": "code",
   "execution_count": 35,
   "metadata": {},
   "outputs": [
    {
     "data": {
      "text/plain": [
       "array([-1.06423852,  0.67998084,  0.33787068,  0.73772321, -1.93188992,\n",
       "        3.14307464, -0.25710817, -2.95542152,  2.20676774, -1.64467811,\n",
       "       -2.08677573,  1.15217142, -3.69376277])"
      ]
     },
     "execution_count": 35,
     "metadata": {},
     "output_type": "execute_result"
    }
   ],
   "source": [
    "c_lasso = coordinate_descent_lasso(X_train_scaled, y_train, alpha=0.007, max_iter=1000)\n",
    "c_lasso"
   ]
  },
  {
   "cell_type": "code",
   "execution_count": 36,
   "metadata": {},
   "outputs": [
    {
     "data": {
      "text/plain": [
       "CRIM      -1.064239\n",
       "ZN         0.679981\n",
       "INDUS      0.337871\n",
       "CHAS       0.737723\n",
       "NOX       -1.931890\n",
       "RM         3.143075\n",
       "AGE       -0.257108\n",
       "DIS       -2.955422\n",
       "RAD        2.206768\n",
       "TAX       -1.644678\n",
       "PTRATIO   -2.086776\n",
       "B          1.152171\n",
       "LSTAT     -3.693763\n",
       "dtype: float64"
      ]
     },
     "execution_count": 36,
     "metadata": {},
     "output_type": "execute_result"
    }
   ],
   "source": [
    "coefs_lasso = pd.Series(c_lasso, predictors.columns)\n",
    "coefs_lasso"
   ]
  },
  {
   "cell_type": "code",
   "execution_count": null,
   "metadata": {},
   "outputs": [],
   "source": []
  },
  {
   "cell_type": "markdown",
   "metadata": {},
   "source": [
    "## Elastic Net: Una combinación de Ridge y Lasso"
   ]
  },
  {
   "cell_type": "markdown",
   "metadata": {},
   "source": [
    "La regresión Elastic Net es una técnica que combina las fortalezas de dos métodos de regularización: LASSO ($\\ell_1$) y Ridge ($\\ell_2$). Esto  permite que Elastic Net herede las ventajas de ambos, siendo particularmente útil en situaciones donde hay muchas variables correlacionadas entre sí o cuando el número de predictores supera el número de observaciones. Elastic Net **puede** reducir la variabilidad en las estimaciones de los coeficientes y realizar una selección de variables más efectiva que LASSO o Ridge por sí solos.\n",
    "\n",
    "La función de costo de la regresión Elastic Net se define como:\n",
    "\n",
    "$$\n",
    "J(\\beta) = \\text{MSE}(\\beta) + r \\alpha \\sum_{i=1}^{p} |\\beta_i| + \\frac{1-r}{2} \\alpha \\sum_{i=1}^{p} \\beta_i^2\n",
    "$$\n",
    "\n",
    "Donde:\n",
    "- $J(\\beta)$ es la función de costo total.\n",
    "- $\\text{MSE}(\\beta)$ es el error cuadrático medio, el mismo de mínimos cuadrados.\n",
    "- $\\beta_i$ son los coeficientes del modelo para cada variable independiente (excluyendo el término de intercepción $\\beta_0$).\n",
    "- $\\alpha$ es el parámetro de regularización que controla la intensidad total de la penalización.\n",
    "- $r$, conocido como $\\ell_1$- ratio, es el parámetro que equilibra la proporción de las penalizaciones $\\ell_1$ y $\\ell_2$, con valores que van de 0 a 1.\n",
    "\n",
    "Ventajas de Elastic Net:\n",
    "\n",
    "- **Manejo de Colinealidad** \n",
    "- **Selección de Variables:** Puede reducir algunos coeficientes a cero, lo que significa que realiza selección de variables, eliminando predictores no informativos del modelo.\n",
    "- **Estabilidad:** En escenarios donde el número de predictores es mayor que el número de observaciones, o cuando hay un grupo de variables altamente correlacionadas, Elastic Net tiende a ser más estable que LASSO o Ridge por separado.\n"
   ]
  },
  {
   "cell_type": "markdown",
   "metadata": {},
   "source": [
    "El problema de optimización es:\n",
    "$$\n",
    "\\text{min}_{\\beta}\\frac{1}{2n} (\\mathbf{y} - \\mathbf{X} \\beta)^T (\\mathbf{y} - \\mathbf{X} \\beta) + r \\alpha \\sum_{i=1}^{p} |\\beta_i| + \\frac{1-r}{2} \\alpha \\sum_{i=1}^{p} \\beta_i^2\n",
    "$$"
   ]
  },
  {
   "cell_type": "markdown",
   "metadata": {},
   "source": [
    "1. $\\ell_1$- ratio = 1 --> Elastic Net se reduce a Lasso\n",
    "2. $\\ell_1$- ratio = 0 --> Elastic Net se reduce a Ridge"
   ]
  },
  {
   "cell_type": "code",
   "execution_count": null,
   "metadata": {},
   "outputs": [],
   "source": [
    "#motivación:\n",
    "# 1. Si p > n, Lasso selecciona a LO MÁS n variables. \n",
    "# 2. Si hay grupos de variables correlacionadas, LASSO selecciona UNA de esas variables, sin importar. \n",
    "# 3. para n > p , si hay mucha colinealidad, Ridge tiende a desempeñar mejor que LASSO."
   ]
  },
  {
   "cell_type": "markdown",
   "metadata": {},
   "source": [
    "#### Nota:\n",
    "El valor óptimo de $r$ y $\\alpha$ depende del grado de colinealidad de los datos, del proceso generador de los coeficientes 'verdaderos', del número de predictoras y de la relación entre predictoras y variable respuesta\n"
   ]
  },
  {
   "cell_type": "markdown",
   "metadata": {},
   "source": [
    "#### Región factible de los coeficientes de Elastic Net"
   ]
  },
  {
   "cell_type": "markdown",
   "metadata": {},
   "source": [
    "<img src=\"en_region.png\" alt=\"Alt text\" style=\"width: 800px;\"/>"
   ]
  },
  {
   "cell_type": "code",
   "execution_count": 38,
   "metadata": {},
   "outputs": [
    {
     "name": "stdout",
     "output_type": "stream",
     "text": [
      "Alpha óptimo: 0.031269227497471096\n",
      "L1_ratio óptimo: 0.2239999999999998\n"
     ]
    }
   ],
   "source": [
    "# Implementar modelo\n",
    "from sklearn.linear_model import ElasticNetCV\n",
    "\n",
    "#aSIGNAR X, y:\n",
    "predictors = df.loc[:, 'CRIM':'LSTAT']\n",
    "response = df['MEDV']\n",
    "\n",
    "#PARTICIONANDO los datos en conjunto de entrenamiento y prueba (testing).\n",
    "X_train, X_test, y_train, y_test = train_test_split(predictors, response, test_size = 0.25, random_state=42)\n",
    "\n",
    "#estandarizar los datos:\n",
    "scaler = StandardScaler()\n",
    "X_train_scaled = scaler.fit_transform(X_train)\n",
    "X_test_scaled = scaler.transform(X_test)\n",
    "\n",
    "#crear el modelo de Elastic Net con validación cruzada con DIFERENTES l1_ratio:\n",
    "\n",
    "elastic_net_cv = ElasticNetCV(l1_ratio = np.arange(0.01, 1, 0.001),\n",
    "                             n_alphas = 100, cv = 5, max_iter=10000)\n",
    "elastic_net_cv.fit(X_train_scaled, y_train)\n",
    "\n",
    "#Imprimir valores óptimos de alpha (parámetro de regularización) y de l_1 ratio\n",
    "print(f\"Alpha óptimo: {elastic_net_cv.alpha_}\")\n",
    "print(f\"L1_ratio óptimo: {elastic_net_cv.l1_ratio_}\") #r óptima"
   ]
  },
  {
   "cell_type": "code",
   "execution_count": 39,
   "metadata": {},
   "outputs": [
    {
     "data": {
      "text/plain": [
       "CRIM      -0.961947\n",
       "ZN         0.529972\n",
       "INDUS      0.101739\n",
       "CHAS       0.764264\n",
       "NOX       -1.629700\n",
       "RM         3.174487\n",
       "AGE       -0.244340\n",
       "DIS       -2.609664\n",
       "RAD        1.565742\n",
       "TAX       -1.096079\n",
       "PTRATIO   -1.981436\n",
       "B          1.117020\n",
       "LSTAT     -3.592074\n",
       "dtype: float64"
      ]
     },
     "execution_count": 39,
     "metadata": {},
     "output_type": "execute_result"
    }
   ],
   "source": [
    "coefs_en = pd.Series(elastic_net_cv.coef_, predictors.columns)\n",
    "coefs_en"
   ]
  },
  {
   "cell_type": "code",
   "execution_count": 40,
   "metadata": {},
   "outputs": [
    {
     "data": {
      "text/plain": [
       "22.285836866693465"
      ]
     },
     "execution_count": 40,
     "metadata": {},
     "output_type": "execute_result"
    }
   ],
   "source": [
    "y_en = elastic_net_cv.predict(X_test_scaled)\n",
    "z = (y_en - y_test)**2\n",
    "z.sum()/len(z)"
   ]
  },
  {
   "cell_type": "code",
   "execution_count": 41,
   "metadata": {},
   "outputs": [
    {
     "data": {
      "text/plain": [
       "-0.10450160771704176"
      ]
     },
     "execution_count": 41,
     "metadata": {},
     "output_type": "execute_result"
    }
   ],
   "source": [
    "22.28/24.88-1  #mejoramos 10.45% vs OLS\n",
    "#OLS < EN < LASSO < RIDGE en ESTE CONJUNTO DE DATOS. "
   ]
  },
  {
   "cell_type": "code",
   "execution_count": null,
   "metadata": {},
   "outputs": [],
   "source": []
  },
  {
   "cell_type": "code",
   "execution_count": null,
   "metadata": {},
   "outputs": [],
   "source": []
  }
 ],
 "metadata": {
  "kernelspec": {
   "display_name": "Python 3 (ipykernel)",
   "language": "python",
   "name": "python3"
  },
  "language_info": {
   "codemirror_mode": {
    "name": "ipython",
    "version": 3
   },
   "file_extension": ".py",
   "mimetype": "text/x-python",
   "name": "python",
   "nbconvert_exporter": "python",
   "pygments_lexer": "ipython3",
   "version": "3.11.9"
  }
 },
 "nbformat": 4,
 "nbformat_minor": 4
}
