{
 "cells": [
  {
   "cell_type": "markdown",
   "metadata": {},
   "source": [
    "<h1 style=\"color:#872325\"> Webscrapping </h1>"
   ]
  },
  {
   "cell_type": "markdown",
   "metadata": {},
   "source": [
    "De acuerdo a [Wikipedia](https://es.wikipedia.org/wiki/Web_scraping), Martí Marq, *Web Scrapping*, \n",
    "\n",
    "> es una técnica utilizada mediante programas de software para extraer información de sitios web. Usualmente, estos programas simulan la navegación de un humano en la World Wide Web ya sea utilizando el protocolo HTTP manualmente, o incrustando un navegador en una aplicación.\n",
    "\n",
    "Para fines prácticos, realizamos un web scrapping cuándo no contamos con alguna manera de acceder a información estructurada de datos por analizar (.csv, .json, base de datos, API). "
   ]
  },
  {
   "cell_type": "markdown",
   "metadata": {},
   "source": [
    "---\n",
    "\n",
    "## HTML\n",
    "Al hacer webscrapping, dependemos de la estructura de la página web para poder acceder a la información que deseamos obtener. La estructura de la página web se define mediante un lenguaje llamado `HTML` (Hypertext Markup Language) el cual se compone por medio de *tags*.\n",
    "\n",
    "```HTML\n",
    "<tag>\n",
    "</tag>\n",
    "```\n",
    "\n",
    "Un *tag* define una sección de la página. Cada *tag* tiene una propiedad. Un conjunto de estos tags definen el cuerpo de la página.\n",
    "\n",
    "\n",
    "### Una primera página web\n",
    "```HTML\n",
    "<!DOCTYPE html>\n",
    "<html>\n",
    "<body>\n",
    "\n",
    "<h1>Data Science and Machine Learning</h1>\n",
    "\n",
    "</body>\n",
    "</html>\n",
    "```\n",
    "\n",
    "Para nuestros fines, un *tag* representará una sección dentro de la página la cuál nos gustaría explorar o extraer."
   ]
  },
  {
   "cell_type": "markdown",
   "metadata": {},
   "source": [
    "---\n",
    "\n",
    "## CSS\n",
    "\n",
    "Un *Cascading Style Sheet* (CSS), es un archivo que viene acompañado de un html y define el estilo de la página.\n",
    "\n",
    "```CSS\n",
    "selector {\n",
    "    property: property-value;\n",
    "}\n",
    "```\n",
    "\n",
    "Cada *selector* contiene diferentes [propiedades](http://web.simmons.edu/~grabiner/comm244/weekthree/css-basic-properties.html) de acuerdo al *tag*, clase o *id* que le corresponda.\n",
    "\n",
    "Para fines de webscrapping, un los *tags*, *ids* y *clases* ofrencen estrucura dentro de una página.\n",
    "\n",
    "* Tags: estructura general\n",
    "* Clase: secciones genéricas dentro de una página\n",
    "* *id*: Secciones especifícas"
   ]
  },
  {
   "cell_type": "markdown",
   "metadata": {},
   "source": [
    "---\n",
    "\n",
    "## Javascript y el DOM\n",
    "\n",
    "La mayoría de las páginas que visitamos hoy en día son interactivas. La interactividad de un una página web es proporcionada por un lenguaje de programación llamado `javascript`.\n",
    "\n",
    "La manera en la que Javascript asigna u obtiene elementos de una página se conoce como el *Document Object Notation* (DOM).\n",
    "\n",
    "Para fines de webscrapping, esto es importante puesto que en ocasiones, una página es vacía hasta que un programa de Javascript se ejecuta para arrojar información."
   ]
  },
  {
   "cell_type": "markdown",
   "metadata": {},
   "source": [
    "## Un primer webscrap\n",
    "\n",
    "En este módulo estaremos ocupando la librería [requests_html](https://github.com/psf/requests-html) para hacer webscrapping."
   ]
  },
  {
   "cell_type": "code",
   "execution_count": 5,
   "metadata": {
    "scrolled": true
   },
   "outputs": [
    {
     "name": "stdout",
     "output_type": "stream",
     "text": [
      "Requirement already satisfied: requests_html in /Users/carloscarrasco/anaconda3/lib/python3.11/site-packages (0.10.0)\n",
      "Requirement already satisfied: requests in /Users/carloscarrasco/anaconda3/lib/python3.11/site-packages (from requests_html) (2.32.3)\n",
      "Requirement already satisfied: pyquery in /Users/carloscarrasco/anaconda3/lib/python3.11/site-packages (from requests_html) (2.0.0)\n",
      "Requirement already satisfied: fake-useragent in /Users/carloscarrasco/anaconda3/lib/python3.11/site-packages (from requests_html) (1.4.0)\n",
      "Requirement already satisfied: parse in /Users/carloscarrasco/anaconda3/lib/python3.11/site-packages (from requests_html) (1.20.1)\n",
      "Requirement already satisfied: bs4 in /Users/carloscarrasco/anaconda3/lib/python3.11/site-packages (from requests_html) (0.0.2)\n",
      "Collecting w3lib (from requests_html)\n",
      "  Obtaining dependency information for w3lib from https://files.pythonhosted.org/packages/df/d6/ff9000e85b820ab36c0a93f2c8a4b334a80821b631a56c252aed2d0bd2d3/w3lib-2.2.1-py3-none-any.whl.metadata\n",
      "  Downloading w3lib-2.2.1-py3-none-any.whl.metadata (2.1 kB)\n",
      "Requirement already satisfied: pyppeteer>=0.0.14 in /Users/carloscarrasco/anaconda3/lib/python3.11/site-packages (from requests_html) (2.0.0)\n",
      "Requirement already satisfied: appdirs<2.0.0,>=1.4.3 in /Users/carloscarrasco/anaconda3/lib/python3.11/site-packages (from pyppeteer>=0.0.14->requests_html) (1.4.4)\n",
      "Requirement already satisfied: certifi>=2023 in /Users/carloscarrasco/anaconda3/lib/python3.11/site-packages (from pyppeteer>=0.0.14->requests_html) (2024.7.4)\n",
      "Requirement already satisfied: importlib-metadata>=1.4 in /Users/carloscarrasco/anaconda3/lib/python3.11/site-packages (from pyppeteer>=0.0.14->requests_html) (7.0.1)\n",
      "Requirement already satisfied: pyee<12.0.0,>=11.0.0 in /Users/carloscarrasco/anaconda3/lib/python3.11/site-packages (from pyppeteer>=0.0.14->requests_html) (11.1.0)\n",
      "Requirement already satisfied: tqdm<5.0.0,>=4.42.1 in /Users/carloscarrasco/anaconda3/lib/python3.11/site-packages (from pyppeteer>=0.0.14->requests_html) (4.66.4)\n",
      "Collecting urllib3<2.0.0,>=1.25.8 (from pyppeteer>=0.0.14->requests_html)\n",
      "  Obtaining dependency information for urllib3<2.0.0,>=1.25.8 from https://files.pythonhosted.org/packages/ae/6a/99eaaeae8becaa17a29aeb334a18e5d582d873b6f084c11f02581b8d7f7f/urllib3-1.26.19-py2.py3-none-any.whl.metadata\n",
      "  Downloading urllib3-1.26.19-py2.py3-none-any.whl.metadata (49 kB)\n",
      "\u001b[2K     \u001b[90m━━━━━━━━━━━━━━━━━━━━━━━━━━━━━━━━━━━━━━━\u001b[0m \u001b[32m49.3/49.3 kB\u001b[0m \u001b[31m898.8 kB/s\u001b[0m eta \u001b[36m0:00:00\u001b[0m \u001b[36m0:00:01\u001b[0m\n",
      "\u001b[?25hRequirement already satisfied: websockets<11.0,>=10.0 in /Users/carloscarrasco/anaconda3/lib/python3.11/site-packages (from pyppeteer>=0.0.14->requests_html) (10.4)\n",
      "Requirement already satisfied: beautifulsoup4 in /Users/carloscarrasco/anaconda3/lib/python3.11/site-packages (from bs4->requests_html) (4.12.3)\n",
      "Collecting lxml>=2.1 (from pyquery->requests_html)\n",
      "  Obtaining dependency information for lxml>=2.1 from https://files.pythonhosted.org/packages/5c/a8/449faa2a3cbe6a99f8d38dcd51a3ee8844c17862841a6f769ea7c2a9cd0f/lxml-5.3.0-cp311-cp311-macosx_10_9_universal2.whl.metadata\n",
      "  Downloading lxml-5.3.0-cp311-cp311-macosx_10_9_universal2.whl.metadata (3.8 kB)\n",
      "Collecting cssselect>=1.2.0 (from pyquery->requests_html)\n",
      "  Obtaining dependency information for cssselect>=1.2.0 from https://files.pythonhosted.org/packages/06/a9/2da08717a6862c48f1d61ef957a7bba171e7eefa6c0aa0ceb96a140c2a6b/cssselect-1.2.0-py2.py3-none-any.whl.metadata\n",
      "  Using cached cssselect-1.2.0-py2.py3-none-any.whl.metadata (2.2 kB)\n",
      "Requirement already satisfied: charset-normalizer<4,>=2 in /Users/carloscarrasco/anaconda3/lib/python3.11/site-packages (from requests->requests_html) (3.3.2)\n",
      "Requirement already satisfied: idna<4,>=2.5 in /Users/carloscarrasco/anaconda3/lib/python3.11/site-packages (from requests->requests_html) (3.7)\n",
      "Requirement already satisfied: zipp>=0.5 in /Users/carloscarrasco/anaconda3/lib/python3.11/site-packages (from importlib-metadata>=1.4->pyppeteer>=0.0.14->requests_html) (3.17.0)\n",
      "Requirement already satisfied: typing-extensions in /Users/carloscarrasco/anaconda3/lib/python3.11/site-packages (from pyee<12.0.0,>=11.0.0->pyppeteer>=0.0.14->requests_html) (4.11.0)\n",
      "Requirement already satisfied: soupsieve>1.2 in /Users/carloscarrasco/anaconda3/lib/python3.11/site-packages (from beautifulsoup4->bs4->requests_html) (2.5)\n",
      "Downloading w3lib-2.2.1-py3-none-any.whl (21 kB)\n",
      "Using cached cssselect-1.2.0-py2.py3-none-any.whl (18 kB)\n",
      "Downloading lxml-5.3.0-cp311-cp311-macosx_10_9_universal2.whl (8.1 MB)\n",
      "\u001b[2K   \u001b[90m━━━━━━━━━━━━━━━━━━━━━━━━━━━━━━━━━━━━━━━━\u001b[0m \u001b[32m8.1/8.1 MB\u001b[0m \u001b[31m6.8 MB/s\u001b[0m eta \u001b[36m0:00:00\u001b[0m00:01\u001b[0m00:01\u001b[0m\n",
      "\u001b[?25hDownloading urllib3-1.26.19-py2.py3-none-any.whl (143 kB)\n",
      "\u001b[2K   \u001b[90m━━━━━━━━━━━━━━━━━━━━━━━━━━━━━━━━━━━━━━━━\u001b[0m \u001b[32m143.9/143.9 kB\u001b[0m \u001b[31m7.4 MB/s\u001b[0m eta \u001b[36m0:00:00\u001b[0m\n",
      "\u001b[?25hInstalling collected packages: w3lib, urllib3, lxml, cssselect\n",
      "  Attempting uninstall: urllib3\n",
      "    Found existing installation: urllib3 2.2.2\n",
      "    Uninstalling urllib3-2.2.2:\n",
      "      Successfully uninstalled urllib3-2.2.2\n",
      "\u001b[31mERROR: pip's dependency resolver does not currently take into account all the packages that are installed. This behaviour is the source of the following dependency conflicts.\n",
      "dash 2.16.1 requires Flask<3.1,>=1.0.4, which is not installed.\n",
      "dash 2.16.1 requires plotly>=5.0.0, which is not installed.\n",
      "scatterd 1.3.7 requires matplotlib, which is not installed.\n",
      "scatterd 1.3.7 requires seaborn, which is not installed.\u001b[0m\u001b[31m\n",
      "\u001b[0mSuccessfully installed cssselect-1.2.0 lxml-5.3.0 urllib3-1.26.19 w3lib-2.2.1\n",
      "Note: you may need to restart the kernel to use updated packages.\n"
     ]
    }
   ],
   "source": [
    "pip install requests_html"
   ]
  },
  {
   "cell_type": "code",
   "execution_count": null,
   "metadata": {},
   "outputs": [],
   "source": [
    "pip install lxml_html_clean"
   ]
  },
  {
   "cell_type": "code",
   "execution_count": 19,
   "metadata": {},
   "outputs": [],
   "source": [
    "from requests_html import HTML"
   ]
  },
  {
   "cell_type": "code",
   "execution_count": 23,
   "metadata": {},
   "outputs": [
    {
     "name": "stdout",
     "output_type": "stream",
     "text": [
      "<!DOCTYPE html>\n",
      "<html>\n",
      "<head>\n",
      "    <link href=\"style2.css\" rel=\"stylesheet\"/>\n",
      "</head>\n",
      "\n",
      "<body>\n",
      "\n",
      "    <h1>Data Science and Machine Learning</h1>\n",
      "\n",
      "    <div class=\"my_class\">\n",
      "        <p> By <a href=\"https://bit.ly/34EdyH2\">Analysic Nabla</a></p>\n",
      "        <p> At the <a href=\"https://bit.ly/2qDvao4\">ITAM</a></p>\n",
      "    </div>\n",
      "\n",
      "</body>\n",
      "</html>\n",
      "\n"
     ]
    }
   ],
   "source": [
    "with open(\"../files/lec04/ex03.html\") as f: \n",
    "    webp=f.read()\n",
    "\n",
    "html=HTML(html=webp)\n",
    "print(html.html)"
   ]
  },
  {
   "cell_type": "code",
   "execution_count": 25,
   "metadata": {},
   "outputs": [
    {
     "data": {
      "text/plain": [
       "{'https://bit.ly/2qDvao4', 'https://bit.ly/34EdyH2'}"
      ]
     },
     "execution_count": 25,
     "metadata": {},
     "output_type": "execute_result"
    }
   ],
   "source": [
    "#Extraer todos los links de la página. \n",
    "html.links"
   ]
  },
  {
   "cell_type": "code",
   "execution_count": 27,
   "metadata": {},
   "outputs": [
    {
     "data": {
      "text/plain": [
       "'Data Science and Machine Learning'"
      ]
     },
     "execution_count": 27,
     "metadata": {},
     "output_type": "execute_result"
    }
   ],
   "source": [
    "#Extraer el primer encabezado de la página. \n",
    "html.find(\"H1\",first=True).text"
   ]
  },
  {
   "cell_type": "code",
   "execution_count": 29,
   "metadata": {},
   "outputs": [
    {
     "data": {
      "text/plain": [
       "[<Element 'p' >, <Element 'p' >]"
      ]
     },
     "execution_count": 29,
     "metadata": {},
     "output_type": "execute_result"
    }
   ],
   "source": [
    "#Buscar todos los elementos <p> (paragraphs)\n",
    "html.find(\"p\")"
   ]
  },
  {
   "cell_type": "code",
   "execution_count": 31,
   "metadata": {},
   "outputs": [
    {
     "data": {
      "text/plain": [
       "<Element 'div' class=('my_class',)>"
      ]
     },
     "execution_count": 31,
     "metadata": {},
     "output_type": "execute_result"
    }
   ],
   "source": [
    "#Extraer una sección dentro de un div. \n",
    "html.find(\"div\",first=True)"
   ]
  },
  {
   "cell_type": "markdown",
   "metadata": {},
   "source": [
    "### Un segundo ejemplo"
   ]
  },
  {
   "cell_type": "code",
   "execution_count": 41,
   "metadata": {},
   "outputs": [
    {
     "name": "stdout",
     "output_type": "stream",
     "text": [
      "<!DOCTYPE html>\n",
      "<html>\n",
      "<head>\n",
      "    <link href=\"style2.css\" rel=\"stylesheet\"/>\n",
      "    <script>\n",
      "        function sendGreeting() {\n",
      "            document.getElementById(\"greeting\").innerHTML = \"Aprendamos a hacer webscrapping!\"\n",
      "        }\n",
      "        \n",
      "\n",
      "    </script>\n",
      "</head>\n",
      "\n",
      "<body onload=\"sendGreeting()\">\n",
      "    <h1>Data Science and Machine Learning</h1>\n",
      "\n",
      "    <div class=\"my_class\">\n",
      "        <p>Por Analysic Nabla</p>\n",
      "        <p>En el ITAM</p>\n",
      "        <p id=\"greeting\"></p>\n",
      "    </div>\n",
      "\n",
      "</body>\n",
      "</html>\n",
      "\n"
     ]
    }
   ],
   "source": [
    "with open(\"../files/lec04/ex04.html\") as f: \n",
    "    webpg=f.read()\n",
    "html=HTML(html=webpg)\n",
    "print(html.html)"
   ]
  },
  {
   "cell_type": "code",
   "execution_count": 39,
   "metadata": {},
   "outputs": [
    {
     "data": {
      "text/plain": [
       "<HTML url='https://example.org/'>"
      ]
     },
     "execution_count": 39,
     "metadata": {},
     "output_type": "execute_result"
    }
   ],
   "source": [
    "html"
   ]
  },
  {
   "cell_type": "code",
   "execution_count": 45,
   "metadata": {},
   "outputs": [
    {
     "name": "stdout",
     "output_type": "stream",
     "text": [
      "Por Analysic Nabla\n",
      "En el ITAM\n",
      "\n"
     ]
    }
   ],
   "source": [
    "for item in html.find(\"p\"):\n",
    "    print(item.text)"
   ]
  },
  {
   "cell_type": "code",
   "execution_count": 47,
   "metadata": {},
   "outputs": [
    {
     "data": {
      "text/plain": [
       "<Element 'p' id='greeting'>"
      ]
     },
     "execution_count": 47,
     "metadata": {},
     "output_type": "execute_result"
    }
   ],
   "source": [
    "html.find(\"p[id='greeting']\",first=True)"
   ]
  },
  {
   "cell_type": "markdown",
   "metadata": {},
   "source": [
    "<h1 style=\"color:#872325\">HTTP Requests</h1>\n",
    "\n",
    "Las páginas que visitamos día a día viven en un servidor y no en nuestra computadora. Al abrir nuestro navegador y entrar a una página, el navegador solicita la información de la página al servidor por medio de un proceso de intercambio de información conocido como HTTP.\n",
    "\n",
    "> *Hypertext Transfer Protocol* (HTTP) es un proceso mediante el cual se hace un intercambio de información entre un cliente (un navegador) y un servidor por medio de mensajes.\n",
    "\n",
    "![server](https://mdn.mozillademos.org/files/13677/Fetching_a_page.png)\n",
    "**Fuente**x: https://developer.mozilla.org"
   ]
  },
  {
   "cell_type": "markdown",
   "metadata": {},
   "source": [
    "Dependiendo del tipo de mensaje que le mandemos a un servidor, este procesará la información enviada desde el cliente (nosotros) de diferentes maneras. Para fines de webscrapping, los métodos más comúnes de comunicarte con un servidor son:\n",
    "\n",
    "* `GET`: Solicitia un archivo determinado al servidor. Un *GET Request* se debe usar exclusivamente para adquirir información.\n",
    "    * Obtener información de una página web\n",
    "    * Cargar una imágen\n",
    "\n",
    "* `POST`: Envía datos al servidor para ser procesados\n",
    "    * Dejar tu número celular en una página\n",
    "    * Loggearte\n",
    "    * Dejar un comentario en un blog post"
   ]
  },
  {
   "cell_type": "markdown",
   "metadata": {},
   "source": [
    "En Python, podemos hacer conexiones a una página por medio de la librería `requests`"
   ]
  },
  {
   "cell_type": "code",
   "execution_count": 49,
   "metadata": {},
   "outputs": [],
   "source": [
    "import requests"
   ]
  },
  {
   "cell_type": "code",
   "execution_count": 71,
   "metadata": {},
   "outputs": [
    {
     "data": {
      "text/plain": [
       "<Response [403]>"
      ]
     },
     "execution_count": 71,
     "metadata": {},
     "output_type": "execute_result"
    }
   ],
   "source": [
    "r=requests.get(\"https://unam.mx/\")\n",
    "r"
   ]
  },
  {
   "cell_type": "code",
   "execution_count": 67,
   "metadata": {},
   "outputs": [
    {
     "data": {
      "text/plain": [
       "403"
      ]
     },
     "execution_count": 67,
     "metadata": {},
     "output_type": "execute_result"
    }
   ],
   "source": [
    "r.status_code"
   ]
  },
  {
   "cell_type": "code",
   "execution_count": 73,
   "metadata": {},
   "outputs": [
    {
     "data": {
      "text/plain": [
       "<Response [200]>"
      ]
     },
     "execution_count": 73,
     "metadata": {},
     "output_type": "execute_result"
    }
   ],
   "source": [
    "r=requests.get(\"https://www.itam.mx/\")\n",
    "r"
   ]
  },
  {
   "cell_type": "code",
   "execution_count": 75,
   "metadata": {},
   "outputs": [
    {
     "data": {
      "text/plain": [
       "200"
      ]
     },
     "execution_count": 75,
     "metadata": {},
     "output_type": "execute_result"
    }
   ],
   "source": [
    "r.status_code"
   ]
  },
  {
   "cell_type": "markdown",
   "metadata": {},
   "source": [
    "Posteriormente tendríamos que pasarlo a una instancia de la clase `HTML` para poder analizar la página. Para evitar esto, podemos hacer uso de la clase `HTMLSession` que nos permite hacer llamadas al servidor y acceso al html que nos regrese."
   ]
  },
  {
   "cell_type": "code",
   "execution_count": 55,
   "metadata": {},
   "outputs": [],
   "source": [
    "from requests_html import HTMLSession"
   ]
  },
  {
   "cell_type": "code",
   "execution_count": 77,
   "metadata": {},
   "outputs": [
    {
     "data": {
      "text/plain": [
       "<Response [200]>"
      ]
     },
     "execution_count": 77,
     "metadata": {},
     "output_type": "execute_result"
    }
   ],
   "source": [
    "with HTMLSession() as sess:\n",
    "    r=sess.get(\"https://unam.mx\")\n",
    "r"
   ]
  },
  {
   "cell_type": "code",
   "execution_count": 79,
   "metadata": {
    "scrolled": true
   },
   "outputs": [
    {
     "data": {
      "text/plain": [
       "{'/',\n",
       " '/acerca-de-la-unam',\n",
       " '/comunidad/academicos/becas-y-estimulos',\n",
       " '/comunidad/academicos/estancias',\n",
       " '/comunidad/academicos/normatividad',\n",
       " '/comunidad/academicos/servicios-para-docencia-y-tutoria',\n",
       " '/comunidad/academicos/servicios-para-docencia-y-tutoria/cursos-para-la-docencia',\n",
       " '/comunidad/academicos/servicios-para-docencia-y-tutoria/tecnologia-para-la-docencia',\n",
       " '/comunidad/egresados/oferta-academica',\n",
       " '/comunidad/egresados/servicios',\n",
       " '/comunidad/estudiantes/becas-y-otros-apoyos',\n",
       " '/comunidad/estudiantes/estudiantes-extranjeros',\n",
       " '/comunidad/estudiantes/facultades-y-escuelas',\n",
       " '/comunidad/estudiantes/incorporacion-y-revalidacion-de-estudios',\n",
       " '/comunidad/estudiantes/servicios-bibliotecarios/bibliotecas',\n",
       " '/comunidad/estudiantes/titulacion-y-expedicion-de-cedula-profesional',\n",
       " '/creditos',\n",
       " '/cultura/publicaciones',\n",
       " '/dudas-y-comentarios',\n",
       " '/investigacion/institutos-centros-y-programas',\n",
       " '/oferta-educativa/movilidad',\n",
       " '/preguntas-frecuentes',\n",
       " '/rss.xml',\n",
       " '/sitemap',\n",
       " '/telefonos-y-medidas-de-emergencia',\n",
       " '/transporte',\n",
       " '/vinculacion',\n",
       " 'http://bibliotecas.unam.mx/',\n",
       " 'http://descargacultura.unam.mx/app1',\n",
       " 'http://dgapa.unam.mx/',\n",
       " 'http://dgenp.unam.mx/',\n",
       " 'http://educacioncontinua.cuaed.unam.mx/',\n",
       " 'http://enallt.unam.mx/',\n",
       " 'http://english.unam.mx/',\n",
       " 'http://eventos.unam.mx',\n",
       " 'http://frances.unam.mx/',\n",
       " 'http://issuu.com/recorridoinvestigacionunam/docs/pdf_sh',\n",
       " 'http://issuu.com/recorridoinvestigacionunam/docs/pdf_sic',\n",
       " 'http://issuu.com/recorridoinvestigacionunam/docs/sic_fora__neas?e=19111407/48988611',\n",
       " 'http://labunam.unam.mx/index.php/laboratorios',\n",
       " 'http://oferta.unam.mx/',\n",
       " 'http://pumas.mx/',\n",
       " 'http://suayed.unam.mx/index.php',\n",
       " 'http://tv.unam.mx/',\n",
       " 'http://web.cuaed.unam.mx/',\n",
       " 'http://www.bunam.unam.mx/',\n",
       " 'http://www.cch.unam.mx/',\n",
       " 'http://www.cic-ctic.unam.mx/',\n",
       " 'http://www.correo.unam.mx/',\n",
       " 'http://www.datospersonales.unam.mx/',\n",
       " 'http://www.dgdc.unam.mx/',\n",
       " 'http://www.dgoae.unam.mx/',\n",
       " 'http://www.dgoserver.unam.mx/portaldgose/coe/index.html',\n",
       " 'http://www.dgsm.unam.mx/',\n",
       " 'http://www.estadistica.unam.mx/numeralia/',\n",
       " 'http://www.fundacionunam.org.mx/',\n",
       " 'http://www.gaceta.unam.mx/',\n",
       " 'http://www.global.unam.mx',\n",
       " 'http://www.humanidades.unam.mx/',\n",
       " 'http://www.personal.unam.mx/',\n",
       " 'http://www.posgrado.unam.mx/',\n",
       " 'http://www.pumitasfutbol.unam.mx/',\n",
       " 'http://www.radiounam.unam.mx/',\n",
       " 'http://www.rector.unam.mx/',\n",
       " 'http://www.redmacro.unam.mx/',\n",
       " 'http://www.tic.unam.mx/',\n",
       " 'http://www.transparencia.unam.mx/',\n",
       " 'http://www.tucomunidad.unam.mx/',\n",
       " 'http://www.unamenlinea.unam.mx/',\n",
       " 'https://aulas-virtuales.cuaieed.unam.mx/',\n",
       " 'https://coordinaciongenero.unam.mx/',\n",
       " 'https://cultura.unam.mx/',\n",
       " 'https://deporte.unam.mx/',\n",
       " 'https://deporte.unam.mx/fba/',\n",
       " 'https://eventos.unam.mx/wordpress/eventos/',\n",
       " 'https://twitter.com/UNAM_MX?ref_src=twsrc%5Etfw',\n",
       " 'https://twitter.com/unam_mx',\n",
       " 'https://unamglobal.unam.mx/',\n",
       " 'https://unamglobal.unam.mx/la-universidad-de-la-nacion-2/',\n",
       " 'https://vinculacion.unam.mx/',\n",
       " 'https://www.becarios.unam.mx/Portal2018/',\n",
       " 'https://www.conacyt.gob.mx/Becas-y.posgrados.html',\n",
       " 'https://www.defensoria.unam.mx/',\n",
       " 'https://www.dgae.unam.mx/',\n",
       " 'https://www.dgae.unam.mx/calendarios_escolares.html',\n",
       " 'https://www.dgae.unam.mx/planes/tecnico.html',\n",
       " 'https://www.dgcs.unam.mx/boletin/bdboletin/2024_119.html',\n",
       " 'https://www.dgcs.unam.mx/boletin/bdboletin/2024_613.html',\n",
       " 'https://www.dgcs.unam.mx/boletin/bdboletin/2024_614.html',\n",
       " 'https://www.dgire.unam.mx/webdgire/',\n",
       " 'https://www.dgoserver.unam.mx/portaldgose/bolsa-trabajo/htmls/index.html',\n",
       " 'https://www.facebook.com/UNAM.MX.Oficial',\n",
       " 'https://www.facebook.com/UNAM.MX.Oficial/',\n",
       " 'https://www.gaceta.unam.mx/',\n",
       " 'https://www.gaceta.unam.mx/alfabetizacion-digital-transformadora-de-las-personas-adultas-mayores/',\n",
       " 'https://www.gaceta.unam.mx/filuni-gran-feria-de-la-edicion-universitaria-en-iberoamerica/',\n",
       " 'https://www.gaceta.unam.mx/la-unam-en-letras-de-oro-en-el-muro-de-honor-del-senado-de-la-republica/',\n",
       " 'https://www.gaceta.unam.mx/los-casos-de-dengue-se-han-expandido-en-mexico/',\n",
       " 'https://www.gaceta.unam.mx/reflexiones-sobre-el-deporte-adaptado-su-historia-y-el-desafio-de-la-inclusion/',\n",
       " 'https://www.humanidades.unam.mx/',\n",
       " 'https://www.instagram.com/unam_mx/',\n",
       " 'https://www.posgrado.unam.mx/alumnos/apoyo_alumnos/paep.php',\n",
       " 'https://www.rector.unam.mx/docs/PDI-2023-2027.pdf',\n",
       " 'https://www.siass.unam.mx/',\n",
       " 'https://www.unaminternacional.unam.mx/',\n",
       " 'https://www.youtube.com/user/unam'}"
      ]
     },
     "execution_count": 79,
     "metadata": {},
     "output_type": "execute_result"
    }
   ],
   "source": [
    "r.html.links"
   ]
  },
  {
   "cell_type": "markdown",
   "metadata": {},
   "source": [
    "<h1 style=\"color:#872325\">Webscrapping</h1>"
   ]
  },
  {
   "cell_type": "markdown",
   "metadata": {},
   "source": [
    "<h2 style=\"color:teal\">Ejemplo: Arxiv ML Papers (I)</h2>\n",
    "\n",
    "Consigue el nombre y el link de los último 25 papers en Machine Learning publicados en Arxiv y guárdalos dentro de un archivo `csv`."
   ]
  },
  {
   "cell_type": "code",
   "execution_count": 81,
   "metadata": {},
   "outputs": [],
   "source": [
    "from requests_html import HTMLSession\n",
    "import pandas as pd"
   ]
  },
  {
   "cell_type": "code",
   "execution_count": 97,
   "metadata": {},
   "outputs": [
    {
     "data": {
      "text/plain": [
       "<Response [200]>"
      ]
     },
     "execution_count": 97,
     "metadata": {},
     "output_type": "execute_result"
    }
   ],
   "source": [
    "url = \"https://arxiv.org/list/stat.ML/recent\"\n",
    "with HTMLSession() as sess:\n",
    "    r = sess.get(url)\n",
    "r"
   ]
  },
  {
   "cell_type": "code",
   "execution_count": 99,
   "metadata": {},
   "outputs": [],
   "source": [
    "divpage=r.html.find(\"div[id='dlpage']\",first=True)"
   ]
  },
  {
   "cell_type": "code",
   "execution_count": 101,
   "metadata": {},
   "outputs": [
    {
     "data": {
      "text/plain": [
       "<Element 'div' id='dlpage'>"
      ]
     },
     "execution_count": 101,
     "metadata": {},
     "output_type": "execute_result"
    }
   ],
   "source": [
    "divpage"
   ]
  },
  {
   "cell_type": "code",
   "execution_count": 103,
   "metadata": {},
   "outputs": [
    {
     "data": {
      "text/plain": [
       "'Machine Learning'"
      ]
     },
     "execution_count": 103,
     "metadata": {},
     "output_type": "execute_result"
    }
   ],
   "source": [
    "divpage.find(\"h1\",first=True).text"
   ]
  },
  {
   "cell_type": "code",
   "execution_count": 105,
   "metadata": {},
   "outputs": [
    {
     "data": {
      "text/plain": [
       "25"
      ]
     },
     "execution_count": 105,
     "metadata": {},
     "output_type": "execute_result"
    }
   ],
   "source": [
    "papers_links=divpage.find(\"dt\")\n",
    "len(papers_links)"
   ]
  },
  {
   "cell_type": "code",
   "execution_count": 109,
   "metadata": {
    "scrolled": true
   },
   "outputs": [
    {
     "data": {
      "text/plain": [
       "25"
      ]
     },
     "execution_count": 109,
     "metadata": {},
     "output_type": "execute_result"
    }
   ],
   "source": [
    "papers_titles=divpage.find(\"dd\")\n",
    "len(papers_titles)"
   ]
  },
  {
   "cell_type": "code",
   "execution_count": 111,
   "metadata": {},
   "outputs": [
    {
     "data": {
      "text/plain": [
       "<HTML url='https://arxiv.org/list/stat.ML/recent'>"
      ]
     },
     "execution_count": 111,
     "metadata": {},
     "output_type": "execute_result"
    }
   ],
   "source": [
    "r.html"
   ]
  },
  {
   "cell_type": "code",
   "execution_count": 113,
   "metadata": {},
   "outputs": [],
   "source": [
    "link_secc=papers_links[0]\n",
    "title_secc=papers_titles[0]"
   ]
  },
  {
   "cell_type": "code",
   "execution_count": 117,
   "metadata": {
    "scrolled": true
   },
   "outputs": [
    {
     "data": {
      "text/plain": [
       "[<Element 'dt' >,\n",
       " <Element 'dt' >,\n",
       " <Element 'dt' >,\n",
       " <Element 'dt' >,\n",
       " <Element 'dt' >,\n",
       " <Element 'dt' >,\n",
       " <Element 'dt' >,\n",
       " <Element 'dt' >,\n",
       " <Element 'dt' >,\n",
       " <Element 'dt' >,\n",
       " <Element 'dt' >,\n",
       " <Element 'dt' >,\n",
       " <Element 'dt' >,\n",
       " <Element 'dt' >,\n",
       " <Element 'dt' >,\n",
       " <Element 'dt' >,\n",
       " <Element 'dt' >,\n",
       " <Element 'dt' >,\n",
       " <Element 'dt' >,\n",
       " <Element 'dt' >,\n",
       " <Element 'dt' >,\n",
       " <Element 'dt' >,\n",
       " <Element 'dt' >,\n",
       " <Element 'dt' >,\n",
       " <Element 'dt' >]"
      ]
     },
     "execution_count": 117,
     "metadata": {},
     "output_type": "execute_result"
    }
   ],
   "source": [
    "papers_links"
   ]
  },
  {
   "cell_type": "code",
   "execution_count": 119,
   "metadata": {
    "scrolled": true
   },
   "outputs": [
    {
     "data": {
      "text/plain": [
       "[<Element 'dd' >,\n",
       " <Element 'dd' >,\n",
       " <Element 'dd' >,\n",
       " <Element 'dd' >,\n",
       " <Element 'dd' >,\n",
       " <Element 'dd' >,\n",
       " <Element 'dd' >,\n",
       " <Element 'dd' >,\n",
       " <Element 'dd' >,\n",
       " <Element 'dd' >,\n",
       " <Element 'dd' >,\n",
       " <Element 'dd' >,\n",
       " <Element 'dd' >,\n",
       " <Element 'dd' >,\n",
       " <Element 'dd' >,\n",
       " <Element 'dd' >,\n",
       " <Element 'dd' >,\n",
       " <Element 'dd' >,\n",
       " <Element 'dd' >,\n",
       " <Element 'dd' >,\n",
       " <Element 'dd' >,\n",
       " <Element 'dd' >,\n",
       " <Element 'dd' >,\n",
       " <Element 'dd' >,\n",
       " <Element 'dd' >]"
      ]
     },
     "execution_count": 119,
     "metadata": {},
     "output_type": "execute_result"
    }
   ],
   "source": [
    "papers_titles"
   ]
  },
  {
   "cell_type": "code",
   "execution_count": 123,
   "metadata": {},
   "outputs": [
    {
     "data": {
      "text/plain": [
       "'Title: HyperSBINN: A Hypernetwork-Enhanced Systems Biology-Informed Neural Network for Efficient Drug Cardiosafety Assessment'"
      ]
     },
     "execution_count": 123,
     "metadata": {},
     "output_type": "execute_result"
    }
   ],
   "source": [
    "title=title_secc.find(\"div[class='list-title mathjax']\",first=True).text\n",
    "title"
   ]
  },
  {
   "cell_type": "code",
   "execution_count": 125,
   "metadata": {},
   "outputs": [
    {
     "data": {
      "text/plain": [
       "{'https://arxiv.org/abs/2408.14266'}"
      ]
     },
     "execution_count": 125,
     "metadata": {},
     "output_type": "execute_result"
    }
   ],
   "source": [
    "abstract_url=link_secc.find(\"a[title='Abstract']\",first=True).absolute_links\n",
    "abstract_url"
   ]
  },
  {
   "cell_type": "code",
   "execution_count": 127,
   "metadata": {},
   "outputs": [
    {
     "data": {
      "text/plain": [
       "'https://arxiv.org/abs/2408.14266'"
      ]
     },
     "execution_count": 127,
     "metadata": {},
     "output_type": "execute_result"
    }
   ],
   "source": [
    "abstract_url,*_=abstract_url\n",
    "abstract_url"
   ]
  },
  {
   "cell_type": "code",
   "execution_count": 131,
   "metadata": {},
   "outputs": [],
   "source": [
    "values=[]\n",
    "for link_secc, title_secc in zip(papers_links,papers_titles):\n",
    "    title=title_secc.find(\"div[class='list-title mathjax']\",first=True).text\n",
    "    abstract_url=link_secc.find(\"a[title='Abstract']\",first=True).absolute_links\n",
    "    abstract_url,*_=abstract_url\n",
    "    values.append([title,abstract_url])"
   ]
  },
  {
   "cell_type": "code",
   "execution_count": 133,
   "metadata": {},
   "outputs": [
    {
     "data": {
      "text/html": [
       "<div>\n",
       "<style scoped>\n",
       "    .dataframe tbody tr th:only-of-type {\n",
       "        vertical-align: middle;\n",
       "    }\n",
       "\n",
       "    .dataframe tbody tr th {\n",
       "        vertical-align: top;\n",
       "    }\n",
       "\n",
       "    .dataframe thead th {\n",
       "        text-align: right;\n",
       "    }\n",
       "</style>\n",
       "<table border=\"1\" class=\"dataframe\">\n",
       "  <thead>\n",
       "    <tr style=\"text-align: right;\">\n",
       "      <th></th>\n",
       "      <th>title</th>\n",
       "      <th>url</th>\n",
       "    </tr>\n",
       "  </thead>\n",
       "  <tbody>\n",
       "    <tr>\n",
       "      <th>0</th>\n",
       "      <td>Title: HyperSBINN: A Hypernetwork-Enhanced Sys...</td>\n",
       "      <td>https://arxiv.org/abs/2408.14266</td>\n",
       "    </tr>\n",
       "    <tr>\n",
       "      <th>1</th>\n",
       "      <td>Title: Improved identification of breakpoints ...</td>\n",
       "      <td>https://arxiv.org/abs/2408.13751</td>\n",
       "    </tr>\n",
       "    <tr>\n",
       "      <th>2</th>\n",
       "      <td>Title: Enhancing Uplift Modeling in Multi-Trea...</td>\n",
       "      <td>https://arxiv.org/abs/2408.13628</td>\n",
       "    </tr>\n",
       "    <tr>\n",
       "      <th>3</th>\n",
       "      <td>Title: Optimal Kernel Quantile Learning with R...</td>\n",
       "      <td>https://arxiv.org/abs/2408.13591</td>\n",
       "    </tr>\n",
       "    <tr>\n",
       "      <th>4</th>\n",
       "      <td>Title: Non-convex matrix sensing: Breaking the...</td>\n",
       "      <td>https://arxiv.org/abs/2408.13276</td>\n",
       "    </tr>\n",
       "  </tbody>\n",
       "</table>\n",
       "</div>"
      ],
      "text/plain": [
       "                                               title  \\\n",
       "0  Title: HyperSBINN: A Hypernetwork-Enhanced Sys...   \n",
       "1  Title: Improved identification of breakpoints ...   \n",
       "2  Title: Enhancing Uplift Modeling in Multi-Trea...   \n",
       "3  Title: Optimal Kernel Quantile Learning with R...   \n",
       "4  Title: Non-convex matrix sensing: Breaking the...   \n",
       "\n",
       "                                url  \n",
       "0  https://arxiv.org/abs/2408.14266  \n",
       "1  https://arxiv.org/abs/2408.13751  \n",
       "2  https://arxiv.org/abs/2408.13628  \n",
       "3  https://arxiv.org/abs/2408.13591  \n",
       "4  https://arxiv.org/abs/2408.13276  "
      ]
     },
     "execution_count": 133,
     "metadata": {},
     "output_type": "execute_result"
    }
   ],
   "source": [
    "df_values=pd.DataFrame(values,columns=[\"title\",\"url\"])\n",
    "df_values.head()"
   ]
  },
  {
   "cell_type": "code",
   "execution_count": 137,
   "metadata": {},
   "outputs": [
    {
     "data": {
      "text/html": [
       "<div>\n",
       "<style scoped>\n",
       "    .dataframe tbody tr th:only-of-type {\n",
       "        vertical-align: middle;\n",
       "    }\n",
       "\n",
       "    .dataframe tbody tr th {\n",
       "        vertical-align: top;\n",
       "    }\n",
       "\n",
       "    .dataframe thead th {\n",
       "        text-align: right;\n",
       "    }\n",
       "</style>\n",
       "<table border=\"1\" class=\"dataframe\">\n",
       "  <thead>\n",
       "    <tr style=\"text-align: right;\">\n",
       "      <th></th>\n",
       "      <th>title</th>\n",
       "      <th>url</th>\n",
       "    </tr>\n",
       "  </thead>\n",
       "  <tbody>\n",
       "    <tr>\n",
       "      <th>0</th>\n",
       "      <td>HyperSBINN: A Hypernetwork-Enhanced Systems Bi...</td>\n",
       "      <td>https://arxiv.org/abs/2408.14266</td>\n",
       "    </tr>\n",
       "    <tr>\n",
       "      <th>1</th>\n",
       "      <td>Improved identification of breakpoints in piec...</td>\n",
       "      <td>https://arxiv.org/abs/2408.13751</td>\n",
       "    </tr>\n",
       "    <tr>\n",
       "      <th>2</th>\n",
       "      <td>Enhancing Uplift Modeling in Multi-Treatment M...</td>\n",
       "      <td>https://arxiv.org/abs/2408.13628</td>\n",
       "    </tr>\n",
       "    <tr>\n",
       "      <th>3</th>\n",
       "      <td>Optimal Kernel Quantile Learning with Random F...</td>\n",
       "      <td>https://arxiv.org/abs/2408.13591</td>\n",
       "    </tr>\n",
       "    <tr>\n",
       "      <th>4</th>\n",
       "      <td>Non-convex matrix sensing: Breaking the quadra...</td>\n",
       "      <td>https://arxiv.org/abs/2408.13276</td>\n",
       "    </tr>\n",
       "  </tbody>\n",
       "</table>\n",
       "</div>"
      ],
      "text/plain": [
       "                                               title  \\\n",
       "0  HyperSBINN: A Hypernetwork-Enhanced Systems Bi...   \n",
       "1  Improved identification of breakpoints in piec...   \n",
       "2  Enhancing Uplift Modeling in Multi-Treatment M...   \n",
       "3  Optimal Kernel Quantile Learning with Random F...   \n",
       "4  Non-convex matrix sensing: Breaking the quadra...   \n",
       "\n",
       "                                url  \n",
       "0  https://arxiv.org/abs/2408.14266  \n",
       "1  https://arxiv.org/abs/2408.13751  \n",
       "2  https://arxiv.org/abs/2408.13628  \n",
       "3  https://arxiv.org/abs/2408.13591  \n",
       "4  https://arxiv.org/abs/2408.13276  "
      ]
     },
     "execution_count": 137,
     "metadata": {},
     "output_type": "execute_result"
    }
   ],
   "source": [
    "df_values=df_values.assign(title=df_values.title.str.lstrip(\"Title: \"))\n",
    "df_values.head()"
   ]
  },
  {
   "cell_type": "code",
   "execution_count": 139,
   "metadata": {},
   "outputs": [
    {
     "data": {
      "text/html": [
       "<div>\n",
       "<style scoped>\n",
       "    .dataframe tbody tr th:only-of-type {\n",
       "        vertical-align: middle;\n",
       "    }\n",
       "\n",
       "    .dataframe tbody tr th {\n",
       "        vertical-align: top;\n",
       "    }\n",
       "\n",
       "    .dataframe thead th {\n",
       "        text-align: right;\n",
       "    }\n",
       "</style>\n",
       "<table border=\"1\" class=\"dataframe\">\n",
       "  <thead>\n",
       "    <tr style=\"text-align: right;\">\n",
       "      <th></th>\n",
       "      <th>title</th>\n",
       "      <th>url</th>\n",
       "    </tr>\n",
       "  </thead>\n",
       "  <tbody>\n",
       "    <tr>\n",
       "      <th>0</th>\n",
       "      <td>HyperSBINN: A Hypernetwork-Enhanced Systems Bi...</td>\n",
       "      <td>https://arxiv.org/abs/2408.14266</td>\n",
       "    </tr>\n",
       "    <tr>\n",
       "      <th>1</th>\n",
       "      <td>Improved identification of breakpoints in piec...</td>\n",
       "      <td>https://arxiv.org/abs/2408.13751</td>\n",
       "    </tr>\n",
       "    <tr>\n",
       "      <th>2</th>\n",
       "      <td>Enhancing Uplift Modeling in Multi-Treatment M...</td>\n",
       "      <td>https://arxiv.org/abs/2408.13628</td>\n",
       "    </tr>\n",
       "    <tr>\n",
       "      <th>3</th>\n",
       "      <td>Optimal Kernel Quantile Learning with Random F...</td>\n",
       "      <td>https://arxiv.org/abs/2408.13591</td>\n",
       "    </tr>\n",
       "    <tr>\n",
       "      <th>4</th>\n",
       "      <td>Non-convex matrix sensing: Breaking the quadra...</td>\n",
       "      <td>https://arxiv.org/abs/2408.13276</td>\n",
       "    </tr>\n",
       "    <tr>\n",
       "      <th>5</th>\n",
       "      <td>An Information-Theoretic Approach to Generaliz...</td>\n",
       "      <td>https://arxiv.org/abs/2408.13275</td>\n",
       "    </tr>\n",
       "    <tr>\n",
       "      <th>6</th>\n",
       "      <td>Symmetry &amp; Critical Points</td>\n",
       "      <td>https://arxiv.org/abs/2408.14445</td>\n",
       "    </tr>\n",
       "    <tr>\n",
       "      <th>7</th>\n",
       "      <td>A quasi-Bayesian sequential approach to deconv...</td>\n",
       "      <td>https://arxiv.org/abs/2408.14402</td>\n",
       "    </tr>\n",
       "    <tr>\n",
       "      <th>8</th>\n",
       "      <td>One-layer transformers fail to solve the induc...</td>\n",
       "      <td>https://arxiv.org/abs/2408.14332</td>\n",
       "    </tr>\n",
       "    <tr>\n",
       "      <th>9</th>\n",
       "      <td>Function-Space MCMC for Bayesian Wide Neural N...</td>\n",
       "      <td>https://arxiv.org/abs/2408.14325</td>\n",
       "    </tr>\n",
       "    <tr>\n",
       "      <th>10</th>\n",
       "      <td>Representative Arm Identification: A fixed con...</td>\n",
       "      <td>https://arxiv.org/abs/2408.14195</td>\n",
       "    </tr>\n",
       "    <tr>\n",
       "      <th>11</th>\n",
       "      <td>Score-based change point detection via trackin...</td>\n",
       "      <td>https://arxiv.org/abs/2408.14073</td>\n",
       "    </tr>\n",
       "    <tr>\n",
       "      <th>12</th>\n",
       "      <td>ESG Rating Disagreement and Corporate Total Fa...</td>\n",
       "      <td>https://arxiv.org/abs/2408.13895</td>\n",
       "    </tr>\n",
       "    <tr>\n",
       "      <th>13</th>\n",
       "      <td>Neural Spacetimes for DAG Representation Learning</td>\n",
       "      <td>https://arxiv.org/abs/2408.13885</td>\n",
       "    </tr>\n",
       "    <tr>\n",
       "      <th>14</th>\n",
       "      <td>RoCP-GNN: Robust Conformal Prediction for Grap...</td>\n",
       "      <td>https://arxiv.org/abs/2408.13825</td>\n",
       "    </tr>\n",
       "    <tr>\n",
       "      <th>15</th>\n",
       "      <td>Non-asymptotic bounds for forward processes in...</td>\n",
       "      <td>https://arxiv.org/abs/2408.13799</td>\n",
       "    </tr>\n",
       "    <tr>\n",
       "      <th>16</th>\n",
       "      <td>Lecture Notes on Linear Neural Networks: A Tal...</td>\n",
       "      <td>https://arxiv.org/abs/2408.13767</td>\n",
       "    </tr>\n",
       "    <tr>\n",
       "      <th>17</th>\n",
       "      <td>ree-structured Markov random fields with Poiss...</td>\n",
       "      <td>https://arxiv.org/abs/2408.13649</td>\n",
       "    </tr>\n",
       "    <tr>\n",
       "      <th>18</th>\n",
       "      <td>Loss-based Bayesian Sequential Prediction of V...</td>\n",
       "      <td>https://arxiv.org/abs/2408.13588</td>\n",
       "    </tr>\n",
       "    <tr>\n",
       "      <th>19</th>\n",
       "      <td>DOPPLER: Differentially Private Optimizers wit...</td>\n",
       "      <td>https://arxiv.org/abs/2408.13460</td>\n",
       "    </tr>\n",
       "    <tr>\n",
       "      <th>20</th>\n",
       "      <td>Efficient Reinforced DAG Learning without Acyc...</td>\n",
       "      <td>https://arxiv.org/abs/2408.13448</td>\n",
       "    </tr>\n",
       "    <tr>\n",
       "      <th>21</th>\n",
       "      <td>A Law of Next-Token Prediction in Large Langua...</td>\n",
       "      <td>https://arxiv.org/abs/2408.13442</td>\n",
       "    </tr>\n",
       "    <tr>\n",
       "      <th>22</th>\n",
       "      <td>Analysis of the ICML 2023 Ranking Data: Can Au...</td>\n",
       "      <td>https://arxiv.org/abs/2408.13430</td>\n",
       "    </tr>\n",
       "    <tr>\n",
       "      <th>23</th>\n",
       "      <td>Double Descent: Understanding Linear Model Est...</td>\n",
       "      <td>https://arxiv.org/abs/2408.13235</td>\n",
       "    </tr>\n",
       "    <tr>\n",
       "      <th>24</th>\n",
       "      <td>On the design of scalable, high-precision sphe...</td>\n",
       "      <td>https://arxiv.org/abs/2408.13231</td>\n",
       "    </tr>\n",
       "  </tbody>\n",
       "</table>\n",
       "</div>"
      ],
      "text/plain": [
       "                                                title  \\\n",
       "0   HyperSBINN: A Hypernetwork-Enhanced Systems Bi...   \n",
       "1   Improved identification of breakpoints in piec...   \n",
       "2   Enhancing Uplift Modeling in Multi-Treatment M...   \n",
       "3   Optimal Kernel Quantile Learning with Random F...   \n",
       "4   Non-convex matrix sensing: Breaking the quadra...   \n",
       "5   An Information-Theoretic Approach to Generaliz...   \n",
       "6                          Symmetry & Critical Points   \n",
       "7   A quasi-Bayesian sequential approach to deconv...   \n",
       "8   One-layer transformers fail to solve the induc...   \n",
       "9   Function-Space MCMC for Bayesian Wide Neural N...   \n",
       "10  Representative Arm Identification: A fixed con...   \n",
       "11  Score-based change point detection via trackin...   \n",
       "12  ESG Rating Disagreement and Corporate Total Fa...   \n",
       "13  Neural Spacetimes for DAG Representation Learning   \n",
       "14  RoCP-GNN: Robust Conformal Prediction for Grap...   \n",
       "15  Non-asymptotic bounds for forward processes in...   \n",
       "16  Lecture Notes on Linear Neural Networks: A Tal...   \n",
       "17  ree-structured Markov random fields with Poiss...   \n",
       "18  Loss-based Bayesian Sequential Prediction of V...   \n",
       "19  DOPPLER: Differentially Private Optimizers wit...   \n",
       "20  Efficient Reinforced DAG Learning without Acyc...   \n",
       "21  A Law of Next-Token Prediction in Large Langua...   \n",
       "22  Analysis of the ICML 2023 Ranking Data: Can Au...   \n",
       "23  Double Descent: Understanding Linear Model Est...   \n",
       "24  On the design of scalable, high-precision sphe...   \n",
       "\n",
       "                                 url  \n",
       "0   https://arxiv.org/abs/2408.14266  \n",
       "1   https://arxiv.org/abs/2408.13751  \n",
       "2   https://arxiv.org/abs/2408.13628  \n",
       "3   https://arxiv.org/abs/2408.13591  \n",
       "4   https://arxiv.org/abs/2408.13276  \n",
       "5   https://arxiv.org/abs/2408.13275  \n",
       "6   https://arxiv.org/abs/2408.14445  \n",
       "7   https://arxiv.org/abs/2408.14402  \n",
       "8   https://arxiv.org/abs/2408.14332  \n",
       "9   https://arxiv.org/abs/2408.14325  \n",
       "10  https://arxiv.org/abs/2408.14195  \n",
       "11  https://arxiv.org/abs/2408.14073  \n",
       "12  https://arxiv.org/abs/2408.13895  \n",
       "13  https://arxiv.org/abs/2408.13885  \n",
       "14  https://arxiv.org/abs/2408.13825  \n",
       "15  https://arxiv.org/abs/2408.13799  \n",
       "16  https://arxiv.org/abs/2408.13767  \n",
       "17  https://arxiv.org/abs/2408.13649  \n",
       "18  https://arxiv.org/abs/2408.13588  \n",
       "19  https://arxiv.org/abs/2408.13460  \n",
       "20  https://arxiv.org/abs/2408.13448  \n",
       "21  https://arxiv.org/abs/2408.13442  \n",
       "22  https://arxiv.org/abs/2408.13430  \n",
       "23  https://arxiv.org/abs/2408.13235  \n",
       "24  https://arxiv.org/abs/2408.13231  "
      ]
     },
     "execution_count": 139,
     "metadata": {},
     "output_type": "execute_result"
    }
   ],
   "source": [
    "df_values"
   ]
  },
  {
   "cell_type": "markdown",
   "metadata": {},
   "source": [
    "## Queries al sistema\n",
    "\n",
    "En ocasiones un *GET method* puede venir acompañado con parámetros obligatorios u opcionales para el sistema.\n",
    "\n",
    "* Se denota una sección de parámetros de consulta por medio de `?`.\n",
    "* cada par parametro-valor se denota `param=val`\n",
    "* se separa cada query por medio de `&`\n",
    "\n",
    "```\n",
    "http://some-page.com?key1=val1&key2=val2&..&keyn=valn\n",
    "```"
   ]
  },
  {
   "cell_type": "code",
   "execution_count": 141,
   "metadata": {},
   "outputs": [
    {
     "data": {
      "text/plain": [
       "<Response [200]>"
      ]
     },
     "execution_count": 141,
     "metadata": {},
     "output_type": "execute_result"
    }
   ],
   "source": [
    "url=\"https://arxiv.org/list/stat.ML/recent?show=250\"\n",
    "with HTMLSession() as sess: \n",
    "    r=sess.get(url)\n",
    "r"
   ]
  },
  {
   "cell_type": "code",
   "execution_count": 145,
   "metadata": {},
   "outputs": [
    {
     "data": {
      "text/plain": [
       "80"
      ]
     },
     "execution_count": 145,
     "metadata": {},
     "output_type": "execute_result"
    }
   ],
   "source": [
    "papers_titles=r.html.find(\"div[id='dlpage']\",first=True).find(\"dd\")\n",
    "len(papers_titles)"
   ]
  },
  {
   "cell_type": "markdown",
   "metadata": {},
   "source": [
    "### Una manera más limpia de mandar queries"
   ]
  },
  {
   "cell_type": "code",
   "execution_count": 147,
   "metadata": {},
   "outputs": [
    {
     "data": {
      "text/plain": [
       "<Response [200]>"
      ]
     },
     "execution_count": 147,
     "metadata": {},
     "output_type": "execute_result"
    }
   ],
   "source": [
    "url=\"https://arxiv.org/list/stat.ML/recent\"\n",
    "data={\n",
    "    \"show\":50\n",
    "}\n",
    "with HTMLSession() as sess: \n",
    "    r=sess.get(url,params=data)\n",
    "r"
   ]
  },
  {
   "cell_type": "code",
   "execution_count": 149,
   "metadata": {},
   "outputs": [
    {
     "data": {
      "text/plain": [
       "{'show': 50}"
      ]
     },
     "execution_count": 149,
     "metadata": {},
     "output_type": "execute_result"
    }
   ],
   "source": [
    "data"
   ]
  },
  {
   "cell_type": "code",
   "execution_count": 151,
   "metadata": {},
   "outputs": [
    {
     "data": {
      "text/plain": [
       "50"
      ]
     },
     "execution_count": 151,
     "metadata": {},
     "output_type": "execute_result"
    }
   ],
   "source": [
    "papers_titles=r.html.find(\"div[id='dlpage']\",first=True).find(\"dd\")\n",
    "len(papers_titles)"
   ]
  },
  {
   "cell_type": "markdown",
   "metadata": {},
   "source": [
    "<h1 style=\"color:#872325\">APIs</h1>\n",
    "\n",
    "En ocasiones no es necesario acceder a un HTML a fin de obtener la información deseada de una página web. \n",
    "\n",
    "Un API (*Application programming interface*),\n",
    "> es un protocolo de comunicación entre un cliente y un servidor diseñado para simplificar la creación aplicaciónes por parte del cliente. [...] Un API está diseñado de tal manera que si el cliente hace una petición al sistema en un formato específico, siempre tendrá el mismo formato de respuesta por parte del servidor, o iniciará una acción definida."
   ]
  },
  {
   "cell_type": "markdown",
   "metadata": {},
   "source": [
    "En esta sección ocuparemos el API de [Alpha Vantage](https://www.alphavantage.co), un proveedor de información histórica y tiempo real de datos de acciones, FX y criptomonedas."
   ]
  },
  {
   "cell_type": "markdown",
   "metadata": {},
   "source": [
    "<h2 style=\"color:teal\">Ejemplo: Alpha Vantage</h2>"
   ]
  },
  {
   "cell_type": "markdown",
   "metadata": {},
   "source": [
    "A fin de hacer mejor uso de un API es importante siempre revisar la documentación del API."
   ]
  },
  {
   "cell_type": "code",
   "execution_count": 155,
   "metadata": {
    "scrolled": true
   },
   "outputs": [
    {
     "name": "stdout",
     "output_type": "stream",
     "text": [
      "Collecting matplotlib\n",
      "  Obtaining dependency information for matplotlib from https://files.pythonhosted.org/packages/28/ba/8be09886eb56ac04a218a1dc3fa728a5c4cac60b019b4f1687885166da00/matplotlib-3.9.2-cp311-cp311-macosx_11_0_arm64.whl.metadata\n",
      "  Downloading matplotlib-3.9.2-cp311-cp311-macosx_11_0_arm64.whl.metadata (11 kB)\n",
      "Requirement already satisfied: contourpy>=1.0.1 in /Users/carloscarrasco/anaconda3/lib/python3.11/site-packages (from matplotlib) (1.2.0)\n",
      "Collecting cycler>=0.10 (from matplotlib)\n",
      "  Obtaining dependency information for cycler>=0.10 from https://files.pythonhosted.org/packages/e7/05/c19819d5e3d95294a6f5947fb9b9629efb316b96de511b418c53d245aae6/cycler-0.12.1-py3-none-any.whl.metadata\n",
      "  Downloading cycler-0.12.1-py3-none-any.whl.metadata (3.8 kB)\n",
      "Collecting fonttools>=4.22.0 (from matplotlib)\n",
      "  Obtaining dependency information for fonttools>=4.22.0 from https://files.pythonhosted.org/packages/f5/7e/4060d88dbfaf446e1c9f0fe9cf13dba36ba47c4da85ce5c1df084ce47e7d/fonttools-4.53.1-cp311-cp311-macosx_11_0_arm64.whl.metadata\n",
      "  Downloading fonttools-4.53.1-cp311-cp311-macosx_11_0_arm64.whl.metadata (162 kB)\n",
      "\u001b[2K     \u001b[90m━━━━━━━━━━━━━━━━━━━━━━━━━━━━━━━━━━━━━━━\u001b[0m \u001b[32m162.6/162.6 kB\u001b[0m \u001b[31m2.0 MB/s\u001b[0m eta \u001b[36m0:00:00\u001b[0ma \u001b[36m0:00:01\u001b[0m\n",
      "\u001b[?25hCollecting kiwisolver>=1.3.1 (from matplotlib)\n",
      "  Obtaining dependency information for kiwisolver>=1.3.1 from https://files.pythonhosted.org/packages/4a/fe/23d7fa78f7c66086d196406beb1fb2eaf629dd7adc01c3453033303d17fa/kiwisolver-1.4.5-cp311-cp311-macosx_11_0_arm64.whl.metadata\n",
      "  Downloading kiwisolver-1.4.5-cp311-cp311-macosx_11_0_arm64.whl.metadata (6.4 kB)\n",
      "Requirement already satisfied: numpy>=1.23 in /Users/carloscarrasco/anaconda3/lib/python3.11/site-packages (from matplotlib) (1.25.2)\n",
      "Requirement already satisfied: packaging>=20.0 in /Users/carloscarrasco/anaconda3/lib/python3.11/site-packages (from matplotlib) (24.1)\n",
      "Requirement already satisfied: pillow>=8 in /Users/carloscarrasco/anaconda3/lib/python3.11/site-packages (from matplotlib) (10.4.0)\n",
      "Collecting pyparsing>=2.3.1 (from matplotlib)\n",
      "  Obtaining dependency information for pyparsing>=2.3.1 from https://files.pythonhosted.org/packages/e5/0c/0e3c05b1c87bb6a1c76d281b0f35e78d2d80ac91b5f8f524cebf77f51049/pyparsing-3.1.4-py3-none-any.whl.metadata\n",
      "  Downloading pyparsing-3.1.4-py3-none-any.whl.metadata (5.1 kB)\n",
      "Requirement already satisfied: python-dateutil>=2.7 in /Users/carloscarrasco/anaconda3/lib/python3.11/site-packages (from matplotlib) (2.9.0.post0)\n",
      "Requirement already satisfied: six>=1.5 in /Users/carloscarrasco/anaconda3/lib/python3.11/site-packages (from python-dateutil>=2.7->matplotlib) (1.16.0)\n",
      "Downloading matplotlib-3.9.2-cp311-cp311-macosx_11_0_arm64.whl (7.8 MB)\n",
      "\u001b[2K   \u001b[90m━━━━━━━━━━━━━━━━━━━━━━━━━━━━━━━━━━━━━━━━\u001b[0m \u001b[32m7.8/7.8 MB\u001b[0m \u001b[31m15.1 MB/s\u001b[0m eta \u001b[36m0:00:00\u001b[0m00:01\u001b[0m00:01\u001b[0m\n",
      "\u001b[?25hDownloading cycler-0.12.1-py3-none-any.whl (8.3 kB)\n",
      "Downloading fonttools-4.53.1-cp311-cp311-macosx_11_0_arm64.whl (2.2 MB)\n",
      "\u001b[2K   \u001b[90m━━━━━━━━━━━━━━━━━━━━━━━━━━━━━━━━━━━━━━━━\u001b[0m \u001b[32m2.2/2.2 MB\u001b[0m \u001b[31m11.8 MB/s\u001b[0m eta \u001b[36m0:00:00\u001b[0ma \u001b[36m0:00:01\u001b[0m\n",
      "\u001b[?25hDownloading kiwisolver-1.4.5-cp311-cp311-macosx_11_0_arm64.whl (66 kB)\n",
      "\u001b[2K   \u001b[90m━━━━━━━━━━━━━━━━━━━━━━━━━━━━━━━━━━━━━━━━\u001b[0m \u001b[32m66.2/66.2 kB\u001b[0m \u001b[31m5.2 MB/s\u001b[0m eta \u001b[36m0:00:00\u001b[0m\n",
      "\u001b[?25hDownloading pyparsing-3.1.4-py3-none-any.whl (104 kB)\n",
      "\u001b[2K   \u001b[90m━━━━━━━━━━━━━━━━━━━━━━━━━━━━━━━━━━━━━━━━\u001b[0m \u001b[32m104.1/104.1 kB\u001b[0m \u001b[31m6.5 MB/s\u001b[0m eta \u001b[36m0:00:00\u001b[0m\n",
      "\u001b[?25hInstalling collected packages: pyparsing, kiwisolver, fonttools, cycler, matplotlib\n",
      "\u001b[31mERROR: pip's dependency resolver does not currently take into account all the packages that are installed. This behaviour is the source of the following dependency conflicts.\n",
      "pca 2.0.7 requires statsmodels, which is not installed.\n",
      "scatterd 1.3.7 requires seaborn, which is not installed.\u001b[0m\u001b[31m\n",
      "\u001b[0mSuccessfully installed cycler-0.12.1 fonttools-4.53.1 kiwisolver-1.4.5 matplotlib-3.9.2 pyparsing-3.1.4\n",
      "Note: you may need to restart the kernel to use updated packages.\n"
     ]
    }
   ],
   "source": [
    "pip install matplotlib"
   ]
  },
  {
   "cell_type": "code",
   "execution_count": 157,
   "metadata": {},
   "outputs": [
    {
     "name": "stderr",
     "output_type": "stream",
     "text": [
      "Matplotlib is building the font cache; this may take a moment.\n"
     ]
    }
   ],
   "source": [
    "import os\n",
    "import requests\n",
    "import pandas as pd\n",
    "import matplotlib.pyplot as plt"
   ]
  },
  {
   "cell_type": "code",
   "execution_count": 159,
   "metadata": {},
   "outputs": [],
   "source": [
    "os.environ['ALPHA_VANTAGE_KEY']=\"60MP74RUOD4MUHKI\""
   ]
  },
  {
   "cell_type": "code",
   "execution_count": 161,
   "metadata": {},
   "outputs": [],
   "source": [
    "avkey=os.environ['ALPHA_VANTAGE_KEY']"
   ]
  },
  {
   "cell_type": "code",
   "execution_count": 173,
   "metadata": {},
   "outputs": [],
   "source": [
    "url=\"https://www.alphavantage.co\"\n",
    "base_url=\"https://www.alphavantage.co/query\""
   ]
  },
  {
   "cell_type": "markdown",
   "metadata": {},
   "source": [
    "## Mensajes de Error"
   ]
  },
  {
   "cell_type": "code",
   "execution_count": 175,
   "metadata": {},
   "outputs": [
    {
     "data": {
      "text/plain": [
       "<Response [200]>"
      ]
     },
     "execution_count": 175,
     "metadata": {},
     "output_type": "execute_result"
    }
   ],
   "source": [
    "intraday2={\n",
    "    \"function\":\"FX_DAILY\",\n",
    "    \"to_symbol\":\"MXN\",\n",
    "    \"from_symbol\":\"USD\",\n",
    "    \"apikey\":avkey\n",
    "}\n",
    "r=requests.get(base_url,params=intraday2)\n",
    "r"
   ]
  },
  {
   "cell_type": "code",
   "execution_count": 177,
   "metadata": {},
   "outputs": [
    {
     "data": {
      "text/plain": [
       "{'Meta Data': {'1. Information': 'Forex Daily Prices (open, high, low, close)',\n",
       "  '2. From Symbol': 'USD',\n",
       "  '3. To Symbol': 'MXN',\n",
       "  '4. Output Size': 'Compact',\n",
       "  '5. Last Refreshed': '2024-08-27 04:00:00',\n",
       "  '6. Time Zone': 'UTC'},\n",
       " 'Time Series FX (Daily)': {'2024-08-27': {'1. open': '19.37300',\n",
       "   '2. high': '19.42600',\n",
       "   '3. low': '19.37100',\n",
       "   '4. close': '19.42441'},\n",
       "  '2024-08-26': {'1. open': '19.39137',\n",
       "   '2. high': '19.42179',\n",
       "   '3. low': '19.36300',\n",
       "   '4. close': '19.39200'},\n",
       "  '2024-08-25': {'1. open': '19.21225',\n",
       "   '2. high': '19.41122',\n",
       "   '3. low': '19.13900',\n",
       "   '4. close': '19.21225'},\n",
       "  '2024-08-22': {'1. open': '19.49020',\n",
       "   '2. high': '19.52377',\n",
       "   '3. low': '19.02141',\n",
       "   '4. close': '19.49020'},\n",
       "  '2024-08-21': {'1. open': '19.27713',\n",
       "   '2. high': '19.52849',\n",
       "   '3. low': '19.26390',\n",
       "   '4. close': '19.27713'},\n",
       "  '2024-08-20': {'1. open': '19.00985',\n",
       "   '2. high': '19.31121',\n",
       "   '3. low': '18.91680',\n",
       "   '4. close': '19.00985'},\n",
       "  '2024-08-19': {'1. open': '18.66511',\n",
       "   '2. high': '18.92985',\n",
       "   '3. low': '18.64260',\n",
       "   '4. close': '18.66511'},\n",
       "  '2024-08-18': {'1. open': '18.62586',\n",
       "   '2. high': '18.83254',\n",
       "   '3. low': '18.59840',\n",
       "   '4. close': '18.62586'},\n",
       "  '2024-08-15': {'1. open': '18.63620',\n",
       "   '2. high': '18.74133',\n",
       "   '3. low': '18.60050',\n",
       "   '4. close': '18.63620'},\n",
       "  '2024-08-14': {'1. open': '18.81170',\n",
       "   '2. high': '18.83815',\n",
       "   '3. low': '18.62810',\n",
       "   '4. close': '18.81170'},\n",
       "  '2024-08-13': {'1. open': '18.99808',\n",
       "   '2. high': '19.01466',\n",
       "   '3. low': '18.79830',\n",
       "   '4. close': '18.99808'},\n",
       "  '2024-08-12': {'1. open': '19.05980',\n",
       "   '2. high': '19.09235',\n",
       "   '3. low': '18.92220',\n",
       "   '4. close': '19.05980'},\n",
       "  '2024-08-11': {'1. open': '18.82219',\n",
       "   '2. high': '19.05069',\n",
       "   '3. low': '18.77750',\n",
       "   '4. close': '18.82219'},\n",
       "  '2024-08-08': {'1. open': '18.86027',\n",
       "   '2. high': '18.91124',\n",
       "   '3. low': '18.77270',\n",
       "   '4. close': '18.86027'},\n",
       "  '2024-08-07': {'1. open': '19.33471',\n",
       "   '2. high': '19.35476',\n",
       "   '3. low': '19.08210',\n",
       "   '4. close': '19.33471'},\n",
       "  '2024-08-06': {'1. open': '19.58378',\n",
       "   '2. high': '19.58819',\n",
       "   '3. low': '19.10660',\n",
       "   '4. close': '19.58378'},\n",
       "  '2024-08-05': {'1. open': '19.19502',\n",
       "   '2. high': '19.50873',\n",
       "   '3. low': '19.13889',\n",
       "   '4. close': '19.19502'},\n",
       "  '2024-08-04': {'1. open': '19.52843',\n",
       "   '2. high': '20.14779',\n",
       "   '3. low': '19.37226',\n",
       "   '4. close': '19.52843'},\n",
       "  '2024-08-01': {'1. open': '18.92380',\n",
       "   '2. high': '19.17460',\n",
       "   '3. low': '18.87190',\n",
       "   '4. close': '18.92380'},\n",
       "  '2024-07-31': {'1. open': '18.64004',\n",
       "   '2. high': '18.72161',\n",
       "   '3. low': '18.42928',\n",
       "   '4. close': '18.64004'},\n",
       "  '2024-07-30': {'1. open': '18.75280',\n",
       "   '2. high': '18.94121',\n",
       "   '3. low': '18.57141',\n",
       "   '4. close': '18.75280'},\n",
       "  '2024-07-29': {'1. open': '18.64090',\n",
       "   '2. high': '18.81585',\n",
       "   '3. low': '18.56420',\n",
       "   '4. close': '18.64090'},\n",
       "  '2024-07-28': {'1. open': '18.42730',\n",
       "   '2. high': '18.70066',\n",
       "   '3. low': '18.40170',\n",
       "   '4. close': '18.42730'},\n",
       "  '2024-07-25': {'1. open': '18.43990',\n",
       "   '2. high': '18.49295',\n",
       "   '3. low': '18.29130',\n",
       "   '4. close': '18.43990'},\n",
       "  '2024-07-24': {'1. open': '18.36032',\n",
       "   '2. high': '18.57508',\n",
       "   '3. low': '18.31040',\n",
       "   '4. close': '18.36032'},\n",
       "  '2024-07-23': {'1. open': '18.16315',\n",
       "   '2. high': '18.42220',\n",
       "   '3. low': '18.14400',\n",
       "   '4. close': '18.16315'},\n",
       "  '2024-07-22': {'1. open': '17.93060',\n",
       "   '2. high': '18.09815',\n",
       "   '3. low': '17.91710',\n",
       "   '4. close': '17.93060'},\n",
       "  '2024-07-21': {'1. open': '17.97062',\n",
       "   '2. high': '18.10679',\n",
       "   '3. low': '17.88530',\n",
       "   '4. close': '17.97062'},\n",
       "  '2024-07-18': {'1. open': '17.95850',\n",
       "   '2. high': '18.02741',\n",
       "   '3. low': '17.82222',\n",
       "   '4. close': '17.95850'},\n",
       "  '2024-07-17': {'1. open': '17.72020',\n",
       "   '2. high': '17.86562',\n",
       "   '3. low': '17.68580',\n",
       "   '4. close': '17.72020'},\n",
       "  '2024-07-16': {'1. open': '17.65042',\n",
       "   '2. high': '17.80523',\n",
       "   '3. low': '17.62467',\n",
       "   '4. close': '17.65042'},\n",
       "  '2024-07-15': {'1. open': '17.71580',\n",
       "   '2. high': '17.80488',\n",
       "   '3. low': '17.64030',\n",
       "   '4. close': '17.71580'},\n",
       "  '2024-07-14': {'1. open': '17.69873',\n",
       "   '2. high': '17.85581',\n",
       "   '3. low': '17.66730',\n",
       "   '4. close': '17.69873'},\n",
       "  '2024-07-11': {'1. open': '17.75326',\n",
       "   '2. high': '17.80167',\n",
       "   '3. low': '17.63610',\n",
       "   '4. close': '17.75326'},\n",
       "  '2024-07-10': {'1. open': '17.83653',\n",
       "   '2. high': '17.88328',\n",
       "   '3. low': '17.71032',\n",
       "   '4. close': '17.83653'},\n",
       "  '2024-07-09': {'1. open': '17.89534',\n",
       "   '2. high': '17.89984',\n",
       "   '3. low': '17.75940',\n",
       "   '4. close': '17.89534'},\n",
       "  '2024-07-08': {'1. open': '17.97360',\n",
       "   '2. high': '18.04985',\n",
       "   '3. low': '17.90110',\n",
       "   '4. close': '17.97360'},\n",
       "  '2024-07-07': {'1. open': '18.08828',\n",
       "   '2. high': '18.10091',\n",
       "   '3. low': '17.97070',\n",
       "   '4. close': '18.08828'},\n",
       "  '2024-07-04': {'1. open': '18.08040',\n",
       "   '2. high': '18.18925',\n",
       "   '3. low': '18.00275',\n",
       "   '4. close': '18.08040'},\n",
       "  '2024-07-03': {'1. open': '18.17436',\n",
       "   '2. high': '18.17574',\n",
       "   '3. low': '18.04460',\n",
       "   '4. close': '18.17436'},\n",
       "  '2024-07-02': {'1. open': '18.25220',\n",
       "   '2. high': '18.29797',\n",
       "   '3. low': '18.09640',\n",
       "   '4. close': '18.25220'},\n",
       "  '2024-07-01': {'1. open': '18.36640',\n",
       "   '2. high': '18.48914',\n",
       "   '3. low': '18.20750',\n",
       "   '4. close': '18.36640'},\n",
       "  '2024-06-30': {'1. open': '18.26530',\n",
       "   '2. high': '18.44310',\n",
       "   '3. low': '18.25250',\n",
       "   '4. close': '18.26530'},\n",
       "  '2024-06-27': {'1. open': '18.42977',\n",
       "   '2. high': '18.57996',\n",
       "   '3. low': '18.23558',\n",
       "   '4. close': '18.42977'},\n",
       "  '2024-06-26': {'1. open': '18.30100',\n",
       "   '2. high': '18.45085',\n",
       "   '3. low': '18.26830',\n",
       "   '4. close': '18.30100'},\n",
       "  '2024-06-25': {'1. open': '18.11130',\n",
       "   '2. high': '18.31821',\n",
       "   '3. low': '18.05550',\n",
       "   '4. close': '18.11130'},\n",
       "  '2024-06-24': {'1. open': '17.94472',\n",
       "   '2. high': '18.19481',\n",
       "   '3. low': '17.88200',\n",
       "   '4. close': '17.94472'},\n",
       "  '2024-06-23': {'1. open': '18.12979',\n",
       "   '2. high': '18.14333',\n",
       "   '3. low': '17.99320',\n",
       "   '4. close': '18.12979'},\n",
       "  '2024-06-20': {'1. open': '18.34238',\n",
       "   '2. high': '18.36190',\n",
       "   '3. low': '18.17808',\n",
       "   '4. close': '18.34238'},\n",
       "  '2024-06-19': {'1. open': '18.42744',\n",
       "   '2. high': '18.45809',\n",
       "   '3. low': '18.36560',\n",
       "   '4. close': '18.42744'},\n",
       "  '2024-06-18': {'1. open': '18.39910',\n",
       "   '2. high': '18.47170',\n",
       "   '3. low': '18.36190',\n",
       "   '4. close': '18.39910'},\n",
       "  '2024-06-17': {'1. open': '18.52090',\n",
       "   '2. high': '18.55436',\n",
       "   '3. low': '18.30076',\n",
       "   '4. close': '18.52090'},\n",
       "  '2024-06-16': {'1. open': '18.45580',\n",
       "   '2. high': '18.62880',\n",
       "   '3. low': '18.41710',\n",
       "   '4. close': '18.45580'},\n",
       "  '2024-06-13': {'1. open': '18.41518',\n",
       "   '2. high': '18.67373',\n",
       "   '3. low': '18.38180',\n",
       "   '4. close': '18.41518'},\n",
       "  '2024-06-12': {'1. open': '18.75414',\n",
       "   '2. high': '18.83832',\n",
       "   '3. low': '18.51030',\n",
       "   '4. close': '18.75414'},\n",
       "  '2024-06-11': {'1. open': '18.58062',\n",
       "   '2. high': '18.97362',\n",
       "   '3. low': '18.54270',\n",
       "   '4. close': '18.58062'},\n",
       "  '2024-06-10': {'1. open': '18.57221',\n",
       "   '2. high': '18.55650',\n",
       "   '3. low': '18.29650',\n",
       "   '4. close': '18.57221'},\n",
       "  '2024-06-09': {'1. open': '18.32585',\n",
       "   '2. high': '18.61074',\n",
       "   '3. low': '18.24960',\n",
       "   '4. close': '18.32585'},\n",
       "  '2024-06-06': {'1. open': '17.87996',\n",
       "   '2. high': '18.36132',\n",
       "   '3. low': '17.80614',\n",
       "   '4. close': '17.87996'},\n",
       "  '2024-06-05': {'1. open': '17.50350',\n",
       "   '2. high': '17.64337',\n",
       "   '3. low': '17.43420',\n",
       "   '4. close': '17.50350'},\n",
       "  '2024-06-04': {'1. open': '17.81191',\n",
       "   '2. high': '17.82615',\n",
       "   '3. low': '17.48870',\n",
       "   '4. close': '17.81191'},\n",
       "  '2024-06-03': {'1. open': '17.70043',\n",
       "   '2. high': '18.14935',\n",
       "   '3. low': '17.53750',\n",
       "   '4. close': '17.70043'},\n",
       "  '2024-06-02': {'1. open': '16.97260',\n",
       "   '2. high': '17.71074',\n",
       "   '3. low': '16.90690',\n",
       "   '4. close': '16.97260'},\n",
       "  '2024-05-30': {'1. open': '17.00582',\n",
       "   '2. high': '17.06826',\n",
       "   '3. low': '16.90650',\n",
       "   '4. close': '17.00582'},\n",
       "  '2024-05-29': {'1. open': '17.01758',\n",
       "   '2. high': '17.12514',\n",
       "   '3. low': '16.90650',\n",
       "   '4. close': '17.01758'},\n",
       "  '2024-05-28': {'1. open': '16.78140',\n",
       "   '2. high': '16.98445',\n",
       "   '3. low': '16.73630',\n",
       "   '4. close': '16.78140'},\n",
       "  '2024-05-27': {'1. open': '16.66236',\n",
       "   '2. high': '16.73860',\n",
       "   '3. low': '16.62240',\n",
       "   '4. close': '16.66236'},\n",
       "  '2024-05-26': {'1. open': '16.67380',\n",
       "   '2. high': '16.69780',\n",
       "   '3. low': '16.63150',\n",
       "   '4. close': '16.67380'},\n",
       "  '2024-05-23': {'1. open': '16.73037',\n",
       "   '2. high': '16.75042',\n",
       "   '3. low': '16.66640',\n",
       "   '4. close': '16.73037'},\n",
       "  '2024-05-22': {'1. open': '16.66163',\n",
       "   '2. high': '16.73145',\n",
       "   '3. low': '16.61390',\n",
       "   '4. close': '16.66163'},\n",
       "  '2024-05-21': {'1. open': '16.60660',\n",
       "   '2. high': '16.68245',\n",
       "   '3. low': '16.57870',\n",
       "   '4. close': '16.60660'},\n",
       "  '2024-05-20': {'1. open': '16.55257',\n",
       "   '2. high': '16.60042',\n",
       "   '3. low': '16.51510',\n",
       "   '4. close': '16.55257'},\n",
       "  '2024-05-19': {'1. open': '16.58630',\n",
       "   '2. high': '16.63670',\n",
       "   '3. low': '16.55050',\n",
       "   '4. close': '16.58630'},\n",
       "  '2024-05-16': {'1. open': '16.67816',\n",
       "   '2. high': '16.71495',\n",
       "   '3. low': '16.59920',\n",
       "   '4. close': '16.67816'},\n",
       "  '2024-05-15': {'1. open': '16.68106',\n",
       "   '2. high': '16.73663',\n",
       "   '3. low': '16.66190',\n",
       "   '4. close': '16.68106'},\n",
       "  '2024-05-14': {'1. open': '16.84416',\n",
       "   '2. high': '16.89605',\n",
       "   '3. low': '16.67230',\n",
       "   '4. close': '16.84416'},\n",
       "  '2024-05-13': {'1. open': '16.78320',\n",
       "   '2. high': '16.87505',\n",
       "   '3. low': '16.75790',\n",
       "   '4. close': '16.78320'},\n",
       "  '2024-05-12': {'1. open': '16.76720',\n",
       "   '2. high': '16.81445',\n",
       "   '3. low': '16.72240',\n",
       "   '4. close': '16.76720'},\n",
       "  '2024-05-09': {'1. open': '16.77950',\n",
       "   '2. high': '16.81215',\n",
       "   '3. low': '16.71130',\n",
       "   '4. close': '16.77950'},\n",
       "  '2024-05-08': {'1. open': '16.91601',\n",
       "   '2. high': '16.96130',\n",
       "   '3. low': '16.84880',\n",
       "   '4. close': '16.91601'},\n",
       "  '2024-05-07': {'1. open': '16.90406',\n",
       "   '2. high': '16.97525',\n",
       "   '3. low': '16.86800',\n",
       "   '4. close': '16.90406'},\n",
       "  '2024-05-06': {'1. open': '16.88334',\n",
       "   '2. high': '16.92144',\n",
       "   '3. low': '16.82820',\n",
       "   '4. close': '16.88334'},\n",
       "  '2024-05-05': {'1. open': '16.98026',\n",
       "   '2. high': '16.98154',\n",
       "   '3. low': '16.88100',\n",
       "   '4. close': '16.98026'},\n",
       "  '2024-05-02': {'1. open': '16.96170',\n",
       "   '2. high': '17.02583',\n",
       "   '3. low': '16.82310',\n",
       "   '4. close': '16.96170'},\n",
       "  '2024-05-01': {'1. open': '16.92860',\n",
       "   '2. high': '16.98326',\n",
       "   '3. low': '16.89380',\n",
       "   '4. close': '16.92860'},\n",
       "  '2024-04-30': {'1. open': '17.14992',\n",
       "   '2. high': '17.15925',\n",
       "   '3. low': '17.00200',\n",
       "   '4. close': '17.14992'},\n",
       "  '2024-04-29': {'1. open': '17.01156',\n",
       "   '2. high': '17.07935',\n",
       "   '3. low': '16.94820',\n",
       "   '4. close': '17.01156'},\n",
       "  '2024-04-28': {'1. open': '17.16405',\n",
       "   '2. high': '17.24585',\n",
       "   '3. low': '17.00510',\n",
       "   '4. close': '17.16405'},\n",
       "  '2024-04-25': {'1. open': '17.20181',\n",
       "   '2. high': '17.27755',\n",
       "   '3. low': '17.10450',\n",
       "   '4. close': '17.20181'},\n",
       "  '2024-04-24': {'1. open': '17.07010',\n",
       "   '2. high': '17.34187',\n",
       "   '3. low': '17.01980',\n",
       "   '4. close': '17.07010'},\n",
       "  '2024-04-23': {'1. open': '16.94920',\n",
       "   '2. high': '17.11407',\n",
       "   '3. low': '16.90210',\n",
       "   '4. close': '16.94920'},\n",
       "  '2024-04-22': {'1. open': '17.13698',\n",
       "   '2. high': '17.14535',\n",
       "   '3. low': '16.95660',\n",
       "   '4. close': '17.13698'},\n",
       "  '2024-04-21': {'1. open': '17.09210',\n",
       "   '2. high': '17.23400',\n",
       "   '3. low': '16.99920',\n",
       "   '4. close': '17.09200'},\n",
       "  '2024-04-18': {'1. open': '17.07496',\n",
       "   '2. high': '17.81769',\n",
       "   '3. low': '17.05940',\n",
       "   '4. close': '17.07496'},\n",
       "  '2024-04-17': {'1. open': '16.95630',\n",
       "   '2. high': '17.16080',\n",
       "   '3. low': '16.90730',\n",
       "   '4. close': '16.95630'},\n",
       "  '2024-04-16': {'1. open': '17.03334',\n",
       "   '2. high': '17.07832',\n",
       "   '3. low': '16.86495',\n",
       "   '4. close': '17.03334'},\n",
       "  '2024-04-15': {'1. open': '16.69440',\n",
       "   '2. high': '17.08125',\n",
       "   '3. low': '16.69450',\n",
       "   '4. close': '16.69440'},\n",
       "  '2024-04-14': {'1. open': '16.61108',\n",
       "   '2. high': '16.72065',\n",
       "   '3. low': '16.52730',\n",
       "   '4. close': '16.61108'},\n",
       "  '2024-04-11': {'1. open': '16.42610',\n",
       "   '2. high': '16.74011',\n",
       "   '3. low': '16.41210',\n",
       "   '4. close': '16.42610'},\n",
       "  '2024-04-10': {'1. open': '16.45250',\n",
       "   '2. high': '16.48685',\n",
       "   '3. low': '16.37530',\n",
       "   '4. close': '16.45250'},\n",
       "  '2024-04-09': {'1. open': '16.38331',\n",
       "   '2. high': '16.51802',\n",
       "   '3. low': '16.29800',\n",
       "   '4. close': '16.38331'}}}"
      ]
     },
     "execution_count": 177,
     "metadata": {},
     "output_type": "execute_result"
    }
   ],
   "source": [
    "r.json()"
   ]
  },
  {
   "cell_type": "markdown",
   "metadata": {},
   "source": [
    "Entramos a la páginas de AlphaVantage y revisamos la documentación para descargar información"
   ]
  },
  {
   "cell_type": "markdown",
   "metadata": {},
   "source": [
    "## Manipulando Información de Respuesta\n",
    "\n",
    "Una vez obtenida la información del API, el siguiente paso es manipular la información para poder analizarla. De ser una seríe de tiempo, lo más natural sería manipularla usando un pandas DataFrame."
   ]
  },
  {
   "cell_type": "markdown",
   "metadata": {},
   "source": [
    "## FX Daily"
   ]
  },
  {
   "cell_type": "markdown",
   "metadata": {},
   "source": [
    "<h1 style=\"color:#872325\">API Wrappers (Librerías)</h1>\n",
    "\n",
    "Como hemos visto, utilizar un API require la codificación de los parámetros que espera recibir el servidor, hacer la llamada al servidor para validar la respuesta y manipular la información recibida a fin de hacer uso de esta.\n",
    "\n",
    "De querer obtener el mismo formato de respuesta sería necesario crear una librería en Python que contemple cada uno de estos pasos, lo cuál se podría volver una tarea tediosa.\n",
    "\n",
    "Un **API Wrapper** es una librería escrita en un lenguaje de programación que nos da acceso a un API usando un lenguaje de programación específico\n",
    "\n",
    "**Nota**: Una de las desventajas de usar un API Wrapper son los posibles *bugs* que el wrapper podría tener."
   ]
  },
  {
   "cell_type": "markdown",
   "metadata": {},
   "source": [
    "https://github.com/RomelTorres/alpha_vantage\n",
    "\n",
    "```\n",
    "pip install alpha_vantage\n",
    "```"
   ]
  },
  {
   "cell_type": "markdown",
   "metadata": {},
   "source": [
    "<h2 style=\"color:crimson\">Ejercicio 5</h2>\n",
    "\n",
    "1. Repite el ejemplo *Arxiv ML Papers (I)*, agrega dos nuevas columnas al DataFrame final: `Abstract`, con el resumen de cada paper; `Submitted`, con la fecha en la que fue agregado al sistema. **Hint**: Ambos elementos se encuentran dentro de la *url* encontrada.\n",
    "\n",
    "----\n",
    "\n",
    "2. Por medio de la librería `requests` y el API de AlphaVantage, consigue los precios históricos de las monedas `[\"MXN\", \"EUR\", \"BRL\", \"ARS\", \"CHF\"]` respecto al dólar (todos los precios deben estar en dólares). Crea un DataFrame con cada colúmna la moneda de referencia:\n",
    "\n",
    "<table border=\"1\" class=\"dataframe\">  <thead>    <tr style=\"text-align: right;\">      <th></th>      <th>MXN</th>      <th>EUR</th>      <th>BRL</th>      <th>ARS</th>      <th>CHF</th>    </tr>  </thead>  <tbody>    <tr>      <th>2014-11-24</th>      <td>0.0732</td>      <td>1.2438</td>      <td>0.3920</td>      <td>0.1169</td>      <td>1.0342</td>    </tr>    <tr>      <th>2014-11-25</th>      <td>0.0731</td>      <td>1.2473</td>      <td>0.3955</td>      <td>0.1169</td>      <td>1.0370</td>    </tr>    <tr>      <th>2014-11-26</th>      <td>0.0728</td>      <td>1.2507</td>      <td>0.3995</td>      <td>0.1168</td>      <td>1.0401</td>    </tr>    <tr>      <th>2014-11-27</th>      <td>0.0726</td>      <td>1.2458</td>      <td>0.3947</td>      <td>0.1169</td>      <td>1.0363</td>    </tr>    <tr>      <th>2014-11-28</th>      <td>0.0717</td>      <td>1.2451</td>      <td>0.3891</td>      <td>0.1168</td>      <td>1.0351</td>    </tr>  </tbody></table>\n",
    "\n",
    "\n",
    "----\n",
    "3. Con el DataFrame creado en el ejercicio 2, crea el siguiente mapa de calor con la correlación entre cada una de las monedas. **hint**: Revisa que métodos tiene un DataFrame para crear correlaciones; considera la librería `seaborn`.\n",
    "\n",
    "![](../files/lec04/imgs/heatmap.png)\n",
    "\n",
    "---\n",
    "\n",
    "4. Con el DataFrame creado en el ejercicio 2, crea un nuevo DataFrame que incluya una correlación móvil con ventana de 30 días de cada una de las monedas respecto a `\"MXN\"`. **hint**: Investiga sobre el método `.xs` de un DataFrame\n",
    "\n",
    "<table border=\"1\" class=\"dataframe\">  <thead>    <tr style=\"text-align: right;\">      <th></th>      <th>EUR</th>      <th>BRL</th>      <th>ARS</th>      <th>CHF</th>    </tr>  </thead>  <tbody>    <tr>      <th>2015-03-19</th>      <td>0.900941</td>      <td>0.870440</td>      <td>0.835029</td>      <td>0.916637</td>    </tr>    <tr>      <th>2015-03-20</th>      <td>0.874866</td>      <td>0.815453</td>      <td>0.762308</td>      <td>0.903594</td>    </tr>    <tr>      <th>2015-03-22</th>      <td>0.866783</td>      <td>0.789977</td>      <td>0.726098</td>      <td>0.900547</td>    </tr>    <tr>      <th>2015-03-23</th>      <td>0.835823</td>      <td>0.728781</td>      <td>0.643129</td>      <td>0.885424</td>    </tr>    <tr>      <th>2015-03-24</th>      <td>0.801267</td>      <td>0.671188</td>      <td>0.560149</td>      <td>0.877682</td>    </tr>  </tbody></table>\n",
    "\n",
    "---\n",
    "\n",
    "5. Con el DataFrame creado en el ejercicio 4, crea la siguiente figura con _scatterplots_ entre todas las combinaciones de las correlaciones respecto a `\"MXN\"`. ¿Encuentras algún patrón en alguna combinación?\n",
    "\n",
    "![](../files/lec04/imgs/scatter.png)\n",
    "\n",
    "---\n",
    "\n",
    "6. Con el DataFrame creado en el ejercicio 4, crea la siguiente figura, la cuál representa, a cada observación, la correlación promedio entre todas las monedas respecto a `\"MXN\"` y unas bandas que representan la correlación máxima y mínima a cada observación.\n",
    "\n",
    "![](../files/lec04/imgs/corr_ts.png)"
   ]
  },
  {
   "cell_type": "markdown",
   "metadata": {},
   "source": [
    "## References\n",
    "\n",
    "\n",
    "* https://developer.mozilla.org/en-US/docs/Web\n",
    "* https://www.w3schools.com/tags/ref_httpmethods.asp"
   ]
  }
 ],
 "metadata": {
  "kernelspec": {
   "display_name": "Python 3 (ipykernel)",
   "language": "python",
   "name": "python3"
  },
  "language_info": {
   "codemirror_mode": {
    "name": "ipython",
    "version": 3
   },
   "file_extension": ".py",
   "mimetype": "text/x-python",
   "name": "python",
   "nbconvert_exporter": "python",
   "pygments_lexer": "ipython3",
   "version": "3.11.8"
  }
 },
 "nbformat": 4,
 "nbformat_minor": 4
}
